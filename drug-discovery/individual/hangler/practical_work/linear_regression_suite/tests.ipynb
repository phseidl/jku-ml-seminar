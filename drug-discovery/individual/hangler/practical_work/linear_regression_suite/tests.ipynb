{
 "cells": [
  {
   "cell_type": "markdown",
   "metadata": {},
   "source": [
    "# Update ADMET Datasets for automatic Regression and Classification Model Building"
   ]
  },
  {
   "cell_type": "code",
   "execution_count": 1,
   "metadata": {},
   "outputs": [
    {
     "name": "stdout",
     "output_type": "stream",
     "text": [
      "Updated ames dataset\n",
      "Updated bace_regression dataset\n",
      "Updated cyp3a4_veith dataset\n",
      "Updated bace_classification dataset\n",
      "Updated half_life_obach dataset\n",
      "Updated pgp_broccatelli dataset\n",
      "Updated bioavailability_ma dataset\n",
      "Updated caco2_wang dataset\n",
      "Updated clintox dataset\n",
      "Updated herg_karim dataset\n",
      "Updated clearance_microsome_az dataset\n",
      "Updated clearance_hepatocyte_az dataset\n",
      "Updated hiv dataset\n",
      "Updated dili dataset\n",
      "Updated ppbr_az dataset\n",
      "Updated vdss_lombardo dataset\n",
      "Updated hia_hou dataset\n",
      "Updated cyp2c9_veith dataset\n",
      "Updated ld50_zhu dataset\n",
      "Updated herg dataset\n",
      "Updated delaney dataset\n"
     ]
    }
   ],
   "source": [
    "from admet_dataset import update_datasets\n",
    "update_datasets()"
   ]
  },
  {
   "cell_type": "code",
   "execution_count": 4,
   "metadata": {},
   "outputs": [],
   "source": [
    "from update_dataset_embeddings import update_loop\n",
    "update_loop()"
   ]
  },
  {
   "cell_type": "markdown",
   "metadata": {},
   "source": [
    "# RUN Coati Linear Probing"
   ]
  },
  {
   "cell_type": "code",
   "execution_count": 1,
   "metadata": {},
   "outputs": [
    {
     "name": "stdout",
     "output_type": "stream",
     "text": [
      "Start Training Regression for half_life_obach:\n",
      "Seed: 0\n",
      "Start Training Autoreg Only\n",
      "Spearman=0.099, Spearman std=nan\n",
      "\n",
      "\n",
      "Seed: 1\n",
      "Start Training Autoreg Only\n",
      "Spearman=0.033, Spearman std=nan\n",
      "\n",
      "\n",
      "Seed: 2\n",
      "Start Training Autoreg Only\n",
      "Spearman=0.125, Spearman std=nan\n",
      "\n",
      "\n",
      "Seed: 3\n",
      "Start Training Autoreg Only\n",
      "Spearman=0.059, Spearman std=nan\n",
      "\n",
      "\n",
      "Seed: 4\n",
      "Start Training Autoreg Only\n",
      "Spearman=0.108, Spearman std=nan\n",
      "\n",
      "\n",
      "Seed: 5\n",
      "Start Training Autoreg Only\n",
      "Spearman=0.166, Spearman std=nan\n",
      "\n",
      "\n",
      "Seed: 6\n",
      "Start Training Autoreg Only\n",
      "Spearman=0.102, Spearman std=nan\n",
      "\n",
      "\n",
      "Seed: 7\n",
      "Start Training Autoreg Only\n",
      "Spearman=0.113, Spearman std=nan\n",
      "\n",
      "\n",
      "Seed: 8\n",
      "Start Training Autoreg Only\n",
      "Spearman=0.068, Spearman std=nan\n",
      "\n",
      "\n",
      "Seed: 9\n",
      "Start Training Autoreg Only\n",
      "Spearman=0.142, Spearman std=nan\n",
      "\n",
      "\n",
      "\n",
      "\n",
      "\n"
     ]
    }
   ],
   "source": [
    "import sys\n",
    "import os\n",
    "\n",
    "from linear_regression_suite.train_scaffold_split import coati_linear_probing_eval\n",
    "\n",
    "coati_linear_probing_eval()"
   ]
  }
 ],
 "metadata": {
  "kernelspec": {
   "display_name": "DLNN1",
   "language": "python",
   "name": "python3"
  },
  "language_info": {
   "codemirror_mode": {
    "name": "ipython",
    "version": 3
   },
   "file_extension": ".py",
   "mimetype": "text/x-python",
   "name": "python",
   "nbconvert_exporter": "python",
   "pygments_lexer": "ipython3",
   "version": "3.10.6"
  }
 },
 "nbformat": 4,
 "nbformat_minor": 2
}
