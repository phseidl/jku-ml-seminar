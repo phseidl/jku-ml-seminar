{
 "cells": [
  {
   "cell_type": "code",
   "execution_count": 7,
   "metadata": {},
   "outputs": [],
   "source": [
    "import numpy as np\n",
    "import pandas as pd\n",
    "from rdkit import Chem\n",
    "from rdkit.Chem.AllChem import EmbedMolecule, EmbedMultipleConfs, MMFFOptimizeMoleculeConfs\n",
    "import pickle\n",
    "from tqdm import tqdm"
   ]
  },
  {
   "cell_type": "code",
   "execution_count": 12,
   "metadata": {},
   "outputs": [],
   "source": [
    "def mol_to_morgan(mol, radius=3, n_bits=2048, chiral=False, features=False):\n",
    "    from rdkit.Chem.AllChem import GetMorganFingerprintAsBitVect\n",
    "    return np.frombuffer(\n",
    "        GetMorganFingerprintAsBitVect(\n",
    "            mol, radius=radius, nBits=n_bits, useChirality=chiral, useFeatures=features\n",
    "        ).ToBitString().encode(), \"u1\") - ord(\"0\")\n",
    "\n",
    "def mol_to_atoms_coords(\n",
    "    m, hydrogenate=True, adj_matrix=False, do_morgan=False, optimize=False, numConfs=1, numThreads=1\n",
    "):\n",
    "    # Check if m is a string, and if so, convert it to an RDKit molecule object\n",
    "    if isinstance(m, str):\n",
    "        m = Chem.MolFromSmiles(m)\n",
    "        if m is None:\n",
    "            return None  # Could not parse the SMILES string into a molecule\n",
    "\n",
    "    m3 = Chem.AddHs(m) if hydrogenate else m\n",
    "    if optimize and hydrogenate:\n",
    "        try:\n",
    "            EmbedMultipleConfs(\n",
    "                m3, numConfs=numConfs, pruneRmsThresh=0.125, randomSeed=0xF00D, numThreads=numThreads\n",
    "            )\n",
    "            opt = MMFFOptimizeMoleculeConfs(m3, mmffVariant=\"MMFF94s\", numThreads=numThreads)\n",
    "            opt = np.array(opt)\n",
    "            converged = opt[:, 0] == 0\n",
    "            if converged.any():\n",
    "                lowest_eng_conformer = np.argmin(opt[converged][:, 1])\n",
    "                lowest_energy = opt[converged][lowest_eng_conformer, 1]\n",
    "                best_conf = np.arange(opt.shape[0])[converged][lowest_eng_conformer]\n",
    "                c0 = m3.GetConformer(id=int(best_conf))\n",
    "            else:\n",
    "                # Fallback in case optimization did not converge\n",
    "                c0 = m3.GetConformer()\n",
    "                lowest_energy = None\n",
    "        except Exception as Ex:\n",
    "            # Fallback in case of an exception during embedding or optimization\n",
    "            EmbedMolecule(m3, randomSeed=0xF00D)\n",
    "            c0 = m3.GetConformers()[-1]\n",
    "            lowest_energy = None\n",
    "    else:\n",
    "        EmbedMolecule(m3, randomSeed=0xF00D)\n",
    "        c0 = m3.GetConformers()[-1]\n",
    "\n",
    "    coords = c0.GetPositions()\n",
    "    atoms = np.array([atom.GetAtomicNum() for atom in m3.GetAtoms()], dtype=np.uint8)\n",
    "\n",
    "    to_return = [atoms, coords]\n",
    "\n",
    "    if adj_matrix:\n",
    "        to_return.append(Chem.GetAdjacencyMatrix(m3))\n",
    "\n",
    "    if do_morgan:\n",
    "        to_return.append(mol_to_morgan(m, radius=3, n_bits=2048, chiral=False))\n",
    "\n",
    "    if optimize:\n",
    "        to_return.append(lowest_energy)\n",
    "\n",
    "    return tuple(to_return)"
   ]
  },
  {
   "cell_type": "code",
   "execution_count": 9,
   "metadata": {},
   "outputs": [],
   "source": [
    "# Load the SMILES data\n",
    "# Replace 'path_to_your_smiles_data.smiles' with the actual path to your downloaded SMILES file\n",
    "df_train = pd.read_csv('train_guacamol.smiles', header=None, names=['smiles'])\n",
    "df_valid = pd.read_csv('valid_guacamol.smiles', header=None, names=['smiles'])\n",
    "df_test = pd.read_csv('test_guacamol.smiles', header=None, names=['smiles'])"
   ]
  },
  {
   "cell_type": "code",
   "execution_count": 14,
   "metadata": {},
   "outputs": [
    {
     "name": "stderr",
     "output_type": "stream",
     "text": [
      " 62%|██████▏   | 794630/1273104 [18:36:15<32:00:26,  4.15it/s]"
     ]
    },
    {
     "name": "stdout",
     "output_type": "stream",
     "text": [
      "Failed to process CCCCCCCCCCCCCC(=O)NC(COC1OC(CO)C(O)C(O)C1O)C(O)CCCCCCCCCCCCC: 'NoneType' object has no attribute 'GetPositions'\n"
     ]
    },
    {
     "name": "stderr",
     "output_type": "stream",
     "text": [
      " 62%|██████▏   | 794825/1273104 [18:36:38<12:58:07, 10.24it/s][11:05:11] UFFTYPER: Unrecognized charge state for atom: 10\n",
      " 62%|██████▏   | 794830/1273104 [18:36:38<14:50:53,  8.95it/s]"
     ]
    },
    {
     "name": "stdout",
     "output_type": "stream",
     "text": [
      "Failed to process CCCCCCCCCCCCCCCC(=O)OCC(COP(=O)(O)OC1C(O)C(O)C(O)C(F)C1O)OC(=O)CCCCCCCCCCCCCCC: 'NoneType' object has no attribute 'GetPositions'\n"
     ]
    },
    {
     "name": "stderr",
     "output_type": "stream",
     "text": [
      " 62%|██████▏   | 795235/1273104 [18:37:19<14:38:57,  9.06it/s]"
     ]
    },
    {
     "name": "stdout",
     "output_type": "stream",
     "text": [
      "Failed to process CC(=O)N(C(=O)C=Cc1ccccc1)C(Cc1ccc(F)cc1)C(=O)NC(CCCCN=C(N)N)C(=O)NC(CC(C)C)C(=O)NC(CCCN=C(N)N)C(N)=O: 'NoneType' object has no attribute 'GetPositions'\n"
     ]
    },
    {
     "name": "stderr",
     "output_type": "stream",
     "text": [
      " 62%|██████▏   | 795440/1273104 [18:37:37<7:27:35, 17.79it/s] [11:06:10] UFFTYPER: Unrecognized charge state for atom: 20\n",
      " 62%|██████▏   | 795448/1273104 [18:37:38<12:52:22, 10.31it/s][11:06:11] UFFTYPER: Warning: hybridization set to SP3 for atom 11\n",
      " 62%|██████▏   | 795515/1273104 [18:37:44<18:53:52,  7.02it/s][11:06:17] UFFTYPER: Unrecognized charge state for atom: 6\n",
      " 62%|██████▏   | 795571/1273104 [18:37:49<11:03:51, 11.99it/s][11:06:22] UFFTYPER: Unrecognized charge state for atom: 8\n",
      " 63%|██████▎   | 796011/1273104 [18:38:39<18:57:27,  6.99it/s]"
     ]
    },
    {
     "name": "stdout",
     "output_type": "stream",
     "text": [
      "Failed to process C=CC1CC1(NC(=O)C1CC(OC)(c2ccc(-c3ccccn3)cc2)CN1C(=O)C(NC(=O)OC1CCCC1)C(C)(C)C)C(=O)NS(=O)(=O)C1CC1: 'NoneType' object has no attribute 'GetPositions'\n"
     ]
    },
    {
     "name": "stderr",
     "output_type": "stream",
     "text": [
      " 63%|██████▎   | 796240/1273104 [18:39:04<17:16:30,  7.67it/s][11:07:37] UFFTYPER: Unrecognized charge state for atom: 1\n",
      " 63%|██████▎   | 796311/1273104 [18:39:12<13:06:00, 10.11it/s]"
     ]
    },
    {
     "name": "stdout",
     "output_type": "stream",
     "text": [
      "Failed to process COC(=O)C(CCCCNC(=O)OC(C)(C)C)N(C=CCc1cccc(Oc2ccc(C(C)(C)C)cc2)c1)Cc1cccc(OCc2ccccc2)c1: 'NoneType' object has no attribute 'GetPositions'\n"
     ]
    },
    {
     "name": "stderr",
     "output_type": "stream",
     "text": [
      " 63%|██████▎   | 796372/1273104 [18:39:21<25:07:02,  5.27it/s][11:07:54] UFFTYPER: Unrecognized charge state for atom: 2\n",
      " 63%|██████▎   | 796823/1273104 [18:40:14<24:42:58,  5.35it/s][11:08:47] UFFTYPER: Unrecognized charge state for atom: 19\n",
      " 63%|██████▎   | 796889/1273104 [18:40:20<13:50:20,  9.56it/s][11:08:53] UFFTYPER: Unrecognized charge state for atom: 1\n",
      " 63%|██████▎   | 797018/1273104 [18:40:34<17:30:03,  7.56it/s][11:09:07] UFFTYPER: Unrecognized charge state for atom: 14\n",
      " 63%|██████▎   | 797139/1273104 [18:40:48<12:53:41, 10.25it/s][11:09:21] UFFTYPER: Unrecognized charge state for atom: 4\n",
      " 63%|██████▎   | 797477/1273104 [18:41:19<9:05:36, 14.53it/s] [11:09:51] UFFTYPER: Unrecognized atom type: S_6+6 (15)\n",
      " 63%|██████▎   | 797486/1273104 [18:41:19<9:53:46, 13.35it/s]"
     ]
    },
    {
     "name": "stdout",
     "output_type": "stream",
     "text": [
      "Failed to process CC(=O)NC(Cc1ccc2ccccc2c1)C(=O)NC(CCCCNC(=O)c1ccccn1)C(=O)NC(CCCN=C(N)N)C(=O)N1CCCC1C(N)=O: 'NoneType' object has no attribute 'GetPositions'\n"
     ]
    },
    {
     "name": "stderr",
     "output_type": "stream",
     "text": [
      " 63%|██████▎   | 797646/1273104 [18:41:33<10:32:02, 12.54it/s][11:10:06] UFFTYPER: Unrecognized atom type: S_6+6 (15)\n",
      " 63%|██████▎   | 798794/1273104 [18:43:32<12:51:58, 10.24it/s][11:12:05] UFFTYPER: Unrecognized atom type: S_6+6 (16)\n",
      " 63%|██████▎   | 799107/1273104 [18:44:02<15:13:16,  8.65it/s]"
     ]
    },
    {
     "name": "stdout",
     "output_type": "stream",
     "text": [
      "Failed to process CCCC=CCC=CCCC(=O)OC(COC(=O)CCCCCCCCCCCCC)C(O)C(CO)NC(=O)CCCCCCCCCCC: 'NoneType' object has no attribute 'GetPositions'\n"
     ]
    },
    {
     "name": "stderr",
     "output_type": "stream",
     "text": [
      " 63%|██████▎   | 799144/1273104 [18:44:06<13:11:08,  9.98it/s][11:12:39] UFFTYPER: Unrecognized charge state for atom: 5\n",
      " 63%|██████▎   | 799146/1273104 [18:44:06<14:25:19,  9.13it/s][11:12:39] UFFTYPER: Unrecognized charge state for atom: 15\n",
      " 63%|██████▎   | 799269/1273104 [18:44:20<12:28:18, 10.55it/s][11:12:52] UFFTYPER: Unrecognized charge state for atom: 8\n",
      " 63%|██████▎   | 799299/1273104 [18:44:23<17:13:30,  7.64it/s]"
     ]
    },
    {
     "name": "stdout",
     "output_type": "stream",
     "text": [
      "Failed to process CCC=CCC=CCC=CCCCCCCCC(=O)OCC(COC1OC(COC2OC(CO)C(O)C(O)C2O)C(O)C(O)C1O)OC(=O)CCCCCCCC=CCCCCCCCC: 'NoneType' object has no attribute 'GetPositions'\n"
     ]
    },
    {
     "name": "stderr",
     "output_type": "stream",
     "text": [
      " 63%|██████▎   | 799399/1273104 [18:44:33<14:41:03,  8.96it/s][11:13:06] UFFTYPER: Unrecognized charge state for atom: 6\n",
      " 63%|██████▎   | 799501/1273104 [18:44:43<11:46:44, 11.17it/s][11:13:16] UFFTYPER: Unrecognized charge state for atom: 6\n",
      " 63%|██████▎   | 799664/1273104 [18:44:57<11:56:14, 11.02it/s][11:13:30] UFFTYPER: Unrecognized charge state for atom: 8\n",
      " 63%|██████▎   | 800049/1273104 [18:45:29<7:32:55, 17.41it/s] [11:14:02] UFFTYPER: Unrecognized atom type: Se2+2 (6)\n",
      "[11:14:02] UFFTYPER: Unrecognized atom type: Se2+2 (6)\n",
      " 63%|██████▎   | 800070/1273104 [18:45:31<7:55:12, 16.59it/s] [11:14:04] UFFTYPER: Unrecognized atom type: Se2+2 (8)\n",
      "[11:14:04] UFFTYPER: Unrecognized atom type: Se2+2 (8)\n",
      " 63%|██████▎   | 800497/1273104 [18:46:07<8:33:00, 15.35it/s] [11:14:40] UFFTYPER: Unrecognized charge state for atom: 24\n",
      "[11:14:40] UFFTYPER: Unrecognized atom type: Se2+2 (24)\n",
      " 63%|██████▎   | 800628/1273104 [18:46:19<12:58:54, 10.11it/s][11:14:52] UFFTYPER: Unrecognized charge state for atom: 8\n",
      " 63%|██████▎   | 800800/1273104 [18:46:35<10:27:15, 12.55it/s][11:15:08] UFFTYPER: Unrecognized charge state for atom: 27\n",
      " 63%|██████▎   | 800860/1273104 [18:46:40<9:01:28, 14.54it/s] [11:15:13] UFFTYPER: Unrecognized charge state for atom: 16\n",
      " 63%|██████▎   | 801147/1273104 [18:47:08<10:47:52, 12.14it/s]"
     ]
    },
    {
     "name": "stdout",
     "output_type": "stream",
     "text": [
      "Failed to process CC(C)CC(=O)OCC1(OC2OC(CO)C(O)C(O)C2OC(=O)CC(C)C)OC(OC(=O)CC(C)C)C(OC(=O)CC(C)C)C1OC(=O)CC(C)C: 'NoneType' object has no attribute 'GetPositions'\n"
     ]
    },
    {
     "name": "stderr",
     "output_type": "stream",
     "text": [
      " 63%|██████▎   | 802050/1273104 [18:48:25<10:25:20, 12.55it/s][11:16:58] UFFTYPER: Unrecognized charge state for atom: 8\n",
      " 63%|██████▎   | 802065/1273104 [18:48:26<9:38:14, 13.58it/s] [11:16:59] UFFTYPER: Unrecognized charge state for atom: 9\n",
      " 63%|██████▎   | 802298/1273104 [18:48:45<10:31:31, 12.43it/s][11:17:18] UFFTYPER: Unrecognized charge state for atom: 8\n",
      " 63%|██████▎   | 802478/1273104 [18:49:02<10:11:32, 12.83it/s][11:17:35] UFFTYPER: Unrecognized charge state for atom: 8\n",
      " 63%|██████▎   | 802776/1273104 [18:49:42<15:58:16,  8.18it/s]"
     ]
    },
    {
     "name": "stdout",
     "output_type": "stream",
     "text": [
      "Failed to process Nc1nc(N)c(C(=O)NC2CCC[N+](CCCc3ccc(OCC(=O)NCCc4ccccn4)cc3)(CCCc3ccc(OCC(=O)NCCc4ccccn4)cc3)C2)nc1Cl: 'NoneType' object has no attribute 'GetPositions'\n"
     ]
    },
    {
     "name": "stderr",
     "output_type": "stream",
     "text": [
      " 63%|██████▎   | 803212/1273104 [18:50:26<16:52:03,  7.74it/s][11:18:59] UFFTYPER: Unrecognized charge state for atom: 1\n",
      " 63%|██████▎   | 803717/1273104 [18:51:09<12:10:58, 10.70it/s][11:19:42] UFFTYPER: Unrecognized atom type: S_6+6 (34)\n",
      " 63%|██████▎   | 803736/1273104 [18:51:10<8:24:48, 15.50it/s] [11:19:43] UFFTYPER: Unrecognized charge state for atom: 1\n",
      " 63%|██████▎   | 803908/1273104 [18:51:24<9:05:38, 14.33it/s] [11:19:57] UFFTYPER: Unrecognized atom type: S_6+6 (14)\n",
      " 63%|██████▎   | 804115/1273104 [18:51:39<9:50:54, 13.23it/s] [11:20:12] UFFTYPER: Unrecognized atom type: Se2+2 (5)\n",
      " 63%|██████▎   | 804179/1273104 [18:51:47<32:43:11,  3.98it/s][11:20:20] UFFTYPER: Unrecognized charge state for atom: 5\n",
      " 63%|██████▎   | 804344/1273104 [18:52:02<13:17:09,  9.80it/s][11:20:35] UFFTYPER: Unrecognized atom type: Se2+2 (5)\n",
      "[11:20:35] UFFTYPER: Unrecognized atom type: Se2+2 (5)\n",
      " 63%|██████▎   | 804358/1273104 [18:52:03<8:27:16, 15.40it/s] "
     ]
    },
    {
     "name": "stdout",
     "output_type": "stream",
     "text": [
      "Failed to process CC(C)=CCCC=C(C)Cc1c(OCC=C(C)CCC=C(C)C)c(CC=C(C)CCC=C(C)C)c(O)c2c(=O)cc(-c3ccccc3)oc12: 'NoneType' object has no attribute 'GetPositions'\n"
     ]
    },
    {
     "name": "stderr",
     "output_type": "stream",
     "text": [
      " 63%|██████▎   | 805378/1273104 [18:53:28<8:30:55, 15.26it/s] [11:22:01] UFFTYPER: Unrecognized charge state for atom: 9\n",
      " 63%|██████▎   | 805565/1273104 [18:53:43<9:41:11, 13.41it/s] [11:22:16] UFFTYPER: Unrecognized charge state for atom: 16\n",
      " 63%|██████▎   | 805567/1273104 [18:53:43<8:52:19, 14.64it/s][11:22:16] UFFTYPER: Unrecognized charge state for atom: 14\n",
      " 63%|██████▎   | 806069/1273104 [18:54:24<9:58:00, 13.02it/s] [11:22:57] UFFTYPER: Unrecognized charge state for atom: 1\n",
      " 63%|██████▎   | 806149/1273104 [18:54:30<10:46:32, 12.04it/s][11:23:03] UFFTYPER: Unrecognized atom type: Se2+2 (5)\n",
      "[11:23:03] UFFTYPER: Unrecognized atom type: Se2+2 (5)\n",
      " 63%|██████▎   | 806166/1273104 [18:54:32<15:13:26,  8.52it/s]"
     ]
    },
    {
     "name": "stdout",
     "output_type": "stream",
     "text": [
      "Failed to process CCCCCCCCCCCCCCCCCCC(OC(C)=O)C(=O)NC(COC(C)=O)C(OC(C)=O)C(CCCCCCCCCCCCCCCCCC)OC(C)=O: 'NoneType' object has no attribute 'GetPositions'\n"
     ]
    },
    {
     "name": "stderr",
     "output_type": "stream",
     "text": [
      " 63%|██████▎   | 806397/1273104 [18:54:49<15:53:22,  8.16it/s][11:23:22] UFFTYPER: Unrecognized charge state for atom: 15\n",
      " 63%|██████▎   | 807162/1273104 [18:55:52<7:06:01, 18.23it/s] [11:24:25] UFFTYPER: Unrecognized charge state for atom: 34\n",
      " 63%|██████▎   | 807719/1273104 [18:56:38<10:04:05, 12.84it/s][11:25:11] UFFTYPER: Unrecognized charge state for atom: 15\n",
      " 63%|██████▎   | 807747/1273104 [18:56:40<11:19:09, 11.42it/s][11:25:13] UFFTYPER: Unrecognized charge state for atom: 20\n",
      " 63%|██████▎   | 807821/1273104 [18:56:45<13:13:44,  9.77it/s][11:25:19] UFFTYPER: Unrecognized atom type: Se2+2 (9)\n",
      "[11:25:19] UFFTYPER: Unrecognized atom type: Se2+2 (9)\n",
      " 63%|██████▎   | 807970/1273104 [18:56:58<14:35:55,  8.85it/s]"
     ]
    },
    {
     "name": "stdout",
     "output_type": "stream",
     "text": [
      "Failed to process CCCCCCCCCCCCCCCC(=O)OCC(COP(=O)(O)OP(=O)(O)OCC1OC(n2ccc(N)nc2=O)C(O)C1O)OC(=O)CCCCCCCCCCCCCCC: 'NoneType' object has no attribute 'GetPositions'\n"
     ]
    },
    {
     "name": "stderr",
     "output_type": "stream",
     "text": [
      " 63%|██████▎   | 808043/1273104 [18:57:05<13:01:03,  9.92it/s]"
     ]
    },
    {
     "name": "stdout",
     "output_type": "stream",
     "text": [
      "Failed to process O=C(CCCCc1ccc(F)cc1)OCC1OC(Oc2c(-c3ccc(O)c(O)c3)oc3cc(O)cc(O)c3c2=O)C(OC(=O)CCCCc2ccc(F)cc2)C(O)C1O: 'NoneType' object has no attribute 'GetPositions'\n"
     ]
    },
    {
     "name": "stderr",
     "output_type": "stream",
     "text": [
      " 63%|██████▎   | 808130/1273104 [18:57:13<11:51:24, 10.89it/s][11:25:45] UFFTYPER: Unrecognized charge state for atom: 4\n",
      " 63%|██████▎   | 808137/1273104 [18:57:13<9:01:49, 14.30it/s] [11:25:46] UFFTYPER: Unrecognized atom type: Se2+2 (5)\n",
      " 63%|██████▎   | 808265/1273104 [18:57:23<16:30:11,  7.82it/s][11:25:56] UFFTYPER: Unrecognized atom type: Se2+2 (9)\n",
      "[11:25:56] UFFTYPER: Unrecognized atom type: Se2+2 (24)\n",
      " 63%|██████▎   | 808351/1273104 [18:57:30<10:31:29, 12.27it/s][11:26:03] UFFTYPER: Unrecognized charge state for atom: 6\n",
      " 64%|██████▎   | 808853/1273104 [18:58:11<7:13:25, 17.85it/s] [11:26:44] UFFTYPER: Unrecognized charge state for atom: 23\n",
      " 64%|██████▎   | 809377/1273104 [18:58:56<9:54:58, 12.99it/s] [11:27:29] UFFTYPER: Unrecognized charge state for atom: 13\n",
      " 64%|██████▎   | 809393/1273104 [18:58:57<12:57:29,  9.94it/s]"
     ]
    },
    {
     "name": "stdout",
     "output_type": "stream",
     "text": [
      "Failed to process CCCC(NC(=O)C1CC(OC(=O)N2CCc3ccccc3C2)CN1C(=O)C(NC(=O)C(NC(=O)c1cnccn1)C(C)C)C(C)C)C(=O)C(=O)NC1CCC1: 'NoneType' object has no attribute 'GetPositions'\n"
     ]
    },
    {
     "name": "stderr",
     "output_type": "stream",
     "text": [
      " 64%|██████▎   | 809634/1273104 [18:59:16<13:48:51,  9.32it/s][11:27:49] UFFTYPER: Unrecognized charge state for atom: 34\n",
      " 64%|██████▎   | 809781/1273104 [18:59:28<13:20:20,  9.65it/s][11:28:01] UFFTYPER: Unrecognized charge state for atom: 4\n",
      " 64%|██████▎   | 809839/1273104 [18:59:33<11:15:11, 11.44it/s][11:28:06] UFFTYPER: Unrecognized charge state for atom: 1\n",
      " 64%|██████▎   | 810030/1273104 [18:59:51<12:38:23, 10.18it/s]"
     ]
    },
    {
     "name": "stdout",
     "output_type": "stream",
     "text": [
      "Failed to process CCCCCCCCCCCCCCSCC(COP(=O)(O)OP(=O)(O)OCC1OC(n2ccc(N)nc2=O)C(O)C1O)OC(=O)CCCCCCCCCCC: 'NoneType' object has no attribute 'GetPositions'\n"
     ]
    },
    {
     "name": "stderr",
     "output_type": "stream",
     "text": [
      " 64%|██████▎   | 810074/1273104 [18:59:55<11:01:33, 11.67it/s][11:28:28] UFFTYPER: Unrecognized charge state for atom: 9\n",
      "[11:28:28] UFFTYPER: Unrecognized charge state for atom: 16\n",
      " 64%|██████▎   | 810121/1273104 [18:59:59<9:26:04, 13.63it/s] [11:28:32] UFFTYPER: Unrecognized atom type: Se2+2 (22)\n",
      " 64%|██████▎   | 810382/1273104 [19:00:20<9:30:58, 13.51it/s] [11:28:53] UFFTYPER: Unrecognized charge state for atom: 19\n",
      " 64%|██████▎   | 810411/1273104 [19:00:23<15:52:03,  8.10it/s]"
     ]
    },
    {
     "name": "stdout",
     "output_type": "stream",
     "text": [
      "Failed to process C1CCC(N=C(NC2CCCCC2)N(CCCN=C(NC2CCCCC2)NC2CCCCC2)CCN=C(NC2CCCCC2)NC2CCCCC2)CC1: 'NoneType' object has no attribute 'GetPositions'\n"
     ]
    },
    {
     "name": "stderr",
     "output_type": "stream",
     "text": [
      " 64%|██████▎   | 810436/1273104 [19:00:25<11:43:29, 10.96it/s][11:28:58] UFFTYPER: Unrecognized charge state for atom: 33\n",
      " 64%|██████▎   | 810629/1273104 [19:00:42<9:44:49, 13.18it/s] "
     ]
    },
    {
     "name": "stdout",
     "output_type": "stream",
     "text": [
      "Failed to process Cc1cccc(C)c1OCC(=O)NC(Cc1ccccc1)C(OC(=O)CCC(=O)NCC(N)=O)C(=O)N1CSC(C)(C)C1C(=O)NC(C)(C)C: 'NoneType' object has no attribute 'GetPositions'\n"
     ]
    },
    {
     "name": "stderr",
     "output_type": "stream",
     "text": [
      " 64%|██████▎   | 810746/1273104 [19:00:52<10:40:55, 12.02it/s][11:29:25] UFFTYPER: Unrecognized charge state for atom: 1\n",
      " 64%|██████▎   | 810807/1273104 [19:00:57<8:52:31, 14.47it/s] [11:29:30] UFFTYPER: Unrecognized charge state for atom: 3\n",
      " 64%|██████▎   | 810994/1273104 [19:01:12<11:23:10, 11.27it/s]"
     ]
    },
    {
     "name": "stdout",
     "output_type": "stream",
     "text": [
      "Failed to process CCC=CCC=CCC=CCC=CCCCCC(=O)OCC(COC1OC(COC2OC(CO)C(O)C(O)C2O)C(O)C(O)C1O)OC(=O)CCCCC=CCC=CCC=CCC=CCC: 'NoneType' object has no attribute 'GetPositions'\n"
     ]
    },
    {
     "name": "stderr",
     "output_type": "stream",
     "text": [
      " 64%|██████▎   | 811002/1273104 [19:01:13<14:17:09,  8.99it/s]"
     ]
    },
    {
     "name": "stdout",
     "output_type": "stream",
     "text": [
      "Failed to process CCCCCCCCCCCCCCSCC(COP(=O)(O)OP(=O)(O)OCC1OC(n2ccc(N)nc2=O)C(O)C1O)OC(=O)CCCCCCCCCCCCC: 'NoneType' object has no attribute 'GetPositions'\n"
     ]
    },
    {
     "name": "stderr",
     "output_type": "stream",
     "text": [
      " 64%|██████▎   | 811027/1273104 [19:01:15<11:00:34, 11.66it/s][11:29:48] UFFTYPER: Unrecognized charge state for atom: 8\n",
      " 64%|██████▎   | 811118/1273104 [19:01:25<10:46:09, 11.92it/s][11:29:57] UFFTYPER: Unrecognized charge state for atom: 7\n",
      " 64%|██████▎   | 811539/1273104 [19:02:08<13:23:47,  9.57it/s][11:30:41] UFFTYPER: Unrecognized charge state for atom: 5\n",
      " 64%|██████▍   | 811789/1273104 [19:02:48<25:25:28,  5.04it/s][11:31:21] UFFTYPER: Unrecognized charge state for atom: 9\n",
      " 64%|██████▍   | 811999/1273104 [19:03:21<12:17:33, 10.42it/s][11:31:54] UFFTYPER: Unrecognized atom type: Se2+2 (10)\n",
      "[11:31:54] UFFTYPER: Unrecognized atom type: Se2+2 (10)\n",
      " 64%|██████▍   | 812288/1273104 [19:03:47<11:30:03, 11.13it/s]"
     ]
    },
    {
     "name": "stdout",
     "output_type": "stream",
     "text": [
      "Failed to process N=C(N)NCCCC(N)C(=O)NCCN(CC(=O)NC(CCCCN)C(=O)O)C(=O)C(CCCCNC(=O)OCc1ccccc1)NC(=O)OCc1ccccc1: 'NoneType' object has no attribute 'GetPositions'\n"
     ]
    },
    {
     "name": "stderr",
     "output_type": "stream",
     "text": [
      " 64%|██████▍   | 812558/1273104 [19:04:10<14:43:12,  8.69it/s][11:32:43] UFFTYPER: Unrecognized charge state for atom: 6\n",
      "[11:32:43] UFFTYPER: Unrecognized charge state for atom: 31\n",
      " 64%|██████▍   | 812610/1273104 [19:04:16<8:58:56, 14.24it/s] "
     ]
    },
    {
     "name": "stdout",
     "output_type": "stream",
     "text": [
      "Failed to process CC(=O)NCc1ccc(CNC(C(=O)NC2c3ccccc3CC2O)C(O)C(Cc2ccccc2)NC(=O)C(NC(=O)OCc2ccccc2)C(C)(C)C)cc1: 'NoneType' object has no attribute 'GetPositions'\n"
     ]
    },
    {
     "name": "stderr",
     "output_type": "stream",
     "text": [
      " 64%|██████▍   | 812775/1273104 [19:04:29<10:32:23, 12.13it/s][11:33:02] UFFTYPER: Unrecognized charge state for atom: 6\n",
      " 64%|██████▍   | 813077/1273104 [19:04:55<7:42:01, 16.59it/s] [11:33:28] UFFTYPER: Unrecognized atom type: Se2+2 (15)\n",
      " 64%|██████▍   | 813092/1273104 [19:04:57<10:01:10, 12.75it/s][11:33:30] UFFTYPER: Unrecognized charge state for atom: 10\n",
      " 64%|██████▍   | 813125/1273104 [19:04:59<7:34:01, 16.89it/s] [11:33:32] UFFTYPER: Unrecognized charge state for atom: 14\n",
      " 64%|██████▍   | 813161/1273104 [19:05:01<11:15:20, 11.35it/s][11:33:34] UFFTYPER: Unrecognized charge state for atom: 4\n",
      " 64%|██████▍   | 813588/1273104 [19:05:36<6:13:01, 20.53it/s] [11:34:09] UFFTYPER: Unrecognized charge state for atom: 1\n",
      " 64%|██████▍   | 814291/1273104 [19:06:39<7:52:59, 16.17it/s] [11:35:12] UFFTYPER: Unrecognized atom type: S_6+6 (9)\n",
      " 64%|██████▍   | 814418/1273104 [19:06:49<9:01:39, 14.11it/s] [11:35:21] UFFTYPER: Unrecognized atom type: S_6+6 (31)\n",
      " 64%|██████▍   | 814431/1273104 [19:06:50<10:28:38, 12.16it/s][11:35:23] UFFTYPER: Unrecognized charge state for atom: 1\n",
      " 64%|██████▍   | 814462/1273104 [19:06:52<8:12:21, 15.53it/s] [11:35:25] UFFTYPER: Unrecognized charge state for atom: 10\n",
      " 64%|██████▍   | 814515/1273104 [19:06:57<9:07:15, 13.97it/s] [11:35:30] UFFTYPER: Unrecognized charge state for atom: 7\n",
      " 64%|██████▍   | 814647/1273104 [19:07:08<10:01:03, 12.71it/s][11:35:41] UFFTYPER: Unrecognized atom type: S_6+6 (32)\n",
      " 64%|██████▍   | 814686/1273104 [19:07:11<12:41:27, 10.03it/s]"
     ]
    },
    {
     "name": "stdout",
     "output_type": "stream",
     "text": [
      "Failed to process CCCCCCCCC=CCCCCCCCCOc1ccc(CNCCCCCCCCN)cc1OCCCCCCCCC=CCCCCCCCC: 'NoneType' object has no attribute 'GetPositions'\n"
     ]
    },
    {
     "name": "stderr",
     "output_type": "stream",
     "text": [
      " 64%|██████▍   | 814688/1273104 [19:07:12<12:42:10, 10.02it/s]"
     ]
    },
    {
     "name": "stdout",
     "output_type": "stream",
     "text": [
      "Failed to process CC1=C([Se]CC(OC(=O)C(CSSC(C)(C)C)NC(=O)C(C)(C)C)C(=O)NCCCCCC(=O)OCc2ccccc2)C(=O)c2ccccc2C1=O: 'NoneType' object has no attribute 'GetPositions'\n"
     ]
    },
    {
     "name": "stderr",
     "output_type": "stream",
     "text": [
      " 64%|██████▍   | 814799/1273104 [19:07:20<11:17:20, 11.28it/s][11:35:53] UFFTYPER: Unrecognized charge state for atom: 9\n",
      " 64%|██████▍   | 815095/1273104 [19:07:44<7:39:21, 16.62it/s] [11:36:17] UFFTYPER: Unrecognized charge state for atom: 7\n",
      " 64%|██████▍   | 815415/1273104 [19:08:09<12:23:26, 10.26it/s][11:36:42] UFFTYPER: Unrecognized charge state for atom: 20\n",
      " 64%|██████▍   | 815449/1273104 [19:08:12<9:00:52, 14.10it/s] [11:36:45] UFFTYPER: Unrecognized charge state for atom: 4\n",
      " 64%|██████▍   | 815606/1273104 [19:08:24<7:26:43, 17.07it/s] [11:36:57] UFFTYPER: Unrecognized charge state for atom: 30\n",
      " 64%|██████▍   | 815879/1273104 [19:08:46<9:54:59, 12.81it/s] [11:37:18] UFFTYPER: Unrecognized charge state for atom: 22\n",
      " 64%|██████▍   | 816333/1273104 [19:09:27<15:43:46,  8.07it/s][11:38:00] UFFTYPER: Unrecognized charge state for atom: 6\n",
      " 64%|██████▍   | 816372/1273104 [19:09:30<15:37:03,  8.12it/s]"
     ]
    },
    {
     "name": "stdout",
     "output_type": "stream",
     "text": [
      "Failed to process CCCCCCCCCCCCCCCC(=O)OCC(COP(=O)([O-])OCC[N+](C)(C)C)OC(=O)CCCCCCCCCCCCCCC: 'NoneType' object has no attribute 'GetPositions'\n"
     ]
    },
    {
     "name": "stderr",
     "output_type": "stream",
     "text": [
      " 64%|██████▍   | 816406/1273104 [19:09:32<9:11:54, 13.79it/s] "
     ]
    },
    {
     "name": "stdout",
     "output_type": "stream",
     "text": [
      "Failed to process CC(C)S(=O)(=O)CC(O)C(CC1CCCCC1)NC(=O)C(CCCCNC(=O)OCc1ccccc1)NC(=O)C(Cc1ccccc1)NC(=O)OC(C)(C)C: 'NoneType' object has no attribute 'GetPositions'\n"
     ]
    },
    {
     "name": "stderr",
     "output_type": "stream",
     "text": [
      " 64%|██████▍   | 816412/1273104 [19:09:33<12:02:49, 10.53it/s][11:38:06] UFFTYPER: Unrecognized atom type: Se2+2 (2)\n",
      " 64%|██████▍   | 816585/1273104 [19:09:47<8:00:53, 15.82it/s] [11:38:20] UFFTYPER: Unrecognized charge state for atom: 23\n",
      " 64%|██████▍   | 816632/1273104 [19:09:51<9:15:28, 13.70it/s] [11:38:24] UFFTYPER: Unrecognized charge state for atom: 1\n",
      " 64%|██████▍   | 816737/1273104 [19:10:01<12:57:02,  9.79it/s]"
     ]
    },
    {
     "name": "stdout",
     "output_type": "stream",
     "text": [
      "Failed to process CCCCCCCCCCCCCCCCCC(CCCCCCCCCCCCCCC(C)CC)OC1OC(CO)C(OC2OC(CO)C(O)C(O)C2O)C(O)C1O: 'NoneType' object has no attribute 'GetPositions'\n"
     ]
    },
    {
     "name": "stderr",
     "output_type": "stream",
     "text": [
      " 64%|██████▍   | 816895/1273104 [19:10:13<14:42:00,  8.62it/s][11:38:46] UFFTYPER: Unrecognized charge state for atom: 27\n",
      " 64%|██████▍   | 817061/1273104 [19:10:26<13:24:56,  9.44it/s][11:38:59] UFFTYPER: Unrecognized charge state for atom: 2\n",
      " 64%|██████▍   | 817150/1273104 [19:10:34<6:45:59, 18.72it/s] [11:39:07] UFFTYPER: Unrecognized charge state for atom: 1\n",
      " 64%|██████▍   | 817425/1273104 [19:11:00<30:33:09,  4.14it/s][11:39:33] UFFTYPER: Unrecognized charge state for atom: 4\n",
      " 64%|██████▍   | 817921/1273104 [19:11:43<7:47:50, 16.22it/s] [11:40:15] UFFTYPER: Unrecognized charge state for atom: 9\n",
      " 64%|██████▍   | 818451/1273104 [19:12:26<6:27:49, 19.54it/s] [11:40:59] UFFTYPER: Unrecognized charge state for atom: 31\n",
      " 64%|██████▍   | 818820/1273104 [19:12:57<7:30:57, 16.79it/s] [11:41:30] UFFTYPER: Unrecognized charge state for atom: 4\n",
      " 64%|██████▍   | 819184/1273104 [19:13:25<13:56:33,  9.04it/s]"
     ]
    },
    {
     "name": "stdout",
     "output_type": "stream",
     "text": [
      "Failed to process CC1CCC2C(C)C(CC(O)(COCC#CCOCc3ccc(F)cc3)CC3OC4OC5(C)CCC6C(C)CCC(C3C)C46OO5)OC3OC4(C)CCC1C32OO4: 'NoneType' object has no attribute 'GetPositions'\n"
     ]
    },
    {
     "name": "stderr",
     "output_type": "stream",
     "text": [
      " 64%|██████▍   | 819428/1273104 [19:13:45<6:00:26, 20.98it/s] [11:42:18] UFFTYPER: Unrecognized charge state for atom: 16\n",
      " 64%|██████▍   | 819772/1273104 [19:14:12<8:43:29, 14.43it/s] [11:42:45] UFFTYPER: Unrecognized charge state for atom: 1\n",
      " 64%|██████▍   | 819977/1273104 [19:14:31<9:33:22, 13.17it/s] [11:43:04] UFFTYPER: Unrecognized atom type: Se2+2 (13)\n",
      "[11:43:04] UFFTYPER: Unrecognized atom type: Se2+2 (22)\n",
      " 64%|██████▍   | 820114/1273104 [19:14:44<28:53:10,  4.36it/s]"
     ]
    },
    {
     "name": "stdout",
     "output_type": "stream",
     "text": [
      "Failed to process CCCCCCCCCCCCCCCC(O)C(COC1OC(CO)C(O)C(O)C1O)NC(=O)CCCCCCCCCCNC(=O)CCCCCNC(=O)CCCCC1SCC2NC(=O)NC21: 'NoneType' object has no attribute 'GetPositions'\n"
     ]
    },
    {
     "name": "stderr",
     "output_type": "stream",
     "text": [
      " 64%|██████▍   | 820429/1273104 [19:15:09<8:27:30, 14.87it/s] [11:43:42] UFFTYPER: Unrecognized charge state for atom: 17\n",
      " 64%|██████▍   | 820509/1273104 [19:15:17<8:57:10, 14.04it/s] [11:43:49] UFFTYPER: Unrecognized charge state for atom: 13\n",
      " 64%|██████▍   | 820517/1273104 [19:15:17<10:56:28, 11.49it/s][11:43:50] UFFTYPER: Unrecognized charge state for atom: 1\n",
      " 64%|██████▍   | 821145/1273104 [19:16:13<22:56:24,  5.47it/s][11:44:45] UFFTYPER: Unrecognized charge state for atom: 4\n",
      " 65%|██████▍   | 821423/1273104 [19:16:38<11:48:15, 10.63it/s][11:45:11] UFFTYPER: Unrecognized charge state for atom: 16\n",
      " 65%|██████▍   | 821500/1273104 [19:16:43<7:37:56, 16.44it/s] [11:45:16] UFFTYPER: Unrecognized charge state for atom: 1\n",
      " 65%|██████▍   | 822008/1273104 [19:17:27<8:44:23, 14.34it/s] [11:46:00] UFFTYPER: Unrecognized charge state for atom: 23\n",
      " 65%|██████▍   | 822220/1273104 [19:17:49<10:08:10, 12.36it/s][11:46:22] UFFTYPER: Unrecognized charge state for atom: 7\n",
      " 65%|██████▍   | 822271/1273104 [19:17:54<13:42:06,  9.14it/s][11:46:26] UFFTYPER: Unrecognized charge state for atom: 1\n",
      " 65%|██████▍   | 822315/1273104 [19:18:01<24:57:39,  5.02it/s]"
     ]
    },
    {
     "name": "stdout",
     "output_type": "stream",
     "text": [
      "Failed to process CCCCCCn1ccc(=O)c(O)c1C(=O)NCCN(CCNC(=O)c1c(O)c(=O)ccn1CCCCCC)CCNC(=O)c1c(O)c(=O)ccn1CCCCCC: 'NoneType' object has no attribute 'GetPositions'\n"
     ]
    },
    {
     "name": "stderr",
     "output_type": "stream",
     "text": [
      " 65%|██████▍   | 822539/1273104 [19:18:27<10:52:32, 11.51it/s][11:47:00] UFFTYPER: Unrecognized charge state for atom: 8\n",
      " 65%|██████▍   | 822598/1273104 [19:18:35<22:37:20,  5.53it/s]"
     ]
    },
    {
     "name": "stdout",
     "output_type": "stream",
     "text": [
      "Failed to process CCCCCCCCCCn1c[n+](CCCCCCCCCC)cc1CC(N)C(=O)NC(CCCNC(=N)N)C(N)=O: 'NoneType' object has no attribute 'GetPositions'\n"
     ]
    },
    {
     "name": "stderr",
     "output_type": "stream",
     "text": [
      " 65%|██████▍   | 822654/1273104 [19:18:42<13:24:17,  9.33it/s][11:47:15] UFFTYPER: Unrecognized charge state for atom: 1\n",
      " 65%|██████▍   | 823159/1273104 [19:19:37<10:32:52, 11.85it/s][11:48:10] UFFTYPER: Unrecognized charge state for atom: 26\n",
      " 65%|██████▍   | 823211/1273104 [19:19:43<14:22:39,  8.69it/s][11:48:16] UFFTYPER: Unrecognized charge state for atom: 1\n",
      " 65%|██████▍   | 823575/1273104 [19:20:21<14:39:48,  8.52it/s]"
     ]
    }
   ],
   "source": [
    "# Preprocess the SMILES data\n",
    "def preprocess_smiles_data(smiles_data, partition: str):\n",
    "    preprocessed_data = []\n",
    "    for smi in tqdm(smiles_data):\n",
    "        try:\n",
    "            atoms, coords = mol_to_atoms_coords(smi)\n",
    "            preprocessed_data.append({\n",
    "                'smiles': smi,\n",
    "                'atoms': atoms,\n",
    "                'coords': coords,\n",
    "                'partition': partition,\n",
    "            })\n",
    "        except Exception as e:\n",
    "            print(f\"Failed to process {smi}: {str(e)}\")\n",
    "\n",
    "    return preprocessed_data\n",
    "\n",
    "# Save the preprocessed data to a pickle file\n",
    "with open('train_guacamol.pkl', 'wb') as f:\n",
    "    pickle.dump(preprocess_smiles_data(df_train['smiles'],'train'), f)\n",
    "\n",
    "with open('valid_guacamol.pkl', 'wb') as f:\n",
    "    pickle.dump(preprocess_smiles_data(df_valid['smiles'], 'valid'), f)\n",
    "\n",
    "with open('test_guacamol.pkl', 'wb') as f:\n",
    "    pickle.dump(preprocess_smiles_data(df_test['smiles'], 'test'), f)"
   ]
  },
  {
   "cell_type": "code",
   "execution_count": null,
   "metadata": {},
   "outputs": [],
   "source": [
    "# Convert the lists of dictionaries to DataFrames and save as CSV files\n",
    "def save_as_csv(preprocessed_data, filename):\n",
    "    df = pd.DataFrame(preprocessed_data)\n",
    "    # If 'coords' and 'atoms' are lists, they will be saved as strings in the CSV. You might need to parse them when reading.\n",
    "    df.to_csv(filename, index=False)\n",
    "\n",
    "save_as_csv(preprocessed_train, 'train_guacamol.csv')\n",
    "save_as_csv(preprocessed_valid, 'valid_guacamol.csv')\n",
    "save_as_csv(preprocessed_test, 'test_guacamol.csv')"
   ]
  }
 ],
 "metadata": {
  "kernelspec": {
   "display_name": "molGen_master",
   "language": "python",
   "name": "python3"
  },
  "language_info": {
   "codemirror_mode": {
    "name": "ipython",
    "version": 3
   },
   "file_extension": ".py",
   "mimetype": "text/x-python",
   "name": "python",
   "nbconvert_exporter": "python",
   "pygments_lexer": "ipython3",
   "version": "3.9.18"
  }
 },
 "nbformat": 4,
 "nbformat_minor": 2
}
