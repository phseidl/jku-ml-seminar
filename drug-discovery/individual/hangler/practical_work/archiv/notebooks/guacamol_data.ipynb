{
 "cells": [
  {
   "cell_type": "code",
   "execution_count": 8,
   "metadata": {},
   "outputs": [],
   "source": [
    "import requests\n",
    "import hashlib"
   ]
  },
  {
   "cell_type": "code",
   "execution_count": 9,
   "metadata": {},
   "outputs": [],
   "source": [
    "# Dataset URLs and MD5 checksums\n",
    "datasets = {\n",
    "    \"train\": {\n",
    "        \"url\": \"https://ndownloader.figshare.com/files/13612760\",\n",
    "        \"md5\": \"05ad85d871958a05c02ab51a4fde8530\",\n",
    "        \"filename\": \"train_guacamol.smiles\"\n",
    "    },\n",
    "    \"valid\": {\n",
    "        \"url\": \"https://ndownloader.figshare.com/files/13612766\",\n",
    "        \"md5\": \"e53db4bff7dc4784123ae6df72e3b1f0\",\n",
    "        \"filename\": \"valid_guacamol.smiles\"\n",
    "    },\n",
    "    \"test\": {\n",
    "        \"url\": \"https://ndownloader.figshare.com/files/13612757\",\n",
    "        \"md5\": \"677b757ccec4809febd83850b43e1616\",\n",
    "        \"filename\": \"test_guacamol.smiles\"\n",
    "    }\n",
    "}"
   ]
  },
  {
   "cell_type": "code",
   "execution_count": 10,
   "metadata": {},
   "outputs": [],
   "source": [
    "def download_file_with_md5(url, filename, expected_md5):\n",
    "    \"\"\"\n",
    "    Download a file from a URL and verify its MD5 checksum.\n",
    "\n",
    "    :param url: URL to the file to be downloaded\n",
    "    :param filename: Local filename to save the downloaded file\n",
    "    :param expected_md5: Expected MD5 checksum of the file\n",
    "    \"\"\"\n",
    "    response = requests.get(url, stream=True)\n",
    "    response.raise_for_status()  # Ensure the download was successful\n",
    "\n",
    "    # Compute MD5 checksum while writing the file\n",
    "    md5 = hashlib.md5()\n",
    "    with open(filename, 'wb') as f:\n",
    "        for chunk in response.iter_content(chunk_size=8192):\n",
    "            f.write(chunk)\n",
    "            md5.update(chunk)\n",
    "    \n",
    "    actual_md5 = md5.hexdigest()\n",
    "    if actual_md5 != expected_md5:\n",
    "        raise ValueError(f\"MD5 mismatch: expected {expected_md5}, got {actual_md5}\")\n",
    "    \n",
    "    print(f\"Downloaded and verified {filename}\")"
   ]
  },
  {
   "cell_type": "code",
   "execution_count": 11,
   "metadata": {},
   "outputs": [],
   "source": [
    "def read_smiles_file(filename):\n",
    "    \"\"\"Read a .smiles file and return the list of SMILES strings.\"\"\"\n",
    "    with open(filename, 'r') as file:\n",
    "        smiles = file.readlines()\n",
    "    # Remove newline characters\n",
    "    smiles = [s.strip() for s in smiles]\n",
    "    return smiles"
   ]
  },
  {
   "cell_type": "code",
   "execution_count": 12,
   "metadata": {},
   "outputs": [
    {
     "name": "stdout",
     "output_type": "stream",
     "text": [
      "Downloaded and verified train_guacamol.smiles\n",
      "Downloaded and verified valid_guacamol.smiles\n",
      "Downloaded and verified test_guacamol.smiles\n",
      "Number of train molecules in data set: 1273104\n",
      "First 5 SMILES strings in training set: ['CCC(C)(C)Br', 'CCCN(CCc1cccc(-c2ccccc2)c1)C(=O)C1OC(C(=O)O)=CC(N)C1NC(C)=O', 'Oc1ccc(C2CC(c3ccccc3)=NN2C(=S)Nc2ccccc2)cc1', 'CC1(C)OCC2OC3(C4OC(C)(C)OC4CO)OC(C)(C)OC3C2O1', 'COC(=O)c1cc(C(=CCCCC(=O)SC)c2cc(Cl)c(OC)c(C(=O)OC)c2)cc(Cl)c1OC']\n",
      "Number of validation molecules in data set: 79568\n",
      "First 5 SMILES strings in validation set: ['CCCC(=O)NNC(=O)Nc1ccccc1', 'CC(=O)NC1CCC2(C)C(CCC3(C)C2C(=O)C=C2C4C(C)C(C)CCC4(C)CCC23C)C1(C)C(=O)O', 'CC(=O)NC(C)Cc1ccc(C#Cc2ccnc(N3CCCC(F)C3)n2)cc1', 'Cc1cccc(CCNC(=O)C2CCC(=O)N(Cc3ccc(Cl)cc3)C2)n1', 'CC1C=CN(N(C)C)C2=C1C(=O)c1cnccc1C2=O']\n",
      "Number of test molecules in data set: 238706\n",
      "First 5 SMILES strings in test set: ['Cc1cc2c(c3oc(CCCC#N)cc13)C(=O)c1c(O)cccc1C2=O', 'C=CCN1C(=O)C(=NNC(=S)NC2OC(COC(C)=O)C(OC(C)=O)C(OC(C)=O)C2OC(C)=O)c2ccccc21', 'O=C1C(=Cc2ccc(F)cc2)CCOc2c1ccc1ccccc21', 'CC(C)CNc1cc(NCC(C)C)nc(NCC(C)C)n1', 'CN1CCN(CCCOc2ccc(N3C(=O)C(=Cc4ccc(Oc5ccc([N+](=O)[O-])cc5)cc4)SC3=S)cc2)CC1']\n"
     ]
    }
   ],
   "source": [
    "# Check before downloading if the files already exist\n",
    "for dataset in datasets.values():\n",
    "    try:\n",
    "        with open(dataset['filename'], 'r'):\n",
    "            print(f\"File {dataset['filename']} already exists\")\n",
    "    except FileNotFoundError:\n",
    "        download_file_with_md5(dataset['url'], dataset['filename'], dataset['md5'])\n",
    "    \n",
    "\n",
    "training_smiles = read_smiles_file('train_guacamol.smiles')\n",
    "validation_smiles = read_smiles_file('valid_guacamol.smiles')\n",
    "test_smiles = read_smiles_file('test_guacamol.smiles')\n",
    "\n",
    "print(f\"Number of train molecules in data set: {len(training_smiles)}\")\n",
    "print(f\"First 5 SMILES strings in training set: {training_smiles[:5]}\")\n",
    "print(f\"Number of validation molecules in data set: {len(validation_smiles)}\")\n",
    "print(f\"First 5 SMILES strings in validation set: {validation_smiles[:5]}\")\n",
    "print(f\"Number of test molecules in data set: {len(test_smiles)}\")\n",
    "print(f\"First 5 SMILES strings in test set: {test_smiles[:5]}\")\n"
   ]
  }
 ],
 "metadata": {
  "kernelspec": {
   "display_name": "molGen_master",
   "language": "python",
   "name": "python3"
  },
  "language_info": {
   "codemirror_mode": {
    "name": "ipython",
    "version": 3
   },
   "file_extension": ".py",
   "mimetype": "text/x-python",
   "name": "python",
   "nbconvert_exporter": "python",
   "pygments_lexer": "ipython3",
   "version": "3.9.18"
  }
 },
 "nbformat": 4,
 "nbformat_minor": 2
}
