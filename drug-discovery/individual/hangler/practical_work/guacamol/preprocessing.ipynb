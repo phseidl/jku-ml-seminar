{
 "cells": [
  {
   "cell_type": "code",
   "execution_count": 2,
   "metadata": {},
   "outputs": [],
   "source": [
    "import numpy as np\n",
    "import pandas as pd\n",
    "from rdkit import Chem\n",
    "from rdkit.Chem.AllChem import EmbedMolecule, EmbedMultipleConfs, MMFFOptimizeMoleculeConfs\n",
    "import pickle\n",
    "from tqdm import tqdm"
   ]
  },
  {
   "cell_type": "code",
   "execution_count": 3,
   "metadata": {},
   "outputs": [],
   "source": [
    "def mol_to_morgan(mol, radius=3, n_bits=2048, chiral=False, features=False):\n",
    "    from rdkit.Chem.AllChem import GetMorganFingerprintAsBitVect\n",
    "    return np.frombuffer(\n",
    "        GetMorganFingerprintAsBitVect(\n",
    "            mol, radius=radius, nBits=n_bits, useChirality=chiral, useFeatures=features\n",
    "        ).ToBitString().encode(), \"u1\") - ord(\"0\")\n",
    "\n",
    "def mol_to_atoms_coords(\n",
    "    m, hydrogenate=True, adj_matrix=False, do_morgan=False, optimize=False, numConfs=1, numThreads=1\n",
    "):\n",
    "    # Check if m is a string, and if so, convert it to an RDKit molecule object\n",
    "    if isinstance(m, str):\n",
    "        m = Chem.MolFromSmiles(m)\n",
    "        if m is None:\n",
    "            return None  # Could not parse the SMILES string into a molecule\n",
    "\n",
    "    m3 = Chem.AddHs(m) if hydrogenate else m\n",
    "    if optimize and hydrogenate:\n",
    "        try:\n",
    "            EmbedMultipleConfs(\n",
    "                m3, numConfs=numConfs, pruneRmsThresh=0.125, randomSeed=0xF00D, numThreads=numThreads\n",
    "            )\n",
    "            opt = MMFFOptimizeMoleculeConfs(m3, mmffVariant=\"MMFF94s\", numThreads=numThreads)\n",
    "            opt = np.array(opt)\n",
    "            converged = opt[:, 0] == 0\n",
    "            if converged.any():\n",
    "                lowest_eng_conformer = np.argmin(opt[converged][:, 1])\n",
    "                lowest_energy = opt[converged][lowest_eng_conformer, 1]\n",
    "                best_conf = np.arange(opt.shape[0])[converged][lowest_eng_conformer]\n",
    "                c0 = m3.GetConformer(id=int(best_conf))\n",
    "            else:\n",
    "                # Fallback in case optimization did not converge\n",
    "                c0 = m3.GetConformer()\n",
    "                lowest_energy = None\n",
    "        except Exception as Ex:\n",
    "            # Fallback in case of an exception during embedding or optimization\n",
    "            EmbedMolecule(m3, randomSeed=0xF00D)\n",
    "            c0 = m3.GetConformers()[-1]\n",
    "            lowest_energy = None\n",
    "    else:\n",
    "        EmbedMolecule(m3, randomSeed=0xF00D)\n",
    "        c0 = m3.GetConformers()[-1]\n",
    "\n",
    "    coords = c0.GetPositions()\n",
    "    atoms = np.array([atom.GetAtomicNum() for atom in m3.GetAtoms()], dtype=np.uint8)\n",
    "\n",
    "    to_return = [atoms, coords]\n",
    "\n",
    "    if adj_matrix:\n",
    "        to_return.append(Chem.GetAdjacencyMatrix(m3))\n",
    "\n",
    "    if do_morgan:\n",
    "        to_return.append(mol_to_morgan(m, radius=3, n_bits=2048, chiral=False))\n",
    "\n",
    "    if optimize:\n",
    "        to_return.append(lowest_energy)\n",
    "\n",
    "    return tuple(to_return)"
   ]
  },
  {
   "cell_type": "code",
   "execution_count": 10,
   "metadata": {},
   "outputs": [],
   "source": [
    "# Load the SMILES data\n",
    "df_train = pd.read_csv('data/train_guacamol.smiles', header=None, names=['smiles'])\n",
    "df_valid = pd.read_csv('data/valid_guacamol.smiles', header=None, names=['smiles'])\n",
    "df_test = pd.read_csv('data/test_guacamol.smiles', header=None, names=['smiles'])"
   ]
  },
  {
   "cell_type": "code",
   "execution_count": 6,
   "metadata": {},
   "outputs": [],
   "source": [
    "# Convert the lists of dictionaries to DataFrames and save as CSV files\n",
    "def save_as_csv(preprocessed_data, filename):\n",
    "    df = pd.DataFrame(preprocessed_data)\n",
    "    # If 'coords' and 'atoms' are lists, they will be saved as strings in the CSV. You might need to parse them when reading.\n",
    "    df.to_csv(filename, index=False)"
   ]
  },
  {
   "cell_type": "code",
   "execution_count": 14,
   "metadata": {},
   "outputs": [],
   "source": [
    "# load pickle file and safe it as .csv\n",
    "with open('train_guacamol.pkl', 'rb') as f:\n",
    "    train_data = pickle.load(f)\n",
    "save_as_csv(train_data, 'train_guacamol.csv')\n",
    "\n",
    "with open('valid_guacamol.pkl', 'rb') as f:\n",
    "    valid_data = pickle.load(f)\n",
    "save_as_csv(valid_data, 'valid_guacamol.csv')\n",
    "\n",
    "with open('test_guacamol.pkl', 'rb') as f:\n",
    "    test_data = pickle.load(f)\n",
    "save_as_csv(test_data, 'test_guacamol.csv')"
   ]
  },
  {
   "cell_type": "code",
   "execution_count": 12,
   "metadata": {},
   "outputs": [
    {
     "name": "stderr",
     "output_type": "stream",
     "text": [
      " 64%|██████▎   | 50634/79568 [2:14:25<2796:46:07, 347.98s/it]"
     ]
    },
    {
     "name": "stdout",
     "output_type": "stream",
     "text": [
      "Failed to process CCC(C=CC(C)C1CCC2C3C4=CC5(CC(Cl)CCC5(C)C3CCC12C)NC(=O)N4)C(C)C: 'NoneType' object has no attribute 'GetPositions'\n"
     ]
    },
    {
     "name": "stderr",
     "output_type": "stream",
     "text": [
      " 64%|██████▎   | 50672/79568 [2:14:28<4:46:25,  1.68it/s]    [08:22:21] UFFTYPER: Unrecognized charge state for atom: 24\n",
      " 64%|██████▍   | 50825/79568 [2:14:43<31:18, 15.30it/s]  [08:22:36] UFFTYPER: Unrecognized charge state for atom: 9\n",
      " 64%|██████▍   | 51087/79568 [2:15:08<38:54, 12.20it/s]  [08:23:01] UFFTYPER: Unrecognized charge state for atom: 1\n",
      " 64%|██████▍   | 51142/79568 [2:15:13<42:49, 11.06it/s][08:23:05] UFFTYPER: Unrecognized atom type: Se2+2 (14)\n",
      "[08:23:05] UFFTYPER: Unrecognized atom type: Se2+2 (14)\n",
      " 65%|██████▍   | 51347/79568 [2:15:30<37:17, 12.61it/s]  [08:23:22] UFFTYPER: Unrecognized charge state for atom: 1\n",
      " 65%|██████▍   | 51373/79568 [2:15:33<53:43,  8.75it/s]  [08:23:25] UFFTYPER: Unrecognized charge state for atom: 15\n",
      " 65%|██████▍   | 51378/79568 [2:15:33<41:50, 11.23it/s][08:23:26] UFFTYPER: Unrecognized charge state for atom: 18\n",
      " 65%|██████▍   | 51520/79568 [2:15:45<56:46,  8.23it/s]  "
     ]
    },
    {
     "name": "stdout",
     "output_type": "stream",
     "text": [
      "Failed to process CCCNC(=O)CCC(=O)OC(C(=O)N1CSC(C)(C)C1C(=O)NC(C)(C)C)C(Cc1ccccc1)NC(=O)COc1c(C)cccc1C: 'NoneType' object has no attribute 'GetPositions'\n"
     ]
    },
    {
     "name": "stderr",
     "output_type": "stream",
     "text": [
      " 65%|██████▍   | 51565/79568 [2:15:48<34:07, 13.68it/s][08:23:41] UFFTYPER: Unrecognized charge state for atom: 7\n",
      " 65%|██████▌   | 51946/79568 [2:16:24<39:02, 11.79it/s]  [08:24:16] UFFTYPER: Unrecognized charge state for atom: 9\n",
      " 66%|██████▌   | 52216/79568 [2:16:50<1:00:38,  7.52it/s][08:24:43] UFFTYPER: Unrecognized charge state for atom: 12\n",
      " 66%|██████▌   | 52477/79568 [2:17:09<22:32, 20.02it/s]  [08:25:02] UFFTYPER: Unrecognized charge state for atom: 17\n",
      " 66%|██████▌   | 52563/79568 [2:17:17<40:21, 11.15it/s]  [08:25:10] UFFTYPER: Unrecognized charge state for atom: 12\n",
      " 66%|██████▋   | 52729/79568 [2:17:30<42:14, 10.59it/s]"
     ]
    },
    {
     "name": "stdout",
     "output_type": "stream",
     "text": [
      "Failed to process CCCCCCCCCCCCCCCC(=O)OCC(COC(=O)CCCCCCCCCCCCCCC)OC(=O)Cc1c(C)n(C(=O)c2ccc(Cl)cc2)c2ccc(OC)cc12: 'NoneType' object has no attribute 'GetPositions'\n"
     ]
    },
    {
     "name": "stderr",
     "output_type": "stream",
     "text": [
      " 66%|██████▋   | 52746/79568 [2:17:31<23:47, 18.78it/s][08:25:23] UFFTYPER: Unrecognized charge state for atom: 24\n",
      " 67%|██████▋   | 52964/79568 [2:17:49<37:18, 11.88it/s][08:25:41] UFFTYPER: Unrecognized charge state for atom: 3\n",
      " 67%|██████▋   | 53086/79568 [2:17:58<48:17,  9.14it/s]"
     ]
    },
    {
     "name": "stdout",
     "output_type": "stream",
     "text": [
      "Failed to process c1ccc2c(NCCCCCN(CCCNc3ccnc4ccccc34)Cc3cc(OCCCNc4ccnc5ccccc45)cc(OCCCNc4ccnc5ccccc45)c3)ccnc2c1: 'NoneType' object has no attribute 'GetPositions'\n"
     ]
    },
    {
     "name": "stderr",
     "output_type": "stream",
     "text": [
      " 67%|██████▋   | 53115/79568 [2:18:01<51:33,  8.55it/s]  [08:25:54] UFFTYPER: Unrecognized charge state for atom: 34\n",
      "[08:25:54] UFFTYPER: Unrecognized atom type: Se2+2 (34)\n",
      " 67%|██████▋   | 53148/79568 [2:18:04<38:16, 11.51it/s][08:25:57] UFFTYPER: Unrecognized charge state for atom: 8\n",
      " 67%|██████▋   | 53198/79568 [2:18:07<26:03, 16.86it/s][08:26:00] UFFTYPER: Unrecognized charge state for atom: 12\n",
      " 67%|██████▋   | 53328/79568 [2:18:24<41:57, 10.42it/s]  [08:26:16] UFFTYPER: Unrecognized charge state for atom: 16\n",
      " 67%|██████▋   | 53469/79568 [2:18:41<31:14, 13.92it/s]  [08:26:34] UFFTYPER: Unrecognized charge state for atom: 7\n",
      " 68%|██████▊   | 53933/79568 [2:19:19<26:46, 15.95it/s]  [08:27:12] UFFTYPER: Unrecognized charge state for atom: 5\n",
      " 68%|██████▊   | 53945/79568 [2:19:21<50:42,  8.42it/s][08:27:13] UFFTYPER: Unrecognized charge state for atom: 6\n",
      " 68%|██████▊   | 54156/79568 [2:19:45<1:29:00,  4.76it/s]"
     ]
    },
    {
     "name": "stdout",
     "output_type": "stream",
     "text": [
      "Failed to process O=C(CCCCCN1CCCC1)Nc1ccc2c(Nc3ccc(NC(=O)CCN4CCCC4)cc3)c3ccc(NC(=O)CCCCCN4CCCC4)cc3nc2c1: 'NoneType' object has no attribute 'GetPositions'\n"
     ]
    },
    {
     "name": "stderr",
     "output_type": "stream",
     "text": [
      " 68%|██████▊   | 54302/79568 [2:20:11<54:48,  7.68it/s]  [08:28:03] UFFTYPER: Unrecognized charge state for atom: 8\n",
      "[08:28:03] UFFTYPER: Unrecognized atom type: Se2+2 (8)\n",
      " 68%|██████▊   | 54499/79568 [2:21:06<36:44, 11.37it/s]  [08:28:59] UFFTYPER: Unrecognized charge state for atom: 13\n",
      " 69%|██████▊   | 54520/79568 [2:21:08<31:49, 13.12it/s][08:29:00] UFFTYPER: Unrecognized charge state for atom: 8\n",
      " 69%|██████▊   | 54620/79568 [2:21:18<29:15, 14.21it/s]  [08:29:10] UFFTYPER: Unrecognized atom type: Se2+2 (14)\n",
      "[08:29:10] UFFTYPER: Unrecognized atom type: Se2+2 (14)\n",
      " 69%|██████▊   | 54625/79568 [2:21:18<21:01, 19.78it/s][08:29:10] UFFTYPER: Unrecognized charge state for atom: 22\n",
      " 69%|██████▉   | 54738/79568 [2:21:27<22:11, 18.65it/s][08:29:19] UFFTYPER: Unrecognized charge state for atom: 8\n",
      " 69%|██████▉   | 55084/79568 [2:21:55<36:52, 11.07it/s]  [08:29:47] UFFTYPER: Unrecognized charge state for atom: 9\n",
      " 70%|██████▉   | 55348/79568 [2:22:16<22:00, 18.34it/s][08:30:09] UFFTYPER: Unrecognized charge state for atom: 9\n",
      " 70%|██████▉   | 55593/79568 [2:22:40<38:48, 10.30it/s]  [08:30:33] UFFTYPER: Unrecognized charge state for atom: 19\n",
      " 70%|██████▉   | 55611/79568 [2:22:42<54:40,  7.30it/s]"
     ]
    },
    {
     "name": "stdout",
     "output_type": "stream",
     "text": [
      "Failed to process CCCCCCCCCCCCCCCCCCN(CCCCCCCCCCCCCCCCCC)C(=O)CNC(=O)CNCCN(CCN)CCN: 'NoneType' object has no attribute 'GetPositions'\n"
     ]
    },
    {
     "name": "stderr",
     "output_type": "stream",
     "text": [
      " 70%|███████   | 55880/79568 [2:23:03<29:29, 13.39it/s]  [08:30:56] UFFTYPER: Unrecognized charge state for atom: 9\n",
      " 71%|███████   | 56139/79568 [2:23:29<50:59,  7.66it/s]  [08:31:22] UFFTYPER: Unrecognized charge state for atom: 25\n",
      " 71%|███████   | 56289/79568 [2:23:42<39:18,  9.87it/s][08:31:34] UFFTYPER: Unrecognized atom type: Se2+2 (14)\n",
      " 71%|███████   | 56456/79568 [2:23:55<21:50, 17.64it/s][08:31:48] UFFTYPER: Unrecognized charge state for atom: 2\n",
      " 71%|███████▏  | 56742/79568 [2:24:16<37:43, 10.09it/s]"
     ]
    },
    {
     "name": "stdout",
     "output_type": "stream",
     "text": [
      "Failed to process CCC=CCC=CCC=CCCCCCCCC(=O)OC(COC(=O)CCCCCCCC=CCCCCCC)COC1OC(CO)C(O)C(O)C1O: 'NoneType' object has no attribute 'GetPositions'\n"
     ]
    },
    {
     "name": "stderr",
     "output_type": "stream",
     "text": [
      " 71%|███████▏  | 56785/79568 [2:24:20<29:38, 12.81it/s]  [08:32:12] UFFTYPER: Unrecognized charge state for atom: 14\n",
      " 71%|███████▏  | 56884/79568 [2:24:28<30:35, 12.36it/s][08:32:21] UFFTYPER: Unrecognized charge state for atom: 32\n",
      " 72%|███████▏  | 56955/79568 [2:24:34<26:40, 14.13it/s][08:32:26] UFFTYPER: Unrecognized charge state for atom: 9\n",
      " 72%|███████▏  | 57135/79568 [2:24:48<17:55, 20.85it/s][08:32:41] UFFTYPER: Unrecognized charge state for atom: 10\n",
      " 72%|███████▏  | 57162/79568 [2:24:50<22:17, 16.75it/s][08:32:42] UFFTYPER: Unrecognized charge state for atom: 1\n",
      " 72%|███████▏  | 57410/79568 [2:25:09<26:06, 14.15it/s][08:33:01] UFFTYPER: Unrecognized charge state for atom: 41\n",
      " 72%|███████▏  | 57486/79568 [2:25:19<37:58,  9.69it/s]  "
     ]
    },
    {
     "name": "stdout",
     "output_type": "stream",
     "text": [
      "Failed to process C#CCOCCOCCOCCNc1nc(N2CCN(C(=O)Cn3cc(CCO)nn3)CC2)nc(N2CCN(C(=O)C(C(C)CC)n3cc(CCCCN)nn3)CC2)n1: 'NoneType' object has no attribute 'GetPositions'\n"
     ]
    },
    {
     "name": "stderr",
     "output_type": "stream",
     "text": [
      " 72%|███████▏  | 57578/79568 [2:25:27<30:47, 11.90it/s][08:33:20] UFFTYPER: Unrecognized charge state for atom: 9\n",
      " 72%|███████▏  | 57669/79568 [2:25:34<27:02, 13.50it/s][08:33:27] UFFTYPER: Unrecognized charge state for atom: 5\n",
      " 73%|███████▎  | 57804/79568 [2:25:48<54:02,  6.71it/s]  [08:33:40] UFFTYPER: Unrecognized atom type: Se2+2 (23)\n",
      " 73%|███████▎  | 57813/79568 [2:25:49<36:22,  9.97it/s][08:33:41] UFFTYPER: Unrecognized charge state for atom: 9\n",
      " 73%|███████▎  | 57850/79568 [2:25:52<34:11, 10.58it/s][08:33:44] UFFTYPER: Unrecognized charge state for atom: 5\n",
      " 73%|███████▎  | 58259/79568 [2:26:27<29:21, 12.10it/s]  [08:34:20] UFFTYPER: Unrecognized charge state for atom: 1\n",
      " 73%|███████▎  | 58278/79568 [2:26:28<21:19, 16.64it/s][08:34:21] UFFTYPER: Unrecognized charge state for atom: 7\n",
      " 74%|███████▎  | 58637/79568 [2:26:59<29:00, 12.03it/s]  [08:34:52] UFFTYPER: Unrecognized charge state for atom: 26\n",
      " 74%|███████▎  | 58639/79568 [2:26:59<31:41, 11.00it/s][08:34:52] UFFTYPER: Unrecognized charge state for atom: 6\n",
      " 74%|███████▎  | 58647/79568 [2:27:00<20:50, 16.73it/s][08:34:52] UFFTYPER: Unrecognized charge state for atom: 2\n",
      " 74%|███████▍  | 58705/79568 [2:27:04<23:32, 14.77it/s][08:34:57] UFFTYPER: Unrecognized charge state for atom: 12\n",
      " 74%|███████▍  | 59227/79568 [2:27:46<16:27, 20.59it/s]  [08:35:39] UFFTYPER: Unrecognized charge state for atom: 28\n",
      " 75%|███████▍  | 59646/79568 [2:28:25<27:24, 12.11it/s]  "
     ]
    },
    {
     "name": "stdout",
     "output_type": "stream",
     "text": [
      "Failed to process CC(Cc1ccc2c(c1)OC(C(=O)OCCCCCc1ccccc1)(C(=O)OCCCCCc1ccccc1)O2)NCC(O)c1cccc(Cl)c1: 'NoneType' object has no attribute 'GetPositions'\n"
     ]
    },
    {
     "name": "stderr",
     "output_type": "stream",
     "text": [
      " 75%|███████▌  | 59728/79568 [2:28:32<16:52, 19.59it/s][08:36:25] UFFTYPER: Unrecognized charge state for atom: 1\n",
      " 76%|███████▌  | 60198/79568 [2:29:11<16:30, 19.55it/s]  [08:37:03] UFFTYPER: Unrecognized charge state for atom: 18\n",
      " 76%|███████▌  | 60345/79568 [2:29:23<24:49, 12.91it/s][08:37:16] UFFTYPER: Unrecognized charge state for atom: 23\n",
      " 76%|███████▌  | 60439/79568 [2:29:31<27:47, 11.47it/s][08:37:23] UFFTYPER: Unrecognized charge state for atom: 4\n",
      " 76%|███████▌  | 60517/79568 [2:29:37<26:21, 12.05it/s][08:37:29] UFFTYPER: Unrecognized charge state for atom: 19\n",
      " 77%|███████▋  | 60895/79568 [2:30:06<22:40, 13.72it/s][08:37:58] UFFTYPER: Unrecognized charge state for atom: 28\n",
      "[08:37:58] UFFTYPER: Unrecognized atom type: Se2+2 (28)\n",
      " 77%|███████▋  | 60910/79568 [2:30:07<26:35, 11.69it/s][08:37:59] UFFTYPER: Unrecognized charge state for atom: 9\n",
      " 77%|███████▋  | 61016/79568 [2:30:15<26:13, 11.79it/s][08:38:08] UFFTYPER: Unrecognized charge state for atom: 2\n",
      " 77%|███████▋  | 61453/79568 [2:30:50<41:58,  7.19it/s]"
     ]
    },
    {
     "name": "stdout",
     "output_type": "stream",
     "text": [
      "Failed to process CCCCCCCCCCCCCCCCOCCCOP(=O)(COC(CO)Cn1cnc2c(=O)[nH]c(N)nc21)OCCCOCCCCCCCCCCCCCCCC: 'NoneType' object has no attribute 'GetPositions'\n"
     ]
    },
    {
     "name": "stderr",
     "output_type": "stream",
     "text": [
      " 77%|███████▋  | 61560/79568 [2:30:59<19:45, 15.18it/s][08:38:51] UFFTYPER: Unrecognized atom type: Se2+2 (13)\n",
      " 78%|███████▊  | 62063/79568 [2:31:39<25:24, 11.48it/s][08:39:31] UFFTYPER: Unrecognized atom type: Se2+2 (6)\n",
      "[08:39:31] UFFTYPER: Unrecognized atom type: Se2+2 (6)\n",
      " 78%|███████▊  | 62091/79568 [2:31:41<22:26, 12.98it/s][08:39:33] UFFTYPER: Unrecognized charge state for atom: 35\n",
      " 78%|███████▊  | 62244/79568 [2:31:55<16:51, 17.13it/s][08:39:48] UFFTYPER: Unrecognized charge state for atom: 1\n",
      " 78%|███████▊  | 62434/79568 [2:32:09<16:25, 17.39it/s][08:40:02] UFFTYPER: Unrecognized charge state for atom: 19\n",
      " 79%|███████▉  | 62921/79568 [2:32:48<30:33,  9.08it/s]"
     ]
    },
    {
     "name": "stdout",
     "output_type": "stream",
     "text": [
      "Failed to process CCCCCCCCCCCCCCCC(=O)OCC(COC(=O)CCCCCCCCCCCCCCC)OCc1ccc(C(=O)C(C)(C)C)cc1: 'NoneType' object has no attribute 'GetPositions'\n"
     ]
    },
    {
     "name": "stderr",
     "output_type": "stream",
     "text": [
      " 79%|███████▉  | 63129/79568 [2:33:25<6:23:18,  1.40s/it]"
     ]
    },
    {
     "name": "stdout",
     "output_type": "stream",
     "text": [
      "Failed to process COC1=CC2C3=C(C(NC(C)=O)CCc4cc(OC)c(OC)c(OC)c43)C(ON2c2cccc(C)n2)C1=O: 'NoneType' object has no attribute 'GetPositions'\n"
     ]
    },
    {
     "name": "stderr",
     "output_type": "stream",
     "text": [
      " 80%|███████▉  | 63334/79568 [2:33:41<30:35,  8.85it/s]  "
     ]
    },
    {
     "name": "stdout",
     "output_type": "stream",
     "text": [
      "Failed to process CNC(=O)OCC1OC(n2cnc3c(NC(=O)Nc4ccc(OC)cc4)ncnc32)C(O[Si](C)(C)C(C)(C)C)C1O[Si](C)(C)C(C)(C)C: 'NoneType' object has no attribute 'GetPositions'\n"
     ]
    },
    {
     "name": "stderr",
     "output_type": "stream",
     "text": [
      " 80%|███████▉  | 63625/79568 [2:34:04<16:22, 16.22it/s][08:41:56] UFFTYPER: Unrecognized charge state for atom: 5\n",
      " 80%|████████  | 63892/79568 [2:34:25<19:35, 13.33it/s][08:42:17] UFFTYPER: Unrecognized charge state for atom: 17\n",
      " 80%|████████  | 64006/79568 [2:34:34<30:50,  8.41it/s]"
     ]
    },
    {
     "name": "stdout",
     "output_type": "stream",
     "text": [
      "Failed to process CCCCCCCCCCCCCCCCCCCCCC(=O)OCC(COC(=O)CCCCCCCCCCCCCCCCCCCCC)OC(=O)C=Cc1ccc(O)c(OC)c1: 'NoneType' object has no attribute 'GetPositions'\n"
     ]
    },
    {
     "name": "stderr",
     "output_type": "stream",
     "text": [
      " 80%|████████  | 64030/79568 [2:34:35<24:56, 10.38it/s]"
     ]
    },
    {
     "name": "stdout",
     "output_type": "stream",
     "text": [
      "Failed to process COc1ccc(CNC(C(=O)NC(C(=O)Nc2ccc3ncsc3c2)C(C)C)C(O)C(Cc2ccccc2)NC(=O)C(NC(=O)OCc2ccccc2)C(C)C)cc1: 'NoneType' object has no attribute 'GetPositions'\n"
     ]
    },
    {
     "name": "stderr",
     "output_type": "stream",
     "text": [
      " 81%|████████  | 64146/79568 [2:34:46<21:10, 12.14it/s]"
     ]
    },
    {
     "name": "stdout",
     "output_type": "stream",
     "text": [
      "Failed to process C#CCOCCOCCOCCNc1nc(N2CCN(C(=O)Cn3cc(CCCCN)nn3)CC2)nc(N2CCN(C(=O)C(C(C)CC)n3cc(CCCCN)nn3)CC2)n1: 'NoneType' object has no attribute 'GetPositions'\n"
     ]
    },
    {
     "name": "stderr",
     "output_type": "stream",
     "text": [
      " 81%|████████  | 64198/79568 [2:34:51<25:51,  9.91it/s][08:42:44] UFFTYPER: Unrecognized charge state for atom: 1\n",
      " 81%|████████  | 64301/79568 [2:34:59<31:37,  8.05it/s][08:42:51] UFFTYPER: Unrecognized charge state for atom: 41\n",
      " 81%|████████  | 64488/79568 [2:35:12<19:08, 13.13it/s]"
     ]
    },
    {
     "name": "stdout",
     "output_type": "stream",
     "text": [
      "Failed to process NCCCCC(NC(=O)C1CC(OC(=O)N2CCCC2)CN1C(=O)C(CCc1ccccc1)NC(=O)OCc1ccccc1)C(=O)c1nc2ccccc2o1: 'NoneType' object has no attribute 'GetPositions'\n"
     ]
    },
    {
     "name": "stderr",
     "output_type": "stream",
     "text": [
      " 81%|████████▏ | 64766/79568 [2:35:33<15:16, 16.15it/s][08:43:26] UFFTYPER: Unrecognized charge state for atom: 10\n",
      " 81%|████████▏ | 64832/79568 [2:35:38<21:58, 11.18it/s][08:43:30] UFFTYPER: Unrecognized charge state for atom: 19\n",
      " 82%|████████▏ | 65031/79568 [2:35:53<13:25, 18.05it/s][08:43:45] UFFTYPER: Unrecognized charge state for atom: 18\n",
      " 82%|████████▏ | 65152/79568 [2:36:02<18:33, 12.94it/s][08:43:55] UFFTYPER: Unrecognized charge state for atom: 1\n",
      " 82%|████████▏ | 65447/79568 [2:36:26<13:33, 17.35it/s][08:44:19] UFFTYPER: Unrecognized atom type: Se2+2 (11)\n",
      " 83%|████████▎ | 65743/79568 [2:36:50<19:01, 12.11it/s][08:44:42] UFFTYPER: Unrecognized charge state for atom: 8\n",
      " 83%|████████▎ | 65787/79568 [2:36:53<16:50, 13.63it/s][08:44:46] UFFTYPER: Unrecognized charge state for atom: 9\n",
      " 83%|████████▎ | 65869/79568 [2:37:00<14:05, 16.20it/s][08:44:52] UFFTYPER: Unrecognized charge state for atom: 1\n",
      " 83%|████████▎ | 66121/79568 [2:37:19<25:38,  8.74it/s][08:45:12] UFFTYPER: Unrecognized charge state for atom: 3\n",
      "[08:45:12] UFFTYPER: Unrecognized charge state for atom: 22\n",
      " 83%|████████▎ | 66379/79568 [2:37:43<30:38,  7.17it/s]"
     ]
    },
    {
     "name": "stdout",
     "output_type": "stream",
     "text": [
      "Failed to process CCCCCCCCCCCCCCCCCCCCCCCCCC(=O)NC(COC1OC(CO)C(O)C(O)C1O)C(F)CCCCCCCCCCCCCC: 'NoneType' object has no attribute 'GetPositions'\n"
     ]
    },
    {
     "name": "stderr",
     "output_type": "stream",
     "text": [
      " 84%|████████▎ | 66489/79568 [2:37:52<19:59, 10.90it/s][08:45:45] UFFTYPER: Warning: hybridization set to SP3 for atom 4\n",
      " 84%|████████▍ | 66680/79568 [2:38:12<28:54,  7.43it/s][08:46:04] UFFTYPER: Unrecognized charge state for atom: 21\n",
      " 84%|████████▍ | 66742/79568 [2:38:16<13:17, 16.09it/s]"
     ]
    },
    {
     "name": "stdout",
     "output_type": "stream",
     "text": [
      "Failed to process CCOC(=O)NC(=O)NC1=CS(=O)(=O)OC12C(CO[Si](C)(C)C(C)(C)C)OC(n1cc(C)c(=O)n(C)c1=O)C2O[Si](C)(C)C(C)(C)C: 'NoneType' object has no attribute 'GetPositions'\n"
     ]
    },
    {
     "name": "stderr",
     "output_type": "stream",
     "text": [
      " 84%|████████▍ | 66791/79568 [2:38:21<26:41,  7.98it/s]"
     ]
    },
    {
     "name": "stdout",
     "output_type": "stream",
     "text": [
      "Failed to process OCCCCCNCC1OC(OCCc2cc3ccccc3[nH]2)C(OCc2ccccc2)C(OCc2ccccc2)C1OCc1ccccc1: 'NoneType' object has no attribute 'GetPositions'\n"
     ]
    },
    {
     "name": "stderr",
     "output_type": "stream",
     "text": [
      " 84%|████████▍ | 67079/79568 [2:38:49<14:00, 14.86it/s][08:46:41] UFFTYPER: Unrecognized charge state for atom: 21\n",
      " 85%|████████▌ | 67740/79568 [2:39:44<14:53, 13.24it/s][08:47:36] UFFTYPER: Unrecognized charge state for atom: 7\n",
      " 85%|████████▌ | 67781/79568 [2:39:48<24:56,  7.87it/s][08:47:41] UFFTYPER: Unrecognized charge state for atom: 20\n",
      " 85%|████████▌ | 67814/79568 [2:39:50<11:43, 16.71it/s][08:47:43] UFFTYPER: Unrecognized charge state for atom: 3\n",
      " 86%|████████▌ | 68132/79568 [2:40:17<16:38, 11.45it/s][08:48:10] UFFTYPER: Warning: hybridization set to SP3 for atom 6\n",
      " 86%|████████▌ | 68279/79568 [2:40:31<15:04, 12.48it/s][08:48:23] UFFTYPER: Unrecognized charge state for atom: 6\n",
      " 86%|████████▌ | 68414/79568 [2:40:43<20:05,  9.25it/s][08:48:36] UFFTYPER: Unrecognized charge state for atom: 3\n",
      "[08:48:36] UFFTYPER: Unrecognized charge state for atom: 22\n",
      " 87%|████████▋ | 68913/79568 [2:41:27<22:13,  7.99it/s][08:49:19] UFFTYPER: Unrecognized charge state for atom: 8\n",
      " 87%|████████▋ | 69183/79568 [2:41:53<16:25, 10.54it/s]  [08:49:46] UFFTYPER: Unrecognized charge state for atom: 15\n",
      " 88%|████████▊ | 69837/79568 [2:42:48<10:38, 15.23it/s][08:50:41] UFFTYPER: Unrecognized charge state for atom: 14\n",
      " 88%|████████▊ | 69904/79568 [2:42:54<22:35,  7.13it/s]"
     ]
    },
    {
     "name": "stdout",
     "output_type": "stream",
     "text": [
      "Failed to process CCCCCCCCCCCCCCCCCCSCC(COP(=O)(O)OP(=O)(O)OCC1OC(n2ccc(N)nc2=O)C(O)C1O)OC(=O)CCCCCCCCCCCCC: 'NoneType' object has no attribute 'GetPositions'\n"
     ]
    },
    {
     "name": "stderr",
     "output_type": "stream",
     "text": [
      " 89%|████████▊ | 70505/79568 [2:43:47<12:36, 11.97it/s][08:51:40] UFFTYPER: Unrecognized atom type: S_6+6 (12)\n",
      " 89%|████████▉ | 70701/79568 [2:44:05<07:15, 20.37it/s][08:51:57] UFFTYPER: Unrecognized charge state for atom: 5\n",
      " 90%|████████▉ | 71241/79568 [2:44:51<12:26, 11.15it/s][08:52:43] UFFTYPER: Unrecognized charge state for atom: 10\n",
      " 90%|████████▉ | 71339/79568 [2:44:59<12:29, 10.98it/s][08:52:52] UFFTYPER: Unrecognized atom type: Se2+2 (0)\n",
      " 90%|████████▉ | 71417/79568 [2:45:06<15:36,  8.70it/s]"
     ]
    },
    {
     "name": "stdout",
     "output_type": "stream",
     "text": [
      "Failed to process COc1cc(C=CC(=O)OC2C(CO)OC(OCCc3ccc(O)c(O)c3)C(OC3OCC(O)C(O)C3O)C2OC2OC(CO)C(O)C(O)C2O)ccc1O: 'NoneType' object has no attribute 'GetPositions'\n"
     ]
    },
    {
     "name": "stderr",
     "output_type": "stream",
     "text": [
      " 90%|████████▉ | 71609/79568 [2:45:21<09:28, 14.00it/s][08:53:14] UFFTYPER: Unrecognized atom type: Se2+2 (3)\n",
      " 90%|█████████ | 71848/79568 [2:45:43<17:58,  7.16it/s][08:53:36] UFFTYPER: Unrecognized charge state for atom: 27\n",
      " 90%|█████████ | 71951/79568 [2:45:55<16:18,  7.79it/s][08:53:47] UFFTYPER: Unrecognized charge state for atom: 5\n",
      " 91%|█████████ | 72134/79568 [2:46:12<11:25, 10.84it/s][08:54:04] UFFTYPER: Unrecognized charge state for atom: 18\n",
      " 91%|█████████ | 72309/79568 [2:46:26<07:22, 16.41it/s][08:54:19] UFFTYPER: Unrecognized charge state for atom: 8\n",
      " 91%|█████████ | 72368/79568 [2:46:30<07:37, 15.75it/s][08:54:23] UFFTYPER: Unrecognized atom type: Se2+2 (15)\n",
      "[08:54:23] UFFTYPER: Unrecognized atom type: Se2+2 (15)\n",
      " 91%|█████████ | 72574/79568 [2:46:48<09:50, 11.84it/s][08:54:40] UFFTYPER: Unrecognized charge state for atom: 2\n",
      "[08:54:40] UFFTYPER: Unrecognized charge state for atom: 18\n",
      " 91%|█████████▏| 72655/79568 [2:46:54<09:42, 11.86it/s][08:54:47] UFFTYPER: Unrecognized charge state for atom: 17\n",
      " 92%|█████████▏| 72953/79568 [2:47:18<09:48, 11.24it/s][08:55:11] UFFTYPER: Unrecognized charge state for atom: 19\n",
      " 92%|█████████▏| 73222/79568 [2:47:41<08:41, 12.17it/s][08:55:33] UFFTYPER: Unrecognized charge state for atom: 4\n",
      "[08:55:33] UFFTYPER: Unrecognized atom type: Se5+2 (4)\n",
      " 92%|█████████▏| 73491/79568 [2:48:01<07:00, 14.45it/s][08:55:53] UFFTYPER: Warning: hybridization set to SP3 for atom 4\n",
      " 92%|█████████▏| 73538/79568 [2:48:05<09:43, 10.34it/s]"
     ]
    },
    {
     "name": "stdout",
     "output_type": "stream",
     "text": [
      "Failed to process CC(C)=CCC(CC=C(C)C)(P(=O)(OCOC(=O)C(C)(C)C)OCOC(=O)C(C)(C)C)P(=O)(OCOC(=O)C(C)(C)C)OCOC(=O)C(C)(C)C: 'NoneType' object has no attribute 'GetPositions'\n"
     ]
    },
    {
     "name": "stderr",
     "output_type": "stream",
     "text": [
      " 93%|█████████▎| 73818/79568 [2:48:26<05:41, 16.86it/s][08:56:18] UFFTYPER: Unrecognized charge state for atom: 19\n",
      " 93%|█████████▎| 74054/79568 [2:48:47<07:13, 12.71it/s]"
     ]
    },
    {
     "name": "stdout",
     "output_type": "stream",
     "text": [
      "Failed to process CNC(=O)C(NC(=O)C(OCc1ccc(-c2ccccn2)cc1)C(O)C(O)C(OCc1ccc(-c2ccccn2)cc1)C(=O)NC(C(=O)NC)C(C)C)C(C)C: 'NoneType' object has no attribute 'GetPositions'\n"
     ]
    },
    {
     "name": "stderr",
     "output_type": "stream",
     "text": [
      " 93%|█████████▎| 74064/79568 [2:48:48<07:38, 12.00it/s][08:56:41] UFFTYPER: Unrecognized charge state for atom: 1\n",
      " 93%|█████████▎| 74339/79568 [2:49:09<06:06, 14.25it/s][08:57:02] UFFTYPER: Unrecognized charge state for atom: 1\n",
      " 94%|█████████▎| 74523/79568 [2:49:22<05:36, 15.00it/s][08:57:15] UFFTYPER: Unrecognized charge state for atom: 9\n",
      " 94%|█████████▎| 74539/79568 [2:49:23<07:51, 10.66it/s]"
     ]
    },
    {
     "name": "stdout",
     "output_type": "stream",
     "text": [
      "Failed to process Cc1cccc(C)c1OCC(=O)NC(Cc1ccccc1)C(OC(=O)CCC(=O)NCCN1CCCCC1)C(=O)N1CSC(C)(C)C1C(=O)NC(C)(C)C: 'NoneType' object has no attribute 'GetPositions'\n"
     ]
    },
    {
     "name": "stderr",
     "output_type": "stream",
     "text": [
      " 94%|█████████▎| 74590/79568 [2:49:28<08:29,  9.77it/s][08:57:21] UFFTYPER: Unrecognized charge state for atom: 7\n",
      " 94%|█████████▍| 74599/79568 [2:49:29<06:07, 13.51it/s][08:57:22] UFFTYPER: Unrecognized charge state for atom: 7\n",
      " 94%|█████████▍| 74688/79568 [2:49:36<07:17, 11.15it/s]"
     ]
    },
    {
     "name": "stdout",
     "output_type": "stream",
     "text": [
      "Failed to process C=CC1CC1(NC(=O)C1CC(OC)(c2ccc(-c3ccccc3OC)cc2)CN1C(=O)C(NC(=O)OC1CCCC1)C(C)(C)C)C(=O)NS(=O)(=O)C1CC1: 'NoneType' object has no attribute 'GetPositions'\n"
     ]
    },
    {
     "name": "stderr",
     "output_type": "stream",
     "text": [
      " 94%|█████████▍| 74865/79568 [2:49:49<06:14, 12.55it/s][08:57:42] UFFTYPER: Unrecognized atom type: Se2+2 (21)\n",
      "[08:57:42] UFFTYPER: Unrecognized atom type: Se2+2 (21)\n",
      " 95%|█████████▍| 75242/79568 [2:50:18<04:59, 14.45it/s][08:58:11] UFFTYPER: Unrecognized atom type: S_5+6 (14)\n",
      " 95%|█████████▍| 75562/79568 [2:50:44<07:36,  8.77it/s][08:58:36] UFFTYPER: Unrecognized charge state for atom: 14\n",
      " 95%|█████████▍| 75565/79568 [2:50:44<05:45, 11.58it/s]"
     ]
    },
    {
     "name": "stdout",
     "output_type": "stream",
     "text": [
      "Failed to process CCCCC(NC(Cc1ccccc1)C(=O)N1CCC(OCOC)CC1)C(=O)NC(CC1CCCCC1)C(O)CC(C(=O)NCC(=O)OCc1ccccc1)C(C)C: 'NoneType' object has no attribute 'GetPositions'\n"
     ]
    },
    {
     "name": "stderr",
     "output_type": "stream",
     "text": [
      " 95%|█████████▌| 75641/79568 [2:50:50<04:13, 15.52it/s][08:58:42] UFFTYPER: Unrecognized charge state for atom: 33\n",
      " 95%|█████████▌| 75762/79568 [2:50:58<04:41, 13.50it/s][08:58:51] UFFTYPER: Unrecognized charge state for atom: 25\n",
      " 96%|█████████▌| 75988/79568 [2:51:17<05:12, 11.44it/s]"
     ]
    },
    {
     "name": "stdout",
     "output_type": "stream",
     "text": [
      "Failed to process CC(Cc1ccc2c(c1)OC(C(=O)OC(C)OC(=O)OC1CCCCC1)(C(=O)OC(C)OC(=O)OC1CCCCC1)O2)NCC(O)c1cccc(Cl)c1: 'NoneType' object has no attribute 'GetPositions'\n"
     ]
    },
    {
     "name": "stderr",
     "output_type": "stream",
     "text": [
      " 96%|█████████▌| 76584/79568 [2:52:01<03:31, 14.13it/s][08:59:54] UFFTYPER: Unrecognized charge state for atom: 1\n",
      " 97%|█████████▋| 77116/79568 [2:52:40<02:00, 20.30it/s][09:00:33] UFFTYPER: Unrecognized charge state for atom: 4\n",
      " 97%|█████████▋| 77373/79568 [2:53:02<03:18, 11.05it/s][09:00:54] UFFTYPER: Unrecognized charge state for atom: 13\n",
      " 98%|█████████▊| 78132/79568 [2:54:00<02:09, 11.09it/s][09:01:52] UFFTYPER: Unrecognized charge state for atom: 34\n",
      " 98%|█████████▊| 78336/79568 [2:54:17<01:24, 14.61it/s][09:02:10] UFFTYPER: Unrecognized charge state for atom: 10\n",
      " 98%|█████████▊| 78339/79568 [2:54:18<01:15, 16.21it/s][09:02:10] UFFTYPER: Unrecognized charge state for atom: 1\n",
      " 98%|█████████▊| 78361/79568 [2:54:19<01:21, 14.78it/s][09:02:11] UFFTYPER: Unrecognized charge state for atom: 16\n",
      " 99%|█████████▊| 78496/79568 [2:54:28<01:17, 13.85it/s][09:02:20] UFFTYPER: Unrecognized atom type: Se2+2 (13)\n",
      "[09:02:20] UFFTYPER: Unrecognized atom type: Se2+2 (13)\n",
      " 99%|█████████▊| 78572/79568 [2:54:33<00:46, 21.62it/s][09:02:26] UFFTYPER: Unrecognized atom type: Se2+2 (3)\n",
      " 99%|█████████▉| 78859/79568 [2:54:56<00:43, 16.28it/s][09:02:49] UFFTYPER: Unrecognized charge state for atom: 11\n",
      " 99%|█████████▉| 78927/79568 [2:55:02<00:47, 13.42it/s][09:02:54] UFFTYPER: Unrecognized charge state for atom: 9\n",
      " 99%|█████████▉| 78932/79568 [2:55:02<00:43, 14.48it/s][09:02:55] UFFTYPER: Unrecognized charge state for atom: 8\n",
      " 99%|█████████▉| 79133/79568 [2:55:19<01:05,  6.62it/s][09:03:12] UFFTYPER: Unrecognized charge state for atom: 1\n",
      " 99%|█████████▉| 79156/79568 [2:55:22<00:56,  7.25it/s][09:03:14] UFFTYPER: Unrecognized charge state for atom: 8\n",
      "100%|█████████▉| 79219/79568 [2:55:27<00:32, 10.81it/s]"
     ]
    },
    {
     "name": "stdout",
     "output_type": "stream",
     "text": [
      "Failed to process CCCCCCCCCCNC(=O)CCC(NC(=O)c1ccc(N(C)Cc2cnc3nc(N)nc(N)c3n2)cc1)C(=O)NCCCCCCCCCC: 'NoneType' object has no attribute 'GetPositions'\n"
     ]
    },
    {
     "name": "stderr",
     "output_type": "stream",
     "text": [
      "100%|██████████| 79568/79568 [2:55:57<00:00,  7.54it/s]\n",
      "  0%|          | 63/238706 [00:05<4:11:08, 15.84it/s] [09:03:58] UFFTYPER: Unrecognized charge state for atom: 3\n",
      "  0%|          | 167/238706 [00:13<5:07:18, 12.94it/s]"
     ]
    },
    {
     "name": "stdout",
     "output_type": "stream",
     "text": [
      "Failed to process CCCCCCCCCCCC[N+](C)(CCCCCCCCCCCC)Cc1cc(OC)c2c(c1)C(=O)c1cc(OC)cc(OC)c1C2=O: 'NoneType' object has no attribute 'GetPositions'\n"
     ]
    },
    {
     "name": "stderr",
     "output_type": "stream",
     "text": [
      "  0%|          | 261/238706 [00:22<9:40:13,  6.85it/s] "
     ]
    },
    {
     "name": "stdout",
     "output_type": "stream",
     "text": [
      "Failed to process CCCCCCCCCCCCCCCOC(CNC(=O)CCCCCCCCCCC)COP(=O)([O-])OCC[N+](C)(C)C: 'NoneType' object has no attribute 'GetPositions'\n"
     ]
    },
    {
     "name": "stderr",
     "output_type": "stream",
     "text": [
      "  0%|          | 313/238706 [00:25<5:31:21, 11.99it/s][09:04:19] UFFTYPER: Unrecognized charge state for atom: 1\n",
      "  0%|          | 383/238706 [00:32<4:58:47, 13.29it/s][09:04:25] UFFTYPER: Unrecognized charge state for atom: 28\n",
      "  0%|          | 496/238706 [00:42<7:11:36,  9.20it/s] [09:04:35] UFFTYPER: Unrecognized charge state for atom: 28\n",
      "  0%|          | 693/238706 [00:57<5:35:40, 11.82it/s][09:04:50] UFFTYPER: Unrecognized charge state for atom: 27\n",
      "  0%|          | 734/238706 [01:01<6:37:18,  9.98it/s][09:04:54] UFFTYPER: Unrecognized charge state for atom: 12\n",
      "  0%|          | 879/238706 [01:11<4:11:17, 15.77it/s][09:05:05] UFFTYPER: Warning: hybridization set to SP3 for atom 7\n",
      "  0%|          | 977/238706 [01:19<6:01:54, 10.95it/s][09:05:13] UFFTYPER: Unrecognized charge state for atom: 1\n",
      "  0%|          | 1032/238706 [01:24<6:01:25, 10.96it/s]"
     ]
    },
    {
     "name": "stdout",
     "output_type": "stream",
     "text": [
      "Failed to process CCCCCC=CCC=CCCCCCCCCCC(=O)NC(COC1OC(C)C(O)C(O)C1O)C(O)C(O)CCCCCCCCCCCCCC: 'NoneType' object has no attribute 'GetPositions'\n"
     ]
    },
    {
     "name": "stderr",
     "output_type": "stream",
     "text": [
      "  0%|          | 1066/238706 [01:27<4:06:41, 16.05it/s][09:05:20] UFFTYPER: Unrecognized charge state for atom: 5\n",
      "  0%|          | 1112/238706 [01:31<3:43:38, 17.71it/s][09:05:24] UFFTYPER: Unrecognized charge state for atom: 9\n",
      "  0%|          | 1153/238706 [01:34<6:11:51, 10.65it/s][09:05:27] UFFTYPER: Unrecognized charge state for atom: 9\n",
      "  1%|          | 1410/238706 [01:53<4:42:56, 13.98it/s][09:05:46] UFFTYPER: Unrecognized charge state for atom: 7\n",
      "  1%|          | 1915/238706 [02:33<4:50:58, 13.56it/s] [09:06:27] UFFTYPER: Unrecognized charge state for atom: 1\n",
      "  1%|          | 1953/238706 [02:37<3:14:40, 20.27it/s] [09:06:30] UFFTYPER: Unrecognized charge state for atom: 8\n",
      "  1%|          | 1977/238706 [02:39<8:09:04,  8.07it/s]"
     ]
    },
    {
     "name": "stdout",
     "output_type": "stream",
     "text": [
      "Failed to process CCCCCCCCC=CCCCCCCCC(=O)OC(NC(=O)C(CCCNCCCN)NCCCN)OC(=O)CCCCCCCC=CCCCCCCCC: 'NoneType' object has no attribute 'GetPositions'\n"
     ]
    },
    {
     "name": "stderr",
     "output_type": "stream",
     "text": [
      "  1%|          | 2317/238706 [03:06<5:55:49, 11.07it/s] "
     ]
    },
    {
     "name": "stdout",
     "output_type": "stream",
     "text": [
      "Failed to process CCOC(=O)C(C)NC(=O)OC(C)CNc1nc(NCc2ccc(OC)c(OC)c2)c2nc(NCC(C)O)nc(NCc3ccc(OC)c(OC)c3)c2n1: 'NoneType' object has no attribute 'GetPositions'\n"
     ]
    },
    {
     "name": "stderr",
     "output_type": "stream",
     "text": [
      "  1%|          | 2390/238706 [04:13<479:11:10,  7.30s/it]"
     ]
    },
    {
     "name": "stdout",
     "output_type": "stream",
     "text": [
      "Failed to process O=C1C=CCCc2ccc(OC3OC(CO)C(O)C(O)C3O)c(c2)-c2cc(ccc2OC2OCC(O)C(O)C2O)CC1: 'NoneType' object has no attribute 'GetPositions'\n"
     ]
    },
    {
     "name": "stderr",
     "output_type": "stream",
     "text": [
      "  1%|          | 2623/238706 [04:30<4:12:51, 15.56it/s]  [09:08:23] UFFTYPER: Unrecognized charge state for atom: 7\n",
      "  1%|          | 2680/238706 [05:12<222:46:48,  3.40s/it]"
     ]
    },
    {
     "name": "stdout",
     "output_type": "stream",
     "text": [
      "Failed to process COc1c2cc(c(O)c1OC)CCCCC(OS(=O)(=O)O)CCc1ccc(O)c-2c1: 'NoneType' object has no attribute 'GetPositions'\n"
     ]
    },
    {
     "name": "stderr",
     "output_type": "stream",
     "text": [
      "  1%|          | 2785/238706 [05:20<5:51:16, 11.19it/s]  "
     ]
    },
    {
     "name": "stdout",
     "output_type": "stream",
     "text": [
      "Failed to process C=NOCCCCCn1cncc1CC(NC(=O)C(CC(C)C)NC(=O)C1CCCN1C(C)=O)C(=O)NC(CO)C(=O)NC(C(N)=O)C(C)OP(=O)(O)O: 'NoneType' object has no attribute 'GetPositions'\n"
     ]
    },
    {
     "name": "stderr",
     "output_type": "stream",
     "text": [
      "  1%|▏         | 3019/238706 [05:38<6:21:14, 10.30it/s][09:09:32] UFFTYPER: Unrecognized charge state for atom: 33\n",
      "  2%|▏         | 3822/238706 [07:09<4:53:17, 13.35it/s]  [09:11:02] UFFTYPER: Unrecognized charge state for atom: 8\n",
      "  2%|▏         | 3920/238706 [07:17<3:23:32, 19.23it/s][09:11:10] UFFTYPER: Unrecognized charge state for atom: 1\n",
      "  2%|▏         | 4054/238706 [07:28<7:00:17,  9.31it/s][09:11:21] UFFTYPER: Unrecognized charge state for atom: 3\n",
      "  2%|▏         | 4340/238706 [07:53<6:06:57, 10.64it/s] [09:11:46] UFFTYPER: Unrecognized charge state for atom: 22\n",
      "  2%|▏         | 4782/238706 [08:30<5:11:13, 12.53it/s] [09:12:23] UFFTYPER: Unrecognized charge state for atom: 27\n",
      "[09:12:23] UFFTYPER: Unrecognized atom type: Se2+2 (27)\n",
      "  2%|▏         | 4848/238706 [08:36<11:09:37,  5.82it/s]"
     ]
    },
    {
     "name": "stdout",
     "output_type": "stream",
     "text": [
      "Failed to process C#CCOCCOCCOCCNc1nc(N2CCN(C(=O)Cn3cc(CCCN=C(N)N)nn3)CC2)nc(N2CCN(C(=O)C(CCCCN)n3cc(CCCC)nn3)CC2)n1: 'NoneType' object has no attribute 'GetPositions'\n"
     ]
    },
    {
     "name": "stderr",
     "output_type": "stream",
     "text": [
      "  2%|▏         | 4932/238706 [08:43<4:42:14, 13.80it/s] [09:12:36] UFFTYPER: Unrecognized charge state for atom: 8\n",
      "  2%|▏         | 5180/238706 [09:11<5:48:43, 11.16it/s] [09:13:04] UFFTYPER: Unrecognized charge state for atom: 4\n",
      "  2%|▏         | 5388/238706 [09:31<4:37:35, 14.01it/s] [09:13:24] UFFTYPER: Unrecognized charge state for atom: 8\n",
      "  2%|▏         | 5588/238706 [09:47<5:08:14, 12.60it/s][09:13:40] UFFTYPER: Unrecognized charge state for atom: 1\n",
      "  2%|▏         | 5652/238706 [09:53<7:00:35,  9.24it/s] "
     ]
    },
    {
     "name": "stdout",
     "output_type": "stream",
     "text": [
      "Failed to process CCCCCCCCCC(=O)Oc1ccc(COP(=O)(OCc2ccc(OC(=O)CCCC)cc2)OP(=O)(O)OCC2C=CC(n3cc(C)c(=O)[nH]c3=O)O2)cc1: 'NoneType' object has no attribute 'GetPositions'\n"
     ]
    },
    {
     "name": "stderr",
     "output_type": "stream",
     "text": [
      "  2%|▏         | 5793/238706 [10:05<5:01:59, 12.85it/s] [09:13:58] UFFTYPER: Unrecognized charge state for atom: 3\n",
      "  3%|▎         | 6144/238706 [10:33<4:48:01, 13.46it/s] [09:14:26] UFFTYPER: Unrecognized charge state for atom: 9\n",
      "  3%|▎         | 6294/238706 [10:45<3:39:56, 17.61it/s][09:14:38] UFFTYPER: Unrecognized charge state for atom: 8\n",
      "  3%|▎         | 6386/238706 [10:52<4:01:32, 16.03it/s][09:14:45] UFFTYPER: Unrecognized charge state for atom: 11\n",
      "  3%|▎         | 6399/238706 [10:53<4:28:07, 14.44it/s][09:14:46] UFFTYPER: Unrecognized charge state for atom: 1\n",
      "  3%|▎         | 6607/238706 [11:10<3:23:32, 19.00it/s] [09:15:03] UFFTYPER: Unrecognized charge state for atom: 22\n",
      "  3%|▎         | 6870/238706 [11:32<6:12:33, 10.37it/s] "
     ]
    },
    {
     "name": "stdout",
     "output_type": "stream",
     "text": [
      "Failed to process CCCCCCCCCCCCCCCC(=O)NCCN(CC1OC2OC(C)(C)OC2C2OC(C)(C)OC12)C(=O)CCCCCCCCCCCCCCC: 'NoneType' object has no attribute 'GetPositions'\n"
     ]
    },
    {
     "name": "stderr",
     "output_type": "stream",
     "text": [
      "  3%|▎         | 7209/238706 [12:00<6:37:15,  9.71it/s][09:15:53] UFFTYPER: Unrecognized charge state for atom: 10\n",
      "  3%|▎         | 7254/238706 [12:04<8:40:43,  7.41it/s] "
     ]
    },
    {
     "name": "stdout",
     "output_type": "stream",
     "text": [
      "Failed to process CCCCCCCCCCCC(O)CC(=O)NC(CC(=O)OC1OC(CO)C(O)C(OC(=O)CC(O)CCCCCCCCCCC)C1NC(=O)CC(O)CCCCCCCCCCC)C(=O)O: 'NoneType' object has no attribute 'GetPositions'\n"
     ]
    },
    {
     "name": "stderr",
     "output_type": "stream",
     "text": [
      "  3%|▎         | 7266/238706 [12:05<4:33:25, 14.11it/s][09:15:58] UFFTYPER: Unrecognized atom type: Se2+2 (13)\n",
      "[09:15:58] UFFTYPER: Unrecognized atom type: Se2+2 (13)\n",
      "  3%|▎         | 7321/238706 [12:09<3:59:07, 16.13it/s][09:16:02] UFFTYPER: Unrecognized charge state for atom: 10\n",
      "  3%|▎         | 7448/238706 [12:19<6:45:23,  9.51it/s] [09:16:12] UFFTYPER: Unrecognized charge state for atom: 30\n",
      "  3%|▎         | 7476/238706 [12:21<3:17:49, 19.48it/s][09:16:14] UFFTYPER: Unrecognized charge state for atom: 15\n",
      "  3%|▎         | 7741/238706 [12:44<4:56:27, 12.98it/s] [09:16:37] UFFTYPER: Unrecognized charge state for atom: 7\n",
      "  3%|▎         | 7770/238706 [12:47<6:41:02,  9.60it/s] "
     ]
    },
    {
     "name": "stdout",
     "output_type": "stream",
     "text": [
      "Failed to process O=C(CCc1ccccc1)NNC(=O)C(OCC=Cc1ccc2c(c1)OCO2)C(O)C(O)C(OCC=Cc1ccc2c(c1)OCO2)C(=O)NC1c2ccccc2CC1O: 'NoneType' object has no attribute 'GetPositions'\n"
     ]
    },
    {
     "name": "stderr",
     "output_type": "stream",
     "text": [
      "  3%|▎         | 7874/238706 [12:56<5:19:32, 12.04it/s] [09:16:49] UFFTYPER: Unrecognized charge state for atom: 16\n",
      "  3%|▎         | 8097/238706 [13:14<5:16:24, 12.15it/s] "
     ]
    },
    {
     "name": "stdout",
     "output_type": "stream",
     "text": [
      "Failed to process CC(C)CC(CC(=O)C(Cc1ccc(OCC(=O)O)cc1)NC(=O)C(CCC(=O)OCc1ccccc1)NC(=O)CCc1c2ccccc2cc2ccccc12)C(N)=O: 'NoneType' object has no attribute 'GetPositions'\n"
     ]
    },
    {
     "name": "stderr",
     "output_type": "stream",
     "text": [
      "  3%|▎         | 8241/238706 [13:28<6:52:12,  9.32it/s] [09:17:21] UFFTYPER: Unrecognized charge state for atom: 4\n",
      "[09:17:21] UFFTYPER: Unrecognized charge state for atom: 18\n",
      "  4%|▎         | 8394/238706 [13:40<4:54:32, 13.03it/s] [09:17:33] UFFTYPER: Unrecognized charge state for atom: 4\n",
      "  4%|▎         | 8438/238706 [13:42<4:38:38, 13.77it/s]"
     ]
    },
    {
     "name": "stdout",
     "output_type": "stream",
     "text": [
      "Failed to process Cc1cccc(C)c1OCC(=O)NC(Cc1ccccc1)C(OC(=O)CCC(=O)NCc1ccncc1)C(=O)N1CSC(C)(C)C1C(=O)NC(C)(C)C: 'NoneType' object has no attribute 'GetPositions'\n"
     ]
    },
    {
     "name": "stderr",
     "output_type": "stream",
     "text": [
      "  4%|▍         | 8963/238706 [14:22<6:09:09, 10.37it/s][09:18:15] UFFTYPER: Unrecognized charge state for atom: 7\n",
      "[09:18:15] UFFTYPER: Unrecognized charge state for atom: 34\n",
      "  4%|▍         | 9032/238706 [14:27<4:52:12, 13.10it/s][09:18:20] UFFTYPER: Warning: hybridization set to SP3 for atom 19\n",
      "  4%|▍         | 9058/238706 [14:29<4:20:31, 14.69it/s][09:18:24] UFFTYPER: Unrecognized charge state for atom: 13\n",
      "  4%|▍         | 9264/238706 [14:48<8:28:43,  7.52it/s] [09:18:41] UFFTYPER: Unrecognized charge state for atom: 9\n",
      "  4%|▍         | 9280/238706 [14:49<3:58:28, 16.03it/s][09:18:42] UFFTYPER: Unrecognized atom type: S_6+6 (1)\n",
      "  4%|▍         | 10410/238706 [16:26<5:08:42, 12.33it/s] [09:20:19] UFFTYPER: Unrecognized charge state for atom: 18\n",
      "  4%|▍         | 10427/238706 [16:27<3:48:28, 16.65it/s][09:20:20] UFFTYPER: Unrecognized charge state for atom: 7\n",
      "  4%|▍         | 10500/238706 [16:33<3:43:27, 17.02it/s]"
     ]
    },
    {
     "name": "stdout",
     "output_type": "stream",
     "text": [
      "Failed to process CCCCCCCOC1C(OCc2ccc(OC)cc2)C(CO)OC(OCc2ccccc2)C1OCc1ccccc1: 'NoneType' object has no attribute 'GetPositions'\n"
     ]
    },
    {
     "name": "stderr",
     "output_type": "stream",
     "text": [
      "  4%|▍         | 10557/238706 [16:38<4:42:19, 13.47it/s][09:20:31] UFFTYPER: Unrecognized atom type: Se2+2 (9)\n",
      "[09:20:31] UFFTYPER: Unrecognized atom type: Se2+2 (9)\n",
      "  5%|▍         | 10877/238706 [17:03<4:05:29, 15.47it/s][09:20:56] UFFTYPER: Unrecognized charge state for atom: 4\n",
      "[09:20:56] UFFTYPER: Unrecognized charge state for atom: 13\n",
      "  5%|▍         | 10915/238706 [17:06<5:32:25, 11.42it/s]"
     ]
    },
    {
     "name": "stdout",
     "output_type": "stream",
     "text": [
      "Failed to process CCCCCCCCCCCC(=O)OCC1OC(n2cc(F)c(=O)[nH]c2=O)C(NC(=O)OCc2ccccc2)C(OC(=O)CCCCCCCCCCC)C1O: 'NoneType' object has no attribute 'GetPositions'\n"
     ]
    },
    {
     "name": "stderr",
     "output_type": "stream",
     "text": [
      "  5%|▍         | 10927/238706 [17:07<5:14:27, 12.07it/s][09:21:00] UFFTYPER: Unrecognized charge state for atom: 4\n",
      "[09:21:00] UFFTYPER: Unrecognized atom type: Se5+2 (4)\n",
      "  5%|▍         | 11491/238706 [17:53<5:38:58, 11.17it/s][09:21:46] UFFTYPER: Unrecognized charge state for atom: 17\n",
      "  5%|▍         | 11762/238706 [18:15<5:44:20, 10.98it/s]"
     ]
    },
    {
     "name": "stdout",
     "output_type": "stream",
     "text": [
      "Failed to process CC(=O)OCC1OC(OCCc2ccc(O)c(O)c2)C(OC2OCC(O)(CO)C2O)C(OC2OC(C)C(O)C(O)C2O)C1OC(=O)C=Cc1ccc(O)c(O)c1: 'NoneType' object has no attribute 'GetPositions'\n"
     ]
    },
    {
     "name": "stderr",
     "output_type": "stream",
     "text": [
      "  5%|▌         | 12068/238706 [18:41<5:12:22, 12.09it/s] [09:22:35] UFFTYPER: Unrecognized charge state for atom: 13\n",
      "  5%|▌         | 12355/238706 [19:02<4:22:20, 14.38it/s][09:22:55] UFFTYPER: Unrecognized charge state for atom: 14\n",
      "  5%|▌         | 12382/238706 [19:05<6:01:06, 10.45it/s]"
     ]
    },
    {
     "name": "stdout",
     "output_type": "stream",
     "text": [
      "Failed to process CCCCN(CCCC)C(=O)OCC1CN(C(=O)c2cc(OC)c(OC)c(OC)c2)CCN1C(=O)c1cc(OC)c(OC)c(OC)c1: 'NoneType' object has no attribute 'GetPositions'\n"
     ]
    },
    {
     "name": "stderr",
     "output_type": "stream",
     "text": [
      "  5%|▌         | 12542/238706 [19:17<5:22:27, 11.69it/s][09:23:10] UFFTYPER: Unrecognized charge state for atom: 6\n",
      "  5%|▌         | 12721/238706 [19:31<4:11:18, 14.99it/s][09:23:24] UFFTYPER: Unrecognized atom type: Se2+2 (8)\n",
      "  5%|▌         | 12803/238706 [19:38<7:17:23,  8.61it/s]"
     ]
    },
    {
     "name": "stdout",
     "output_type": "stream",
     "text": [
      "Failed to process CCCCCCCCCCCCCC=CC(O)C(COC1OC(CO)C(OS(=O)(=O)O)C(O)C1O)NC(=O)CCCCCCCCCCCCCCC: 'NoneType' object has no attribute 'GetPositions'\n"
     ]
    },
    {
     "name": "stderr",
     "output_type": "stream",
     "text": [
      "  6%|▌         | 13499/238706 [20:32<4:03:48, 15.40it/s] [09:24:26] UFFTYPER: Unrecognized atom type: Se2+2 (12)\n",
      "[09:24:26] UFFTYPER: Unrecognized atom type: Se2+2 (12)\n",
      "  6%|▌         | 13722/238706 [20:49<4:00:47, 15.57it/s][09:24:42] UFFTYPER: Unrecognized charge state for atom: 16\n",
      "  6%|▌         | 13947/238706 [21:08<3:43:37, 16.75it/s] [09:25:02] UFFTYPER: Unrecognized charge state for atom: 17\n",
      "  6%|▌         | 14150/238706 [21:26<4:58:48, 12.52it/s] [09:25:19] UFFTYPER: Unrecognized charge state for atom: 8\n",
      "  6%|▌         | 14216/238706 [21:31<5:01:28, 12.41it/s][09:25:24] UFFTYPER: Unrecognized charge state for atom: 7\n",
      "  6%|▌         | 14596/238706 [22:00<6:02:14, 10.31it/s] [09:25:53] UFFTYPER: Unrecognized charge state for atom: 5\n",
      "  6%|▌         | 14641/238706 [22:03<4:31:02, 13.78it/s][09:25:56] UFFTYPER: Unrecognized charge state for atom: 7\n",
      "  6%|▌         | 14662/238706 [22:05<3:57:13, 15.74it/s][09:25:58] UFFTYPER: Unrecognized charge state for atom: 9\n",
      "  6%|▌         | 14778/238706 [22:13<4:16:27, 14.55it/s][09:26:07] UFFTYPER: Unrecognized charge state for atom: 6\n",
      "  6%|▋         | 15145/238706 [22:44<4:56:38, 12.56it/s] [09:26:38] UFFTYPER: Unrecognized charge state for atom: 8\n",
      "  6%|▋         | 15191/238706 [22:48<6:41:55,  9.27it/s]"
     ]
    },
    {
     "name": "stdout",
     "output_type": "stream",
     "text": [
      "Failed to process CCCCCCCCCCCCCC=CC(O)C(COC1CC(OS(=O)(=O)O)C(O)C(CO)O1)NC(=O)CCCCCCCCCCCCCCC: 'NoneType' object has no attribute 'GetPositions'\n"
     ]
    },
    {
     "name": "stderr",
     "output_type": "stream",
     "text": [
      "  6%|▋         | 15205/238706 [22:49<4:22:31, 14.19it/s][09:26:43] UFFTYPER: Unrecognized charge state for atom: 25\n",
      "  6%|▋         | 15349/238706 [23:03<7:56:07,  7.82it/s] [09:26:56] UFFTYPER: Unrecognized charge state for atom: 6\n",
      "  6%|▋         | 15376/238706 [23:05<4:31:32, 13.71it/s][09:26:58] UFFTYPER: Unrecognized charge state for atom: 11\n",
      "  7%|▋         | 15593/238706 [23:23<5:16:52, 11.74it/s][09:27:16] UFFTYPER: Unrecognized charge state for atom: 8\n",
      "  7%|▋         | 15715/238706 [23:32<3:48:34, 16.26it/s] [09:27:25] UFFTYPER: Unrecognized charge state for atom: 14\n",
      "  7%|▋         | 15796/238706 [23:38<3:57:51, 15.62it/s][09:27:31] UFFTYPER: Unrecognized charge state for atom: 3\n",
      "  7%|▋         | 16000/238706 [23:54<3:51:50, 16.01it/s][09:27:47] UFFTYPER: Unrecognized charge state for atom: 1\n",
      "  7%|▋         | 16427/238706 [24:30<3:54:10, 15.82it/s] [09:28:23] UFFTYPER: Unrecognized charge state for atom: 1\n",
      "  7%|▋         | 16685/238706 [24:57<7:50:20,  7.87it/s] [09:28:50] UFFTYPER: Unrecognized charge state for atom: 7\n",
      "  7%|▋         | 16756/238706 [25:03<5:36:37, 10.99it/s]"
     ]
    },
    {
     "name": "stdout",
     "output_type": "stream",
     "text": [
      "Failed to process CNC(=O)C(NC(=O)C(OCc1ccc(-c2ccsc2)cc1)C(O)C(O)C(OCc1ccc(-c2ccsc2)cc1)C(=O)NC(C(=O)NC)C(C)C)C(C)C: 'NoneType' object has no attribute 'GetPositions'\n"
     ]
    },
    {
     "name": "stderr",
     "output_type": "stream",
     "text": [
      "  7%|▋         | 17324/238706 [25:48<3:54:05, 15.76it/s] [09:29:41] UFFTYPER: Unrecognized charge state for atom: 11\n",
      "  7%|▋         | 17581/238706 [26:10<5:50:44, 10.51it/s]"
     ]
    },
    {
     "name": "stdout",
     "output_type": "stream",
     "text": [
      "Failed to process COC(=O)NC(C(=O)NC(Cc1ccc(-c2ccc(N(C)C)nc2)cc1)C(O)CC(Cc1ccccc1F)C(=O)NC1C(C)CCCC1O)C(C)(C)C: 'NoneType' object has no attribute 'GetPositions'\n"
     ]
    },
    {
     "name": "stderr",
     "output_type": "stream",
     "text": [
      "  7%|▋         | 17761/238706 [26:23<5:07:33, 11.97it/s][09:30:17] UFFTYPER: Unrecognized charge state for atom: 17\n",
      "  7%|▋         | 17837/238706 [26:29<4:29:12, 13.67it/s][09:30:22] UFFTYPER: Unrecognized charge state for atom: 14\n",
      "  8%|▊         | 18042/238706 [26:43<3:32:07, 17.34it/s]"
     ]
    },
    {
     "name": "stdout",
     "output_type": "stream",
     "text": [
      "Failed to process CC(=O)OCC12C(OC(=O)c3ccccc3)CC3C(OC(=O)c4ccccc4)C1(OC3(C)C)C(C)CC(OC(=O)c1ccccc1)C2OC(C)=O: 'NoneType' object has no attribute 'GetPositions'\n"
     ]
    },
    {
     "name": "stderr",
     "output_type": "stream",
     "text": [
      "  8%|▊         | 18061/238706 [26:45<5:06:45, 11.99it/s][09:30:38] UFFTYPER: Unrecognized charge state for atom: 6\n",
      "  8%|▊         | 18462/238706 [27:19<4:45:07, 12.87it/s] [09:31:13] UFFTYPER: Unrecognized charge state for atom: 7\n",
      "  8%|▊         | 18483/238706 [27:21<4:30:48, 13.55it/s][09:31:14] UFFTYPER: Unrecognized charge state for atom: 1\n",
      "  8%|▊         | 18558/238706 [27:26<3:47:52, 16.10it/s][09:31:19] UFFTYPER: Unrecognized atom type: Se2+2 (31)\n",
      "  8%|▊         | 18588/238706 [27:29<3:16:29, 18.67it/s][09:31:22] UFFTYPER: Unrecognized charge state for atom: 10\n",
      "  8%|▊         | 18618/238706 [27:31<3:42:56, 16.45it/s][09:31:24] UFFTYPER: Unrecognized charge state for atom: 14\n",
      "  8%|▊         | 19571/238706 [28:56<4:59:15, 12.20it/s] [09:32:49] UFFTYPER: Unrecognized charge state for atom: 1\n",
      "  8%|▊         | 19628/238706 [28:59<3:32:01, 17.22it/s][09:32:53] UFFTYPER: Unrecognized charge state for atom: 16\n",
      "  8%|▊         | 19679/238706 [29:03<3:48:24, 15.98it/s][09:32:56] UFFTYPER: Unrecognized charge state for atom: 1\n",
      "  8%|▊         | 19901/238706 [29:20<5:42:04, 10.66it/s][09:33:13] UFFTYPER: Unrecognized atom type: Se2+2 (17)\n",
      "  8%|▊         | 20056/238706 [29:31<4:23:36, 13.82it/s][09:33:24] UFFTYPER: Unrecognized atom type: Se2+2 (8)\n",
      "  8%|▊         | 20164/238706 [29:39<4:05:24, 14.84it/s][09:33:32] UFFTYPER: Unrecognized charge state for atom: 11\n",
      "  9%|▊         | 20355/238706 [29:55<5:50:08, 10.39it/s] "
     ]
    },
    {
     "name": "stdout",
     "output_type": "stream",
     "text": [
      "Failed to process NCCCCCCNCC1C(OCc2ccccc2)C(OCc2ccccc2)C(O)CN1CCc1c[nH]c2ccccc12: 'NoneType' object has no attribute 'GetPositions'\n"
     ]
    },
    {
     "name": "stderr",
     "output_type": "stream",
     "text": [
      "  9%|▊         | 20387/238706 [29:57<4:38:26, 13.07it/s][09:33:50] UFFTYPER: Unrecognized charge state for atom: 14\n",
      "  9%|▊         | 20510/238706 [30:07<5:23:45, 11.23it/s]"
     ]
    },
    {
     "name": "stdout",
     "output_type": "stream",
     "text": [
      "Failed to process CCCCCCCOc1c(C(=O)NN=Cc2ccc3c(c2)c2ccccc2n3CC)sc(C(=O)NN=Cc2ccc3c(c2)c2ccccc2n3CC)c1OCCCCCCC: 'NoneType' object has no attribute 'GetPositions'\n"
     ]
    },
    {
     "name": "stderr",
     "output_type": "stream",
     "text": [
      "  9%|▉         | 20891/238706 [30:38<4:12:27, 14.38it/s] [09:34:31] UFFTYPER: Unrecognized charge state for atom: 10\n",
      "  9%|▉         | 21008/238706 [30:49<6:18:12,  9.59it/s] [09:34:42] UFFTYPER: Unrecognized charge state for atom: 10\n",
      "  9%|▉         | 21021/238706 [30:49<3:49:34, 15.80it/s][09:34:43] UFFTYPER: Unrecognized charge state for atom: 29\n",
      "  9%|▉         | 21136/238706 [30:58<5:37:32, 10.74it/s][09:34:51] UFFTYPER: Unrecognized atom type: Se2+2 (27)\n",
      "[09:34:51] UFFTYPER: Unrecognized atom type: Se2+2 (27)\n",
      "  9%|▉         | 21168/238706 [31:01<5:44:48, 10.51it/s][09:34:54] UFFTYPER: Unrecognized atom type: Se2+2 (30)\n",
      "  9%|▉         | 21311/238706 [31:12<3:54:55, 15.42it/s][09:35:05] UFFTYPER: Unrecognized charge state for atom: 15\n",
      "  9%|▉         | 21709/238706 [31:47<5:20:16, 11.29it/s] [09:35:40] UFFTYPER: Unrecognized charge state for atom: 10\n",
      "  9%|▉         | 22241/238706 [32:27<3:39:31, 16.43it/s]"
     ]
    },
    {
     "name": "stdout",
     "output_type": "stream",
     "text": [
      "Failed to process O=C(Oc1cccc(CN2C(=O)N(Cc3cccc(OC(=O)c4ccccc4)c3)C(C(F)Cc3ccccc3)C2C(F)Cc2ccccc2)c1)c1ccccc1: 'NoneType' object has no attribute 'GetPositions'\n"
     ]
    },
    {
     "name": "stderr",
     "output_type": "stream",
     "text": [
      "  9%|▉         | 22291/238706 [32:32<6:49:23,  8.81it/s][09:36:25] UFFTYPER: Unrecognized charge state for atom: 18\n",
      " 10%|▉         | 22724/238706 [33:05<10:30:44,  5.71it/s]"
     ]
    },
    {
     "name": "stdout",
     "output_type": "stream",
     "text": [
      "Failed to process Cc1ccccc1NC(=O)NCCCCC(CNC(=O)C(C)(Cc1c[nH]c2ccccc12)NC(=O)OC1C2CC3CC(C2)CC1C3)NC(=O)CCC(=O)O: 'NoneType' object has no attribute 'GetPositions'\n"
     ]
    },
    {
     "name": "stderr",
     "output_type": "stream",
     "text": [
      " 10%|▉         | 22782/238706 [33:09<3:50:41, 15.60it/s] [09:37:02] UFFTYPER: Unrecognized charge state for atom: 13\n",
      " 10%|▉         | 22995/238706 [33:27<4:50:04, 12.39it/s] [09:37:21] UFFTYPER: Unrecognized charge state for atom: 11\n",
      " 10%|▉         | 23099/238706 [33:35<4:20:59, 13.77it/s][09:37:28] UFFTYPER: Unrecognized charge state for atom: 10\n",
      " 10%|▉         | 23201/238706 [33:43<5:08:40, 11.64it/s][09:37:36] UFFTYPER: Unrecognized charge state for atom: 8\n",
      " 10%|▉         | 23400/238706 [1:03:03<5:49:11, 10.28it/s]     [10:06:56] UFFTYPER: Unrecognized charge state for atom: 5\n",
      " 10%|▉         | 23632/238706 [1:03:22<7:53:10,  7.58it/s] [10:07:15] UFFTYPER: Unrecognized charge state for atom: 4\n",
      "[10:07:15] UFFTYPER: Unrecognized charge state for atom: 11\n",
      " 10%|█         | 24247/238706 [1:04:12<3:57:11, 15.07it/s] [10:08:06] UFFTYPER: Unrecognized charge state for atom: 8\n",
      " 10%|█         | 24825/238706 [1:04:58<5:00:46, 11.85it/s][10:08:51] UFFTYPER: Unrecognized charge state for atom: 1\n",
      " 10%|█         | 24916/238706 [1:05:05<4:11:53, 14.15it/s][10:08:59] UFFTYPER: Unrecognized charge state for atom: 26\n",
      " 11%|█         | 25170/238706 [1:05:27<9:23:44,  6.31it/s] "
     ]
    },
    {
     "name": "stdout",
     "output_type": "stream",
     "text": [
      "Failed to process CCC=CCC=CCC=CCCCCCCCC(=O)OCC(COC1OC(COC2OC(CO)C(O)C(O)C2O)C(O)C(O)C1O)OC(=O)CCCCCCCCCCCCCCC: 'NoneType' object has no attribute 'GetPositions'\n"
     ]
    },
    {
     "name": "stderr",
     "output_type": "stream",
     "text": [
      " 11%|█         | 25510/238706 [1:05:56<2:52:10, 20.64it/s] [10:09:50] UFFTYPER: Unrecognized charge state for atom: 24\n",
      " 11%|█         | 25582/238706 [1:06:03<6:45:16,  8.76it/s][10:09:56] UFFTYPER: Unrecognized charge state for atom: 9\n",
      " 11%|█         | 25651/238706 [1:06:08<6:04:50,  9.73it/s][10:10:02] UFFTYPER: Unrecognized charge state for atom: 33\n",
      " 11%|█         | 25846/238706 [1:06:27<4:33:59, 12.95it/s][10:10:20] UFFTYPER: Unrecognized atom type: Se2+2 (15)\n",
      " 11%|█         | 26153/238706 [1:06:52<8:24:35,  7.02it/s]"
     ]
    },
    {
     "name": "stdout",
     "output_type": "stream",
     "text": [
      "Failed to process CCCCCCCCCCCCCCCC(=O)NCCCN(CC1OC2OC(C)(C)OC2C2OC(C)(C)OC12)C(=O)CCCCCCCCCCCCCCC: 'NoneType' object has no attribute 'GetPositions'\n"
     ]
    },
    {
     "name": "stderr",
     "output_type": "stream",
     "text": [
      " 11%|█         | 26335/238706 [1:07:11<5:55:20,  9.96it/s] [10:11:04] UFFTYPER: Unrecognized atom type: Se2+2 (4)\n",
      " 11%|█         | 26389/238706 [1:07:15<7:47:02,  7.58it/s][10:11:08] UFFTYPER: Unrecognized charge state for atom: 10\n",
      " 11%|█         | 26523/238706 [1:07:27<4:29:02, 13.14it/s][10:11:20] UFFTYPER: Unrecognized charge state for atom: 5\n",
      "[10:11:20] UFFTYPER: Unrecognized charge state for atom: 36\n",
      " 11%|█         | 26537/238706 [1:07:29<5:36:11, 10.52it/s][10:11:22] UFFTYPER: Unrecognized atom type: Se2+2 (7)\n",
      "[10:11:22] UFFTYPER: Unrecognized atom type: Se2+2 (23)\n",
      " 11%|█         | 26576/238706 [1:07:32<4:57:20, 11.89it/s]"
     ]
    },
    {
     "name": "stdout",
     "output_type": "stream",
     "text": [
      "Failed to process CC(C)C(NC(=O)OCc1ccccc1)C(=O)NC(Cc1ccccc1)C(O)C(NCC(O)c1ccccc1)C(=O)NC(C(=O)NCc1nc2ccccc2[nH]1)C(C)C: 'NoneType' object has no attribute 'GetPositions'\n"
     ]
    },
    {
     "name": "stderr",
     "output_type": "stream",
     "text": [
      " 11%|█         | 26788/238706 [1:07:48<4:17:40, 13.71it/s][10:11:41] UFFTYPER: Unrecognized charge state for atom: 9\n",
      " 11%|█▏        | 26890/238706 [1:07:56<5:47:36, 10.16it/s] "
     ]
    },
    {
     "name": "stdout",
     "output_type": "stream",
     "text": [
      "Failed to process CCCCC(NC(Cc1ccccc1)C(=O)N1CCC(OCOC)CC1)C(=O)NC(CC1CCCCC1)C(O)CC(C(=O)NCCC(=O)OCc1ccccc1)C(C)C: 'NoneType' object has no attribute 'GetPositions'\n"
     ]
    },
    {
     "name": "stderr",
     "output_type": "stream",
     "text": [
      " 11%|█▏        | 27200/238706 [1:08:24<4:04:12, 14.43it/s] [10:12:17] UFFTYPER: Unrecognized charge state for atom: 8\n",
      " 11%|█▏        | 27232/238706 [1:08:26<5:53:02,  9.98it/s][10:12:19] UFFTYPER: Unrecognized charge state for atom: 6\n",
      " 12%|█▏        | 27650/238706 [1:09:00<4:23:15, 13.36it/s] [10:12:54] UFFTYPER: Unrecognized charge state for atom: 7\n",
      " 12%|█▏        | 27878/238706 [1:09:20<5:07:14, 11.44it/s][10:13:13] UFFTYPER: Unrecognized charge state for atom: 12\n",
      " 12%|█▏        | 27970/238706 [1:09:28<4:18:10, 13.60it/s][10:13:21] UFFTYPER: Unrecognized charge state for atom: 8\n",
      " 12%|█▏        | 27998/238706 [1:09:29<3:59:21, 14.67it/s][10:13:23] UFFTYPER: Unrecognized charge state for atom: 9\n",
      "[10:13:23] UFFTYPER: Unrecognized charge state for atom: 16\n",
      " 12%|█▏        | 28224/238706 [1:09:51<5:20:02, 10.96it/s] [10:13:44] UFFTYPER: Unrecognized charge state for atom: 28\n",
      " 12%|█▏        | 28561/238706 [1:10:22<7:12:50,  8.09it/s] "
     ]
    },
    {
     "name": "stdout",
     "output_type": "stream",
     "text": [
      "Failed to process CCCCCCCCC=CCCCCCCCCOc1ccc(C(=O)NCCCCNCCCCN)cc1OCCCCCCCCC=CCCCCCCCC: 'NoneType' object has no attribute 'GetPositions'\n"
     ]
    },
    {
     "name": "stderr",
     "output_type": "stream",
     "text": [
      " 12%|█▏        | 28723/238706 [1:10:33<7:07:42,  8.18it/s][10:14:27] UFFTYPER: Unrecognized charge state for atom: 10\n",
      " 12%|█▏        | 28890/238706 [1:10:47<4:05:05, 14.27it/s][10:14:40] UFFTYPER: Unrecognized charge state for atom: 25\n",
      " 12%|█▏        | 28951/238706 [1:10:52<4:09:05, 14.03it/s][10:14:45] UFFTYPER: Unrecognized charge state for atom: 9\n",
      " 12%|█▏        | 29405/238706 [1:11:29<3:05:24, 18.81it/s][10:15:22] UFFTYPER: Unrecognized charge state for atom: 10\n",
      " 12%|█▏        | 29599/238706 [1:11:44<7:19:27,  7.93it/s] [10:15:38] UFFTYPER: Unrecognized charge state for atom: 8\n",
      " 12%|█▏        | 29659/238706 [1:11:49<4:07:45, 14.06it/s][10:15:42] UFFTYPER: Unrecognized charge state for atom: 1\n",
      " 13%|█▎        | 29961/238706 [1:12:14<5:10:02, 11.22it/s][10:16:07] UFFTYPER: Unrecognized atom type: Se2+2 (11)\n",
      " 13%|█▎        | 30104/238706 [1:12:26<4:12:53, 13.75it/s] [10:16:19] UFFTYPER: Unrecognized charge state for atom: 7\n",
      " 13%|█▎        | 30167/238706 [1:12:31<4:24:40, 13.13it/s][10:16:25] UFFTYPER: Unrecognized charge state for atom: 6\n",
      " 13%|█▎        | 30239/238706 [1:12:38<7:30:23,  7.71it/s][10:16:31] UFFTYPER: Unrecognized charge state for atom: 18\n",
      " 13%|█▎        | 30486/238706 [1:12:59<4:22:08, 13.24it/s] [10:16:52] UFFTYPER: Unrecognized atom type: S_6+6 (13)\n",
      " 13%|█▎        | 30496/238706 [1:13:00<3:33:08, 16.28it/s][10:16:53] UFFTYPER: Unrecognized charge state for atom: 3\n",
      " 13%|█▎        | 30500/238706 [1:13:00<2:59:16, 19.36it/s][10:16:53] UFFTYPER: Unrecognized atom type: Se2+2 (30)\n",
      " 13%|█▎        | 30626/238706 [1:13:11<3:50:26, 15.05it/s] [10:17:04] UFFTYPER: Unrecognized charge state for atom: 31\n",
      " 13%|█▎        | 30652/238706 [1:13:13<6:03:27,  9.54it/s][10:17:07] UFFTYPER: Unrecognized charge state for atom: 12\n",
      " 13%|█▎        | 30836/238706 [1:13:31<5:28:54, 10.53it/s] [10:17:25] UFFTYPER: Unrecognized charge state for atom: 19\n",
      " 13%|█▎        | 31282/238706 [1:14:14<5:54:23,  9.75it/s] [10:18:07] UFFTYPER: Unrecognized charge state for atom: 22\n",
      " 13%|█▎        | 31403/238706 [1:14:25<4:53:42, 11.76it/s]"
     ]
    },
    {
     "name": "stdout",
     "output_type": "stream",
     "text": [
      "Failed to process COc1ccc(NC(=C2C(=O)OC(C)(C)OC2=O)N(Cc2ccc(CC(C)C)cc2C)C(CO[SiH](C)C)CC(C)C)c(OC)c1: 'NoneType' object has no attribute 'GetPositions'\n"
     ]
    },
    {
     "name": "stderr",
     "output_type": "stream",
     "text": [
      " 13%|█▎        | 31424/238706 [1:14:27<6:18:14,  9.13it/s][10:18:20] UFFTYPER: Unrecognized charge state for atom: 7\n",
      " 13%|█▎        | 31527/238706 [1:14:35<5:41:10, 10.12it/s]"
     ]
    },
    {
     "name": "stdout",
     "output_type": "stream",
     "text": [
      "Failed to process CC(=O)NCCCCC(NC(=O)C(CCCCNC(=O)CNC(=O)CI)NC(=O)C(CCCCNC(C)=O)NC(C)=O)C(N)=O: 'NoneType' object has no attribute 'GetPositions'\n"
     ]
    },
    {
     "name": "stderr",
     "output_type": "stream",
     "text": [
      " 13%|█▎        | 31630/238706 [1:14:46<4:51:49, 11.83it/s] [10:18:39] UFFTYPER: Unrecognized charge state for atom: 4\n",
      " 13%|█▎        | 31683/238706 [1:14:50<4:27:23, 12.90it/s][10:18:43] UFFTYPER: Unrecognized charge state for atom: 6\n",
      " 13%|█▎        | 31723/238706 [1:14:53<3:30:27, 16.39it/s][10:18:46] UFFTYPER: Unrecognized charge state for atom: 9\n",
      " 13%|█▎        | 31781/238706 [1:14:57<4:36:40, 12.46it/s][10:18:51] UFFTYPER: Unrecognized charge state for atom: 18\n",
      " 14%|█▎        | 32395/238706 [1:15:50<5:20:50, 10.72it/s] "
     ]
    },
    {
     "name": "stdout",
     "output_type": "stream",
     "text": [
      "Failed to process NC(Cc1ccccc1)C(=O)NCCN(CC(=O)NC(Cc1ccccc1)C(=O)O)C(=O)C(Cc1ccccc1)NC(=O)OCc1ccccc1: 'NoneType' object has no attribute 'GetPositions'\n"
     ]
    },
    {
     "name": "stderr",
     "output_type": "stream",
     "text": [
      " 14%|█▎        | 32504/238706 [1:16:01<6:08:00,  9.34it/s][10:19:54] UFFTYPER: Unrecognized charge state for atom: 6\n",
      " 14%|█▎        | 32636/238706 [1:16:11<6:25:55,  8.90it/s]"
     ]
    },
    {
     "name": "stdout",
     "output_type": "stream",
     "text": [
      "Failed to process CCCCCCCCCCCC(O)CC(=O)NC(CCC(=O)OC1OC(CO)C(O)C(NC(=O)CC(O)CCCCCCCCCCC)C1NC(=O)CC(O)CCCCCCCCCCC)C(=O)O: 'NoneType' object has no attribute 'GetPositions'\n"
     ]
    },
    {
     "name": "stderr",
     "output_type": "stream",
     "text": [
      " 14%|█▎        | 32687/238706 [1:16:15<3:58:58, 14.37it/s][10:20:08] UFFTYPER: Unrecognized charge state for atom: 21\n",
      " 14%|█▎        | 32691/238706 [1:16:15<5:40:34, 10.08it/s][10:20:09] UFFTYPER: Unrecognized charge state for atom: 1\n",
      " 14%|█▍        | 32846/238706 [1:16:27<4:24:31, 12.97it/s][10:20:20] UFFTYPER: Unrecognized charge state for atom: 1\n",
      " 14%|█▍        | 32859/238706 [1:16:28<5:17:12, 10.82it/s][10:20:21] UFFTYPER: Unrecognized charge state for atom: 1\n",
      " 14%|█▍        | 32877/238706 [1:16:30<3:44:44, 15.26it/s][10:20:23] UFFTYPER: Unrecognized charge state for atom: 7\n",
      " 14%|█▍        | 32968/238706 [1:16:38<4:44:47, 12.04it/s][10:20:31] UFFTYPER: Unrecognized charge state for atom: 32\n",
      " 14%|█▍        | 33128/238706 [1:16:54<38:32:31,  1.48it/s]"
     ]
    },
    {
     "name": "stdout",
     "output_type": "stream",
     "text": [
      "Failed to process CC1CN2C(=O)C1(c1ccccc1)C(=O)NC2=S: 'NoneType' object has no attribute 'GetPositions'\n"
     ]
    },
    {
     "name": "stderr",
     "output_type": "stream",
     "text": [
      " 14%|█▍        | 33505/238706 [1:17:27<5:02:48, 11.29it/s] "
     ]
    },
    {
     "name": "stdout",
     "output_type": "stream",
     "text": [
      "Failed to process Cc1cccc(C)c1OCC(=O)NC(Cc1ccccc1)C(OC(=O)CCCC(=O)NCCN1CCOCC1)C(=O)N1CSC(C)(C)C1C(=O)NC(C)(C)C: 'NoneType' object has no attribute 'GetPositions'\n"
     ]
    },
    {
     "name": "stderr",
     "output_type": "stream",
     "text": [
      " 14%|█▍        | 33631/238706 [1:17:36<5:52:03,  9.71it/s][10:21:29] UFFTYPER: Unrecognized charge state for atom: 2\n",
      " 14%|█▍        | 33748/238706 [1:17:45<3:28:26, 16.39it/s][10:21:38] UFFTYPER: Unrecognized charge state for atom: 17\n",
      " 14%|█▍        | 33972/238706 [1:18:06<7:58:18,  7.13it/s] [10:21:59] UFFTYPER: Unrecognized charge state for atom: 1\n",
      " 14%|█▍        | 34093/238706 [1:18:15<4:15:33, 13.34it/s][10:22:08] UFFTYPER: Unrecognized charge state for atom: 20\n",
      " 15%|█▍        | 34938/238706 [1:19:26<3:26:20, 16.46it/s] [10:23:19] UFFTYPER: Unrecognized charge state for atom: 4\n",
      "[10:23:19] UFFTYPER: Unrecognized charge state for atom: 12\n",
      " 15%|█▍        | 35043/238706 [1:19:34<4:51:28, 11.65it/s]"
     ]
    },
    {
     "name": "stdout",
     "output_type": "stream",
     "text": [
      "Failed to process COC(=O)C(=O)CNC1=CS(=O)(=O)OC12C(CO[Si](C)(C)C(C)(C)C)OC(n1cc(C)c(=O)n(C)c1=O)C2O[Si](C)(C)C(C)(C)C: 'NoneType' object has no attribute 'GetPositions'\n"
     ]
    },
    {
     "name": "stderr",
     "output_type": "stream",
     "text": [
      "[10:23:28] UFFTYPER: Unrecognized charge state for atom: 17\n",
      " 15%|█▍        | 35110/238706 [1:19:41<4:55:01, 11.50it/s][10:23:34] UFFTYPER: Unrecognized charge state for atom: 35\n",
      " 15%|█▍        | 35144/238706 [1:19:44<5:06:59, 11.05it/s][10:23:37] UFFTYPER: Unrecognized charge state for atom: 25\n",
      " 15%|█▍        | 35288/238706 [1:19:55<3:09:00, 17.94it/s] [10:23:49] UFFTYPER: Warning: hybridization set to SP3 for atom 27\n",
      " 15%|█▍        | 35343/238706 [1:20:01<7:15:23,  7.78it/s][10:23:54] UFFTYPER: Unrecognized charge state for atom: 1\n",
      " 15%|█▍        | 35383/238706 [1:20:04<5:20:02, 10.59it/s][10:23:58] UFFTYPER: Unrecognized charge state for atom: 4\n",
      " 15%|█▍        | 35432/238706 [1:20:08<5:12:07, 10.85it/s][10:24:01] UFFTYPER: Unrecognized atom type: Se2+2 (25)\n",
      " 15%|█▍        | 35605/238706 [1:20:23<5:48:16,  9.72it/s][10:24:16] UFFTYPER: Unrecognized charge state for atom: 11\n",
      " 15%|█▌        | 35950/238706 [1:20:56<3:39:10, 15.42it/s] [10:24:49] UFFTYPER: Unrecognized charge state for atom: 6\n",
      " 15%|█▌        | 36002/238706 [1:20:59<4:16:00, 13.20it/s][10:24:52] UFFTYPER: Unrecognized charge state for atom: 6\n",
      " 15%|█▌        | 36193/238706 [1:21:18<4:59:43, 11.26it/s][10:25:11] UFFTYPER: Unrecognized atom type: S_5+4 (2)\n",
      " 15%|█▌        | 36698/238706 [1:22:03<8:48:13,  6.37it/s] "
     ]
    },
    {
     "name": "stdout",
     "output_type": "stream",
     "text": [
      "Failed to process CCCCCCCCCCCCCCC(O)C(O)C(COC1OC(CO)C(O)C(O)C1OC1(C)OC(CO)C(O)C(O)C1O)NC(=O)CCCCCCC: 'NoneType' object has no attribute 'GetPositions'\n"
     ]
    },
    {
     "name": "stderr",
     "output_type": "stream",
     "text": [
      " 15%|█▌        | 36821/238706 [1:22:16<4:49:07, 11.64it/s] [10:26:09] UFFTYPER: Unrecognized charge state for atom: 1\n",
      " 15%|█▌        | 36866/238706 [1:22:20<5:51:49,  9.56it/s][10:26:13] UFFTYPER: Unrecognized charge state for atom: 23\n",
      " 15%|█▌        | 36985/238706 [1:22:30<6:05:06,  9.21it/s]"
     ]
    },
    {
     "name": "stdout",
     "output_type": "stream",
     "text": [
      "Failed to process C(#Cc1cc(C#CCCC[n+]2cccc(-c3ccccc3)c2)cc(C#CCCC[n+]2cccc(-c3ccccc3)c2)c1)CCC[n+]1cccc(-c2ccccc2)c1: 'NoneType' object has no attribute 'GetPositions'\n"
     ]
    },
    {
     "name": "stderr",
     "output_type": "stream",
     "text": [
      " 16%|█▌        | 37082/238706 [1:22:39<8:55:22,  6.28it/s] [10:26:32] UFFTYPER: Unrecognized charge state for atom: 5\n",
      " 16%|█▌        | 37148/238706 [1:22:45<3:49:55, 14.61it/s][10:26:39] UFFTYPER: Unrecognized charge state for atom: 16\n",
      " 16%|█▌        | 37237/238706 [1:22:51<4:49:42, 11.59it/s][10:26:44] UFFTYPER: Unrecognized charge state for atom: 6\n",
      " 16%|█▌        | 37404/238706 [1:23:05<4:31:55, 12.34it/s][10:26:58] UFFTYPER: Unrecognized charge state for atom: 5\n",
      " 16%|█▌        | 37638/238706 [1:23:22<4:32:08, 12.31it/s][10:27:16] UFFTYPER: Unrecognized charge state for atom: 11\n",
      " 16%|█▌        | 37849/238706 [1:23:39<4:29:12, 12.43it/s][10:27:32] UFFTYPER: Unrecognized charge state for atom: 29\n",
      "[10:27:32] UFFTYPER: Unrecognized atom type: Se2+2 (29)\n",
      " 16%|█▌        | 38143/238706 [1:24:07<4:32:30, 12.27it/s] [10:28:00] UFFTYPER: Unrecognized charge state for atom: 27\n",
      " 16%|█▌        | 38326/238706 [1:24:24<6:43:50,  8.27it/s] [10:28:17] UFFTYPER: Unrecognized charge state for atom: 12\n",
      " 16%|█▌        | 38511/238706 [1:24:42<5:41:05,  9.78it/s] [10:28:35] UFFTYPER: Unrecognized charge state for atom: 1\n",
      " 16%|█▌        | 38515/238706 [1:24:42<4:38:04, 12.00it/s][10:28:35] UFFTYPER: Unrecognized charge state for atom: 14\n",
      " 16%|█▌        | 38736/238706 [1:25:01<4:41:57, 11.82it/s] [10:28:55] UFFTYPER: Unrecognized charge state for atom: 5\n",
      " 16%|█▋        | 38822/238706 [1:25:09<5:12:52, 10.65it/s][10:29:02] UFFTYPER: Unrecognized charge state for atom: 32\n",
      " 16%|█▋        | 39149/238706 [1:25:36<4:12:20, 13.18it/s][10:29:29] UFFTYPER: Unrecognized charge state for atom: 2\n",
      " 16%|█▋        | 39276/238706 [1:25:46<3:43:02, 14.90it/s][10:29:39] UFFTYPER: Unrecognized atom type: S_6+6 (9)\n",
      " 16%|█▋        | 39313/238706 [1:25:50<5:07:41, 10.80it/s] [10:29:43] UFFTYPER: Unrecognized atom type: Se2+2 (26)\n",
      "[10:29:43] UFFTYPER: Unrecognized atom type: Se2+2 (26)\n",
      " 16%|█▋        | 39327/238706 [1:25:51<3:22:06, 16.44it/s][10:29:44] UFFTYPER: Unrecognized charge state for atom: 14\n",
      " 16%|█▋        | 39384/238706 [1:25:55<4:40:16, 11.85it/s][10:29:49] UFFTYPER: Unrecognized charge state for atom: 20\n",
      " 17%|█▋        | 39490/238706 [1:26:04<12:16:38,  4.51it/s]"
     ]
    },
    {
     "name": "stdout",
     "output_type": "stream",
     "text": [
      "Failed to process CCCCCCCCCCC1CC1CCCCC=CCCCC(O)C(COC1OC(CO)C(O)C(O)C1OCC=C(C)C)NC(=O)C(O)CCC=CCCCCC1CC1CCCCCCCCCC: 'NoneType' object has no attribute 'GetPositions'\n"
     ]
    },
    {
     "name": "stderr",
     "output_type": "stream",
     "text": [
      " 17%|█▋        | 39985/238706 [1:26:48<4:26:50, 12.41it/s] [10:30:41] UFFTYPER: Unrecognized charge state for atom: 8\n",
      " 17%|█▋        | 40254/238706 [1:27:12<5:52:50,  9.37it/s][10:31:05] UFFTYPER: Unrecognized charge state for atom: 18\n",
      " 17%|█▋        | 40577/238706 [1:27:42<7:02:19,  7.82it/s] [10:31:35] UFFTYPER: Unrecognized charge state for atom: 6\n",
      " 17%|█▋        | 40944/238706 [1:28:15<6:11:30,  8.87it/s]"
     ]
    },
    {
     "name": "stdout",
     "output_type": "stream",
     "text": [
      "Failed to process CC(C)CC(NC(=O)OCc1ccccc1)C(=O)NC(Cc1ccc(OCc2ccccc2)cc1)C(=O)C(F)(F)C(=O)NCc1ccccc1: 'NoneType' object has no attribute 'GetPositions'\n"
     ]
    },
    {
     "name": "stderr",
     "output_type": "stream",
     "text": [
      " 17%|█▋        | 40969/238706 [1:28:17<4:03:51, 13.51it/s][10:32:10] UFFTYPER: Unrecognized charge state for atom: 21\n",
      " 17%|█▋        | 41243/238706 [1:28:43<3:49:22, 14.35it/s] [10:32:36] UFFTYPER: Unrecognized charge state for atom: 35\n",
      " 17%|█▋        | 41469/238706 [1:29:03<5:55:08,  9.26it/s] [10:32:57] UFFTYPER: Unrecognized atom type: Se2+2 (19)\n",
      " 18%|█▊        | 41843/238706 [1:29:38<5:47:18,  9.45it/s] [10:33:31] UFFTYPER: Unrecognized charge state for atom: 26\n",
      " 18%|█▊        | 41931/238706 [1:29:46<5:33:03,  9.85it/s][10:33:39] UFFTYPER: Unrecognized atom type: S_6+6 (29)\n",
      " 18%|█▊        | 42009/238706 [1:29:53<6:02:05,  9.05it/s]"
     ]
    },
    {
     "name": "stdout",
     "output_type": "stream",
     "text": [
      "Failed to process O=C(C=Cc1ccc(O)c(O)c1)OC1C(CO)OC(OCCc2ccc(O)c(O)c2)C(OC2OCC(O)(CO)C2O)C1OC1OCC(O)(CO)C1O: 'NoneType' object has no attribute 'GetPositions'\n"
     ]
    },
    {
     "name": "stderr",
     "output_type": "stream",
     "text": [
      " 18%|█▊        | 42050/238706 [1:29:56<3:50:46, 14.20it/s][10:33:49] UFFTYPER: Unrecognized charge state for atom: 3\n",
      " 18%|█▊        | 42309/238706 [1:30:17<3:45:23, 14.52it/s][10:34:10] UFFTYPER: Unrecognized charge state for atom: 10\n",
      " 18%|█▊        | 42403/238706 [1:30:25<5:49:08,  9.37it/s]"
     ]
    },
    {
     "name": "stdout",
     "output_type": "stream",
     "text": [
      "Failed to process CC(=O)c1ccc(C=CCOC(C(=O)NNC(=O)CCc2ccccc2)C(O)C(O)C(OCC=Cc2ccc(C(C)=O)cc2)C(=O)NC2c3ccccc3CC2O)cc1: 'NoneType' object has no attribute 'GetPositions'\n"
     ]
    },
    {
     "name": "stderr",
     "output_type": "stream",
     "text": [
      " 18%|█▊        | 42424/238706 [1:30:27<3:33:34, 15.32it/s][10:34:20] UFFTYPER: Unrecognized atom type: Se2+2 (12)\n",
      "[10:34:20] UFFTYPER: Unrecognized atom type: Se2+2 (12)\n",
      " 18%|█▊        | 42476/238706 [1:30:31<3:48:17, 14.33it/s][10:34:24] UFFTYPER: Unrecognized atom type: Se2+2 (17)\n",
      " 18%|█▊        | 42795/238706 [1:30:55<3:20:52, 16.25it/s][10:34:49] UFFTYPER: Unrecognized charge state for atom: 24\n",
      " 18%|█▊        | 43229/238706 [1:31:36<2:53:10, 18.81it/s] [10:35:29] UFFTYPER: Unrecognized charge state for atom: 8\n",
      " 18%|█▊        | 43405/238706 [1:31:50<3:53:04, 13.97it/s][10:35:44] UFFTYPER: Unrecognized charge state for atom: 4\n",
      " 18%|█▊        | 43410/238706 [1:31:51<5:48:20,  9.34it/s][10:35:44] UFFTYPER: Unrecognized charge state for atom: 9\n",
      " 18%|█▊        | 43496/238706 [1:31:58<4:10:56, 12.96it/s][10:35:51] UFFTYPER: Unrecognized atom type: Se2+2 (16)\n",
      " 18%|█▊        | 43768/238706 [1:32:21<6:13:31,  8.70it/s] [10:36:15] UFFTYPER: Unrecognized charge state for atom: 7\n",
      " 18%|█▊        | 43806/238706 [1:32:24<6:38:31,  8.15it/s]"
     ]
    },
    {
     "name": "stdout",
     "output_type": "stream",
     "text": [
      "Failed to process CCCCCCCCCCCCCC(=O)OCCN(CCN(CCOC(=O)CCCCCCCCCCCCC)CC(=O)N(CC(=O)O)CC(=O)O)CC(=O)N(CC(=O)O)CC(=O)O: 'NoneType' object has no attribute 'GetPositions'\n"
     ]
    },
    {
     "name": "stderr",
     "output_type": "stream",
     "text": [
      " 18%|█▊        | 43828/238706 [1:32:26<6:33:06,  8.26it/s]"
     ]
    },
    {
     "name": "stdout",
     "output_type": "stream",
     "text": [
      "Failed to process CCCCCCCCCCCCCCCCCCCOC(CNC(=O)CCCCCCCCCCCCCCCCC)COP(=O)([O-])OCC[N+](C)(C)C: 'NoneType' object has no attribute 'GetPositions'\n"
     ]
    },
    {
     "name": "stderr",
     "output_type": "stream",
     "text": [
      " 18%|█▊        | 43906/238706 [1:32:33<4:06:46, 13.16it/s][10:36:27] UFFTYPER: Unrecognized charge state for atom: 13\n",
      " 18%|█▊        | 44056/238706 [1:32:44<3:11:03, 16.98it/s][10:36:38] UFFTYPER: Unrecognized charge state for atom: 9\n",
      " 19%|█▊        | 44204/238706 [1:32:55<3:56:58, 13.68it/s][10:36:48] UFFTYPER: Unrecognized charge state for atom: 3\n",
      " 19%|█▊        | 44408/238706 [1:33:14<3:02:20, 17.76it/s] [10:37:07] UFFTYPER: Unrecognized charge state for atom: 10\n",
      " 19%|█▊        | 44619/238706 [1:33:31<4:38:27, 11.62it/s][10:37:25] UFFTYPER: Unrecognized charge state for atom: 1\n",
      " 19%|█▊        | 44702/238706 [1:33:38<3:19:36, 16.20it/s][10:37:31] UFFTYPER: Unrecognized charge state for atom: 1\n",
      " 19%|█▉        | 44835/238706 [1:33:48<4:35:24, 11.73it/s][10:37:42] UFFTYPER: Unrecognized charge state for atom: 8\n",
      " 19%|█▉        | 45028/238706 [1:34:04<3:19:54, 16.15it/s][10:37:58] UFFTYPER: Unrecognized charge state for atom: 12\n",
      " 19%|█▉        | 45104/238706 [1:34:10<3:04:34, 17.48it/s][10:38:03] UFFTYPER: Unrecognized charge state for atom: 2\n",
      " 19%|█▉        | 45503/238706 [1:34:42<3:36:07, 14.90it/s][10:38:35] UFFTYPER: Unrecognized charge state for atom: 11\n",
      " 19%|█▉        | 45545/238706 [1:34:45<3:34:06, 15.04it/s][10:38:38] UFFTYPER: Unrecognized charge state for atom: 34\n",
      " 19%|█▉        | 45688/238706 [1:34:57<5:30:52,  9.72it/s][10:38:51] UFFTYPER: Unrecognized charge state for atom: 3\n",
      " 19%|█▉        | 45957/238706 [1:35:21<5:02:20, 10.63it/s][10:39:14] UFFTYPER: Unrecognized charge state for atom: 6\n",
      " 19%|█▉        | 46025/238706 [1:35:26<4:13:52, 12.65it/s][10:39:19] UFFTYPER: Unrecognized charge state for atom: 9\n",
      " 19%|█▉        | 46422/238706 [1:36:03<8:14:28,  6.48it/s] [10:39:56] UFFTYPER: Unrecognized charge state for atom: 8\n",
      " 20%|█▉        | 46690/238706 [1:36:29<4:45:26, 11.21it/s] [10:40:22] UFFTYPER: Unrecognized charge state for atom: 19\n",
      " 20%|█▉        | 46970/238706 [1:36:59<4:08:27, 12.86it/s] "
     ]
    },
    {
     "name": "stdout",
     "output_type": "stream",
     "text": [
      "Failed to process CCCCCCCCCCCCOCC(CNC(=O)C(N)CCCN=C(N)N)OCCCCCCCCCCCC: 'NoneType' object has no attribute 'GetPositions'\n"
     ]
    },
    {
     "name": "stderr",
     "output_type": "stream",
     "text": [
      " 20%|█▉        | 47438/238706 [1:37:43<4:28:09, 11.89it/s] [10:41:36] UFFTYPER: Unrecognized charge state for atom: 10\n",
      " 20%|██        | 47882/238706 [1:38:23<4:11:04, 12.67it/s] [10:42:16] UFFTYPER: Unrecognized charge state for atom: 17\n",
      " 20%|██        | 48221/238706 [1:38:49<3:04:55, 17.17it/s][10:42:43] UFFTYPER: Unrecognized charge state for atom: 7\n",
      " 20%|██        | 48524/238706 [1:39:13<3:49:48, 13.79it/s][10:43:07] UFFTYPER: Unrecognized charge state for atom: 21\n",
      " 21%|██        | 49063/238706 [1:40:01<3:30:36, 15.01it/s] [10:43:54] UFFTYPER: Unrecognized charge state for atom: 8\n",
      " 21%|██        | 49393/238706 [1:40:29<3:53:26, 13.52it/s] [10:44:22] UFFTYPER: Unrecognized atom type: S_6+6 (14)\n",
      " 21%|██        | 49407/238706 [1:40:29<3:09:06, 16.68it/s][10:44:23] UFFTYPER: Unrecognized charge state for atom: 1\n",
      "[10:44:23] UFFTYPER: Unrecognized atom type: Se2+2 (1)\n",
      " 21%|██        | 49515/238706 [1:40:38<5:12:20, 10.10it/s][10:44:31] UFFTYPER: Unrecognized charge state for atom: 16\n",
      " 21%|██        | 49715/238706 [1:40:55<3:17:27, 15.95it/s][10:44:48] UFFTYPER: Warning: hybridization set to SP3 for atom 26\n",
      " 21%|██        | 49839/238706 [1:41:05<3:41:46, 14.19it/s][10:44:58] UFFTYPER: Unrecognized charge state for atom: 31\n",
      " 21%|██        | 49937/238706 [1:41:13<5:50:11,  8.98it/s][10:45:06] UFFTYPER: Unrecognized charge state for atom: 9\n",
      " 21%|██        | 49947/238706 [1:41:17<24:53:31,  2.11it/s]"
     ]
    },
    {
     "name": "stdout",
     "output_type": "stream",
     "text": [
      "Failed to process CC(=O)C12C3C4C(C5C1C3C5(Br)C41OCCO1)C21OCCO1: 'NoneType' object has no attribute 'GetPositions'\n"
     ]
    },
    {
     "name": "stderr",
     "output_type": "stream",
     "text": [
      " 21%|██        | 49971/238706 [1:41:21<10:10:26,  5.15it/s][10:45:14] UFFTYPER: Unrecognized atom type: Se2+2 (2)\n",
      " 21%|██        | 50194/238706 [1:41:43<4:22:52, 11.95it/s] [10:45:36] UFFTYPER: Unrecognized charge state for atom: 17\n",
      " 21%|██        | 50395/238706 [1:42:00<6:13:19,  8.41it/s][10:45:53] UFFTYPER: Unrecognized charge state for atom: 10\n",
      " 21%|██        | 50403/238706 [1:42:00<4:06:41, 12.72it/s][10:45:54] UFFTYPER: Unrecognized charge state for atom: 10\n",
      " 21%|██        | 50407/238706 [1:42:01<3:46:27, 13.86it/s][10:45:54] UFFTYPER: Unrecognized charge state for atom: 4\n",
      " 21%|██        | 50578/238706 [1:42:16<4:19:51, 12.07it/s][10:46:09] UFFTYPER: Unrecognized charge state for atom: 9\n",
      " 21%|██▏       | 50885/238706 [1:42:43<3:22:24, 15.47it/s] [10:46:37] UFFTYPER: Unrecognized charge state for atom: 5\n",
      "[10:46:37] UFFTYPER: Unrecognized charge state for atom: 26\n",
      " 21%|██▏       | 50887/238706 [1:42:44<4:52:41, 10.70it/s][10:46:37] UFFTYPER: Unrecognized charge state for atom: 19\n",
      " 21%|██▏       | 51236/238706 [1:43:16<5:48:18,  8.97it/s] [10:47:09] UFFTYPER: Unrecognized charge state for atom: 1\n",
      " 22%|██▏       | 51492/238706 [1:43:38<4:02:15, 12.88it/s][10:47:31] UFFTYPER: Unrecognized atom type: Se2+2 (8)\n",
      " 22%|██▏       | 51571/238706 [1:43:43<3:15:45, 15.93it/s][10:47:37] UFFTYPER: Unrecognized charge state for atom: 7\n",
      " 22%|██▏       | 51742/238706 [1:43:57<4:29:45, 11.55it/s][10:47:50] UFFTYPER: Unrecognized charge state for atom: 8\n",
      " 22%|██▏       | 51800/238706 [1:44:01<3:08:17, 16.54it/s][10:47:54] UFFTYPER: Unrecognized charge state for atom: 1\n",
      " 22%|██▏       | 51914/238706 [1:44:12<3:48:22, 13.63it/s][10:48:06] UFFTYPER: Unrecognized atom type: Se2+2 (4)\n",
      "[10:48:06] UFFTYPER: Unrecognized atom type: Se2+2 (4)\n",
      " 22%|██▏       | 52059/238706 [1:44:26<4:13:55, 12.25it/s] [10:48:19] UFFTYPER: Unrecognized charge state for atom: 3\n",
      " 22%|██▏       | 52111/238706 [1:44:29<3:14:25, 16.00it/s][10:48:23] UFFTYPER: Unrecognized charge state for atom: 25\n",
      " 22%|██▏       | 52231/238706 [1:44:39<3:46:19, 13.73it/s][10:48:32] UFFTYPER: Unrecognized atom type: Se2+2 (8)\n",
      " 22%|██▏       | 52298/238706 [1:44:44<3:45:52, 13.75it/s][10:48:37] UFFTYPER: Unrecognized charge state for atom: 9\n",
      " 22%|██▏       | 52667/238706 [1:45:16<2:59:28, 17.28it/s] [10:49:09] UFFTYPER: Unrecognized charge state for atom: 22\n",
      " 22%|██▏       | 52843/238706 [1:45:31<3:01:17, 17.09it/s][10:49:25] UFFTYPER: Unrecognized atom type: S_6+6 (17)\n",
      " 22%|██▏       | 52910/238706 [1:45:36<3:42:33, 13.91it/s][10:49:29] UFFTYPER: Unrecognized charge state for atom: 11\n",
      " 22%|██▏       | 53170/238706 [1:45:58<4:35:17, 11.23it/s][10:49:51] UFFTYPER: Unrecognized charge state for atom: 15\n",
      " 22%|██▏       | 53221/238706 [1:46:01<3:09:39, 16.30it/s][10:49:55] UFFTYPER: Unrecognized charge state for atom: 8\n",
      " 22%|██▏       | 53429/238706 [1:46:19<4:40:13, 11.02it/s][10:50:12] UFFTYPER: Unrecognized charge state for atom: 11\n",
      " 23%|██▎       | 54003/238706 [1:47:08<4:36:47, 11.12it/s][10:51:01] UFFTYPER: Unrecognized charge state for atom: 1\n",
      " 23%|██▎       | 54460/238706 [1:47:44<4:51:17, 10.54it/s][10:51:37] UFFTYPER: Unrecognized charge state for atom: 33\n",
      " 23%|██▎       | 54470/238706 [1:47:45<4:43:37, 10.83it/s][10:51:38] UFFTYPER: Unrecognized charge state for atom: 16\n",
      " 23%|██▎       | 54501/238706 [1:47:48<6:23:30,  8.01it/s]"
     ]
    },
    {
     "name": "stdout",
     "output_type": "stream",
     "text": [
      "Failed to process CN=C(S)NCCCCC(NC(=O)C(Cc1cccc2ccccc12)Cc1cccc2ccccc12)C(=O)NC(CC(C)C)C(O)CC(=O)N1CCOC(CCN)C1: 'NoneType' object has no attribute 'GetPositions'\n"
     ]
    },
    {
     "name": "stderr",
     "output_type": "stream",
     "text": [
      " 23%|██▎       | 54697/238706 [1:48:08<14:35:20,  3.50it/s]"
     ]
    },
    {
     "name": "stdout",
     "output_type": "stream",
     "text": [
      "Failed to process OCCCCCCCCCCCCCc1ccc[n+](CCCCCCCCCCCCCc2ccc[n+](CCCCCCCCCCCCCc3ccc[n+](CCCCCCCCCCCCCc4cccnc4)c3)c2)c1: 'NoneType' object has no attribute 'GetPositions'\n"
     ]
    },
    {
     "name": "stderr",
     "output_type": "stream",
     "text": [
      " 23%|██▎       | 54734/238706 [1:48:13<8:32:40,  5.98it/s] [10:52:06] UFFTYPER: Unrecognized charge state for atom: 9\n",
      " 23%|██▎       | 54821/238706 [1:48:23<9:43:16,  5.25it/s][10:52:16] UFFTYPER: Unrecognized atom type: Se2+2 (19)\n",
      " 23%|██▎       | 55031/238706 [1:48:39<3:26:28, 14.83it/s][10:52:32] UFFTYPER: Unrecognized charge state for atom: 1\n",
      " 23%|██▎       | 55208/238706 [1:48:55<4:04:52, 12.49it/s][10:52:48] UFFTYPER: Warning: hybridization set to SP3 for atom 4\n",
      " 23%|██▎       | 55322/238706 [1:49:05<3:09:21, 16.14it/s][10:52:58] UFFTYPER: Unrecognized atom type: Se2+2 (11)\n",
      " 23%|██▎       | 55406/238706 [1:49:12<2:49:07, 18.06it/s][10:53:05] UFFTYPER: Unrecognized charge state for atom: 1\n",
      " 23%|██▎       | 55611/238706 [1:49:28<5:48:09,  8.76it/s][10:53:22] UFFTYPER: Unrecognized charge state for atom: 1\n",
      " 23%|██▎       | 55757/238706 [1:49:42<3:06:15, 16.37it/s][10:53:35] UFFTYPER: Unrecognized charge state for atom: 8\n",
      " 23%|██▎       | 55874/238706 [1:49:52<3:29:10, 14.57it/s][10:53:45] UFFTYPER: Unrecognized charge state for atom: 14\n",
      " 24%|██▎       | 56218/238706 [1:50:17<2:44:18, 18.51it/s][10:54:11] UFFTYPER: Unrecognized charge state for atom: 28\n",
      " 24%|██▎       | 56305/238706 [1:50:26<5:36:55,  9.02it/s][10:54:20] UFFTYPER: Unrecognized charge state for atom: 13\n",
      " 24%|██▍       | 57087/238706 [1:51:37<5:17:45,  9.53it/s] [10:55:30] UFFTYPER: Unrecognized atom type: Se2+2 (28)\n",
      " 24%|██▍       | 57539/238706 [1:52:16<4:49:37, 10.43it/s][10:56:09] UFFTYPER: Unrecognized charge state for atom: 11\n",
      " 24%|██▍       | 57739/238706 [1:52:34<4:58:19, 10.11it/s] "
     ]
    },
    {
     "name": "stdout",
     "output_type": "stream",
     "text": [
      "Failed to process CCCCCCCCCCCCCCCC(=O)OCC(COP(=O)(O)OCC1OC(n2cnc3c(N)nc(F)nc32)C(O)C1O)OC(=O)CCCCCCCCCCCCCCC: 'NoneType' object has no attribute 'GetPositions'\n"
     ]
    },
    {
     "name": "stderr",
     "output_type": "stream",
     "text": [
      " 25%|██▍       | 58575/238706 [1:53:45<3:41:38, 13.54it/s] [10:57:38] UFFTYPER: Unrecognized charge state for atom: 1\n",
      " 25%|██▍       | 58859/238706 [1:54:09<3:50:41, 12.99it/s] "
     ]
    },
    {
     "name": "stdout",
     "output_type": "stream",
     "text": [
      "Failed to process CCCCCCCCCCCCCC(=O)OCC(COC1OC(CO)C(O)C(O)C1O)OC(=O)CCCCCCCCCCCCC: 'NoneType' object has no attribute 'GetPositions'\n"
     ]
    },
    {
     "name": "stderr",
     "output_type": "stream",
     "text": [
      " 25%|██▍       | 58907/238706 [1:54:13<4:30:07, 11.09it/s][10:58:06] UFFTYPER: Unrecognized charge state for atom: 16\n",
      " 25%|██▍       | 59036/238706 [1:54:26<5:37:49,  8.86it/s][10:58:19] UFFTYPER: Unrecognized charge state for atom: 6\n",
      " 25%|██▍       | 59186/238706 [1:54:37<3:49:16, 13.05it/s][10:58:30] UFFTYPER: Unrecognized atom type: Se2+2 (7)\n",
      " 25%|██▍       | 59406/238706 [1:54:56<4:03:27, 12.27it/s] [10:58:49] UFFTYPER: Unrecognized charge state for atom: 7\n",
      " 25%|██▍       | 59447/238706 [1:54:59<6:16:07,  7.94it/s]"
     ]
    },
    {
     "name": "stdout",
     "output_type": "stream",
     "text": [
      "Failed to process NCCCCCOCC1OC(OCCc2c[nH]c3ccccc23)C(OCc2ccccc2)C(OCc2ccccc2)C1OCc1ccccc1: 'NoneType' object has no attribute 'GetPositions'\n"
     ]
    },
    {
     "name": "stderr",
     "output_type": "stream",
     "text": [
      " 25%|██▌       | 59799/238706 [1:55:39<3:53:31, 12.77it/s] [10:59:32] UFFTYPER: Unrecognized charge state for atom: 17\n",
      " 25%|██▌       | 59932/238706 [1:55:50<4:43:24, 10.51it/s]"
     ]
    },
    {
     "name": "stdout",
     "output_type": "stream",
     "text": [
      "Failed to process COCCOCCOC(NC(=O)C(F)(F)C(=O)C(Cc1ccc(OCc2ccccc2)cc1)NC(=O)C(NC(=O)OCc1ccccc1)C(C)C)C(C)C: 'NoneType' object has no attribute 'GetPositions'\n"
     ]
    },
    {
     "name": "stderr",
     "output_type": "stream",
     "text": [
      " 25%|██▌       | 60335/238706 [1:56:26<3:59:41, 12.40it/s] [11:00:20] UFFTYPER: Unrecognized charge state for atom: 13\n",
      " 25%|██▌       | 60549/238706 [1:56:44<6:36:01,  7.50it/s][11:00:38] UFFTYPER: Unrecognized charge state for atom: 9\n",
      " 26%|██▌       | 61036/238706 [1:57:24<6:48:52,  7.24it/s][11:01:18] UFFTYPER: Unrecognized charge state for atom: 1\n",
      " 26%|██▌       | 61205/238706 [1:57:43<4:33:11, 10.83it/s][11:01:36] UFFTYPER: Unrecognized charge state for atom: 1\n",
      " 26%|██▌       | 61232/238706 [1:57:45<3:42:27, 13.30it/s][11:01:38] UFFTYPER: Unrecognized charge state for atom: 9\n",
      " 26%|██▌       | 61862/238706 [3:46:11<239:33:37,  4.88s/it]   [12:50:04] UFFTYPER: Unrecognized atom type: S_6+6 (17)\n",
      " 26%|██▌       | 62224/238706 [5:39:34<4:09:04, 11.81it/s]     [14:43:27] UFFTYPER: Unrecognized charge state for atom: 43\n",
      " 26%|██▌       | 62511/238706 [5:39:59<5:21:46,  9.13it/s][14:43:52] UFFTYPER: Unrecognized charge state for atom: 12\n",
      " 26%|██▌       | 62547/238706 [5:40:02<5:15:34,  9.30it/s][14:43:55] UFFTYPER: Unrecognized charge state for atom: 10\n",
      " 26%|██▌       | 62572/238706 [5:40:05<6:27:25,  7.58it/s][14:43:58] UFFTYPER: Unrecognized charge state for atom: 10\n",
      " 26%|██▋       | 62770/238706 [5:40:22<4:56:43,  9.88it/s][14:44:15] UFFTYPER: Unrecognized charge state for atom: 10\n",
      " 26%|██▋       | 62897/238706 [5:40:32<3:49:01, 12.79it/s][14:44:26] UFFTYPER: Unrecognized charge state for atom: 13\n",
      " 26%|██▋       | 63174/238706 [5:40:58<3:37:30, 13.45it/s]"
     ]
    },
    {
     "name": "stdout",
     "output_type": "stream",
     "text": [
      "Failed to process COc1nc(N)nc2c1ncn2C1OC(COP(=O)(NC(Cc2ccccc2)C(=O)OCc2ccccc2)NC(Cc2ccccc2)C(=O)OCc2ccccc2)C(O)C1(C)O: 'NoneType' object has no attribute 'GetPositions'\n"
     ]
    },
    {
     "name": "stderr",
     "output_type": "stream",
     "text": [
      " 26%|██▋       | 63231/238706 [5:41:04<3:57:26, 12.32it/s][14:44:57] UFFTYPER: Unrecognized charge state for atom: 1\n",
      " 27%|██▋       | 63370/238706 [5:41:16<3:56:48, 12.34it/s][14:45:09] UFFTYPER: Unrecognized charge state for atom: 25\n",
      " 27%|██▋       | 63788/238706 [5:41:54<7:47:54,  6.23it/s] [14:45:48] UFFTYPER: Unrecognized charge state for atom: 16\n",
      " 27%|██▋       | 63892/238706 [5:42:10<4:16:29, 11.36it/s] [14:46:04] UFFTYPER: Unrecognized charge state for atom: 11\n",
      " 27%|██▋       | 64161/238706 [5:42:33<3:30:04, 13.85it/s][14:46:26] UFFTYPER: Unrecognized charge state for atom: 12\n",
      " 27%|██▋       | 64185/238706 [5:42:35<4:39:23, 10.41it/s][14:46:28] UFFTYPER: Unrecognized atom type: Se2+2 (6)\n",
      "[14:46:28] UFFTYPER: Unrecognized atom type: Se2+2 (6)\n",
      " 27%|██▋       | 64310/238706 [5:42:45<3:15:18, 14.88it/s][14:46:38] UFFTYPER: Unrecognized charge state for atom: 17\n",
      " 27%|██▋       | 64369/238706 [5:42:50<5:29:36,  8.82it/s][14:46:43] UFFTYPER: Unrecognized charge state for atom: 22\n",
      " 27%|██▋       | 64675/238706 [5:43:19<3:47:05, 12.77it/s] "
     ]
    },
    {
     "name": "stdout",
     "output_type": "stream",
     "text": [
      "Failed to process CCOC(=O)CCNC(=S)NCCCCC(NC(=O)C(CCCCNC(C)=O)NC(C)=O)C(=O)NC(CCCCNC(C)=O)C(N)=O: 'NoneType' object has no attribute 'GetPositions'\n"
     ]
    },
    {
     "name": "stderr",
     "output_type": "stream",
     "text": [
      " 27%|██▋       | 64696/238706 [5:43:21<2:44:35, 17.62it/s][14:47:14] UFFTYPER: Unrecognized charge state for atom: 24\n",
      " 27%|██▋       | 64853/238706 [5:43:35<2:59:10, 16.17it/s][14:47:28] UFFTYPER: Unrecognized charge state for atom: 25\n",
      " 27%|██▋       | 65047/238706 [5:43:51<3:09:00, 15.31it/s][14:47:44] UFFTYPER: Unrecognized atom type: Se2+2 (21)\n",
      "[14:47:44] UFFTYPER: Unrecognized atom type: Se2+2 (21)\n",
      " 27%|██▋       | 65056/238706 [5:43:52<3:31:51, 13.66it/s][14:47:45] UFFTYPER: Unrecognized charge state for atom: 7\n",
      " 27%|██▋       | 65219/238706 [5:44:07<4:54:53,  9.80it/s]"
     ]
    },
    {
     "name": "stdout",
     "output_type": "stream",
     "text": [
      "Failed to process CC(C)(CNC(=O)CN(Cc1ccc(OCc2ccccc2)cc1)C(=O)C(Cc1c[nH]cn1)NC(=O)OCc1ccccc1)c1ccccc1: 'NoneType' object has no attribute 'GetPositions'\n"
     ]
    },
    {
     "name": "stderr",
     "output_type": "stream",
     "text": [
      " 27%|██▋       | 65223/238706 [5:44:07<5:49:27,  8.27it/s]"
     ]
    },
    {
     "name": "stdout",
     "output_type": "stream",
     "text": [
      "Failed to process COc1ccc(CNC(C(=O)NC(C(=O)NCc2nc3ccccc3[nH]2)C(C)C)C(O)C(Cc2ccccc2)NC(=O)C(NC(=O)OC(C)(C)C)C(C)C)cc1: 'NoneType' object has no attribute 'GetPositions'\n"
     ]
    },
    {
     "name": "stderr",
     "output_type": "stream",
     "text": [
      " 27%|██▋       | 65473/238706 [5:44:28<4:39:48, 10.32it/s]"
     ]
    },
    {
     "name": "stdout",
     "output_type": "stream",
     "text": [
      "Failed to process CC(C)(C)CNC(=O)CC(NC(=O)c1ccc(OCc2ccccc2)cc1)C(=O)NC(CCc1ccccc1)C(=O)NCc1ccccc1: 'NoneType' object has no attribute 'GetPositions'\n"
     ]
    },
    {
     "name": "stderr",
     "output_type": "stream",
     "text": [
      " 27%|██▋       | 65501/238706 [5:44:31<4:21:36, 11.03it/s][14:48:24] UFFTYPER: Unrecognized charge state for atom: 4\n",
      " 28%|██▊       | 65710/238706 [5:44:50<4:34:42, 10.50it/s] "
     ]
    },
    {
     "name": "stdout",
     "output_type": "stream",
     "text": [
      "Failed to process NC(=O)C1(NC(=O)C(CCCC(=O)O)NC(=O)C(CCCCNC(=O)C=Cc2cccnc2)NC(=O)Cc2ccc(Nc3nc4ccccc4s3)cc2)CCCCC1: 'NoneType' object has no attribute 'GetPositions'\n"
     ]
    },
    {
     "name": "stderr",
     "output_type": "stream",
     "text": [
      " 28%|██▊       | 65835/238706 [5:45:01<2:39:53, 18.02it/s][14:48:54] UFFTYPER: Unrecognized charge state for atom: 9\n",
      " 28%|██▊       | 65987/238706 [5:45:15<4:16:02, 11.24it/s][14:49:08] UFFTYPER: Unrecognized atom type: Se2+2 (5)\n",
      " 28%|██▊       | 66102/238706 [5:45:25<3:27:39, 13.85it/s][14:49:18] UFFTYPER: Warning: hybridization set to SP3 for atom 20\n",
      " 28%|██▊       | 66123/238706 [5:45:27<3:47:54, 12.62it/s]"
     ]
    },
    {
     "name": "stdout",
     "output_type": "stream",
     "text": [
      "Failed to process CCCCCCCCOC(=O)CCC(NC(=O)c1cc(Cl)c(N(C)Cc2cnc3nc(N)nc(N)c3n2)c(Cl)c1)C(=O)OCCCCCCCC: 'NoneType' object has no attribute 'GetPositions'\n"
     ]
    },
    {
     "name": "stderr",
     "output_type": "stream",
     "text": [
      " 28%|██▊       | 66145/238706 [5:45:29<4:14:36, 11.30it/s][14:49:22] UFFTYPER: Unrecognized atom type: S_6+6 (31)\n",
      " 28%|██▊       | 66173/238706 [5:45:32<4:42:39, 10.17it/s]"
     ]
    },
    {
     "name": "stdout",
     "output_type": "stream",
     "text": [
      "Failed to process Cc1cccc(C)c1OCC(=O)NC(Cc1ccccc1)C(OC(=O)CCC(=O)NCCN(C)C)C(=O)N1CSC(C)(C)C1C(=O)NC(C)(C)C: 'NoneType' object has no attribute 'GetPositions'\n"
     ]
    },
    {
     "name": "stderr",
     "output_type": "stream",
     "text": [
      " 28%|██▊       | 66387/238706 [5:45:51<6:29:37,  7.37it/s][14:49:44] UFFTYPER: Unrecognized charge state for atom: 35\n",
      " 28%|██▊       | 66612/238706 [5:46:11<3:01:38, 15.79it/s][14:50:04] UFFTYPER: Unrecognized charge state for atom: 4\n",
      "[14:50:04] UFFTYPER: Unrecognized charge state for atom: 25\n",
      " 28%|██▊       | 66683/238706 [5:46:17<3:43:50, 12.81it/s][14:50:10] UFFTYPER: Unrecognized charge state for atom: 8\n",
      " 28%|██▊       | 66722/238706 [5:46:20<3:08:15, 15.23it/s][14:50:13] UFFTYPER: Unrecognized atom type: S_6+6 (9)\n",
      " 28%|██▊       | 67055/238706 [5:46:51<5:43:53,  8.32it/s] "
     ]
    },
    {
     "name": "stdout",
     "output_type": "stream",
     "text": [
      "Failed to process NC(=O)C(Cc1ccc(O)cc1)NC(=O)C(CCCCNC(=O)C(N)CCCCNC(=O)OCc1ccccc1)NC(=O)C(N)CCCCNC(=O)OCc1ccccc1: 'NoneType' object has no attribute 'GetPositions'\n"
     ]
    },
    {
     "name": "stderr",
     "output_type": "stream",
     "text": [
      " 28%|██▊       | 67089/238706 [5:46:54<3:05:25, 15.43it/s][14:50:47] UFFTYPER: Unrecognized charge state for atom: 1\n",
      " 28%|██▊       | 67119/238706 [5:46:57<3:46:34, 12.62it/s] [14:50:51] UFFTYPER: Unrecognized charge state for atom: 8\n",
      " 28%|██▊       | 67332/238706 [5:47:17<3:43:42, 12.77it/s][14:51:10] UFFTYPER: Unrecognized atom type: S_6+6 (15)\n",
      " 28%|██▊       | 67896/238706 [5:48:02<3:53:34, 12.19it/s][14:51:56] UFFTYPER: Unrecognized charge state for atom: 1\n",
      " 29%|██▊       | 68093/238706 [5:48:21<4:20:49, 10.90it/s][14:52:14] UFFTYPER: Unrecognized atom type: Se2+2 (21)\n",
      " 29%|██▊       | 68191/238706 [5:48:29<3:45:49, 12.58it/s][14:52:22] UFFTYPER: Unrecognized charge state for atom: 1\n",
      " 29%|██▊       | 68270/238706 [5:48:35<3:32:21, 13.38it/s][14:52:29] UFFTYPER: Unrecognized charge state for atom: 13\n",
      " 29%|██▊       | 68318/238706 [5:48:39<3:33:26, 13.30it/s][14:52:32] UFFTYPER: Unrecognized charge state for atom: 5\n",
      " 29%|██▉       | 68687/238706 [5:49:09<4:00:14, 11.80it/s][14:53:02] UFFTYPER: Unrecognized charge state for atom: 18\n",
      " 29%|██▉       | 69863/238706 [5:50:42<5:25:52,  8.64it/s]"
     ]
    },
    {
     "name": "stdout",
     "output_type": "stream",
     "text": [
      "Failed to process CCC(C)CNC(=O)CC(O)C(CC(C)C)NC(=O)C(CCCCCCN=C(S)NC)NC(=O)C(Cc1cccc2ccccc12)Cc1cccc2ccccc12: 'NoneType' object has no attribute 'GetPositions'\n"
     ]
    },
    {
     "name": "stderr",
     "output_type": "stream",
     "text": [
      " 29%|██▉       | 69918/238706 [5:50:47<5:05:55,  9.20it/s][14:54:41] UFFTYPER: Unrecognized atom type: Se2+2 (18)\n",
      " 29%|██▉       | 70274/238706 [5:51:18<3:18:51, 14.12it/s][14:55:11] UFFTYPER: Unrecognized charge state for atom: 13\n",
      " 30%|██▉       | 70722/238706 [5:51:56<2:55:01, 16.00it/s][14:55:49] UFFTYPER: Unrecognized charge state for atom: 27\n",
      " 30%|██▉       | 70968/238706 [5:52:16<3:24:52, 13.65it/s][14:56:09] UFFTYPER: Unrecognized charge state for atom: 34\n",
      " 30%|██▉       | 71186/238706 [5:52:37<5:34:48,  8.34it/s] "
     ]
    },
    {
     "name": "stdout",
     "output_type": "stream",
     "text": [
      "Failed to process CCCCCCCCCCCCCCCCCCC(CCCCCCCCCCCCCCCCC)OC1OC(CO)C(OC2OC(CO)C(O)C(O)C2O)C(O)C1O: 'NoneType' object has no attribute 'GetPositions'\n"
     ]
    },
    {
     "name": "stderr",
     "output_type": "stream",
     "text": [
      " 30%|██▉       | 71317/238706 [5:52:48<6:13:55,  7.46it/s][14:56:41] UFFTYPER: Unrecognized charge state for atom: 17\n",
      " 30%|██▉       | 71485/238706 [5:53:03<2:52:25, 16.16it/s][14:56:56] UFFTYPER: Unrecognized charge state for atom: 4\n",
      "[14:56:56] UFFTYPER: Unrecognized charge state for atom: 7\n",
      " 30%|██▉       | 71545/238706 [5:53:09<3:47:32, 12.24it/s]"
     ]
    },
    {
     "name": "stdout",
     "output_type": "stream",
     "text": [
      "Failed to process CCCCCCCCCCCCCCCC(=O)OC1CN(CCCCCn2ccc(=O)[nH]c2=O)C(CO)C(=O)NC1CO[Si](c1ccccc1)(c1ccccc1)C(C)(C)C: 'NoneType' object has no attribute 'GetPositions'\n"
     ]
    },
    {
     "name": "stderr",
     "output_type": "stream",
     "text": [
      " 30%|██▉       | 71585/238706 [5:53:14<6:02:51,  7.68it/s][14:57:07] UFFTYPER: Unrecognized charge state for atom: 27\n",
      " 30%|███       | 72453/238706 [5:54:27<3:06:04, 14.89it/s][14:58:20] UFFTYPER: Unrecognized charge state for atom: 14\n",
      " 30%|███       | 72602/238706 [5:54:39<3:27:27, 13.34it/s][14:58:32] UFFTYPER: Unrecognized charge state for atom: 1\n",
      " 30%|███       | 72724/238706 [5:54:49<3:32:28, 13.02it/s][14:58:43] UFFTYPER: Unrecognized charge state for atom: 9\n",
      " 31%|███       | 72885/238706 [5:55:03<3:28:40, 13.24it/s][14:58:57] UFFTYPER: Unrecognized charge state for atom: 1\n",
      " 31%|███       | 72898/238706 [5:55:05<3:45:34, 12.25it/s][14:58:58] UFFTYPER: Unrecognized charge state for atom: 13\n",
      " 31%|███       | 72936/238706 [5:55:07<2:47:18, 16.51it/s][14:59:00] UFFTYPER: Unrecognized charge state for atom: 32\n",
      " 31%|███       | 72960/238706 [5:55:09<4:08:52, 11.10it/s][14:59:02] UFFTYPER: Unrecognized charge state for atom: 13\n",
      " 31%|███       | 73280/238706 [5:55:39<3:39:48, 12.54it/s][14:59:33] UFFTYPER: Unrecognized charge state for atom: 31\n",
      " 31%|███       | 73408/238706 [5:55:49<3:20:05, 13.77it/s]"
     ]
    },
    {
     "name": "stdout",
     "output_type": "stream",
     "text": [
      "Failed to process CCC(C)C(=O)CC12C(OC(C)=O)C(OC(C)=O)CC(C)(O)C13OC(C)(C)C(C(OC(=O)C(C)C)C2OC(=O)c1ccccc1)C3OC(C)=O: 'NoneType' object has no attribute 'GetPositions'\n"
     ]
    },
    {
     "name": "stderr",
     "output_type": "stream",
     "text": [
      " 31%|███       | 73645/238706 [5:56:09<4:36:26,  9.95it/s][15:00:02] UFFTYPER: Unrecognized charge state for atom: 5\n",
      " 31%|███       | 73652/238706 [5:56:09<4:07:36, 11.11it/s]"
     ]
    },
    {
     "name": "stdout",
     "output_type": "stream",
     "text": [
      "Failed to process CC(C)S(=O)(=O)CC(O)C(CC1CCCCC1)NC(=O)C(CCCNC(=O)OCc1ccccc1)NC(=O)C(Cc1ccccc1)NC(=O)OC(C)(C)C: 'NoneType' object has no attribute 'GetPositions'\n"
     ]
    },
    {
     "name": "stderr",
     "output_type": "stream",
     "text": [
      " 31%|███       | 73847/238706 [5:56:26<5:08:55,  8.89it/s]"
     ]
    },
    {
     "name": "stdout",
     "output_type": "stream",
     "text": [
      "Failed to process CC(C)(C)OC(=O)NCC#CCC(NC(=O)C(Cc1ccccc1)NS(=O)(=O)N1CCOCC1)C(=O)NC(CC1CCCCC1)C(O)CC(=O)N1CCOC(CCN)C1: 'NoneType' object has no attribute 'GetPositions'\n"
     ]
    },
    {
     "name": "stderr",
     "output_type": "stream",
     "text": [
      " 31%|███       | 73882/238706 [5:56:31<3:28:24, 13.18it/s] [15:00:24] UFFTYPER: Unrecognized charge state for atom: 9\n",
      " 31%|███       | 73951/238706 [5:56:40<10:30:39,  4.35it/s]"
     ]
    },
    {
     "name": "stdout",
     "output_type": "stream",
     "text": [
      "Failed to process CCCCCCCCCCCCCCCC(=O)NC(CSCC(COC(=O)CCCCCCCCCCCCCCC)OC(=O)CCCCCCCCCCCCCCC)C(=O)NC(C)C(=O)NCC(=O)O: 'NoneType' object has no attribute 'GetPositions'\n"
     ]
    },
    {
     "name": "stderr",
     "output_type": "stream",
     "text": [
      " 31%|███       | 74131/238706 [5:56:52<2:44:34, 16.67it/s] [15:00:45] UFFTYPER: Unrecognized charge state for atom: 9\n",
      " 31%|███       | 74349/238706 [5:57:12<6:06:05,  7.48it/s]"
     ]
    },
    {
     "name": "stdout",
     "output_type": "stream",
     "text": [
      "Failed to process CCCCCCCCCCCCCCCCCCCC(=O)OC(COC(=O)CCCCCCCCCCCCCCCCC)COP(=O)(O)OC1C(O)CC(OP(=O)(O)O)C(OP(=O)(O)O)C1O: 'NoneType' object has no attribute 'GetPositions'\n"
     ]
    },
    {
     "name": "stderr",
     "output_type": "stream",
     "text": [
      " 31%|███       | 74379/238706 [5:57:15<6:29:06,  7.04it/s][15:01:08] UFFTYPER: Unrecognized charge state for atom: 10\n",
      " 31%|███       | 74490/238706 [5:57:25<4:28:37, 10.19it/s][15:01:18] UFFTYPER: Unrecognized charge state for atom: 18\n",
      " 31%|███       | 74513/238706 [5:57:26<3:34:26, 12.76it/s][15:01:19] UFFTYPER: Unrecognized charge state for atom: 15\n",
      " 31%|███▏      | 74732/238706 [5:57:44<3:34:18, 12.75it/s][15:01:37] UFFTYPER: Unrecognized charge state for atom: 8\n",
      " 31%|███▏      | 74751/238706 [5:57:45<3:24:00, 13.39it/s][15:01:39] UFFTYPER: Unrecognized atom type: S_6+6 (34)\n",
      " 31%|███▏      | 74933/238706 [5:58:01<4:09:13, 10.95it/s][15:01:54] UFFTYPER: Unrecognized charge state for atom: 4\n",
      " 31%|███▏      | 75025/238706 [5:58:10<3:43:39, 12.20it/s][15:02:03] UFFTYPER: Unrecognized charge state for atom: 9\n",
      " 31%|███▏      | 75188/238706 [5:58:25<3:08:07, 14.49it/s][15:02:19] UFFTYPER: Unrecognized charge state for atom: 17\n",
      " 32%|███▏      | 75597/238706 [5:59:00<4:49:40,  9.38it/s] [15:02:53] UFFTYPER: Unrecognized charge state for atom: 9\n",
      " 32%|███▏      | 75785/238706 [5:59:14<4:19:56, 10.45it/s][15:03:07] UFFTYPER: Unrecognized charge state for atom: 4\n",
      " 32%|███▏      | 75810/238706 [5:59:17<4:30:43, 10.03it/s][15:03:10] UFFTYPER: Unrecognized charge state for atom: 7\n",
      " 32%|███▏      | 75842/238706 [5:59:20<4:23:30, 10.30it/s][15:03:13] UFFTYPER: Unrecognized charge state for atom: 4\n",
      " 32%|███▏      | 75958/238706 [5:59:30<3:26:41, 13.12it/s][15:03:23] UFFTYPER: Unrecognized charge state for atom: 9\n",
      " 32%|███▏      | 76041/238706 [5:59:37<4:20:16, 10.42it/s]"
     ]
    },
    {
     "name": "stdout",
     "output_type": "stream",
     "text": [
      "Failed to process CCC(C)CNC(=O)CC(O)C(CC(C)C)NC(=O)C(CC#CCNC(=O)OCc1ccccc1)NC(=O)C(Cc1cccc2ccccc12)Cc1cccc2ccccc12: 'NoneType' object has no attribute 'GetPositions'\n"
     ]
    },
    {
     "name": "stderr",
     "output_type": "stream",
     "text": [
      " 32%|███▏      | 76291/238706 [5:59:57<3:46:56, 11.93it/s][15:03:50] UFFTYPER: Unrecognized charge state for atom: 9\n",
      " 32%|███▏      | 76334/238706 [6:00:01<5:03:40,  8.91it/s][15:03:55] UFFTYPER: Unrecognized charge state for atom: 15\n",
      " 32%|███▏      | 76952/238706 [6:00:56<2:33:33, 17.56it/s][15:04:49] UFFTYPER: Unrecognized charge state for atom: 1\n",
      " 32%|███▏      | 77088/238706 [6:01:08<3:41:02, 12.19it/s][15:05:02] UFFTYPER: Unrecognized atom type: Se2+2 (15)\n",
      " 32%|███▏      | 77130/238706 [6:01:13<8:13:26,  5.46it/s][15:05:06] UFFTYPER: Unrecognized charge state for atom: 1\n",
      " 32%|███▏      | 77227/238706 [6:01:23<6:03:35,  7.40it/s] [15:05:17] UFFTYPER: Unrecognized charge state for atom: 12\n",
      " 32%|███▏      | 77354/238706 [6:01:34<2:09:52, 20.71it/s][15:05:27] UFFTYPER: Unrecognized charge state for atom: 1\n",
      " 33%|███▎      | 77781/238706 [6:02:10<2:59:03, 14.98it/s][15:06:04] UFFTYPER: Unrecognized charge state for atom: 9\n",
      " 33%|███▎      | 77832/238706 [6:02:15<5:22:56,  8.30it/s][15:06:08] UFFTYPER: Unrecognized atom type: Se2+2 (5)\n",
      " 33%|███▎      | 77834/238706 [6:02:15<4:26:41, 10.05it/s][15:06:08] UFFTYPER: Unrecognized charge state for atom: 9\n",
      "[15:06:08] UFFTYPER: Unrecognized charge state for atom: 11\n",
      " 33%|███▎      | 77888/238706 [6:02:20<4:40:01,  9.57it/s]"
     ]
    },
    {
     "name": "stdout",
     "output_type": "stream",
     "text": [
      "Failed to process C#CCOCCOCCOCCNc1nc(N2CCN(C(=O)Cn3cc(CC(C)O)nn3)CC2)nc(N2CCN(C(=O)C(CCCCN)n3cc(CC(C)O)nn3)CC2)n1: 'NoneType' object has no attribute 'GetPositions'\n"
     ]
    },
    {
     "name": "stderr",
     "output_type": "stream",
     "text": [
      " 33%|███▎      | 77913/238706 [6:02:22<3:28:01, 12.88it/s][15:06:15] UFFTYPER: Unrecognized charge state for atom: 18\n",
      " 33%|███▎      | 78363/238706 [6:03:01<3:41:26, 12.07it/s][15:06:54] UFFTYPER: Unrecognized charge state for atom: 2\n",
      " 33%|███▎      | 78589/238706 [6:03:22<4:07:12, 10.79it/s][15:07:16] UFFTYPER: Unrecognized charge state for atom: 12\n",
      " 33%|███▎      | 78794/238706 [6:03:41<4:26:58,  9.98it/s][15:07:34] UFFTYPER: Unrecognized charge state for atom: 1\n",
      " 33%|███▎      | 78931/238706 [6:03:53<4:04:29, 10.89it/s][15:07:47] UFFTYPER: Unrecognized charge state for atom: 9\n",
      " 33%|███▎      | 78995/238706 [6:03:59<2:56:26, 15.09it/s][15:07:52] UFFTYPER: Unrecognized charge state for atom: 1\n",
      " 33%|███▎      | 79200/238706 [6:04:15<3:26:46, 12.86it/s]"
     ]
    },
    {
     "name": "stdout",
     "output_type": "stream",
     "text": [
      "Failed to process C=CC1CC1(NC(=O)C1CC(n2cc(-c3ccc4c(c3)CCO4)nn2)CN1C(=O)C(NC(=O)OC1CCCC1)C(C)(C)C)C(=O)NS(=O)(=O)C1CC1: 'NoneType' object has no attribute 'GetPositions'\n"
     ]
    },
    {
     "name": "stderr",
     "output_type": "stream",
     "text": [
      " 33%|███▎      | 79271/238706 [6:04:21<2:43:00, 16.30it/s][15:08:14] UFFTYPER: Unrecognized charge state for atom: 10\n",
      " 33%|███▎      | 79500/238706 [6:04:38<2:34:11, 17.21it/s][15:08:32] UFFTYPER: Unrecognized charge state for atom: 1\n",
      " 33%|███▎      | 79540/238706 [6:04:41<2:15:19, 19.60it/s][15:08:34] UFFTYPER: Unrecognized charge state for atom: 12\n",
      " 33%|███▎      | 79659/238706 [6:04:50<5:27:11,  8.10it/s]"
     ]
    },
    {
     "name": "stdout",
     "output_type": "stream",
     "text": [
      "Failed to process CCCCCCCCC(C)CCCCCCCCC(=O)OCC(COP(=O)([O-])OCC[N+](C)(C)C)OC(=O)CCCCCCCCC(C)CCCCCCCC: 'NoneType' object has no attribute 'GetPositions'\n"
     ]
    },
    {
     "name": "stderr",
     "output_type": "stream",
     "text": [
      " 33%|███▎      | 79956/238706 [6:05:18<5:41:26,  7.75it/s][15:09:11] UFFTYPER: Unrecognized atom type: Se2+2 (16)\n",
      " 34%|███▎      | 79968/238706 [6:05:19<4:21:52, 10.10it/s]"
     ]
    },
    {
     "name": "stdout",
     "output_type": "stream",
     "text": [
      "Failed to process CCCCCCCCCCCCCC(OC(=O)C(CCCCN(O)C(C)=O)NC(=O)c1coc(-c2ccccc2O)n1)C(C)C(=O)NC1CCCCNC1=O: 'NoneType' object has no attribute 'GetPositions'\n"
     ]
    },
    {
     "name": "stderr",
     "output_type": "stream",
     "text": [
      " 34%|███▎      | 80051/238706 [6:05:26<6:47:37,  6.49it/s][15:09:19] UFFTYPER: Unrecognized charge state for atom: 9\n",
      " 34%|███▎      | 80211/238706 [6:05:44<5:42:27,  7.71it/s]"
     ]
    },
    {
     "name": "stdout",
     "output_type": "stream",
     "text": [
      "Failed to process COC(=O)CCC(=O)NCCCCC(NS(=O)(=O)C12CC3CC(CC(C3)C1)C2)C(=O)N1CCCC1C(=O)NC(C(=O)C(F)(F)F)C(C)C: 'NoneType' object has no attribute 'GetPositions'\n"
     ]
    },
    {
     "name": "stderr",
     "output_type": "stream",
     "text": [
      " 34%|███▎      | 80346/238706 [6:05:56<4:57:58,  8.86it/s] "
     ]
    },
    {
     "name": "stdout",
     "output_type": "stream",
     "text": [
      "Failed to process CCN(CC)c1ccc(C=C2CCC(=Cc3ccc(N(CCOCCOCCOCCOCCOC)CCOCCOCCOCCOCCOC)cc3)C2=O)cc1: 'NoneType' object has no attribute 'GetPositions'\n"
     ]
    },
    {
     "name": "stderr",
     "output_type": "stream",
     "text": [
      " 34%|███▍      | 80591/238706 [6:06:17<3:33:21, 12.35it/s][15:10:11] UFFTYPER: Unrecognized atom type: Se2+2 (6)\n",
      "[15:10:11] UFFTYPER: Unrecognized atom type: Se2+2 (6)\n",
      " 34%|███▍      | 80721/238706 [6:06:29<7:01:17,  6.25it/s][15:10:22] UFFTYPER: Unrecognized charge state for atom: 10\n",
      " 34%|███▍      | 80740/238706 [6:06:30<4:00:41, 10.94it/s]"
     ]
    },
    {
     "name": "stdout",
     "output_type": "stream",
     "text": [
      "Failed to process CCCCCC[N+](CCCCCC)(CCCCCC)CCCCCC: 'NoneType' object has no attribute 'GetPositions'\n"
     ]
    },
    {
     "name": "stderr",
     "output_type": "stream",
     "text": [
      " 34%|███▍      | 80765/238706 [6:06:33<4:25:38,  9.91it/s][15:10:26] UFFTYPER: Unrecognized atom type: Se2+2 (17)\n",
      " 34%|███▍      | 80803/238706 [6:06:36<3:06:53, 14.08it/s][15:10:29] UFFTYPER: Unrecognized charge state for atom: 1\n",
      " 34%|███▍      | 80879/238706 [6:06:42<3:50:04, 11.43it/s][15:10:35] UFFTYPER: Unrecognized atom type: Se2+2 (20)\n",
      " 34%|███▍      | 81079/238706 [6:06:59<5:17:24,  8.28it/s][15:10:52] UFFTYPER: Unrecognized charge state for atom: 4\n",
      " 34%|███▍      | 81354/238706 [6:07:20<3:32:25, 12.35it/s][15:11:13] UFFTYPER: Unrecognized charge state for atom: 9\n",
      " 34%|███▍      | 81382/238706 [6:07:23<4:59:46,  8.75it/s][15:11:17] UFFTYPER: Unrecognized charge state for atom: 1\n",
      " 34%|███▍      | 81569/238706 [6:07:40<2:54:13, 15.03it/s] [15:11:33] UFFTYPER: Unrecognized charge state for atom: 22\n",
      " 34%|███▍      | 81701/238706 [6:07:50<2:33:36, 17.04it/s][15:11:43] UFFTYPER: Unrecognized charge state for atom: 1\n",
      " 34%|███▍      | 81717/238706 [6:07:51<4:39:30,  9.36it/s][15:11:45] UFFTYPER: Unrecognized charge state for atom: 19\n",
      " 34%|███▍      | 81851/238706 [6:08:03<3:48:32, 11.44it/s][15:11:56] UFFTYPER: Unrecognized charge state for atom: 20\n",
      " 34%|███▍      | 82209/238706 [6:08:35<3:14:48, 13.39it/s] "
     ]
    },
    {
     "name": "stdout",
     "output_type": "stream",
     "text": [
      "Failed to process CC(C)(C)C(=O)OCOP(=O)(OCOC(=O)C(C)(C)C)C(C)(Oc1ccc(O)cc1)P(=O)(OCOC(=O)C(C)(C)C)OCOC(=O)C(C)(C)C: 'NoneType' object has no attribute 'GetPositions'\n"
     ]
    },
    {
     "name": "stderr",
     "output_type": "stream",
     "text": [
      " 35%|███▍      | 82634/238706 [6:09:11<2:29:37, 17.39it/s][15:13:04] UFFTYPER: Unrecognized charge state for atom: 6\n",
      "[15:13:04] UFFTYPER: Unrecognized charge state for atom: 30\n",
      " 35%|███▍      | 82819/238706 [6:09:27<3:25:41, 12.63it/s][15:13:20] UFFTYPER: Unrecognized atom type: Se2+2 (8)\n",
      "[15:13:20] UFFTYPER: Unrecognized atom type: Se2+2 (8)\n",
      " 35%|███▍      | 83156/238706 [6:09:59<4:04:49, 10.59it/s][15:13:52] UFFTYPER: Unrecognized charge state for atom: 23\n",
      " 35%|███▍      | 83232/238706 [6:10:07<3:30:27, 12.31it/s]"
     ]
    },
    {
     "name": "stdout",
     "output_type": "stream",
     "text": [
      "Failed to process CC(=O)NCCCCCOCC1OC(OCCc2c[nH]c3ccccc23)C(OCc2ccccc2)C(OCc2ccccc2)C1OCc1ccccc1: 'NoneType' object has no attribute 'GetPositions'\n"
     ]
    },
    {
     "name": "stderr",
     "output_type": "stream",
     "text": [
      " 35%|███▍      | 83453/238706 [6:10:27<3:25:51, 12.57it/s] [15:14:21] UFFTYPER: Unrecognized charge state for atom: 8\n",
      " 35%|███▌      | 83834/238706 [6:11:10<4:49:17,  8.92it/s] [15:15:04] UFFTYPER: Unrecognized charge state for atom: 20\n",
      " 35%|███▌      | 83863/238706 [6:11:12<3:20:37, 12.86it/s][15:15:05] UFFTYPER: Unrecognized charge state for atom: 9\n",
      " 35%|███▌      | 84119/238706 [6:11:35<4:16:15, 10.05it/s]"
     ]
    },
    {
     "name": "stdout",
     "output_type": "stream",
     "text": [
      "Failed to process C#CCOCCOCCOCCNc1nc(N2CCN(C(=O)Cn3cc(CCCN=C(N)N)nn3)CC2)nc(N2CCN(C(=O)C(C(C)O)n3cc(CCCCN)nn3)CC2)n1: 'NoneType' object has no attribute 'GetPositions'\n"
     ]
    },
    {
     "name": "stderr",
     "output_type": "stream",
     "text": [
      " 35%|███▌      | 84310/238706 [6:11:53<6:48:22,  6.30it/s][15:15:46] UFFTYPER: Unrecognized charge state for atom: 23\n",
      " 35%|███▌      | 84372/238706 [6:12:00<6:26:33,  6.65it/s]"
     ]
    },
    {
     "name": "stdout",
     "output_type": "stream",
     "text": [
      "Failed to process CCCCCCOC(=O)CNC(=O)C(CSc1ccc([N+](=O)[O-])cc1[N+](=O)[O-])NC(=O)CCC(NC(=O)OCc1ccccc1)C(=O)OCCCCCC: 'NoneType' object has no attribute 'GetPositions'\n"
     ]
    },
    {
     "name": "stderr",
     "output_type": "stream",
     "text": [
      " 35%|███▌      | 84382/238706 [6:12:01<6:11:22,  6.93it/s][15:15:54] UFFTYPER: Unrecognized charge state for atom: 1\n",
      " 35%|███▌      | 84526/238706 [6:12:19<4:27:06,  9.62it/s] [15:16:13] UFFTYPER: Unrecognized charge state for atom: 31\n",
      " 36%|███▌      | 84869/238706 [6:12:49<4:11:27, 10.20it/s][15:16:42] UFFTYPER: Unrecognized charge state for atom: 1\n",
      " 36%|███▌      | 85238/238706 [6:13:21<3:08:47, 13.55it/s]"
     ]
    },
    {
     "name": "stdout",
     "output_type": "stream",
     "text": [
      "Failed to process CCCCCCCCCCCCCCSCC(=O)OCC(COP(=O)([O-])OCC[N+](C)(C)C)OC(=O)CSCCCCCCCCCCCCCC: 'NoneType' object has no attribute 'GetPositions'\n"
     ]
    },
    {
     "name": "stderr",
     "output_type": "stream",
     "text": [
      " 36%|███▌      | 85851/238706 [6:14:23<2:12:52, 19.17it/s] [15:18:16] UFFTYPER: Unrecognized charge state for atom: 1\n",
      " 36%|███▌      | 86030/238706 [6:14:38<2:55:55, 14.46it/s][15:18:31] UFFTYPER: Unrecognized charge state for atom: 15\n",
      " 36%|███▌      | 86115/238706 [6:14:46<4:58:27,  8.52it/s]"
     ]
    },
    {
     "name": "stdout",
     "output_type": "stream",
     "text": [
      "Failed to process CCCCCCCCCCCCCCCC(=O)OCC(COC(=O)CCCCCCCCCCCCCCC)OC(=O)c1ccc(C(=O)C(C)(C)C)cc1: 'NoneType' object has no attribute 'GetPositions'\n"
     ]
    },
    {
     "name": "stderr",
     "output_type": "stream",
     "text": [
      " 36%|███▌      | 86478/238706 [6:15:16<3:31:42, 11.98it/s][15:19:09] UFFTYPER: Unrecognized charge state for atom: 9\n",
      " 36%|███▌      | 86528/238706 [6:15:20<4:16:23,  9.89it/s][15:19:14] UFFTYPER: Unrecognized charge state for atom: 10\n",
      " 36%|███▋      | 86600/238706 [6:15:27<3:22:25, 12.52it/s][15:19:20] UFFTYPER: Unrecognized charge state for atom: 3\n",
      " 36%|███▋      | 86854/238706 [6:15:46<2:49:38, 14.92it/s]"
     ]
    },
    {
     "name": "stdout",
     "output_type": "stream",
     "text": [
      "Failed to process Cc1ccc2c(c1)CCN2CCC(=O)NC(CCC(=O)OCc1ccccc1)C(=O)NC(Cc1ccc(OCC(=O)O)cc1)C(=O)CC(CC(C)C)C(N)=O: 'NoneType' object has no attribute 'GetPositions'\n"
     ]
    },
    {
     "name": "stderr",
     "output_type": "stream",
     "text": [
      " 36%|███▋      | 86947/238706 [6:15:53<3:15:10, 12.96it/s][15:19:46] UFFTYPER: Unrecognized charge state for atom: 33\n",
      " 36%|███▋      | 87028/238706 [6:15:59<3:40:15, 11.48it/s][15:19:52] UFFTYPER: Unrecognized charge state for atom: 1\n",
      " 37%|███▋      | 87371/238706 [6:16:27<3:52:26, 10.85it/s]"
     ]
    },
    {
     "name": "stdout",
     "output_type": "stream",
     "text": [
      "Failed to process CCCCCC=CCC=CCCCCCCCC(=O)OCC(CSCC(N)C(=O)NCC(=O)OC(C)C)OC(=O)CCCCCCCC=CCC=CCCCCC: 'NoneType' object has no attribute 'GetPositions'\n"
     ]
    },
    {
     "name": "stderr",
     "output_type": "stream",
     "text": [
      " 37%|███▋      | 87502/238706 [6:16:39<3:48:07, 11.05it/s][15:20:32] UFFTYPER: Unrecognized atom type: S_6+6 (9)\n",
      " 37%|███▋      | 87686/238706 [6:16:54<4:12:14,  9.98it/s][15:20:47] UFFTYPER: Unrecognized charge state for atom: 12\n",
      " 37%|███▋      | 88269/238706 [6:17:42<3:38:53, 11.45it/s][15:21:35] UFFTYPER: Unrecognized charge state for atom: 6\n",
      " 37%|███▋      | 88554/238706 [6:18:06<2:59:28, 13.94it/s][15:22:00] UFFTYPER: Unrecognized atom type: Se2+2 (26)\n",
      "[15:22:00] UFFTYPER: Unrecognized atom type: Se2+2 (26)\n",
      " 37%|███▋      | 88632/238706 [6:18:13<2:59:04, 13.97it/s][15:22:06] UFFTYPER: Unrecognized charge state for atom: 9\n",
      " 37%|███▋      | 88650/238706 [6:18:14<3:21:50, 12.39it/s][15:22:08] UFFTYPER: Unrecognized atom type: Se2+2 (5)\n",
      " 37%|███▋      | 88728/238706 [6:18:21<3:55:22, 10.62it/s][15:22:14] UFFTYPER: Unrecognized charge state for atom: 9\n",
      " 37%|███▋      | 88786/238706 [6:18:26<4:07:39, 10.09it/s][15:22:19] UFFTYPER: Unrecognized charge state for atom: 6\n",
      " 37%|███▋      | 89212/238706 [6:19:00<3:43:33, 11.14it/s][15:22:53] UFFTYPER: Unrecognized charge state for atom: 1\n",
      " 38%|███▊      | 89644/238706 [6:19:36<3:38:04, 11.39it/s]"
     ]
    },
    {
     "name": "stdout",
     "output_type": "stream",
     "text": [
      "Failed to process CCCC(=O)OCC(OC(=O)CCC)C(OC(=O)CCC)C(Cn1c2nc(=O)[nH]c(=O)c-2nc2cc(C)c(C)cc21)OC(=O)CCC: 'NoneType' object has no attribute 'GetPositions'\n"
     ]
    },
    {
     "name": "stderr",
     "output_type": "stream",
     "text": [
      " 38%|███▊      | 89769/238706 [6:19:46<3:05:16, 13.40it/s][15:23:39] UFFTYPER: Unrecognized charge state for atom: 9\n",
      " 38%|███▊      | 89966/238706 [6:20:00<2:48:06, 14.75it/s]"
     ]
    },
    {
     "name": "stdout",
     "output_type": "stream",
     "text": [
      "Failed to process Cc1cccc(C)c1OCC(=O)NC(Cc1ccccc1)C(OC(=O)CCC(=O)NCCN)C(=O)N1CSC(C)(C)C1C(=O)NC(C)(C)C: 'NoneType' object has no attribute 'GetPositions'\n"
     ]
    },
    {
     "name": "stderr",
     "output_type": "stream",
     "text": [
      " 38%|███▊      | 90064/238706 [6:20:09<4:59:29,  8.27it/s]"
     ]
    },
    {
     "name": "stdout",
     "output_type": "stream",
     "text": [
      "Failed to process CCCCCCCCCCCCCCCCSCC(COP(=O)(O)OP(=O)(O)OCC1OC(n2ccc(N)nc2=O)C(O)C1O)OC(=O)CCCCCCCCCCCCCCC: 'NoneType' object has no attribute 'GetPositions'\n"
     ]
    },
    {
     "name": "stderr",
     "output_type": "stream",
     "text": [
      " 38%|███▊      | 90320/238706 [6:20:29<2:33:31, 16.11it/s][15:24:22] UFFTYPER: Unrecognized charge state for atom: 5\n",
      " 38%|███▊      | 90692/238706 [6:21:05<4:44:46,  8.66it/s]"
     ]
    },
    {
     "name": "stdout",
     "output_type": "stream",
     "text": [
      "Failed to process CC(C)CC(CC(=O)C(Cc1ccc(CC(=O)O)cc1)NC(=O)C(CCC(=O)OCc1ccccc1)NC(=O)OCC1c2ccccc2-c2ccccc21)C(N)=O: 'NoneType' object has no attribute 'GetPositions'\n"
     ]
    },
    {
     "name": "stderr",
     "output_type": "stream",
     "text": [
      " 38%|███▊      | 90817/238706 [6:21:14<3:47:35, 10.83it/s][15:25:07] UFFTYPER: Unrecognized charge state for atom: 9\n",
      " 38%|███▊      | 90838/238706 [6:21:15<2:30:55, 16.33it/s][15:25:08] UFFTYPER: Unrecognized charge state for atom: 1\n",
      " 38%|███▊      | 91284/238706 [6:21:52<4:28:43,  9.14it/s][15:25:45] UFFTYPER: Unrecognized charge state for atom: 21\n",
      " 38%|███▊      | 91518/238706 [6:22:11<3:51:57, 10.58it/s][15:26:04] UFFTYPER: Unrecognized charge state for atom: 19\n",
      " 38%|███▊      | 91520/238706 [6:22:11<3:21:34, 12.17it/s][15:26:04] UFFTYPER: Unrecognized charge state for atom: 27\n",
      " 39%|███▊      | 92297/238706 [6:23:14<4:18:41,  9.43it/s][15:27:07] UFFTYPER: Unrecognized charge state for atom: 5\n",
      " 39%|███▊      | 92422/238706 [6:23:24<4:52:27,  8.34it/s][15:27:17] UFFTYPER: Warning: hybridization set to SP3 for atom 13\n",
      " 39%|███▊      | 92433/238706 [6:23:25<4:43:26,  8.60it/s]"
     ]
    },
    {
     "name": "stdout",
     "output_type": "stream",
     "text": [
      "Failed to process CC(=O)OC1C2C(OC(C)=O)C3(OC2(C)C)C(C)CC(OC(=O)c2cccnc2)C(OC(=O)c2ccccc2)C3(C)C1OC(=O)c1ccccc1: 'NoneType' object has no attribute 'GetPositions'\n"
     ]
    },
    {
     "name": "stderr",
     "output_type": "stream",
     "text": [
      " 39%|███▉      | 92711/238706 [6:23:45<2:28:40, 16.37it/s][15:27:39] UFFTYPER: Unrecognized charge state for atom: 10\n",
      " 39%|███▉      | 93353/238706 [6:24:38<3:57:51, 10.18it/s]"
     ]
    },
    {
     "name": "stdout",
     "output_type": "stream",
     "text": [
      "Failed to process CCCCCCCCCCCCCCCC(=O)OC(COCCCCCCCCCCCC)COP(=O)(O)OP(=O)(O)OCC1OC(n2ccc(N)nc2=O)C(O)C1O: 'NoneType' object has no attribute 'GetPositions'\n"
     ]
    },
    {
     "name": "stderr",
     "output_type": "stream",
     "text": [
      " 39%|███▉      | 93418/238706 [6:24:43<2:28:35, 16.30it/s][15:28:36] UFFTYPER: Unrecognized charge state for atom: 1\n",
      " 39%|███▉      | 93494/238706 [6:24:51<4:15:20,  9.48it/s] "
     ]
    },
    {
     "name": "stdout",
     "output_type": "stream",
     "text": [
      "Failed to process CNC(=O)C(NC(=O)C(OCc1ccc(CCc2ccccc2)cc1)C(O)C(O)C(OCc1ccc(CCc2ccccc2)cc1)C(=O)NC(C(=O)NC)C(C)C)C(C)C: 'NoneType' object has no attribute 'GetPositions'\n"
     ]
    },
    {
     "name": "stderr",
     "output_type": "stream",
     "text": [
      " 39%|███▉      | 93750/238706 [6:25:13<2:44:56, 14.65it/s]"
     ]
    },
    {
     "name": "stdout",
     "output_type": "stream",
     "text": [
      "Failed to process NCCCCCOCC1OC(OCCc2c[nH]c3ccccc23)C(OCc2ccccc2)C(OCc2ccccc2)C1OCc1ccc(Cl)nc1: 'NoneType' object has no attribute 'GetPositions'\n"
     ]
    },
    {
     "name": "stderr",
     "output_type": "stream",
     "text": [
      " 39%|███▉      | 94015/238706 [6:25:37<3:23:23, 11.86it/s] [15:29:31] UFFTYPER: Unrecognized charge state for atom: 16\n",
      " 39%|███▉      | 94081/238706 [6:25:44<4:57:19,  8.11it/s]"
     ]
    },
    {
     "name": "stdout",
     "output_type": "stream",
     "text": [
      "Failed to process CN=C(S)NCCCCC(NC(=O)C(Cc1ccccc1)NS(=O)(=O)N1CCOCC1)C(=O)NC(CC1CCCCC1)C(O)C(F)(F)C(=O)NCCN1CCOCC1: 'NoneType' object has no attribute 'GetPositions'\n"
     ]
    },
    {
     "name": "stderr",
     "output_type": "stream",
     "text": [
      " 39%|███▉      | 94109/238706 [6:25:47<5:44:32,  6.99it/s][15:29:40] UFFTYPER: Unrecognized charge state for atom: 33\n",
      " 39%|███▉      | 94270/238706 [6:26:02<4:04:08,  9.86it/s][15:29:55] UFFTYPER: Unrecognized charge state for atom: 23\n",
      " 40%|███▉      | 94345/238706 [6:26:09<4:40:27,  8.58it/s][15:30:03] UFFTYPER: Unrecognized charge state for atom: 12\n",
      " 40%|███▉      | 94506/238706 [6:26:24<3:08:02, 12.78it/s][15:30:17] UFFTYPER: Unrecognized charge state for atom: 11\n",
      " 40%|███▉      | 94651/238706 [6:26:37<2:59:09, 13.40it/s][15:30:30] UFFTYPER: Unrecognized charge state for atom: 15\n",
      " 40%|███▉      | 94876/238706 [6:26:56<3:40:11, 10.89it/s] [15:30:49] UFFTYPER: Unrecognized charge state for atom: 4\n",
      " 40%|███▉      | 95028/238706 [6:27:09<3:06:36, 12.83it/s][15:31:02] UFFTYPER: Unrecognized charge state for atom: 1\n",
      " 40%|███▉      | 95433/238706 [6:27:43<3:37:50, 10.96it/s][15:31:36] UFFTYPER: Unrecognized charge state for atom: 9\n",
      " 40%|████      | 95520/238706 [6:27:51<5:00:58,  7.93it/s][15:31:45] UFFTYPER: Unrecognized charge state for atom: 12\n",
      " 40%|████      | 95765/238706 [6:28:13<2:32:07, 15.66it/s][15:32:06] UFFTYPER: Unrecognized charge state for atom: 18\n",
      " 40%|████      | 96133/238706 [6:28:48<5:36:22,  7.06it/s]"
     ]
    },
    {
     "name": "stdout",
     "output_type": "stream",
     "text": [
      "Failed to process CCCCCCCCCCCCCCCCCCN(CCCCCCCCCCCCCCCCCC)CCCC(=O)CNCCNCCCCNCCCN: 'NoneType' object has no attribute 'GetPositions'\n"
     ]
    },
    {
     "name": "stderr",
     "output_type": "stream",
     "text": [
      " 40%|████      | 96186/238706 [6:28:52<3:27:02, 11.47it/s][15:32:45] UFFTYPER: Unrecognized charge state for atom: 17\n",
      " 40%|████      | 96199/238706 [6:28:52<2:42:33, 14.61it/s][15:32:46] UFFTYPER: Unrecognized charge state for atom: 8\n",
      " 40%|████      | 96250/238706 [6:28:57<3:13:21, 12.28it/s][15:32:50] UFFTYPER: Unrecognized charge state for atom: 11\n",
      " 40%|████      | 96304/238706 [6:29:01<2:25:57, 16.26it/s][15:32:54] UFFTYPER: Unrecognized atom type: Se2+2 (6)\n",
      "[15:32:54] UFFTYPER: Unrecognized atom type: Se2+2 (25)\n",
      " 40%|████      | 96398/238706 [6:29:08<5:33:25,  7.11it/s]"
     ]
    },
    {
     "name": "stdout",
     "output_type": "stream",
     "text": [
      "Failed to process CC(=O)NCCCCC(NC(=O)C(CCCCNC(=O)CCCCCSc1nc2ccccc2[nH]1)NC(=O)C(CCCCNC(C)=O)NC(C)=O)C(N)=O: 'NoneType' object has no attribute 'GetPositions'\n"
     ]
    },
    {
     "name": "stderr",
     "output_type": "stream",
     "text": [
      " 40%|████      | 96583/238706 [6:29:29<3:02:18, 12.99it/s] [15:33:22] UFFTYPER: Unrecognized charge state for atom: 21\n",
      " 40%|████      | 96657/238706 [6:29:36<2:59:12, 13.21it/s][15:33:29] UFFTYPER: Unrecognized charge state for atom: 5\n",
      " 41%|████      | 96716/238706 [6:30:01<26:39:08,  1.48it/s][15:33:54] UFFTYPER: Unrecognized charge state for atom: 1\n",
      " 41%|████      | 96811/238706 [6:30:10<2:20:52, 16.79it/s] [15:34:03] UFFTYPER: Unrecognized charge state for atom: 4\n",
      "[15:34:03] UFFTYPER: Unrecognized charge state for atom: 9\n",
      " 41%|████      | 96841/238706 [6:30:13<4:00:07,  9.85it/s][15:34:06] UFFTYPER: Unrecognized charge state for atom: 1\n",
      " 41%|████      | 96880/238706 [6:30:17<4:02:04,  9.76it/s][15:34:10] UFFTYPER: Unrecognized charge state for atom: 11\n",
      " 41%|████      | 96889/238706 [6:30:18<4:23:54,  8.96it/s]"
     ]
    },
    {
     "name": "stdout",
     "output_type": "stream",
     "text": [
      "Failed to process CCCCCCCCCCOc1cc(OCCCCCCCCCC)cc(OCCCCCC(=O)N(c2cccc(C(=O)O)c2)c2cccc(C(=O)O)c2)c1: 'NoneType' object has no attribute 'GetPositions'\n"
     ]
    },
    {
     "name": "stderr",
     "output_type": "stream",
     "text": [
      " 41%|████      | 97455/238706 [6:31:12<2:00:28, 19.54it/s][15:35:05] UFFTYPER: Unrecognized charge state for atom: 27\n",
      " 41%|████      | 97461/238706 [6:31:12<2:11:41, 17.88it/s][15:35:05] UFFTYPER: Unrecognized charge state for atom: 17\n",
      " 41%|████      | 97738/238706 [6:31:37<3:07:49, 12.51it/s][15:35:30] UFFTYPER: Unrecognized charge state for atom: 4\n",
      " 41%|████      | 97851/238706 [6:31:46<2:34:07, 15.23it/s][15:35:39] UFFTYPER: Unrecognized charge state for atom: 11\n",
      " 41%|████      | 97860/238706 [6:31:47<4:07:40,  9.48it/s][15:35:41] UFFTYPER: Unrecognized charge state for atom: 7\n",
      " 41%|████▏     | 98522/238706 [6:32:44<4:23:44,  8.86it/s][15:36:37] UFFTYPER: Unrecognized charge state for atom: 19\n",
      "[15:36:37] UFFTYPER: Unrecognized atom type: Se2+2 (19)\n",
      " 41%|████▏     | 98675/238706 [6:32:56<3:32:40, 10.97it/s][15:36:49] UFFTYPER: Unrecognized charge state for atom: 8\n",
      " 41%|████▏     | 98679/238706 [6:32:56<3:01:09, 12.88it/s][15:36:49] UFFTYPER: Unrecognized charge state for atom: 9\n",
      " 41%|████▏     | 98729/238706 [6:33:02<3:59:37,  9.74it/s][15:36:55] UFFTYPER: Unrecognized charge state for atom: 11\n",
      " 41%|████▏     | 98731/238706 [6:33:02<3:40:31, 10.58it/s][15:36:55] UFFTYPER: Unrecognized charge state for atom: 2\n",
      " 41%|████▏     | 98884/238706 [6:33:14<2:42:19, 14.36it/s][15:37:07] UFFTYPER: Unrecognized charge state for atom: 1\n",
      " 41%|████▏     | 98893/238706 [6:33:15<3:14:05, 12.01it/s][15:37:08] UFFTYPER: Unrecognized atom type: Se2+2 (5)\n",
      "[15:37:08] UFFTYPER: Unrecognized atom type: Se2+2 (14)\n",
      "[15:37:08] UFFTYPER: Unrecognized atom type: Se2+2 (5)\n",
      "[15:37:08] UFFTYPER: Unrecognized atom type: Se2+2 (14)\n",
      " 42%|████▏     | 99105/238706 [6:33:33<2:34:15, 15.08it/s][15:37:26] UFFTYPER: Unrecognized charge state for atom: 12\n",
      "[15:37:26] UFFTYPER: Unrecognized charge state for atom: 16\n",
      " 42%|████▏     | 99162/238706 [6:33:37<4:39:44,  8.31it/s][15:37:31] UFFTYPER: Unrecognized charge state for atom: 9\n",
      " 42%|████▏     | 99802/238706 [6:34:29<2:23:26, 16.14it/s][15:38:22] UFFTYPER: Unrecognized charge state for atom: 8\n",
      " 42%|████▏     | 99964/238706 [6:34:42<2:38:32, 14.58it/s][15:38:35] UFFTYPER: Unrecognized charge state for atom: 6\n",
      " 42%|████▏     | 99993/238706 [6:34:45<2:25:50, 15.85it/s][15:38:38] UFFTYPER: Unrecognized charge state for atom: 12\n",
      " 42%|████▏     | 100057/238706 [6:34:49<2:07:47, 18.08it/s][15:38:42] UFFTYPER: Unrecognized charge state for atom: 7\n",
      "[15:38:42] UFFTYPER: Unrecognized charge state for atom: 15\n",
      " 42%|████▏     | 100298/238706 [6:35:10<4:25:39,  8.68it/s][15:39:03] UFFTYPER: Unrecognized charge state for atom: 1\n",
      "[15:39:03] UFFTYPER: Unrecognized charge state for atom: 16\n",
      " 42%|████▏     | 100324/238706 [6:35:12<3:06:28, 12.37it/s]"
     ]
    },
    {
     "name": "stdout",
     "output_type": "stream",
     "text": [
      "Failed to process CCOC(=O)CCNC(=O)C(Cc1ccc(-c2ccccc2)cc1)NCP(=O)(OC(OC(=O)C(C)C)C(C)C)OC(OC(=O)C(C)C)C(C)C: 'NoneType' object has no attribute 'GetPositions'\n"
     ]
    },
    {
     "name": "stderr",
     "output_type": "stream",
     "text": [
      " 42%|████▏     | 100347/238706 [6:35:14<3:06:43, 12.35it/s][15:39:07] UFFTYPER: Unrecognized atom type: Se2+2 (8)\n",
      "[15:39:07] UFFTYPER: Unrecognized atom type: Se2+2 (8)\n",
      " 42%|████▏     | 100458/238706 [6:35:24<4:00:27,  9.58it/s][15:39:18] UFFTYPER: Unrecognized charge state for atom: 8\n",
      " 42%|████▏     | 100691/238706 [6:35:44<3:15:26, 11.77it/s]"
     ]
    },
    {
     "name": "stdout",
     "output_type": "stream",
     "text": [
      "Failed to process C#CCOCCOCCOCCNc1nc(N2CCN(C(=O)Cn3cc(CC(C)O)nn3)CC2)nc(N2CCN(C(=O)C(C)n3cc(CCCN=C(N)N)nn3)CC2)n1: 'NoneType' object has no attribute 'GetPositions'\n"
     ]
    },
    {
     "name": "stderr",
     "output_type": "stream",
     "text": [
      " 42%|████▏     | 100750/238706 [6:35:49<2:49:12, 13.59it/s][15:39:42] UFFTYPER: Unrecognized charge state for atom: 21\n",
      " 42%|████▏     | 100845/238706 [6:35:57<3:10:33, 12.06it/s][15:39:50] UFFTYPER: Unrecognized charge state for atom: 19\n",
      " 42%|████▏     | 100866/238706 [6:35:59<2:50:57, 13.44it/s][15:39:52] UFFTYPER: Unrecognized atom type: S_6+6 (30)\n",
      " 43%|████▎     | 102281/238706 [6:37:55<3:16:29, 11.57it/s][15:41:48] UFFTYPER: Unrecognized charge state for atom: 2\n",
      " 43%|████▎     | 102341/238706 [6:38:00<3:00:10, 12.61it/s][15:41:53] UFFTYPER: Unrecognized charge state for atom: 25\n",
      " 43%|████▎     | 102509/238706 [6:38:14<3:57:56,  9.54it/s][15:42:08] UFFTYPER: Unrecognized charge state for atom: 1\n",
      " 43%|████▎     | 102524/238706 [6:38:16<2:51:08, 13.26it/s][15:42:09] UFFTYPER: Unrecognized charge state for atom: 1\n",
      " 43%|████▎     | 102631/238706 [6:38:25<3:59:23,  9.47it/s]"
     ]
    },
    {
     "name": "stdout",
     "output_type": "stream",
     "text": [
      "Failed to process CCCCCCCCCCCCCCCCCC(=O)OCC(COP(=O)(O)OCC(O)CO)OC(=O)CCCCCCCCCCCCCCCCC: 'NoneType' object has no attribute 'GetPositions'\n"
     ]
    },
    {
     "name": "stderr",
     "output_type": "stream",
     "text": [
      " 43%|████▎     | 102707/238706 [6:38:31<3:53:09,  9.72it/s][15:42:24] UFFTYPER: Unrecognized charge state for atom: 3\n",
      " 43%|████▎     | 103107/238706 [6:39:04<3:29:31, 10.79it/s][15:42:57] UFFTYPER: Unrecognized charge state for atom: 9\n",
      " 43%|████▎     | 103652/238706 [6:39:46<3:44:17, 10.04it/s][15:43:40] UFFTYPER: Unrecognized atom type: Se2+2 (7)\n",
      " 44%|████▎     | 103926/238706 [6:40:09<3:10:31, 11.79it/s][15:44:02] UFFTYPER: Unrecognized charge state for atom: 12\n",
      " 44%|████▎     | 104255/238706 [6:40:33<4:08:14,  9.03it/s]"
     ]
    },
    {
     "name": "stdout",
     "output_type": "stream",
     "text": [
      "Failed to process N=C(N)NCCCC(N)C(=O)NC(CCCNC(=N)N)C(=O)NC(CCCNC(=N)N)C(=O)NC(CCCNC(=N)N)C(=O)NC(CCCNC(=N)N)C(=O)O: 'NoneType' object has no attribute 'GetPositions'\n"
     ]
    },
    {
     "name": "stderr",
     "output_type": "stream",
     "text": [
      " 44%|████▍     | 104803/238706 [6:41:23<4:54:25,  7.58it/s] "
     ]
    },
    {
     "name": "stdout",
     "output_type": "stream",
     "text": [
      "Failed to process CCCCCCCCCCCC(O)CC(=O)NC1C(OP(=O)(O)O)OC(CO)C(OC(=O)CC(O)CCCCCCCCCCC)C1OC(=O)CC(O)CCCCCCCCCCC: 'NoneType' object has no attribute 'GetPositions'\n"
     ]
    },
    {
     "name": "stderr",
     "output_type": "stream",
     "text": [
      " 44%|████▍     | 105064/238706 [6:41:45<2:59:24, 12.41it/s]"
     ]
    },
    {
     "name": "stdout",
     "output_type": "stream",
     "text": [
      "Failed to process CCC(C)CNC(=O)CC(O)C(CC(C)C)NC(=O)C(CCCCN=C(S)Nc1ccccc1)NC(=O)C(Cc1cccc2ccccc12)Cc1cccc2ccccc12: 'NoneType' object has no attribute 'GetPositions'\n"
     ]
    },
    {
     "name": "stderr",
     "output_type": "stream",
     "text": [
      " 44%|████▍     | 105114/238706 [6:41:49<3:24:54, 10.87it/s][15:45:42] UFFTYPER: Unrecognized charge state for atom: 16\n",
      " 44%|████▍     | 105403/238706 [6:42:13<2:55:43, 12.64it/s][15:46:06] UFFTYPER: Unrecognized charge state for atom: 6\n",
      " 44%|████▍     | 105482/238706 [6:42:21<4:07:36,  8.97it/s]"
     ]
    },
    {
     "name": "stdout",
     "output_type": "stream",
     "text": [
      "Failed to process CCCCCCCC=CC(C)=CCCC=CC(O)C(COC1OC(CO)C(O)C(O)C1O)NC(=O)C(O)CCCCCCCCCCCCCCC=CCCCCCCCC: 'NoneType' object has no attribute 'GetPositions'\n"
     ]
    },
    {
     "name": "stderr",
     "output_type": "stream",
     "text": [
      " 44%|████▍     | 105527/238706 [6:42:24<4:08:56,  8.92it/s][15:46:18] UFFTYPER: Unrecognized charge state for atom: 7\n",
      " 44%|████▍     | 105542/238706 [6:42:26<3:03:34, 12.09it/s][15:46:19] UFFTYPER: Unrecognized charge state for atom: 14\n",
      " 44%|████▍     | 105923/238706 [6:43:02<4:20:45,  8.49it/s]"
     ]
    },
    {
     "name": "stdout",
     "output_type": "stream",
     "text": [
      "Failed to process CCC=CCC=CCC=CCCCCCCCCC(=O)OC(COCCCCCCCCCCCCCCCC)COP(=O)([O-])OCC[N+](C)(C)C: 'NoneType' object has no attribute 'GetPositions'\n"
     ]
    },
    {
     "name": "stderr",
     "output_type": "stream",
     "text": [
      " 44%|████▍     | 105984/238706 [6:43:08<3:34:25, 10.32it/s][15:47:02] UFFTYPER: Unrecognized charge state for atom: 12\n",
      " 44%|████▍     | 106127/238706 [6:43:20<2:20:09, 15.77it/s][15:47:13] UFFTYPER: Unrecognized charge state for atom: 11\n",
      " 44%|████▍     | 106157/238706 [6:43:23<4:07:46,  8.92it/s][15:47:16] UFFTYPER: Unrecognized charge state for atom: 2\n",
      " 44%|████▍     | 106211/238706 [6:43:28<5:07:34,  7.18it/s][15:47:21] UFFTYPER: Unrecognized charge state for atom: 32\n",
      " 45%|████▍     | 106257/238706 [6:43:33<3:30:56, 10.47it/s][15:47:26] UFFTYPER: Unrecognized charge state for atom: 25\n",
      " 45%|████▍     | 106381/238706 [6:43:45<3:05:41, 11.88it/s] [15:47:39] UFFTYPER: Unrecognized atom type: Se2+2 (7)\n",
      " 45%|████▍     | 106401/238706 [6:43:47<4:00:37,  9.16it/s][15:47:40] UFFTYPER: Unrecognized charge state for atom: 9\n",
      " 45%|████▍     | 106433/238706 [6:43:50<2:47:08, 13.19it/s][15:47:43] UFFTYPER: Unrecognized charge state for atom: 6\n",
      " 45%|████▍     | 106970/238706 [6:44:35<2:42:46, 13.49it/s][15:48:29] UFFTYPER: Unrecognized charge state for atom: 32\n",
      " 45%|████▍     | 107157/238706 [6:44:50<2:22:36, 15.37it/s][15:48:43] UFFTYPER: Unrecognized charge state for atom: 7\n",
      " 45%|████▍     | 107390/238706 [6:45:09<2:28:53, 14.70it/s][15:49:02] UFFTYPER: Unrecognized atom type: S_6+6 (29)\n",
      " 45%|████▌     | 107454/238706 [6:45:18<4:53:45,  7.45it/s]"
     ]
    },
    {
     "name": "stdout",
     "output_type": "stream",
     "text": [
      "Failed to process O=C(C=Cc1ccc(O)c(O)c1)OC1C(CO)OC(OCCc2ccc(O)c(O)c2)C(OC2OCC(O)C(O)C2O)C1OC1OCC(O)(CO)C1O: 'NoneType' object has no attribute 'GetPositions'\n"
     ]
    },
    {
     "name": "stderr",
     "output_type": "stream",
     "text": [
      " 45%|████▌     | 107559/238706 [6:45:29<4:28:36,  8.14it/s]"
     ]
    },
    {
     "name": "stdout",
     "output_type": "stream",
     "text": [
      "Failed to process CC1CC(OP(=O)(OCc2ccccc2)OCc2ccccc2)C(OCc2ccccc2)C(OCc2ccccc2)C1OCc1ccccc1: 'NoneType' object has no attribute 'GetPositions'\n"
     ]
    },
    {
     "name": "stderr",
     "output_type": "stream",
     "text": [
      " 45%|████▌     | 107856/238706 [6:45:59<5:15:41,  6.91it/s] [15:49:52] UFFTYPER: Unrecognized charge state for atom: 4\n",
      " 45%|████▌     | 107895/238706 [6:46:03<6:13:54,  5.83it/s][15:49:56] UFFTYPER: Unrecognized charge state for atom: 4\n",
      " 45%|████▌     | 107902/238706 [6:46:03<5:20:56,  6.79it/s][15:49:57] UFFTYPER: Unrecognized charge state for atom: 1\n",
      " 45%|████▌     | 108085/238706 [6:46:20<4:21:38,  8.32it/s]"
     ]
    },
    {
     "name": "stdout",
     "output_type": "stream",
     "text": [
      "Failed to process CC(=O)OC1C(OC(=O)c2ccccc2)CC(C)C23OC(C)(C)C(CC(OC(=O)c4ccccc4)C12COC(=O)c1ccccc1)C3OC(=O)c1ccccc1: 'NoneType' object has no attribute 'GetPositions'\n"
     ]
    },
    {
     "name": "stderr",
     "output_type": "stream",
     "text": [
      " 45%|████▌     | 108222/238706 [6:46:33<7:05:14,  5.11it/s][15:50:26] UFFTYPER: Unrecognized charge state for atom: 11\n",
      " 45%|████▌     | 108236/238706 [6:46:35<6:02:33,  6.00it/s][15:50:28] UFFTYPER: Unrecognized charge state for atom: 10\n",
      " 45%|████▌     | 108356/238706 [6:46:45<3:42:08,  9.78it/s][15:50:38] UFFTYPER: Unrecognized charge state for atom: 9\n",
      " 45%|████▌     | 108451/238706 [6:46:54<6:22:04,  5.68it/s][15:50:47] UFFTYPER: Warning: hybridization set to SP3 for atom 4\n",
      " 45%|████▌     | 108569/238706 [6:47:04<2:18:21, 15.68it/s][15:50:57] UFFTYPER: Unrecognized charge state for atom: 18\n",
      " 46%|████▌     | 108635/238706 [6:47:08<2:19:33, 15.53it/s][15:51:01] UFFTYPER: Unrecognized charge state for atom: 11\n",
      " 46%|████▌     | 108925/238706 [6:47:31<4:42:03,  7.67it/s]"
     ]
    },
    {
     "name": "stdout",
     "output_type": "stream",
     "text": [
      "Failed to process CCCCCCCCCCCC(CCCCCCCCCCC)NC(=O)NC(CCC(=O)O)(CCC(=O)O)CCC(=O)O: 'NoneType' object has no attribute 'GetPositions'\n"
     ]
    },
    {
     "name": "stderr",
     "output_type": "stream",
     "text": [
      " 46%|████▌     | 109010/238706 [6:47:39<2:25:56, 14.81it/s][15:51:32] UFFTYPER: Unrecognized charge state for atom: 15\n",
      " 46%|████▌     | 109176/238706 [6:47:53<3:25:39, 10.50it/s][15:51:46] UFFTYPER: Unrecognized charge state for atom: 11\n",
      " 46%|████▌     | 109233/238706 [6:47:57<2:54:20, 12.38it/s][15:51:50] UFFTYPER: Unrecognized charge state for atom: 35\n",
      " 46%|████▌     | 109752/238706 [6:48:39<6:35:23,  5.44it/s]"
     ]
    },
    {
     "name": "stdout",
     "output_type": "stream",
     "text": [
      "Failed to process CCCCCCCCCCC1CC1CCCCC=CCCC(O)C(=O)NC(COC1OC(CO)C(O)C(O)C1OCC=C(C)C)C(O)CCCCCCCC1CC1CCCCCCCCCC: 'NoneType' object has no attribute 'GetPositions'\n"
     ]
    },
    {
     "name": "stderr",
     "output_type": "stream",
     "text": [
      " 46%|████▌     | 110028/238706 [6:49:04<3:03:17, 11.70it/s][15:52:57] UFFTYPER: Unrecognized charge state for atom: 1\n",
      " 46%|████▋     | 110577/238706 [6:49:48<2:57:44, 12.01it/s][15:53:41] UFFTYPER: Unrecognized charge state for atom: 7\n",
      " 46%|████▋     | 110611/238706 [6:49:51<1:50:12, 19.37it/s][15:53:44] UFFTYPER: Unrecognized charge state for atom: 1\n",
      " 46%|████▋     | 110675/238706 [6:49:55<1:56:00, 18.39it/s][15:53:48] UFFTYPER: Unrecognized charge state for atom: 31\n",
      " 46%|████▋     | 110916/238706 [6:50:15<3:07:23, 11.37it/s]"
     ]
    },
    {
     "name": "stdout",
     "output_type": "stream",
     "text": [
      "Failed to process CCC(C)CNC(=O)CC(O)C(CC(C)C)NC(=O)C(CCCCCN=C(N)N[N+](=O)[O-])NC(=O)C(Cc1cccc2ccccc12)Cc1cccc2ccccc12: 'NoneType' object has no attribute 'GetPositions'\n"
     ]
    },
    {
     "name": "stderr",
     "output_type": "stream",
     "text": [
      " 46%|████▋     | 110978/238706 [6:50:21<4:59:15,  7.11it/s][15:54:14] UFFTYPER: Unrecognized charge state for atom: 19\n",
      " 47%|████▋     | 111014/238706 [6:50:24<3:32:05, 10.03it/s][15:54:17] UFFTYPER: Unrecognized charge state for atom: 27\n",
      " 47%|████▋     | 111073/238706 [6:50:31<3:37:48,  9.77it/s][15:54:24] UFFTYPER: Unrecognized charge state for atom: 6\n",
      " 47%|████▋     | 111474/238706 [6:51:05<2:59:13, 11.83it/s][15:54:58] UFFTYPER: Unrecognized charge state for atom: 6\n",
      " 47%|████▋     | 111533/238706 [6:51:10<3:15:34, 10.84it/s][15:55:03] UFFTYPER: Unrecognized charge state for atom: 11\n",
      " 47%|████▋     | 111629/238706 [6:51:17<2:18:34, 15.28it/s]"
     ]
    },
    {
     "name": "stdout",
     "output_type": "stream",
     "text": [
      "Failed to process COC1OC(COCCCSCC(=O)O)C(OCCCSCC(=O)O)C(OCCCSCC(=O)O)C1OCCCSCC(=O)O: 'NoneType' object has no attribute 'GetPositions'\n"
     ]
    },
    {
     "name": "stderr",
     "output_type": "stream",
     "text": [
      " 47%|████▋     | 112169/238706 [6:52:02<4:07:26,  8.52it/s]"
     ]
    },
    {
     "name": "stdout",
     "output_type": "stream",
     "text": [
      "Failed to process O=C1CC(CC(OCc2ccccc2)C(OCc2ccccc2)C(COCc2ccccc2)OCc2ccccc2)CC(=O)N1: 'NoneType' object has no attribute 'GetPositions'\n"
     ]
    },
    {
     "name": "stderr",
     "output_type": "stream",
     "text": [
      " 47%|████▋     | 112311/238706 [6:52:12<2:42:20, 12.98it/s][15:56:05] UFFTYPER: Unrecognized charge state for atom: 4\n",
      "[15:56:05] UFFTYPER: Unrecognized charge state for atom: 8\n",
      " 47%|████▋     | 112318/238706 [6:52:13<2:33:14, 13.75it/s]"
     ]
    },
    {
     "name": "stdout",
     "output_type": "stream",
     "text": [
      "Failed to process Cc1cc(C)c[n+](CCCCCc2cc(CCCCC[n+]3cc(C)cc(C)c3)cc(CCCCC[n+]3cc(C)cc(C)c3)c2)c1: 'NoneType' object has no attribute 'GetPositions'\n"
     ]
    },
    {
     "name": "stderr",
     "output_type": "stream",
     "text": [
      " 47%|████▋     | 112379/238706 [6:52:19<3:46:29,  9.30it/s][15:56:12] UFFTYPER: Unrecognized charge state for atom: 1\n",
      " 47%|████▋     | 112446/238706 [6:52:25<4:11:46,  8.36it/s]"
     ]
    },
    {
     "name": "stdout",
     "output_type": "stream",
     "text": [
      "Failed to process CCCCCCCCCCCCCCCCCC(=O)OCC(COP(=O)(O)OCC(O)CO)OC(=O)CCCCCOC(=O)C=C(C)C=CC=C(C)C=CC1=C(C)CCCC1(C)C: 'NoneType' object has no attribute 'GetPositions'\n"
     ]
    },
    {
     "name": "stderr",
     "output_type": "stream",
     "text": [
      " 47%|████▋     | 112713/238706 [6:52:48<2:15:49, 15.46it/s][15:56:41] UFFTYPER: Unrecognized charge state for atom: 12\n",
      " 47%|████▋     | 112878/238706 [6:53:03<2:23:56, 14.57it/s][15:56:56] UFFTYPER: Unrecognized charge state for atom: 22\n",
      " 47%|████▋     | 112931/238706 [6:53:07<2:36:31, 13.39it/s][15:57:00] UFFTYPER: Unrecognized charge state for atom: 18\n",
      " 47%|████▋     | 113137/238706 [6:53:24<4:24:48,  7.90it/s][15:57:17] UFFTYPER: Unrecognized charge state for atom: 5\n",
      " 47%|████▋     | 113218/238706 [6:53:30<4:04:42,  8.55it/s][15:57:23] UFFTYPER: Unrecognized charge state for atom: 22\n",
      " 47%|████▋     | 113381/238706 [6:53:43<2:31:03, 13.83it/s][15:57:37] UFFTYPER: Unrecognized charge state for atom: 9\n",
      " 48%|████▊     | 113556/238706 [6:53:57<2:18:20, 15.08it/s][15:57:50] UFFTYPER: Unrecognized charge state for atom: 18\n",
      " 48%|████▊     | 113567/238706 [6:53:58<2:38:46, 13.14it/s]"
     ]
    },
    {
     "name": "stdout",
     "output_type": "stream",
     "text": [
      "Failed to process N=C(N)Nc1ccc(CC(NC(=O)C(Cc2ccc(-c3ccccc3)cc2)NC(=O)C(N)CCCCN)C(=O)NCc2ccccc2)cc1: 'NoneType' object has no attribute 'GetPositions'\n"
     ]
    },
    {
     "name": "stderr",
     "output_type": "stream",
     "text": [
      " 48%|████▊     | 113644/238706 [6:54:07<2:40:00, 13.03it/s] [15:58:01] UFFTYPER: Unrecognized charge state for atom: 10\n",
      " 48%|████▊     | 113893/238706 [6:54:26<1:39:39, 20.87it/s][15:58:20] UFFTYPER: Unrecognized atom type: Se2+2 (25)\n",
      " 48%|████▊     | 113974/238706 [6:54:35<6:18:17,  5.50it/s][15:58:29] UFFTYPER: Unrecognized charge state for atom: 9\n",
      " 48%|████▊     | 114065/238706 [6:54:43<2:35:01, 13.40it/s][15:58:36] UFFTYPER: Unrecognized charge state for atom: 6\n",
      " 48%|████▊     | 114207/238706 [6:54:54<3:01:23, 11.44it/s][15:58:47] UFFTYPER: Unrecognized charge state for atom: 9\n",
      " 48%|████▊     | 114605/238706 [6:55:25<2:34:04, 13.42it/s][15:59:19] UFFTYPER: Unrecognized charge state for atom: 3\n",
      " 48%|████▊     | 114673/238706 [6:55:31<2:56:54, 11.68it/s][15:59:24] UFFTYPER: Unrecognized atom type: S_6+6 (24)\n",
      " 48%|████▊     | 114887/238706 [6:55:49<2:11:35, 15.68it/s][15:59:42] UFFTYPER: Unrecognized charge state for atom: 20\n",
      " 48%|████▊     | 115122/238706 [6:56:08<3:50:11,  8.95it/s][16:00:01] UFFTYPER: Unrecognized charge state for atom: 17\n",
      " 48%|████▊     | 115187/238706 [6:56:13<3:39:49,  9.37it/s]"
     ]
    },
    {
     "name": "stdout",
     "output_type": "stream",
     "text": [
      "Failed to process CCCCCCC=CCCCCCCSCC(=O)OCC(COP(=O)([O-])OCC[N+](C)(C)C)OC(=O)CSCCCCCCC=CCCCCCC: 'NoneType' object has no attribute 'GetPositions'\n"
     ]
    },
    {
     "name": "stderr",
     "output_type": "stream",
     "text": [
      " 48%|████▊     | 115357/238706 [6:56:26<2:31:14, 13.59it/s][16:00:20] UFFTYPER: Warning: hybridization set to SP3 for atom 4\n",
      " 48%|████▊     | 115588/238706 [6:56:47<3:43:38,  9.18it/s][16:00:41] UFFTYPER: Unrecognized charge state for atom: 10\n",
      " 48%|████▊     | 115636/238706 [6:56:51<3:24:07, 10.05it/s][16:00:45] UFFTYPER: Unrecognized charge state for atom: 9\n",
      " 49%|████▊     | 116132/238706 [6:57:43<9:07:43,  3.73it/s][16:01:36] UFFTYPER: Unrecognized atom type: Se2+2 (22)\n",
      " 49%|████▊     | 116231/238706 [6:58:04<6:02:13,  5.64it/s] [16:01:57] UFFTYPER: Unrecognized charge state for atom: 9\n",
      " 49%|████▊     | 116257/238706 [6:58:11<7:15:02,  4.69it/s] [16:02:04] UFFTYPER: Unrecognized charge state for atom: 8\n",
      " 49%|████▉     | 116493/238706 [6:58:47<2:54:52, 11.65it/s] [16:02:41] UFFTYPER: Unrecognized charge state for atom: 1\n",
      " 49%|████▉     | 116557/238706 [6:58:53<4:31:45,  7.49it/s]"
     ]
    },
    {
     "name": "stdout",
     "output_type": "stream",
     "text": [
      "Failed to process CCCCCCCCCCCCOCC1OC(OO)CC(OCCCCCCCCCCCC)C1OCCCCCCCCCCCC: 'NoneType' object has no attribute 'GetPositions'\n"
     ]
    },
    {
     "name": "stderr",
     "output_type": "stream",
     "text": [
      " 49%|████▉     | 116605/238706 [6:58:57<2:07:34, 15.95it/s][16:02:50] UFFTYPER: Unrecognized charge state for atom: 22\n",
      " 49%|████▉     | 116702/238706 [6:59:04<2:29:06, 13.64it/s]"
     ]
    },
    {
     "name": "stdout",
     "output_type": "stream",
     "text": [
      "Failed to process C=C(CCCCCCCCC)C(=O)CCC=CC(O)C(COC1OC(CO)C(O)C(O)C1O)NC(=O)C(O)C=CCCCCCCCCCCCCCC: 'NoneType' object has no attribute 'GetPositions'\n"
     ]
    },
    {
     "name": "stderr",
     "output_type": "stream",
     "text": [
      " 49%|████▉     | 116899/238706 [6:59:26<7:24:25,  4.57it/s][16:03:19] UFFTYPER: Unrecognized charge state for atom: 11\n",
      " 49%|████▉     | 117317/238706 [7:00:02<2:20:39, 14.38it/s][16:03:55] UFFTYPER: Unrecognized atom type: Se2+2 (7)\n",
      " 49%|████▉     | 117389/238706 [7:00:09<2:30:43, 13.42it/s][16:04:02] UFFTYPER: Unrecognized charge state for atom: 1\n",
      " 49%|████▉     | 117681/238706 [7:00:34<3:32:32,  9.49it/s][16:04:27] UFFTYPER: Unrecognized charge state for atom: 5\n",
      " 49%|████▉     | 117858/238706 [7:00:49<2:22:47, 14.11it/s][16:04:42] UFFTYPER: Unrecognized charge state for atom: 3\n",
      " 49%|████▉     | 118150/238706 [7:01:11<1:58:54, 16.90it/s][16:05:04] UFFTYPER: Unrecognized charge state for atom: 9\n",
      " 50%|████▉     | 118245/238706 [7:01:18<1:44:08, 19.28it/s][16:05:12] UFFTYPER: Unrecognized charge state for atom: 8\n",
      " 50%|████▉     | 118311/238706 [7:01:24<2:56:14, 11.39it/s][16:05:17] UFFTYPER: Unrecognized charge state for atom: 30\n",
      " 50%|████▉     | 118406/238706 [7:01:33<3:09:49, 10.56it/s][16:05:26] UFFTYPER: Unrecognized charge state for atom: 26\n",
      " 50%|████▉     | 118632/238706 [7:01:51<3:27:51,  9.63it/s]"
     ]
    },
    {
     "name": "stdout",
     "output_type": "stream",
     "text": [
      "Failed to process NCCCNCCCCNCCCNC(=O)c1cc(C(=O)NCCCNCCCCNCCCN)cc(C(=O)NCCCNCCCCNCCCN)c1: 'NoneType' object has no attribute 'GetPositions'\n"
     ]
    },
    {
     "name": "stderr",
     "output_type": "stream",
     "text": [
      " 50%|████▉     | 118668/238706 [7:01:54<2:18:04, 14.49it/s][16:05:48] UFFTYPER: Unrecognized charge state for atom: 1\n",
      " 50%|████▉     | 118954/238706 [7:02:21<6:24:32,  5.19it/s]"
     ]
    },
    {
     "name": "stdout",
     "output_type": "stream",
     "text": [
      "Failed to process CCCCCCCCCCCCCC(=O)NC(COP(=O)(O)OCCNC(=O)C(Cc1ccc(O)cc1)C(=O)O)C(=O)NCCC(CCCCCCC)OC(=O)CCCCCCCCCCC: 'NoneType' object has no attribute 'GetPositions'\n"
     ]
    },
    {
     "name": "stderr",
     "output_type": "stream",
     "text": [
      " 50%|████▉     | 119140/238706 [7:02:36<3:34:14,  9.30it/s][16:06:29] UFFTYPER: Unrecognized charge state for atom: 2\n",
      "[16:06:29] UFFTYPER: Unrecognized charge state for atom: 17\n",
      " 50%|████▉     | 119282/238706 [7:02:47<2:20:03, 14.21it/s][16:06:40] UFFTYPER: Unrecognized charge state for atom: 14\n",
      " 50%|█████     | 119369/238706 [7:02:54<3:12:29, 10.33it/s]"
     ]
    },
    {
     "name": "stdout",
     "output_type": "stream",
     "text": [
      "Failed to process N=C(N)NCCCC(NC(=O)C(CO)NC(=O)C(Cc1ccc(C(=O)c2ccccc2)cc1)NC(=O)C(CCCNC(=N)N)NC(=O)C(N)CCC(N)=O)C(=O)O: 'NoneType' object has no attribute 'GetPositions'\n"
     ]
    },
    {
     "name": "stderr",
     "output_type": "stream",
     "text": [
      " 50%|█████     | 119436/238706 [7:03:00<3:40:59,  9.00it/s][16:06:53] UFFTYPER: Unrecognized charge state for atom: 22\n",
      " 50%|█████     | 119725/238706 [7:03:23<2:32:32, 13.00it/s][16:07:16] UFFTYPER: Unrecognized charge state for atom: 4\n",
      " 50%|█████     | 119877/238706 [7:03:37<3:27:52,  9.53it/s][16:07:31] UFFTYPER: Unrecognized charge state for atom: 8\n",
      " 50%|█████     | 120060/238706 [7:03:56<2:36:06, 12.67it/s][16:07:49] UFFTYPER: Unrecognized charge state for atom: 16\n",
      "[16:07:49] UFFTYPER: Unrecognized charge state for atom: 24\n",
      " 50%|█████     | 120499/238706 [7:04:36<2:33:24, 12.84it/s][16:08:29] UFFTYPER: Unrecognized charge state for atom: 6\n",
      " 51%|█████     | 120939/238706 [7:05:10<2:02:20, 16.04it/s][16:09:04] UFFTYPER: Unrecognized atom type: Se2+2 (9)\n",
      "[16:09:04] UFFTYPER: Unrecognized atom type: Se2+2 (9)\n",
      " 51%|█████     | 121212/238706 [7:05:33<6:01:52,  5.41it/s][16:09:26] UFFTYPER: Unrecognized charge state for atom: 8\n",
      " 51%|█████     | 121347/238706 [7:05:45<2:04:20, 15.73it/s][16:09:38] UFFTYPER: Unrecognized charge state for atom: 10\n",
      " 51%|█████     | 121409/238706 [7:05:50<1:52:18, 17.41it/s][16:09:43] UFFTYPER: Unrecognized charge state for atom: 10\n",
      " 51%|█████     | 121417/238706 [7:05:50<2:23:27, 13.63it/s][16:09:44] UFFTYPER: Unrecognized atom type: Se2+2 (23)\n",
      " 51%|█████     | 121424/238706 [7:05:51<2:13:29, 14.64it/s][16:09:44] UFFTYPER: Unrecognized atom type: Se2+2 (14)\n",
      " 51%|█████     | 121457/238706 [7:05:54<2:46:04, 11.77it/s][16:09:47] UFFTYPER: Unrecognized charge state for atom: 17\n",
      " 51%|█████     | 121722/238706 [7:06:16<3:14:16, 10.04it/s][16:10:10] UFFTYPER: Unrecognized charge state for atom: 16\n",
      " 51%|█████     | 121770/238706 [7:06:20<2:28:41, 13.11it/s]"
     ]
    },
    {
     "name": "stdout",
     "output_type": "stream",
     "text": [
      "Failed to process CCCCCCC(CCCCCC)N(Cc1ccc(CC(C)C)cc1)C(Nc1ccc(N(C)C)cc1)=C1C(=O)OC(C)(C)OC1=O: 'NoneType' object has no attribute 'GetPositions'\n"
     ]
    },
    {
     "name": "stderr",
     "output_type": "stream",
     "text": [
      " 51%|█████     | 121847/238706 [7:06:27<1:59:03, 16.36it/s][16:10:20] UFFTYPER: Unrecognized charge state for atom: 8\n",
      " 51%|█████     | 121858/238706 [7:06:28<2:33:25, 12.69it/s][16:10:21] UFFTYPER: Unrecognized charge state for atom: 19\n",
      " 51%|█████     | 121880/238706 [7:06:30<2:05:42, 15.49it/s][16:10:23] UFFTYPER: Unrecognized charge state for atom: 11\n",
      " 51%|█████     | 121927/238706 [7:06:34<2:33:57, 12.64it/s][16:10:28] UFFTYPER: Unrecognized charge state for atom: 1\n",
      " 51%|█████     | 122049/238706 [7:06:45<3:04:00, 10.57it/s][16:10:38] UFFTYPER: Unrecognized charge state for atom: 12\n",
      " 51%|█████     | 122155/238706 [7:06:54<3:02:07, 10.67it/s][16:10:48] UFFTYPER: Unrecognized charge state for atom: 9\n",
      " 51%|█████     | 122161/238706 [7:06:55<3:01:30, 10.70it/s][16:10:48] UFFTYPER: Unrecognized charge state for atom: 3\n",
      " 51%|█████▏    | 122498/238706 [7:07:23<2:25:23, 13.32it/s][16:11:16] UFFTYPER: Unrecognized charge state for atom: 9\n",
      " 51%|█████▏    | 122514/238706 [7:07:24<2:35:49, 12.43it/s][16:11:17] UFFTYPER: Unrecognized charge state for atom: 11\n",
      " 51%|█████▏    | 122628/238706 [7:07:34<4:04:48,  7.90it/s]"
     ]
    },
    {
     "name": "stdout",
     "output_type": "stream",
     "text": [
      "Failed to process C=CC1CC1(NC(=O)C1CC(OC)(c2ccc(-c3ccccc3)nc2)CN1C(=O)C(NC(=O)OC1CCCC1)C(C)(C)C)C(=O)NS(=O)(=O)C1CC1: 'NoneType' object has no attribute 'GetPositions'\n"
     ]
    },
    {
     "name": "stderr",
     "output_type": "stream",
     "text": [
      " 52%|█████▏    | 123031/238706 [7:08:06<2:06:27, 15.25it/s][16:11:59] UFFTYPER: Unrecognized charge state for atom: 10\n",
      " 52%|█████▏    | 123864/238706 [7:09:27<5:02:08,  6.33it/s] [16:13:21] UFFTYPER: Unrecognized charge state for atom: 21\n",
      " 52%|█████▏    | 123982/238706 [7:09:37<2:30:42, 12.69it/s][16:13:30] UFFTYPER: Unrecognized atom type: S_5+6 (14)\n",
      " 52%|█████▏    | 124127/238706 [7:09:51<3:34:48,  8.89it/s][16:13:44] UFFTYPER: Unrecognized charge state for atom: 31\n",
      " 52%|█████▏    | 124132/238706 [7:09:52<3:31:01,  9.05it/s][16:13:45] UFFTYPER: Unrecognized charge state for atom: 16\n",
      " 52%|█████▏    | 124972/238706 [7:11:03<3:59:22,  7.92it/s][16:14:57] UFFTYPER: Unrecognized charge state for atom: 20\n",
      " 52%|█████▏    | 125060/238706 [7:11:11<3:13:49,  9.77it/s]"
     ]
    },
    {
     "name": "stdout",
     "output_type": "stream",
     "text": [
      "Failed to process CCCCCCCCCCCC(=O)Oc1ccc(COP(=O)(OCc2ccc(OC(=O)CCCC)cc2)OP(=O)(O)OCC2C=CC(n3cc(C)c(=O)[nH]c3=O)O2)cc1: 'NoneType' object has no attribute 'GetPositions'\n"
     ]
    },
    {
     "name": "stderr",
     "output_type": "stream",
     "text": [
      " 52%|█████▏    | 125080/238706 [7:11:13<2:47:42, 11.29it/s]"
     ]
    },
    {
     "name": "stdout",
     "output_type": "stream",
     "text": [
      "Failed to process O=C(CCCN1CCCC1)Nc1ccc2c(Nc3ccc(NC(=O)CCN4CCCC4)cc3)c3ccc(NC(=O)CCCN4CCCC4)cc3nc2c1: 'NoneType' object has no attribute 'GetPositions'\n"
     ]
    },
    {
     "name": "stderr",
     "output_type": "stream",
     "text": [
      " 52%|█████▏    | 125214/238706 [7:11:24<2:46:11, 11.38it/s][16:15:17] UFFTYPER: Unrecognized charge state for atom: 33\n",
      " 53%|█████▎    | 125331/238706 [7:11:34<2:26:16, 12.92it/s][16:15:27] UFFTYPER: Unrecognized charge state for atom: 14\n",
      " 53%|█████▎    | 125364/238706 [7:11:36<2:22:18, 13.27it/s][16:15:29] UFFTYPER: Unrecognized charge state for atom: 1\n",
      " 53%|█████▎    | 125442/238706 [7:11:45<2:11:54, 14.31it/s][16:15:38] UFFTYPER: Unrecognized charge state for atom: 4\n",
      "[16:15:38] UFFTYPER: Unrecognized charge state for atom: 13\n",
      " 53%|█████▎    | 125806/238706 [7:12:19<4:04:46,  7.69it/s][16:16:12] UFFTYPER: Unrecognized charge state for atom: 13\n",
      " 53%|█████▎    | 126006/238706 [7:12:35<3:02:59, 10.26it/s][16:16:28] UFFTYPER: Unrecognized charge state for atom: 7\n",
      " 53%|█████▎    | 126109/238706 [7:12:45<3:34:00,  8.77it/s][16:16:38] UFFTYPER: Unrecognized charge state for atom: 1\n",
      " 53%|█████▎    | 126118/238706 [7:12:45<2:36:26, 11.99it/s][16:16:39] UFFTYPER: Unrecognized charge state for atom: 3\n",
      " 53%|█████▎    | 126252/238706 [7:12:58<4:05:48,  7.62it/s][16:16:51] UFFTYPER: Unrecognized charge state for atom: 4\n",
      "[16:16:51] UFFTYPER: Unrecognized atom type: Se5+2 (4)\n",
      " 53%|█████▎    | 126516/238706 [7:13:23<3:30:33,  8.88it/s]"
     ]
    },
    {
     "name": "stdout",
     "output_type": "stream",
     "text": [
      "Failed to process COc1ccc(CNc2nc(NCC(C)OC(=O)Nc3ccc([N+](=O)[O-])cc3)nc3c(NCc4ccc(OC)c(OC)c4)nc(NCC(C)O)nc23)cc1OC: 'NoneType' object has no attribute 'GetPositions'\n"
     ]
    },
    {
     "name": "stderr",
     "output_type": "stream",
     "text": [
      " 53%|█████▎    | 126610/238706 [7:13:30<2:20:13, 13.32it/s][16:17:24] UFFTYPER: Unrecognized charge state for atom: 11\n",
      " 53%|█████▎    | 126706/238706 [7:13:42<5:50:29,  5.33it/s] [16:17:35] UFFTYPER: Unrecognized charge state for atom: 15\n",
      " 53%|█████▎    | 126776/238706 [7:13:48<1:51:27, 16.74it/s][16:17:41] UFFTYPER: Unrecognized charge state for atom: 15\n",
      " 53%|█████▎    | 127063/238706 [7:14:12<3:17:02,  9.44it/s][16:18:05] UFFTYPER: Unrecognized charge state for atom: 8\n",
      " 53%|█████▎    | 127264/238706 [7:14:31<2:20:58, 13.18it/s][16:18:25] UFFTYPER: Unrecognized atom type: Se2+2 (5)\n",
      " 53%|█████▎    | 127293/238706 [7:14:34<2:41:47, 11.48it/s][16:18:27] UFFTYPER: Unrecognized charge state for atom: 8\n",
      " 54%|█████▎    | 127865/238706 [7:15:16<2:09:03, 14.31it/s][16:19:09] UFFTYPER: Unrecognized charge state for atom: 26\n",
      " 54%|█████▎    | 128283/238706 [7:15:52<1:44:43, 17.57it/s][16:19:45] UFFTYPER: Unrecognized charge state for atom: 24\n",
      " 54%|█████▍    | 128520/238706 [7:16:11<1:50:17, 16.65it/s][16:20:04] UFFTYPER: Unrecognized atom type: Se2+2 (3)\n",
      "[16:20:04] UFFTYPER: Unrecognized atom type: Se2+2 (3)\n",
      " 54%|█████▍    | 129361/238706 [7:17:20<1:56:38, 15.63it/s][16:21:14] UFFTYPER: Unrecognized charge state for atom: 15\n",
      " 54%|█████▍    | 129452/238706 [7:17:28<2:30:59, 12.06it/s][16:21:22] UFFTYPER: Unrecognized charge state for atom: 20\n",
      " 54%|█████▍    | 129876/238706 [7:18:05<2:52:29, 10.52it/s][16:21:58] UFFTYPER: Unrecognized charge state for atom: 6\n",
      " 54%|█████▍    | 130010/238706 [7:38:48<126:03:30,  4.18s/it]  [16:42:42] UFFTYPER: Unrecognized charge state for atom: 25\n",
      " 54%|█████▍    | 130076/238706 [7:38:55<3:17:53,  9.15it/s]  [16:42:49] UFFTYPER: Unrecognized charge state for atom: 10\n",
      " 55%|█████▍    | 130141/238706 [7:39:09<2:32:36, 11.86it/s] "
     ]
    },
    {
     "name": "stdout",
     "output_type": "stream",
     "text": [
      "Failed to process CC(=O)NC(Cc1ccc2ccccc2c1)C(=O)NC(CCCCNC(=O)c1ccccn1)C(=O)NC(CCCN=C(N)N)C(=O)NC(C)C(N)=O: 'NoneType' object has no attribute 'GetPositions'\n"
     ]
    },
    {
     "name": "stderr",
     "output_type": "stream",
     "text": [
      " 55%|█████▍    | 130557/238706 [7:39:42<1:56:33, 15.46it/s]"
     ]
    },
    {
     "name": "stdout",
     "output_type": "stream",
     "text": [
      "Failed to process C=CC1CC1(NC(=O)C1CN(c2cc(N3CCCCC3)nc(OC)n2)CN1C(=O)C(NC(=O)OC1CCCC1)C(C)(C)C)C(=O)NS(=O)(=O)C1CC1: 'NoneType' object has no attribute 'GetPositions'\n"
     ]
    },
    {
     "name": "stderr",
     "output_type": "stream",
     "text": [
      " 55%|█████▍    | 130615/238706 [7:41:30<96:40:06,  3.22s/it] "
     ]
    },
    {
     "name": "stdout",
     "output_type": "stream",
     "text": [
      "Failed to process CCCCCCCCCCCC(=O)OC(CCCCCCCCCCC)CC(=O)NC(CCOP(=O)(O)O)C(=O)NCCCC(COP(=O)(O)O)NC(=O)CC(O)CCCCCCCCCCC: 'NoneType' object has no attribute 'GetPositions'\n"
     ]
    },
    {
     "name": "stderr",
     "output_type": "stream",
     "text": [
      " 55%|█████▍    | 130736/238706 [7:41:50<3:00:03,  9.99it/s] [16:45:43] UFFTYPER: Unrecognized charge state for atom: 14\n",
      " 55%|█████▍    | 130789/238706 [7:41:54<2:23:37, 12.52it/s][16:45:47] UFFTYPER: Unrecognized charge state for atom: 9\n",
      " 55%|█████▍    | 130863/238706 [7:41:59<1:31:34, 19.63it/s][16:45:52] UFFTYPER: Unrecognized charge state for atom: 8\n",
      " 55%|█████▍    | 131236/238706 [7:42:29<3:46:37,  7.90it/s][16:46:22] UFFTYPER: Unrecognized charge state for atom: 1\n",
      " 55%|█████▍    | 131265/238706 [7:42:31<1:54:13, 15.68it/s][16:46:24] UFFTYPER: Unrecognized charge state for atom: 12\n",
      " 55%|█████▌    | 131771/238706 [7:50:27<1:41:54, 17.49it/s]   [16:54:20] UFFTYPER: Unrecognized charge state for atom: 1\n",
      " 55%|█████▌    | 131776/238706 [7:50:28<1:58:46, 15.00it/s]"
     ]
    },
    {
     "name": "stdout",
     "output_type": "stream",
     "text": [
      "Failed to process Cc1cn(CC(=O)NC(CCC(=O)OCc2ccccc2)C(=O)NC(Cc2ccc(OCC(=O)O)cc2)C(=O)CC(CC(C)C)C(N)=O)c(=O)[nH]c1=O: 'NoneType' object has no attribute 'GetPositions'\n"
     ]
    },
    {
     "name": "stderr",
     "output_type": "stream",
     "text": [
      " 55%|█████▌    | 131998/238706 [7:50:45<5:48:07,  5.11it/s]"
     ]
    },
    {
     "name": "stdout",
     "output_type": "stream",
     "text": [
      "Failed to process CCNCCCCNCCCCNCCCCNCCCCNCCCCNCCCCNCCCCNCCCCNCCCCNCCCCNCCCCNCCCCNCCCCNCC: 'NoneType' object has no attribute 'GetPositions'\n"
     ]
    },
    {
     "name": "stderr",
     "output_type": "stream",
     "text": [
      " 55%|█████▌    | 132123/238706 [7:50:56<5:04:11,  5.84it/s][16:54:49] UFFTYPER: Unrecognized charge state for atom: 9\n",
      " 55%|█████▌    | 132146/238706 [7:50:57<2:29:16, 11.90it/s][16:54:50] UFFTYPER: Unrecognized charge state for atom: 13\n",
      " 56%|█████▌    | 132574/238706 [7:51:29<2:19:24, 12.69it/s]"
     ]
    },
    {
     "name": "stdout",
     "output_type": "stream",
     "text": [
      "Failed to process O=C(CC(C(=O)N1CCN(CCc2ccccc2)CC1)N1C(=O)C(N2C(=O)OCC2c2ccccc2)C1C=Cc1ccccc1)NCc1cccc(C(F)(F)F)c1: 'NoneType' object has no attribute 'GetPositions'\n"
     ]
    },
    {
     "name": "stderr",
     "output_type": "stream",
     "text": [
      " 56%|█████▌    | 132972/238706 [7:51:59<2:50:09, 10.36it/s][16:55:53] UFFTYPER: Unrecognized charge state for atom: 8\n",
      " 56%|█████▌    | 133080/238706 [7:52:08<3:54:21,  7.51it/s]"
     ]
    },
    {
     "name": "stdout",
     "output_type": "stream",
     "text": [
      "Failed to process CCCCCCCCCCCCCCCCCC(=O)OCC(COC1OC(CN)C(O)C(O)C1O)OC(=O)CCCCCCCCCCCCCCCCC: 'NoneType' object has no attribute 'GetPositions'\n"
     ]
    },
    {
     "name": "stderr",
     "output_type": "stream",
     "text": [
      " 56%|█████▌    | 133134/238706 [7:52:14<1:49:27, 16.07it/s][16:56:08] UFFTYPER: Unrecognized atom type: Se2+2 (8)\n",
      "[16:56:08] UFFTYPER: Unrecognized atom type: Se2+2 (8)\n",
      " 56%|█████▌    | 133270/238706 [7:52:25<2:23:10, 12.27it/s]"
     ]
    },
    {
     "name": "stdout",
     "output_type": "stream",
     "text": [
      "Failed to process Cc1ccc(S(=O)(=O)NCCN(CCNC(=O)Nc2ccc(Br)cc2)CCNS(=O)(=O)c2ccc(C)cc2)cc1: 'NoneType' object has no attribute 'GetPositions'\n"
     ]
    },
    {
     "name": "stderr",
     "output_type": "stream",
     "text": [
      " 56%|█████▌    | 133420/238706 [7:52:35<1:27:42, 20.01it/s][16:56:29] UFFTYPER: Unrecognized atom type: Se2+2 (3)\n",
      " 56%|█████▌    | 133427/238706 [7:52:36<2:49:40, 10.34it/s][16:56:29] UFFTYPER: Unrecognized charge state for atom: 11\n",
      " 56%|█████▌    | 133549/238706 [7:52:47<2:55:03, 10.01it/s][16:56:40] UFFTYPER: Unrecognized charge state for atom: 16\n",
      " 56%|█████▌    | 133983/238706 [8:31:14<27:03:14,  1.08it/s]   [17:35:07] UFFTYPER: Unrecognized charge state for atom: 14\n",
      " 56%|█████▌    | 134135/238706 [8:31:27<2:38:40, 10.98it/s] [17:35:20] UFFTYPER: Unrecognized atom type: S_6+6 (15)\n",
      " 56%|█████▌    | 134161/238706 [8:31:30<3:30:01,  8.30it/s][17:35:23] UFFTYPER: Unrecognized charge state for atom: 11\n",
      " 56%|█████▋    | 134355/238706 [8:31:43<1:30:39, 19.18it/s][17:35:37] UFFTYPER: Unrecognized charge state for atom: 8\n",
      " 56%|█████▋    | 134613/238706 [8:34:10<7:42:44,  3.75it/s]  [17:38:03] UFFTYPER: Unrecognized charge state for atom: 11\n",
      " 56%|█████▋    | 134632/238706 [8:34:14<7:33:14,  3.83it/s] "
     ]
    },
    {
     "name": "stdout",
     "output_type": "stream",
     "text": [
      "Failed to process CCCCCCCCCCCC(=O)OC1COC(OC)C(OC(=O)CCCCCCCCCCC)C1OC(=O)CCCCCCCCCCC: 'NoneType' object has no attribute 'GetPositions'\n"
     ]
    },
    {
     "name": "stderr",
     "output_type": "stream",
     "text": [
      " 56%|█████▋    | 134666/238706 [8:34:16<1:23:47, 20.69it/s][17:38:10] UFFTYPER: Unrecognized charge state for atom: 8\n",
      " 56%|█████▋    | 134722/238706 [8:34:20<1:34:53, 18.26it/s][17:38:13] UFFTYPER: Unrecognized charge state for atom: 24\n",
      " 56%|█████▋    | 134781/238706 [8:34:24<1:20:12, 21.59it/s][17:38:17] UFFTYPER: Unrecognized charge state for atom: 9\n",
      " 57%|█████▋    | 134903/238706 [8:34:34<2:01:17, 14.26it/s][17:38:27] UFFTYPER: Unrecognized charge state for atom: 4\n",
      " 57%|█████▋    | 134928/238706 [8:34:36<1:30:32, 19.10it/s][17:38:29] UFFTYPER: Unrecognized charge state for atom: 6\n",
      " 57%|█████▋    | 134945/238706 [8:34:36<1:25:36, 20.20it/s][17:38:30] UFFTYPER: Unrecognized charge state for atom: 23\n",
      " 57%|█████▋    | 135037/238706 [8:34:44<2:19:17, 12.40it/s][17:38:37] UFFTYPER: Unrecognized charge state for atom: 1\n",
      " 57%|█████▋    | 135337/238706 [8:35:58<3:59:43,  7.19it/s]  [17:39:51] UFFTYPER: Unrecognized charge state for atom: 1\n",
      " 57%|█████▋    | 135491/238706 [8:36:11<2:37:55, 10.89it/s]"
     ]
    },
    {
     "name": "stdout",
     "output_type": "stream",
     "text": [
      "Failed to process C[Si](C)(C)C#CC=CCOC(C(=O)NC1c2ccccc2CC1O)C(O)C(O)C(OCC=CC#C[Si](C)(C)C)C(=O)NC1c2ccccc2CC1O: 'NoneType' object has no attribute 'GetPositions'\n"
     ]
    },
    {
     "name": "stderr",
     "output_type": "stream",
     "text": [
      " 57%|█████▋    | 135984/238706 [8:37:36<1:13:32, 23.28it/s]  [17:41:29] UFFTYPER: Unrecognized charge state for atom: 1\n",
      " 57%|█████▋    | 136399/238706 [8:38:33<3:22:12,  8.43it/s] [17:42:26] UFFTYPER: Unrecognized charge state for atom: 11\n",
      " 57%|█████▋    | 137207/238706 [8:39:44<1:53:25, 14.91it/s][17:43:37] UFFTYPER: Unrecognized charge state for atom: 8\n",
      " 58%|█████▊    | 137979/238706 [8:40:51<2:45:48, 10.12it/s]"
     ]
    },
    {
     "name": "stdout",
     "output_type": "stream",
     "text": [
      "Failed to process C=CC1CC1(NC(=O)C1CC(Oc2cc(-c3ccccc3)nc3cc(OC)ccc23)CN1C(=O)CNC(=O)OC(C)(C)C)C(=O)NS(=O)(=O)C1CC1: 'NoneType' object has no attribute 'GetPositions'\n"
     ]
    },
    {
     "name": "stderr",
     "output_type": "stream",
     "text": [
      " 58%|█████▊    | 138057/238706 [8:40:58<2:28:19, 11.31it/s][17:44:52] UFFTYPER: Unrecognized atom type: S_6+6 (26)\n",
      " 58%|█████▊    | 138334/238706 [8:41:21<2:13:37, 12.52it/s][17:45:15] UFFTYPER: Unrecognized charge state for atom: 8\n",
      " 58%|█████▊    | 138639/238706 [8:41:45<2:09:27, 12.88it/s][17:45:38] UFFTYPER: Unrecognized atom type: S_5+6 (1)\n",
      " 58%|█████▊    | 138699/238706 [8:41:50<3:48:24,  7.30it/s][17:45:43] UFFTYPER: Unrecognized charge state for atom: 14\n",
      " 58%|█████▊    | 138991/238706 [8:42:16<2:21:45, 11.72it/s][17:46:09] UFFTYPER: Unrecognized charge state for atom: 4\n",
      " 58%|█████▊    | 139097/238706 [8:42:25<2:38:05, 10.50it/s]"
     ]
    },
    {
     "name": "stdout",
     "output_type": "stream",
     "text": [
      "Failed to process C#CCOCCOCCOCCNc1nc(N2CCN(C(=O)C(CCCCN)n3cc(CN)nn3)CC2)nc(N2CCN(C(=O)C(CCCCN)n3cc(CN)nn3)CC2)n1: 'NoneType' object has no attribute 'GetPositions'\n"
     ]
    },
    {
     "name": "stderr",
     "output_type": "stream",
     "text": [
      " 58%|█████▊    | 139384/238706 [8:42:51<2:52:02,  9.62it/s][17:46:44] UFFTYPER: Unrecognized charge state for atom: 21\n",
      " 58%|█████▊    | 139500/238706 [8:43:02<3:20:00,  8.27it/s]"
     ]
    },
    {
     "name": "stdout",
     "output_type": "stream",
     "text": [
      "Failed to process COC(=O)NC(C(=O)NN(CCCC(O)(Cc1ccccc1)C(=O)NC1c2ccccc2CC1O)Cc1ccc(-c2nc(C(C)(C)C)cs2)cc1)C(C)(C)C: 'NoneType' object has no attribute 'GetPositions'\n"
     ]
    },
    {
     "name": "stderr",
     "output_type": "stream",
     "text": [
      " 59%|█████▊    | 139713/238706 [8:43:22<2:49:35,  9.73it/s][17:47:15] UFFTYPER: Unrecognized atom type: Se2+2 (15)\n",
      " 59%|█████▊    | 139825/238706 [8:43:32<3:11:21,  8.61it/s][17:47:25] UFFTYPER: Unrecognized charge state for atom: 14\n",
      " 59%|█████▊    | 139829/238706 [8:43:32<2:46:04,  9.92it/s][17:47:26] UFFTYPER: Unrecognized charge state for atom: 9\n",
      " 59%|█████▊    | 140047/238706 [8:43:55<4:32:08,  6.04it/s] [17:47:48] UFFTYPER: Unrecognized charge state for atom: 11\n",
      " 59%|█████▊    | 140057/238706 [8:43:56<2:31:30, 10.85it/s][17:47:49] UFFTYPER: Unrecognized charge state for atom: 19\n",
      " 59%|█████▊    | 140068/238706 [8:43:57<2:07:23, 12.91it/s][17:47:50] UFFTYPER: Unrecognized charge state for atom: 8\n",
      " 59%|█████▊    | 140219/238706 [8:44:11<2:20:07, 11.71it/s][17:48:05] UFFTYPER: Unrecognized charge state for atom: 13\n",
      " 59%|█████▉    | 140513/238706 [8:44:38<2:22:37, 11.47it/s][17:48:31] UFFTYPER: Unrecognized charge state for atom: 9\n",
      " 59%|█████▉    | 140532/238706 [8:44:39<1:34:04, 17.39it/s][17:48:32] UFFTYPER: Unrecognized charge state for atom: 14\n",
      " 59%|█████▉    | 140665/238706 [8:44:50<2:18:19, 11.81it/s][17:48:43] UFFTYPER: Unrecognized charge state for atom: 1\n",
      " 59%|█████▉    | 140730/238706 [8:44:55<2:37:10, 10.39it/s][17:48:48] UFFTYPER: Unrecognized charge state for atom: 5\n",
      " 59%|█████▉    | 140802/238706 [8:45:03<2:33:02, 10.66it/s][17:48:56] UFFTYPER: Unrecognized charge state for atom: 4\n",
      " 59%|█████▉    | 140812/238706 [8:45:04<2:21:44, 11.51it/s][17:48:57] UFFTYPER: Unrecognized charge state for atom: 9\n",
      " 59%|█████▉    | 141243/238706 [8:45:40<1:59:31, 13.59it/s][17:49:33] UFFTYPER: Unrecognized charge state for atom: 9\n",
      " 59%|█████▉    | 141322/238706 [8:45:45<2:11:13, 12.37it/s][17:49:39] UFFTYPER: Unrecognized charge state for atom: 8\n",
      " 60%|█████▉    | 142415/238706 [8:47:16<2:52:39,  9.30it/s][17:51:09] UFFTYPER: Unrecognized atom type: S_6+6 (19)\n",
      " 60%|█████▉    | 142474/238706 [8:47:20<2:24:01, 11.14it/s][17:51:14] UFFTYPER: Unrecognized charge state for atom: 11\n",
      " 60%|█████▉    | 142661/238706 [8:47:38<5:39:58,  4.71it/s]"
     ]
    },
    {
     "name": "stdout",
     "output_type": "stream",
     "text": [
      "Failed to process c1cc2c(cn1)C1N3CCC1(CC3)C2: 'NoneType' object has no attribute 'GetPositions'\n"
     ]
    },
    {
     "name": "stderr",
     "output_type": "stream",
     "text": [
      " 60%|█████▉    | 142838/238706 [8:47:54<2:09:32, 12.33it/s][17:51:47] UFFTYPER: Unrecognized charge state for atom: 4\n",
      " 60%|█████▉    | 143014/238706 [8:48:09<2:10:09, 12.25it/s][17:52:02] UFFTYPER: Unrecognized charge state for atom: 11\n",
      " 60%|█████▉    | 143213/238706 [8:48:26<1:23:09, 19.14it/s][17:52:19] UFFTYPER: Unrecognized charge state for atom: 7\n",
      " 60%|██████    | 143330/238706 [8:48:35<3:08:08,  8.45it/s][17:52:28] UFFTYPER: Unrecognized charge state for atom: 9\n",
      " 60%|██████    | 143395/238706 [8:48:41<1:43:29, 15.35it/s][17:52:34] UFFTYPER: Unrecognized charge state for atom: 4\n",
      " 60%|██████    | 143403/238706 [8:48:41<1:34:56, 16.73it/s][17:52:34] UFFTYPER: Warning: hybridization set to SP3 for atom 1\n",
      " 60%|██████    | 143525/238706 [8:48:52<3:03:12,  8.66it/s][17:52:45] UFFTYPER: Unrecognized atom type: Se2+2 (3)\n",
      " 60%|██████    | 143632/238706 [8:49:01<1:47:12, 14.78it/s][17:52:54] UFFTYPER: Unrecognized charge state for atom: 17\n",
      " 60%|██████    | 143970/238706 [8:49:28<2:39:06,  9.92it/s][17:53:22] UFFTYPER: Unrecognized atom type: S_6+6 (27)\n",
      " 60%|██████    | 144181/238706 [8:49:45<3:24:22,  7.71it/s]"
     ]
    },
    {
     "name": "stdout",
     "output_type": "stream",
     "text": [
      "Failed to process C#CCOCCOCCOCCNc1nc(N2CCN(C(=O)Cn3cc(CCO)nn3)CC2)nc(N2CCN(C(=O)C(Cc3ccc(O)cc3)n3cc(CCO)nn3)CC2)n1: 'NoneType' object has no attribute 'GetPositions'\n"
     ]
    },
    {
     "name": "stderr",
     "output_type": "stream",
     "text": [
      " 60%|██████    | 144416/238706 [8:50:05<2:05:45, 12.50it/s][17:53:58] UFFTYPER: Unrecognized atom type: S_6+6 (9)\n",
      " 61%|██████    | 144574/238706 [8:50:17<2:06:57, 12.36it/s]"
     ]
    },
    {
     "name": "stdout",
     "output_type": "stream",
     "text": [
      "Failed to process CSCCC(NC(=O)C(CC(C)C)NC(=O)C(CCCCNC(C)=O)NC(=O)C(CCCCN)NC(=O)C(N)Cc1cnc[nH]1)C(=O)O: 'NoneType' object has no attribute 'GetPositions'\n"
     ]
    },
    {
     "name": "stderr",
     "output_type": "stream",
     "text": [
      " 61%|██████    | 144597/238706 [8:50:19<2:12:51, 11.81it/s][17:54:12] UFFTYPER: Unrecognized charge state for atom: 13\n",
      " 61%|██████    | 144746/238706 [8:50:30<2:20:39, 11.13it/s]"
     ]
    },
    {
     "name": "stdout",
     "output_type": "stream",
     "text": [
      "Failed to process COC(=O)c1c(O)cccc1OCCCCNC(=O)C(Cc1ccc(OC(C)C(=O)O)c(C(=O)O)c1)NC(=O)C(Cc1ccccc1)NC(=O)OC(C)(C)C: 'NoneType' object has no attribute 'GetPositions'\n"
     ]
    },
    {
     "name": "stderr",
     "output_type": "stream",
     "text": [
      " 61%|██████    | 144750/238706 [8:50:31<2:43:35,  9.57it/s][17:54:24] UFFTYPER: Unrecognized charge state for atom: 4\n",
      " 61%|██████    | 144912/238706 [8:50:44<2:27:26, 10.60it/s]"
     ]
    },
    {
     "name": "stdout",
     "output_type": "stream",
     "text": [
      "Failed to process C#CCOCCOCCOCCNc1nc(N2CCN(C(=O)Cn3cc(CCCCN)nn3)CC2)nc(N2CCN(C(=O)C(CCCCN)n3cc(CCCC)nn3)CC2)n1: 'NoneType' object has no attribute 'GetPositions'\n"
     ]
    },
    {
     "name": "stderr",
     "output_type": "stream",
     "text": [
      " 61%|██████    | 145026/238706 [8:50:53<2:34:11, 10.13it/s][17:54:46] UFFTYPER: Unrecognized atom type: Se2+2 (7)\n",
      " 61%|██████    | 145164/238706 [8:51:05<2:30:14, 10.38it/s][17:54:58] UFFTYPER: Unrecognized charge state for atom: 5\n",
      " 61%|██████    | 145182/238706 [8:51:06<1:58:56, 13.11it/s][17:54:59] UFFTYPER: Unrecognized charge state for atom: 1\n",
      " 61%|██████    | 145217/238706 [8:51:09<1:44:56, 14.85it/s][17:55:02] UFFTYPER: Unrecognized charge state for atom: 1\n",
      " 61%|██████    | 145223/238706 [8:51:09<1:56:23, 13.39it/s][17:55:02] UFFTYPER: Unrecognized charge state for atom: 15\n",
      " 61%|██████    | 145324/238706 [8:51:17<1:42:27, 15.19it/s][17:55:10] UFFTYPER: Unrecognized charge state for atom: 1\n",
      " 61%|██████    | 145368/238706 [8:51:20<1:21:47, 19.02it/s][17:55:13] UFFTYPER: Unrecognized charge state for atom: 13\n",
      " 61%|██████    | 145452/238706 [8:51:27<2:27:06, 10.57it/s][17:55:21] UFFTYPER: Unrecognized charge state for atom: 8\n",
      " 61%|██████    | 145488/238706 [8:51:32<4:04:27,  6.36it/s]"
     ]
    },
    {
     "name": "stdout",
     "output_type": "stream",
     "text": [
      "Failed to process COCCOCCOCCOCCOCCOCCOCCOCCOCCOCCOCCOCCNC(=O)c1nc(N)c(C(=O)NCCOCCOCCOCCOCCOCCOCCOCCOCCOCCOCCOCCOC)nc1N: 'NoneType' object has no attribute 'GetPositions'\n"
     ]
    },
    {
     "name": "stderr",
     "output_type": "stream",
     "text": [
      " 61%|██████    | 145587/238706 [8:51:40<2:16:50, 11.34it/s][17:55:33] UFFTYPER: Unrecognized charge state for atom: 22\n",
      " 61%|██████▏   | 146350/238706 [8:52:47<2:25:59, 10.54it/s]"
     ]
    },
    {
     "name": "stdout",
     "output_type": "stream",
     "text": [
      "Failed to process COc1cc(C=CC(=O)C(CC=C(C)CCC=C(C)C)C(=O)C=Cc2ccc(OCC=C(C)CCC=C(C)C)c(OC)c2)ccc1OCC=C(C)CCC=C(C)C: 'NoneType' object has no attribute 'GetPositions'\n"
     ]
    },
    {
     "name": "stderr",
     "output_type": "stream",
     "text": [
      " 61%|██████▏   | 146481/238706 [8:52:59<2:17:44, 11.16it/s][17:56:52] UFFTYPER: Unrecognized charge state for atom: 21\n",
      " 61%|██████▏   | 146530/238706 [8:53:04<6:49:21,  3.75it/s]"
     ]
    },
    {
     "name": "stdout",
     "output_type": "stream",
     "text": [
      "Failed to process CCCCCCCCCCCCOCCOCCOCCOCCOCCOCCOCCOCCOCCOCCOCCOCCOCCOCCOCCOCCOCCOCCOCCOCCOCCOCCOCCO: 'NoneType' object has no attribute 'GetPositions'\n"
     ]
    },
    {
     "name": "stderr",
     "output_type": "stream",
     "text": [
      " 62%|██████▏   | 146919/238706 [8:53:34<3:26:25,  7.41it/s][17:57:28] UFFTYPER: Unrecognized charge state for atom: 9\n",
      " 62%|██████▏   | 146956/238706 [8:53:37<2:19:01, 11.00it/s]"
     ]
    },
    {
     "name": "stdout",
     "output_type": "stream",
     "text": [
      "Failed to process CCCCC(OC(Cc1ccccc1)C(=O)N1CCC(OCOC)CC1)C(=O)NC(CC1CCCCC1)C(O)CC(C(=O)NCCNc1noc(N)n1)C(C)C: 'NoneType' object has no attribute 'GetPositions'\n"
     ]
    },
    {
     "name": "stderr",
     "output_type": "stream",
     "text": [
      " 62%|██████▏   | 147258/238706 [8:54:03<3:09:13,  8.05it/s][17:57:56] UFFTYPER: Unrecognized charge state for atom: 9\n",
      " 62%|██████▏   | 147570/238706 [8:54:28<3:03:39,  8.27it/s][17:58:22] UFFTYPER: Unrecognized charge state for atom: 11\n",
      " 62%|██████▏   | 147587/238706 [8:54:30<2:08:44, 11.80it/s][17:58:23] UFFTYPER: Unrecognized atom type: S_6+6 (34)\n",
      " 62%|██████▏   | 147602/238706 [8:54:31<2:02:48, 12.36it/s][17:58:24] UFFTYPER: Unrecognized atom type: Se2+2 (6)\n",
      "[17:58:24] UFFTYPER: Unrecognized atom type: Se2+2 (6)\n",
      " 62%|██████▏   | 147609/238706 [8:54:31<1:37:29, 15.57it/s][17:58:25] UFFTYPER: Unrecognized charge state for atom: 7\n",
      " 62%|██████▏   | 147748/238706 [8:54:42<1:57:38, 12.89it/s][17:58:35] UFFTYPER: Unrecognized charge state for atom: 1\n",
      " 62%|██████▏   | 147781/238706 [8:54:44<1:26:14, 17.57it/s][17:58:38] UFFTYPER: Unrecognized charge state for atom: 1\n",
      " 62%|██████▏   | 147808/238706 [8:54:47<1:34:32, 16.02it/s][17:58:40] UFFTYPER: Unrecognized charge state for atom: 21\n",
      " 62%|██████▏   | 147819/238706 [8:54:47<1:54:54, 13.18it/s][17:58:41] UFFTYPER: Unrecognized atom type: Se2+2 (6)\n",
      "[17:58:41] UFFTYPER: Unrecognized atom type: Se2+2 (6)\n",
      " 62%|██████▏   | 148246/238706 [8:55:23<1:28:29, 17.04it/s][17:59:16] UFFTYPER: Unrecognized charge state for atom: 11\n",
      " 62%|██████▏   | 148409/238706 [8:55:36<2:35:33,  9.67it/s]"
     ]
    },
    {
     "name": "stdout",
     "output_type": "stream",
     "text": [
      "Failed to process CCCCCCCCC=CCCCCCCCC(=O)OC(COC(=O)CCCCc1c(I)cc(I)c(N)c1I)COC(=O)CCCCc1c(I)cc(I)c(N)c1I: 'NoneType' object has no attribute 'GetPositions'\n"
     ]
    },
    {
     "name": "stderr",
     "output_type": "stream",
     "text": [
      " 62%|██████▏   | 148674/238706 [8:55:59<1:57:13, 12.80it/s]"
     ]
    },
    {
     "name": "stdout",
     "output_type": "stream",
     "text": [
      "Failed to process NCCCCC(NC(=O)C1CC(OCc2cccc(C(F)(F)F)c2)CN1C(=O)C(CCc1ccccc1)NC(=O)OCc1ccccc1)C(=O)c1nc2ccccc2o1: 'NoneType' object has no attribute 'GetPositions'\n"
     ]
    },
    {
     "name": "stderr",
     "output_type": "stream",
     "text": [
      " 62%|██████▏   | 149046/238706 [8:56:30<1:56:45, 12.80it/s][18:00:23] UFFTYPER: Unrecognized atom type: Se2+2 (9)\n",
      "[18:00:23] UFFTYPER: Unrecognized atom type: Se2+2 (23)\n",
      " 62%|██████▏   | 149051/238706 [8:56:30<1:33:06, 16.05it/s][18:00:23] UFFTYPER: Unrecognized charge state for atom: 7\n",
      "[18:00:23] UFFTYPER: Unrecognized charge state for atom: 33\n",
      " 63%|██████▎   | 149347/238706 [8:56:53<1:37:47, 15.23it/s][18:00:46] UFFTYPER: Unrecognized charge state for atom: 4\n",
      " 63%|██████▎   | 149780/238706 [8:57:32<2:02:31, 12.10it/s][18:01:25] UFFTYPER: Unrecognized charge state for atom: 10\n",
      " 63%|██████▎   | 150011/238706 [8:57:51<1:37:54, 15.10it/s][18:01:44] UFFTYPER: Unrecognized charge state for atom: 3\n",
      " 63%|██████▎   | 150568/238706 [8:58:43<2:36:02,  9.41it/s][18:02:36] UFFTYPER: Unrecognized charge state for atom: 22\n",
      " 63%|██████▎   | 150714/238706 [8:58:56<1:13:38, 19.91it/s][18:02:49] UFFTYPER: Unrecognized charge state for atom: 1\n",
      " 63%|██████▎   | 150927/238706 [8:59:13<1:37:01, 15.08it/s][18:03:07] UFFTYPER: Unrecognized atom type: Se2+2 (32)\n",
      " 63%|██████▎   | 151214/238706 [8:59:41<2:48:25,  8.66it/s]"
     ]
    },
    {
     "name": "stdout",
     "output_type": "stream",
     "text": [
      "Failed to process C#CCN(CC1C(OC(=O)NC2CCCC2)C(OC(=O)NC2CCCC2)CN(C(=O)OC(C)C)N1C(=O)OC(C)C)S(=O)(=O)c1ccc(C)cc1: 'NoneType' object has no attribute 'GetPositions'\n"
     ]
    },
    {
     "name": "stderr",
     "output_type": "stream",
     "text": [
      " 64%|██████▎   | 151995/238706 [9:00:48<2:25:26,  9.94it/s][18:04:42] UFFTYPER: Warning: hybridization set to SP3 for atom 21\n",
      " 64%|██████▍   | 152217/238706 [9:01:08<1:48:36, 13.27it/s][18:05:01] UFFTYPER: Unrecognized atom type: S_6+6 (18)\n",
      " 64%|██████▍   | 152433/238706 [9:01:24<1:46:07, 13.55it/s][18:05:17] UFFTYPER: Unrecognized charge state for atom: 9\n",
      " 64%|██████▍   | 152793/238706 [9:01:54<1:54:50, 12.47it/s][18:05:47] UFFTYPER: Unrecognized charge state for atom: 4\n",
      " 64%|██████▍   | 153174/238706 [9:02:27<2:04:15, 11.47it/s]"
     ]
    },
    {
     "name": "stdout",
     "output_type": "stream",
     "text": [
      "Failed to process O=C(CC(Cc1c[nH]c2ccccc12)(NC(=O)OC1C2CC3CC(C2)CC1C3)C(=O)NCCc1ccc(OS(=O)(=O)O)cc1)NCCc1ccccc1: 'NoneType' object has no attribute 'GetPositions'\n"
     ]
    },
    {
     "name": "stderr",
     "output_type": "stream",
     "text": [
      " 64%|██████▍   | 153284/238706 [9:02:37<2:07:22, 11.18it/s][18:06:30] UFFTYPER: Unrecognized charge state for atom: 8\n",
      " 64%|██████▍   | 153872/238706 [9:03:23<1:26:49, 16.28it/s][18:07:16] UFFTYPER: Unrecognized charge state for atom: 16\n",
      " 65%|██████▍   | 154299/238706 [9:04:01<3:25:24,  6.85it/s]"
     ]
    },
    {
     "name": "stdout",
     "output_type": "stream",
     "text": [
      "Failed to process CC(C)CCCCCCOC(=O)c1ccc(C(=O)OCCCCCCC(C)C)c(C(=O)OCCCCCCC(C)C)c1: 'NoneType' object has no attribute 'GetPositions'\n"
     ]
    },
    {
     "name": "stderr",
     "output_type": "stream",
     "text": [
      " 65%|██████▍   | 154485/238706 [9:04:18<1:25:46, 16.36it/s][18:08:11] UFFTYPER: Unrecognized charge state for atom: 9\n",
      " 65%|██████▍   | 154633/238706 [9:04:31<1:59:57, 11.68it/s][18:08:25] UFFTYPER: Unrecognized charge state for atom: 1\n",
      " 65%|██████▍   | 154876/238706 [9:04:52<1:59:51, 11.66it/s][18:08:46] UFFTYPER: Unrecognized charge state for atom: 1\n",
      " 65%|██████▍   | 155125/238706 [9:05:13<2:04:18, 11.21it/s][18:09:06] UFFTYPER: Unrecognized charge state for atom: 28\n",
      " 65%|██████▌   | 155176/238706 [9:05:18<1:33:30, 14.89it/s][18:09:12] UFFTYPER: Unrecognized charge state for atom: 11\n",
      " 65%|██████▌   | 155241/238706 [9:05:24<2:52:12,  8.08it/s]"
     ]
    },
    {
     "name": "stdout",
     "output_type": "stream",
     "text": [
      "Failed to process CCCCCCCCCCCCCCCC(=O)OCC(COC(=O)c1ccc(C(=O)C(C)(C)C)cc1)OC(=O)CCCCCCCCCCCCCCC: 'NoneType' object has no attribute 'GetPositions'\n"
     ]
    },
    {
     "name": "stderr",
     "output_type": "stream",
     "text": [
      " 65%|██████▌   | 155298/238706 [9:05:29<1:42:49, 13.52it/s][18:09:22] UFFTYPER: Unrecognized charge state for atom: 16\n",
      " 65%|██████▌   | 155623/238706 [9:05:57<2:28:43,  9.31it/s][18:09:50] UFFTYPER: Unrecognized charge state for atom: 25\n",
      " 65%|██████▌   | 156347/238706 [9:06:58<2:37:37,  8.71it/s][18:10:51] UFFTYPER: Unrecognized charge state for atom: 4\n",
      " 66%|██████▌   | 156472/238706 [9:07:09<1:30:33, 15.14it/s][18:11:02] UFFTYPER: Unrecognized charge state for atom: 7\n",
      " 66%|██████▌   | 156884/238706 [9:07:43<2:00:04, 11.36it/s][18:11:37] UFFTYPER: Unrecognized charge state for atom: 1\n",
      " 66%|██████▌   | 157524/238706 [9:08:37<2:49:09,  8.00it/s][18:12:31] UFFTYPER: Unrecognized charge state for atom: 1\n",
      " 66%|██████▌   | 157661/238706 [9:08:49<1:47:41, 12.54it/s][18:12:42] UFFTYPER: Unrecognized charge state for atom: 30\n",
      " 66%|██████▌   | 157873/238706 [9:09:09<2:16:39,  9.86it/s][18:13:03] UFFTYPER: Unrecognized charge state for atom: 18\n",
      " 66%|██████▌   | 158094/238706 [9:09:28<3:01:18,  7.41it/s][18:13:22] UFFTYPER: Unrecognized charge state for atom: 15\n",
      " 66%|██████▋   | 158171/238706 [9:09:36<3:29:27,  6.41it/s]"
     ]
    },
    {
     "name": "stdout",
     "output_type": "stream",
     "text": [
      "Failed to process CCOc1ccc(CC(N=C(O)CNS(=O)(=O)c2ccc(C)cc2)C(O)=NC(Cc2ccccc2)C(O)=NCc2ccc(CN)cc2)cc1: 'NoneType' object has no attribute 'GetPositions'\n"
     ]
    },
    {
     "name": "stderr",
     "output_type": "stream",
     "text": [
      " 66%|██████▋   | 158205/238706 [9:09:38<2:26:13,  9.18it/s][18:13:32] UFFTYPER: Unrecognized charge state for atom: 50\n",
      " 66%|██████▋   | 158251/238706 [9:09:44<2:37:08,  8.53it/s][18:13:37] UFFTYPER: Unrecognized charge state for atom: 10\n",
      " 66%|██████▋   | 158366/238706 [9:09:56<2:23:10,  9.35it/s]"
     ]
    },
    {
     "name": "stdout",
     "output_type": "stream",
     "text": [
      "Failed to process O=C1C(c2ccccc2)N2CCCCCN1C2=O: 'NoneType' object has no attribute 'GetPositions'\n"
     ]
    },
    {
     "name": "stderr",
     "output_type": "stream",
     "text": [
      " 66%|██████▋   | 158446/238706 [9:10:16<2:33:05,  8.74it/s] [18:14:09] UFFTYPER: Unrecognized charge state for atom: 43\n",
      " 67%|██████▋   | 158838/238706 [9:10:55<2:07:55, 10.41it/s][18:14:48] UFFTYPER: Unrecognized charge state for atom: 1\n",
      " 67%|██████▋   | 159141/238706 [9:11:23<1:00:20, 21.98it/s][18:15:16] UFFTYPER: Unrecognized atom type: Se2+2 (25)\n",
      "[18:15:16] UFFTYPER: Unrecognized atom type: Se2+2 (25)\n",
      " 67%|██████▋   | 159155/238706 [9:11:24<1:59:59, 11.05it/s]"
     ]
    },
    {
     "name": "stdout",
     "output_type": "stream",
     "text": [
      "Failed to process CCCCCCCCCCCCCC(=O)OCC(COP(=O)(O)OCC1OC(n2cnc3c(N)nc(F)nc32)C(O)C1O)OC(=O)CCCCCCCCCCCCC: 'NoneType' object has no attribute 'GetPositions'\n"
     ]
    },
    {
     "name": "stderr",
     "output_type": "stream",
     "text": [
      "[18:15:17] UFFTYPER: Unrecognized charge state for atom: 18\n",
      " 67%|██████▋   | 159255/238706 [9:11:40<18:20:11,  1.20it/s]"
     ]
    },
    {
     "name": "stdout",
     "output_type": "stream",
     "text": [
      "Failed to process COC(=O)N1CC2C3C4CC(C(c5ccccc5)=C4c4ccccc4)C3C21: 'NoneType' object has no attribute 'GetPositions'\n"
     ]
    },
    {
     "name": "stderr",
     "output_type": "stream",
     "text": [
      " 67%|██████▋   | 159279/238706 [9:11:43<1:58:27, 11.17it/s] [18:15:36] UFFTYPER: Unrecognized charge state for atom: 15\n",
      " 67%|██████▋   | 159383/238706 [9:11:51<1:28:53, 14.87it/s]"
     ]
    },
    {
     "name": "stdout",
     "output_type": "stream",
     "text": [
      "Failed to process CCC(C)C(=O)CC12C(OC(C)=O)C(OC(C)=O)CC(C)(O)C13OC(C)(C)C(C(OC(=O)C(C)C)C2OC(=O)c1ccoc1)C3OC(C)=O: 'NoneType' object has no attribute 'GetPositions'\n"
     ]
    },
    {
     "name": "stderr",
     "output_type": "stream",
     "text": [
      " 67%|██████▋   | 159499/238706 [9:12:00<1:56:11, 11.36it/s][18:15:53] UFFTYPER: Unrecognized charge state for atom: 20\n",
      " 67%|██████▋   | 159560/238706 [9:12:04<1:13:52, 17.85it/s][18:15:57] UFFTYPER: Unrecognized atom type: S_6+6 (22)\n",
      " 67%|██████▋   | 159896/238706 [9:12:34<1:49:18, 12.02it/s][18:16:27] UFFTYPER: Unrecognized charge state for atom: 9\n",
      " 67%|██████▋   | 160218/238706 [9:12:58<1:56:46, 11.20it/s]"
     ]
    },
    {
     "name": "stdout",
     "output_type": "stream",
     "text": [
      "Failed to process COC(=O)C(Cc1ccccc1)NC(=O)CCNNC(=O)C(CCCCNC(=O)OCc1ccccc1)NC(=O)Cc1cccc(Oc2ccccc2)c1: 'NoneType' object has no attribute 'GetPositions'\n"
     ]
    },
    {
     "name": "stderr",
     "output_type": "stream",
     "text": [
      " 67%|██████▋   | 160401/238706 [9:13:14<1:55:44, 11.28it/s][18:17:07] UFFTYPER: Unrecognized charge state for atom: 1\n",
      " 67%|██████▋   | 160455/238706 [9:13:17<1:30:54, 14.35it/s][18:17:10] UFFTYPER: Unrecognized charge state for atom: 1\n",
      " 67%|██████▋   | 160830/238706 [9:13:49<2:16:34,  9.50it/s][18:17:42] UFFTYPER: Unrecognized charge state for atom: 7\n",
      " 68%|██████▊   | 161257/238706 [9:14:25<2:41:32,  7.99it/s][18:18:18] UFFTYPER: Unrecognized charge state for atom: 7\n",
      " 68%|██████▊   | 161653/238706 [9:14:57<3:54:41,  5.47it/s]"
     ]
    },
    {
     "name": "stdout",
     "output_type": "stream",
     "text": [
      "Failed to process CCN(CC)c1ccc(C=C2CC(=Cc3ccc(N(CCOCCOCCOCCOCCOC)CCOCCOCCOCCOCCOC)cc3)C2)cc1: 'NoneType' object has no attribute 'GetPositions'\n"
     ]
    },
    {
     "name": "stderr",
     "output_type": "stream",
     "text": [
      " 68%|██████▊   | 162155/238706 [9:15:42<1:52:01, 11.39it/s][18:19:35] UFFTYPER: Unrecognized charge state for atom: 7\n",
      " 68%|██████▊   | 162185/238706 [9:15:44<1:35:30, 13.35it/s][18:19:37] UFFTYPER: Unrecognized atom type: Se2+2 (7)\n",
      "[18:19:37] UFFTYPER: Unrecognized atom type: Se2+2 (21)\n",
      "[18:19:38] UFFTYPER: Unrecognized charge state for atom: 8\n",
      " 68%|██████▊   | 162263/238706 [9:15:51<2:43:51,  7.78it/s][18:19:44] UFFTYPER: Unrecognized charge state for atom: 8\n",
      " 68%|██████▊   | 162803/238706 [9:16:35<1:39:14, 12.75it/s][18:20:28] UFFTYPER: Unrecognized charge state for atom: 1\n",
      " 68%|██████▊   | 163007/238706 [9:16:53<1:36:02, 13.14it/s][18:20:46] UFFTYPER: Unrecognized charge state for atom: 8\n",
      " 68%|██████▊   | 163129/238706 [9:17:04<2:19:31,  9.03it/s][18:20:57] UFFTYPER: Unrecognized charge state for atom: 1\n",
      " 68%|██████▊   | 163163/238706 [9:17:07<2:04:09, 10.14it/s][18:21:01] UFFTYPER: Unrecognized atom type: Se2+2 (13)\n",
      "[18:21:01] UFFTYPER: Unrecognized atom type: Se2+2 (13)\n",
      " 68%|██████▊   | 163275/238706 [9:17:18<1:58:51, 10.58it/s][18:21:11] UFFTYPER: Unrecognized charge state for atom: 18\n",
      " 68%|██████▊   | 163381/238706 [9:17:27<1:34:53, 13.23it/s][18:21:20] UFFTYPER: Unrecognized charge state for atom: 7\n",
      " 68%|██████▊   | 163480/238706 [9:17:34<1:13:52, 16.97it/s][18:21:27] UFFTYPER: Unrecognized charge state for atom: 21\n",
      " 69%|██████▊   | 163784/238706 [9:18:00<1:57:04, 10.67it/s][18:21:53] UFFTYPER: Unrecognized charge state for atom: 10\n",
      " 69%|██████▉   | 164906/238706 [9:19:36<1:58:51, 10.35it/s][18:23:29] UFFTYPER: Unrecognized atom type: Se2+2 (16)\n",
      " 69%|██████▉   | 165060/238706 [9:19:49<1:51:09, 11.04it/s][18:23:43] UFFTYPER: Unrecognized charge state for atom: 1\n",
      " 69%|██████▉   | 165325/238706 [9:20:13<1:45:03, 11.64it/s][18:24:06] UFFTYPER: Unrecognized charge state for atom: 23\n",
      " 69%|██████▉   | 165341/238706 [9:20:14<1:22:25, 14.84it/s][18:24:07] UFFTYPER: Unrecognized atom type: Se2+2 (8)\n",
      "[18:24:07] UFFTYPER: Unrecognized atom type: Se2+2 (13)\n",
      "[18:24:07] UFFTYPER: Unrecognized atom type: Se2+2 (8)\n",
      "[18:24:07] UFFTYPER: Unrecognized atom type: Se2+2 (13)\n",
      " 69%|██████▉   | 165372/238706 [9:20:16<1:52:31, 10.86it/s][18:24:09] UFFTYPER: Unrecognized atom type: Se2+2 (20)\n",
      "[18:24:09] UFFTYPER: Unrecognized atom type: Se2+2 (20)\n",
      " 69%|██████▉   | 165388/238706 [9:20:17<1:54:17, 10.69it/s][18:24:10] UFFTYPER: Unrecognized atom type: Se2+2 (18)\n",
      " 69%|██████▉   | 165498/238706 [9:20:26<1:28:40, 13.76it/s][18:24:19] UFFTYPER: Warning: hybridization set to SP3 for atom 6\n",
      " 69%|██████▉   | 165503/238706 [9:20:26<1:20:47, 15.10it/s][18:24:19] UFFTYPER: Unrecognized atom type: Se2+2 (8)\n",
      " 69%|██████▉   | 165705/238706 [9:20:42<2:32:01,  8.00it/s][18:24:35] UFFTYPER: Unrecognized charge state for atom: 17\n",
      " 69%|██████▉   | 165823/238706 [9:20:52<1:34:49, 12.81it/s]"
     ]
    },
    {
     "name": "stdout",
     "output_type": "stream",
     "text": [
      "Failed to process CCCCCCCCCC(=O)OC1C(CNC(=O)NC)OC(n2cnc3c(NC(=O)Nc4ccccc4)ncnc32)C1OC(=O)CCCCCCCCC: 'NoneType' object has no attribute 'GetPositions'\n"
     ]
    },
    {
     "name": "stderr",
     "output_type": "stream",
     "text": [
      " 70%|██████▉   | 166015/238706 [9:21:09<1:42:04, 11.87it/s][18:25:02] UFFTYPER: Unrecognized charge state for atom: 7\n",
      " 70%|██████▉   | 166244/238706 [9:21:29<2:19:09,  8.68it/s]"
     ]
    },
    {
     "name": "stdout",
     "output_type": "stream",
     "text": [
      "Failed to process CCC(C)CNC(=O)CC(O)C(CC(C)C)NC(=O)C(CCCCN=C(NC#N)SC)NC(=O)C(Cc1cccc2ccccc12)Cc1cccc2ccccc12: 'NoneType' object has no attribute 'GetPositions'\n"
     ]
    },
    {
     "name": "stderr",
     "output_type": "stream",
     "text": [
      " 70%|██████▉   | 166365/238706 [9:21:39<1:47:09, 11.25it/s][18:25:32] UFFTYPER: Unrecognized charge state for atom: 10\n",
      " 70%|██████▉   | 166484/238706 [9:21:48<1:20:34, 14.94it/s][18:25:42] UFFTYPER: Unrecognized atom type: S_5+4 (2)\n",
      " 70%|██████▉   | 166545/238706 [9:21:53<1:41:40, 11.83it/s][18:25:47] UFFTYPER: Unrecognized charge state for atom: 9\n",
      " 70%|██████▉   | 167093/238706 [9:22:39<2:12:06,  9.03it/s][18:26:32] UFFTYPER: Unrecognized atom type: Se2+2 (6)\n",
      " 70%|███████   | 167329/238706 [9:23:02<2:35:36,  7.64it/s][18:26:55] UFFTYPER: Unrecognized charge state for atom: 9\n",
      " 70%|███████   | 167769/238706 [9:23:38<1:54:13, 10.35it/s][18:27:32] UFFTYPER: Unrecognized charge state for atom: 13\n",
      " 70%|███████   | 167901/238706 [9:23:49<1:24:05, 14.03it/s][18:27:42] UFFTYPER: Unrecognized charge state for atom: 4\n",
      " 71%|███████   | 168976/238706 [9:25:16<57:59, 20.04it/s]  [18:29:10] UFFTYPER: Unrecognized atom type: Se2+2 (27)\n",
      " 71%|███████   | 169022/238706 [9:25:19<1:32:38, 12.54it/s][18:29:13] UFFTYPER: Unrecognized charge state for atom: 7\n",
      " 71%|███████   | 169090/238706 [9:25:25<1:58:20,  9.80it/s][18:29:18] UFFTYPER: Unrecognized charge state for atom: 1\n",
      " 71%|███████   | 169557/238706 [9:26:03<1:27:09, 13.22it/s][18:29:56] UFFTYPER: Unrecognized charge state for atom: 5\n",
      " 71%|███████   | 169754/238706 [9:26:19<1:38:19, 11.69it/s][18:30:12] UFFTYPER: Unrecognized atom type: Se2+2 (15)\n",
      " 71%|███████   | 169884/238706 [9:26:28<1:08:01, 16.86it/s][18:30:22] UFFTYPER: Unrecognized charge state for atom: 3\n",
      " 71%|███████   | 170030/238706 [9:26:42<2:04:06,  9.22it/s][18:30:35] UFFTYPER: Unrecognized charge state for atom: 13\n",
      " 71%|███████▏  | 170108/238706 [9:26:48<1:32:01, 12.42it/s]"
     ]
    },
    {
     "name": "stdout",
     "output_type": "stream",
     "text": [
      "Failed to process Clc1ccc2c(NCCCN(CCC34CC5CC(CC(C5)C3)C4)CCC34CC5CC(CC(C5)C3)C4)ccnc2c1: 'NoneType' object has no attribute 'GetPositions'\n"
     ]
    },
    {
     "name": "stderr",
     "output_type": "stream",
     "text": [
      " 71%|███████▏  | 170120/238706 [9:26:49<2:15:01,  8.47it/s]"
     ]
    },
    {
     "name": "stdout",
     "output_type": "stream",
     "text": [
      "Failed to process NCC1OC(OC2C(CO)OC(OC3C(O)C(N)CC(N)C3OC3OC(CO)C(O)C(O)C3N)C2OCCNCCc2ccc3ccccc3c2)C(N)C(O)C1O: 'NoneType' object has no attribute 'GetPositions'\n"
     ]
    },
    {
     "name": "stderr",
     "output_type": "stream",
     "text": [
      " 71%|███████▏  | 170238/238706 [9:26:59<1:51:15, 10.26it/s][18:30:52] UFFTYPER: Unrecognized charge state for atom: 1\n",
      " 71%|███████▏  | 170576/238706 [9:27:27<1:26:07, 13.19it/s][18:31:20] UFFTYPER: Unrecognized charge state for atom: 14\n",
      " 72%|███████▏  | 171052/238706 [9:28:04<1:44:46, 10.76it/s]"
     ]
    },
    {
     "name": "stdout",
     "output_type": "stream",
     "text": [
      "Failed to process COC(=O)NC(C(=O)NN(Cc1ccc(C#Cc2cccnc2)cc1)CC(O)(Cc1ccccc1)C(=O)NC1c2ccccc2CC1O)C(C)(C)C: 'NoneType' object has no attribute 'GetPositions'\n"
     ]
    },
    {
     "name": "stderr",
     "output_type": "stream",
     "text": [
      " 72%|███████▏  | 171172/238706 [9:28:13<1:40:35, 11.19it/s][18:32:07] UFFTYPER: Unrecognized charge state for atom: 8\n",
      " 72%|███████▏  | 171206/238706 [9:28:16<1:09:03, 16.29it/s][18:32:09] UFFTYPER: Unrecognized charge state for atom: 31\n",
      " 72%|███████▏  | 171389/238706 [9:28:29<1:05:46, 17.06it/s]"
     ]
    },
    {
     "name": "stdout",
     "output_type": "stream",
     "text": [
      "Failed to process CCC(C)C(NC(=O)OCc1ccccc1)C(=O)NC(CCCC(=O)OC(C)(C)C)C(=O)NC(C)C(=O)NC(C=CS(C)(=O)=O)CC(C)C: 'NoneType' object has no attribute 'GetPositions'\n"
     ]
    },
    {
     "name": "stderr",
     "output_type": "stream",
     "text": [
      "[18:32:23] UFFTYPER: Unrecognized charge state for atom: 8\n",
      " 72%|███████▏  | 171422/238706 [9:28:32<2:22:58,  7.84it/s][18:32:26] UFFTYPER: Unrecognized atom type: Se2+2 (3)\n",
      " 72%|███████▏  | 171651/238706 [9:28:52<1:24:34, 13.21it/s][18:32:45] UFFTYPER: Unrecognized charge state for atom: 1\n",
      " 72%|███████▏  | 171742/238706 [9:29:00<1:27:05, 12.81it/s][18:32:53] UFFTYPER: Unrecognized charge state for atom: 4\n",
      " 72%|███████▏  | 171762/238706 [9:29:02<1:35:33, 11.68it/s][18:32:55] UFFTYPER: Unrecognized charge state for atom: 5\n",
      " 72%|███████▏  | 171846/238706 [9:29:08<1:23:18, 13.38it/s][18:33:01] UFFTYPER: Unrecognized charge state for atom: 8\n",
      "[18:33:01] UFFTYPER: Unrecognized charge state for atom: 37\n",
      " 72%|███████▏  | 171969/238706 [9:29:20<1:36:15, 11.55it/s][18:33:14] UFFTYPER: Unrecognized charge state for atom: 14\n",
      " 72%|███████▏  | 172053/238706 [9:29:30<2:42:02,  6.86it/s]"
     ]
    },
    {
     "name": "stdout",
     "output_type": "stream",
     "text": [
      "Failed to process CCCCCCCCCCCCCCCCCCCCCCCCCC(=O)NC(COC1OC(C(=O)Nc2ccccc2)C(O)C(O)C1O)C(O)C(O)CCCCCCCCCCCCCC: 'NoneType' object has no attribute 'GetPositions'\n"
     ]
    },
    {
     "name": "stderr",
     "output_type": "stream",
     "text": [
      " 72%|███████▏  | 172151/238706 [9:29:39<1:24:02, 13.20it/s][18:33:32] UFFTYPER: Unrecognized charge state for atom: 10\n",
      " 72%|███████▏  | 172274/238706 [9:29:49<50:30, 21.92it/s]  [18:33:42] UFFTYPER: Unrecognized atom type: Se2+2 (7)\n",
      " 72%|███████▏  | 172686/238706 [9:30:23<2:06:40,  8.69it/s][18:34:16] UFFTYPER: Unrecognized charge state for atom: 11\n",
      " 73%|███████▎  | 173071/238706 [9:30:55<1:57:08,  9.34it/s]"
     ]
    },
    {
     "name": "stdout",
     "output_type": "stream",
     "text": [
      "Failed to process NCCCCC(NC(=O)CN(CCNC(=O)C(N)Cc1ccccc1)C(=O)C(CCCCNC(=O)OCc1ccccc1)NC(=O)OCc1ccccc1)C(=O)O: 'NoneType' object has no attribute 'GetPositions'\n"
     ]
    },
    {
     "name": "stderr",
     "output_type": "stream",
     "text": [
      " 73%|███████▎  | 173213/238706 [9:31:08<1:21:28, 13.40it/s][18:35:01] UFFTYPER: Unrecognized atom type: Se2+2 (8)\n",
      "[18:35:01] UFFTYPER: Unrecognized atom type: Se2+2 (19)\n",
      "[18:35:01] UFFTYPER: Unrecognized atom type: Se2+2 (8)\n",
      "[18:35:01] UFFTYPER: Unrecognized atom type: Se2+2 (19)\n",
      " 73%|███████▎  | 173603/238706 [9:31:40<1:22:23, 13.17it/s][18:35:33] UFFTYPER: Unrecognized charge state for atom: 4\n",
      " 73%|███████▎  | 173618/238706 [9:31:42<2:00:32,  9.00it/s]"
     ]
    },
    {
     "name": "stdout",
     "output_type": "stream",
     "text": [
      "Failed to process NCCCCCOCC1OC(OCCc2c[nH]c3ccccc23)C(OCc2cnc[nH]2)C(OCc2ccccc2)C1OCc1cccnc1: 'NoneType' object has no attribute 'GetPositions'\n"
     ]
    },
    {
     "name": "stderr",
     "output_type": "stream",
     "text": [
      " 73%|███████▎  | 173659/238706 [9:31:45<1:23:32, 12.98it/s]"
     ]
    },
    {
     "name": "stdout",
     "output_type": "stream",
     "text": [
      "Failed to process CCOP(=O)(OCC)SC(=NN=Cc1ccccc1Cl)N1CCN(C(=NN=Cc2ccccc2Cl)SP(=O)(OCC)OCC)CC1: 'NoneType' object has no attribute 'GetPositions'\n"
     ]
    },
    {
     "name": "stderr",
     "output_type": "stream",
     "text": [
      " 73%|███████▎  | 173703/238706 [9:31:50<2:14:28,  8.06it/s][18:35:43] UFFTYPER: Unrecognized charge state for atom: 1\n",
      " 73%|███████▎  | 173998/238706 [9:32:13<1:29:16, 12.08it/s][18:36:06] UFFTYPER: Unrecognized charge state for atom: 16\n",
      " 73%|███████▎  | 174008/238706 [9:32:14<1:29:42, 12.02it/s]"
     ]
    },
    {
     "name": "stdout",
     "output_type": "stream",
     "text": [
      "Failed to process CCCCCCCCCCCCCCCCCCSCC(COP(=O)(O)OP(=O)(O)OCC1OC(n2ccc(N)nc2=O)C(O)C1O)OCCCCCCCCCCCCCCCC: 'NoneType' object has no attribute 'GetPositions'\n"
     ]
    },
    {
     "name": "stderr",
     "output_type": "stream",
     "text": [
      " 73%|███████▎  | 174038/238706 [9:32:17<1:54:38,  9.40it/s]"
     ]
    },
    {
     "name": "stdout",
     "output_type": "stream",
     "text": [
      "Failed to process CCCCCCCCC=CCCCCCCCOCC(C[N+](C)(C)CCNC(=O)C(CCCNCCCN)NCCCN)OCCCCCCCC=CCCCCCCCC: 'NoneType' object has no attribute 'GetPositions'\n"
     ]
    },
    {
     "name": "stderr",
     "output_type": "stream",
     "text": [
      " 73%|███████▎  | 174202/238706 [9:32:32<1:31:24, 11.76it/s]"
     ]
    },
    {
     "name": "stdout",
     "output_type": "stream",
     "text": [
      "Failed to process CCCCCCCC(=O)NCCCN(CCCNCCCNCCCCNCCCN)CCCNC(=O)CCCCCCC: 'NoneType' object has no attribute 'GetPositions'\n"
     ]
    },
    {
     "name": "stderr",
     "output_type": "stream",
     "text": [
      " 73%|███████▎  | 174461/238706 [9:32:57<1:54:03,  9.39it/s][18:36:50] UFFTYPER: Unrecognized atom type: Se2+2 (13)\n",
      "[18:36:50] UFFTYPER: Unrecognized atom type: Se2+2 (13)\n",
      " 73%|███████▎  | 174482/238706 [9:32:59<2:03:57,  8.64it/s][18:36:52] UFFTYPER: Unrecognized charge state for atom: 14\n",
      " 73%|███████▎  | 174636/238706 [9:33:13<1:35:39, 11.16it/s][18:37:06] UFFTYPER: Unrecognized charge state for atom: 9\n",
      " 73%|███████▎  | 174643/238706 [9:33:14<2:28:08,  7.21it/s]"
     ]
    },
    {
     "name": "stdout",
     "output_type": "stream",
     "text": [
      "Failed to process CCCCCCCCCCCCCCCCCC(=O)OCC(OC(=O)CCCCCCCCCCCCCCCCC)C1OCC(O)C1OC(=O)CCCCCCCCCCCCCCCCC: 'NoneType' object has no attribute 'GetPositions'\n"
     ]
    },
    {
     "name": "stderr",
     "output_type": "stream",
     "text": [
      " 73%|███████▎  | 174843/238706 [9:33:29<1:42:20, 10.40it/s]"
     ]
    },
    {
     "name": "stdout",
     "output_type": "stream",
     "text": [
      "Failed to process CC(C)(C)[Si](C)(C)OCC1OC(n2cc(I)c(N)nc2=O)C(O[Si](C)(C)C(C)(C)C)C1O[Si](C)(C)C(C)(C)C: 'NoneType' object has no attribute 'GetPositions'\n"
     ]
    },
    {
     "name": "stderr",
     "output_type": "stream",
     "text": [
      " 73%|███████▎  | 175061/238706 [9:33:46<1:19:55, 13.27it/s][18:37:40] UFFTYPER: Unrecognized charge state for atom: 28\n",
      " 73%|███████▎  | 175109/238706 [9:33:50<1:08:51, 15.39it/s][18:37:43] UFFTYPER: Unrecognized charge state for atom: 6\n",
      " 73%|███████▎  | 175134/238706 [9:33:52<1:48:08,  9.80it/s][18:37:45] UFFTYPER: Unrecognized charge state for atom: 1\n",
      " 73%|███████▎  | 175209/238706 [9:34:00<1:54:19,  9.26it/s][18:37:53] UFFTYPER: Unrecognized charge state for atom: 9\n",
      " 74%|███████▎  | 175654/238706 [9:34:37<1:06:29, 15.81it/s][18:38:30] UFFTYPER: Unrecognized charge state for atom: 7\n",
      " 74%|███████▎  | 175736/238706 [9:34:43<1:10:38, 14.86it/s][18:38:36] UFFTYPER: Unrecognized charge state for atom: 29\n",
      " 74%|███████▎  | 175748/238706 [9:34:45<1:56:55,  8.97it/s][18:38:38] UFFTYPER: Unrecognized charge state for atom: 1\n",
      " 74%|███████▍  | 176071/238706 [9:35:15<2:24:08,  7.24it/s][18:39:08] UFFTYPER: Unrecognized charge state for atom: 9\n",
      " 74%|███████▍  | 176109/238706 [9:35:17<1:17:38, 13.44it/s][18:39:10] UFFTYPER: Unrecognized charge state for atom: 12\n",
      " 74%|███████▍  | 176590/238706 [9:35:53<1:02:31, 16.56it/s][18:39:46] UFFTYPER: Unrecognized charge state for atom: 22\n",
      " 74%|███████▍  | 176636/238706 [9:35:57<1:15:15, 13.75it/s][18:39:50] UFFTYPER: Unrecognized charge state for atom: 11\n",
      " 74%|███████▍  | 176918/238706 [9:36:20<1:42:33, 10.04it/s][18:40:14] UFFTYPER: Unrecognized charge state for atom: 14\n",
      " 74%|███████▍  | 177339/238706 [9:36:59<2:43:00,  6.27it/s][18:40:52] UFFTYPER: Warning: hybridization set to SP3 for atom 11\n",
      " 74%|███████▍  | 177364/238706 [9:37:01<1:49:48,  9.31it/s]"
     ]
    },
    {
     "name": "stdout",
     "output_type": "stream",
     "text": [
      "Failed to process CCCNC(=O)Nc1ncnc2c1ncn2C1OC(CNC(=O)NC)C(O[Si](C)(C)C(C)(C)C)C1O[Si](C)(C)C(C)(C)C: 'NoneType' object has no attribute 'GetPositions'\n"
     ]
    },
    {
     "name": "stderr",
     "output_type": "stream",
     "text": [
      " 74%|███████▍  | 177561/238706 [9:37:16<1:06:21, 15.36it/s][18:41:09] UFFTYPER: Unrecognized charge state for atom: 10\n",
      " 75%|███████▍  | 177924/238706 [9:37:47<1:05:10, 15.54it/s][18:41:40] UFFTYPER: Unrecognized atom type: Se2+2 (20)\n",
      " 75%|███████▍  | 177987/238706 [9:37:54<1:28:21, 11.45it/s]"
     ]
    },
    {
     "name": "stdout",
     "output_type": "stream",
     "text": [
      "Failed to process CCCCCCCCCCOc1cc(OCCCCCCCCCC)cc(OCCCCCCON=C(c2ccc(C(=O)O)cc2)c2cccc(C(=O)O)c2)c1: 'NoneType' object has no attribute 'GetPositions'\n"
     ]
    },
    {
     "name": "stderr",
     "output_type": "stream",
     "text": [
      " 75%|███████▍  | 178005/238706 [9:37:55<1:09:27, 14.57it/s][18:41:48] UFFTYPER: Unrecognized charge state for atom: 7\n",
      " 75%|███████▍  | 178045/238706 [9:37:59<1:47:52,  9.37it/s][18:41:52] UFFTYPER: Unrecognized atom type: Se2+2 (9)\n",
      "[18:41:52] UFFTYPER: Unrecognized atom type: Se2+2 (9)\n",
      " 75%|███████▍  | 178941/238706 [9:39:16<1:06:31, 14.97it/s][18:43:09] UFFTYPER: Warning: hybridization set to SP3 for atom 4\n",
      "[18:43:09] UFFTYPER: Warning: hybridization set to SP3 for atom 12\n",
      "[18:43:09] UFFTYPER: Warning: hybridization set to SP3 for atom 18\n",
      "[18:43:09] UFFTYPER: Warning: hybridization set to SP3 for atom 24\n",
      " 75%|███████▍  | 178957/238706 [9:39:19<2:14:26,  7.41it/s][18:43:12] UFFTYPER: Unrecognized atom type: Se2+2 (7)\n",
      "[18:43:12] UFFTYPER: Unrecognized atom type: Se2+2 (7)\n",
      " 75%|███████▌  | 179034/238706 [9:39:25<1:10:22, 14.13it/s][18:43:18] UFFTYPER: Unrecognized charge state for atom: 11\n",
      " 75%|███████▌  | 179105/238706 [9:39:31<1:28:53, 11.18it/s][18:43:24] UFFTYPER: Unrecognized charge state for atom: 9\n",
      " 75%|███████▌  | 179131/238706 [9:39:33<1:45:53,  9.38it/s][18:43:27] UFFTYPER: Unrecognized charge state for atom: 16\n",
      " 75%|███████▌  | 179141/238706 [9:39:34<1:12:24, 13.71it/s][18:43:27] UFFTYPER: Unrecognized charge state for atom: 5\n",
      " 75%|███████▌  | 179217/238706 [9:39:40<1:02:23, 15.89it/s][18:43:33] UFFTYPER: Unrecognized charge state for atom: 7\n",
      " 75%|███████▌  | 179406/238706 [9:39:56<1:07:24, 14.66it/s][18:43:50] UFFTYPER: Unrecognized charge state for atom: 9\n",
      " 75%|███████▌  | 179436/238706 [9:39:59<1:06:57, 14.75it/s][18:43:52] UFFTYPER: Unrecognized charge state for atom: 25\n",
      " 76%|███████▌  | 180467/238706 [9:41:21<48:44, 19.91it/s]  [18:45:15] UFFTYPER: Unrecognized charge state for atom: 14\n",
      " 76%|███████▌  | 180945/238706 [9:42:05<1:26:17, 11.16it/s][18:45:58] UFFTYPER: Unrecognized charge state for atom: 1\n",
      " 76%|███████▌  | 181010/238706 [9:42:10<1:20:16, 11.98it/s][18:46:04] UFFTYPER: Unrecognized charge state for atom: 16\n",
      " 76%|███████▌  | 181217/238706 [9:42:27<1:18:25, 12.22it/s]"
     ]
    },
    {
     "name": "stdout",
     "output_type": "stream",
     "text": [
      "Failed to process C=CC1CC1(NC(=O)C1CC(c2csc(-c3cccc(OC)c3OC)n2)CN1C(=O)C(NC(=O)OC1CCCC1)C(C)(C)C)C(=O)NS(=O)(=O)C1CC1: 'NoneType' object has no attribute 'GetPositions'\n"
     ]
    },
    {
     "name": "stderr",
     "output_type": "stream",
     "text": [
      " 76%|███████▌  | 181245/238706 [9:42:29<1:11:47, 13.34it/s]"
     ]
    },
    {
     "name": "stdout",
     "output_type": "stream",
     "text": [
      "Failed to process CCCCCCCCCCCC(=O)OCC(COC1OC(COC(C)=O)C(OC(C)=O)C(OC(C)=O)C1OC(C)=O)OC(=O)CCCCCCCCCCC: 'NoneType' object has no attribute 'GetPositions'\n"
     ]
    },
    {
     "name": "stderr",
     "output_type": "stream",
     "text": [
      " 76%|███████▌  | 181255/238706 [9:42:31<1:51:15,  8.61it/s]"
     ]
    },
    {
     "name": "stdout",
     "output_type": "stream",
     "text": [
      "Failed to process CC(=O)N1CCCC1C(=O)NC(CC(C)C)C(=O)NC(Cc1cncn1CCCCCCCCc1ccccc1)C(=O)NC(CO)C(=O)NC(C(=O)O)C(C)CC(=O)O: 'NoneType' object has no attribute 'GetPositions'\n"
     ]
    },
    {
     "name": "stderr",
     "output_type": "stream",
     "text": [
      " 76%|███████▌  | 181677/238706 [9:43:11<59:14, 16.05it/s]  [18:47:04] UFFTYPER: Unrecognized charge state for atom: 12\n",
      " 76%|███████▌  | 181729/238706 [9:43:15<2:11:02,  7.25it/s]"
     ]
    },
    {
     "name": "stdout",
     "output_type": "stream",
     "text": [
      "Failed to process CCCCCCCCCCCCCCCCCCCCCCCCCC(=O)NC(COC1OC(COCCC)C(O)C(O)C1O)C(O)C(O)CCCCCCCCCCCCCC: 'NoneType' object has no attribute 'GetPositions'\n"
     ]
    },
    {
     "name": "stderr",
     "output_type": "stream",
     "text": [
      " 76%|███████▌  | 181867/238706 [9:43:26<1:30:01, 10.52it/s]"
     ]
    },
    {
     "name": "stdout",
     "output_type": "stream",
     "text": [
      "Failed to process CC(=O)NC1C(OC2OC(CC(O)C3OC(N4CCC(=O)NC4=O)C(O)C3O)C(O)C(O)C2NC(=O)C=CCCCCCCCC(C)C)OC(CO)C(O)C1O: 'NoneType' object has no attribute 'GetPositions'\n"
     ]
    },
    {
     "name": "stderr",
     "output_type": "stream",
     "text": [
      " 76%|███████▋  | 182580/238706 [9:44:29<1:38:37,  9.49it/s][18:48:23] UFFTYPER: Unrecognized charge state for atom: 14\n",
      " 77%|███████▋  | 182919/238706 [9:44:55<1:21:44, 11.37it/s][18:48:49] UFFTYPER: Unrecognized charge state for atom: 12\n",
      " 77%|███████▋  | 183101/238706 [9:45:11<1:22:17, 11.26it/s][18:49:04] UFFTYPER: Unrecognized atom type: Se2+2 (19)\n",
      " 77%|███████▋  | 183231/238706 [9:45:21<1:02:48, 14.72it/s]"
     ]
    },
    {
     "name": "stdout",
     "output_type": "stream",
     "text": [
      "Failed to process CC(=O)OCC1OC(COCc2ccccc2)C(OCc2ccccc2)C(OCc2ccccc2)C1OCc1ccccc1: 'NoneType' object has no attribute 'GetPositions'\n"
     ]
    },
    {
     "name": "stderr",
     "output_type": "stream",
     "text": [
      " 77%|███████▋  | 183278/238706 [9:45:26<1:31:07, 10.14it/s]"
     ]
    },
    {
     "name": "stdout",
     "output_type": "stream",
     "text": [
      "Failed to process COc1ccc(CNC(C(=O)NC(C(=O)NCc2ccc(OC)cc2OC)C(C)C)C(O)C(Cc2ccccc2)NC(=O)C(NC(=O)OCc2ccccc2)C(C)C)cc1: 'NoneType' object has no attribute 'GetPositions'\n"
     ]
    },
    {
     "name": "stderr",
     "output_type": "stream",
     "text": [
      " 77%|███████▋  | 183317/238706 [9:45:29<53:28, 17.26it/s]  [18:49:23] UFFTYPER: Unrecognized atom type: S_6+6 (31)\n",
      " 77%|███████▋  | 183336/238706 [9:45:31<1:16:26, 12.07it/s][18:49:24] UFFTYPER: Unrecognized charge state for atom: 3\n",
      "[18:49:24] UFFTYPER: Unrecognized charge state for atom: 15\n",
      " 77%|███████▋  | 183357/238706 [9:45:33<1:05:30, 14.08it/s][18:49:27] UFFTYPER: Unrecognized charge state for atom: 6\n",
      " 77%|███████▋  | 183442/238706 [9:45:40<1:10:09, 13.13it/s][18:49:34] UFFTYPER: Warning: hybridization set to SP3 for atom 6\n",
      " 77%|███████▋  | 183444/238706 [9:45:41<2:01:53,  7.56it/s]"
     ]
    },
    {
     "name": "stdout",
     "output_type": "stream",
     "text": [
      "Failed to process CCC=CCC=CCC=CCCCCCCCC(=O)OCC(COC1OC(COC2OC(CO)C(O)C(O)C2O)C(O)C(O)C1O)OC(=O)CCCCCCCC=CCCCCCC: 'NoneType' object has no attribute 'GetPositions'\n"
     ]
    },
    {
     "name": "stderr",
     "output_type": "stream",
     "text": [
      " 77%|███████▋  | 183566/238706 [9:45:51<42:47, 21.47it/s]  [18:49:44] UFFTYPER: Unrecognized charge state for atom: 13\n",
      " 77%|███████▋  | 183816/238706 [9:46:14<1:37:21,  9.40it/s][18:50:07] UFFTYPER: Unrecognized atom type: Se2+2 (6)\n",
      " 77%|███████▋  | 184042/238706 [9:46:31<44:48, 20.33it/s]  [18:50:25] UFFTYPER: Unrecognized charge state for atom: 1\n",
      " 77%|███████▋  | 184091/238706 [9:46:35<1:16:08, 11.95it/s][18:50:29] UFFTYPER: Unrecognized charge state for atom: 3\n",
      " 77%|███████▋  | 184204/238706 [9:46:44<57:52, 15.70it/s]  [18:50:37] UFFTYPER: Unrecognized charge state for atom: 1\n",
      " 77%|███████▋  | 184218/238706 [9:46:45<1:26:05, 10.55it/s]"
     ]
    },
    {
     "name": "stdout",
     "output_type": "stream",
     "text": [
      "Failed to process COc1cc(CNC(=O)CCNNC(=O)C(CCCCNC(=O)OC(C)(C)C)NC(=O)Cc2cccc(Oc3ccccc3)c2)cc(OC)c1OC: 'NoneType' object has no attribute 'GetPositions'\n"
     ]
    },
    {
     "name": "stderr",
     "output_type": "stream",
     "text": [
      " 77%|███████▋  | 184277/238706 [9:46:50<1:17:06, 11.76it/s][18:50:43] UFFTYPER: Unrecognized charge state for atom: 17\n",
      " 77%|███████▋  | 184461/238706 [9:47:04<51:58, 17.39it/s]  [18:50:58] UFFTYPER: Unrecognized charge state for atom: 10\n",
      " 77%|███████▋  | 184590/238706 [9:47:15<1:15:49, 11.90it/s][18:51:08] UFFTYPER: Unrecognized charge state for atom: 23\n",
      " 77%|███████▋  | 184632/238706 [9:47:18<1:10:36, 12.77it/s][18:51:11] UFFTYPER: Unrecognized charge state for atom: 16\n",
      " 78%|███████▊  | 185005/238706 [9:47:49<1:14:10, 12.07it/s][18:51:43] UFFTYPER: Unrecognized charge state for atom: 27\n",
      " 78%|███████▊  | 185233/238706 [9:48:10<1:30:16,  9.87it/s]"
     ]
    },
    {
     "name": "stdout",
     "output_type": "stream",
     "text": [
      "Failed to process NC(=O)C(CO)NC(=O)CCCCCn1cc(CN(Cc2cn(CCCCCC(=O)NC(CO)C(N)=O)nn2)Cc2cn(CCCCCC(=O)NC(CO)C(N)=O)nn2)nn1: 'NoneType' object has no attribute 'GetPositions'\n"
     ]
    },
    {
     "name": "stderr",
     "output_type": "stream",
     "text": [
      " 78%|███████▊  | 185381/238706 [9:48:22<54:52, 16.19it/s]  [18:52:16] UFFTYPER: Unrecognized charge state for atom: 3\n",
      " 78%|███████▊  | 185699/238706 [9:48:50<1:27:28, 10.10it/s]"
     ]
    },
    {
     "name": "stdout",
     "output_type": "stream",
     "text": [
      "Failed to process CC(C)(C)OC(=O)NCCCCC(C=CS(=O)(=O)c1cccc2ccccc12)NC(=O)C(Cc1ccccc1)NC(=O)OCc1ccccc1: 'NoneType' object has no attribute 'GetPositions'\n"
     ]
    },
    {
     "name": "stderr",
     "output_type": "stream",
     "text": [
      " 78%|███████▊  | 186108/238706 [9:49:30<1:07:45, 12.94it/s][18:53:23] UFFTYPER: Unrecognized charge state for atom: 1\n",
      " 78%|███████▊  | 186200/238706 [9:49:36<1:07:03, 13.05it/s][18:53:30] UFFTYPER: Unrecognized charge state for atom: 1\n",
      " 78%|███████▊  | 186228/238706 [9:49:38<48:59, 17.85it/s]  [18:53:31] UFFTYPER: Unrecognized charge state for atom: 1\n",
      "[18:53:31] UFFTYPER: Unrecognized atom type: Se2+2 (9)\n",
      " 78%|███████▊  | 186419/238706 [9:50:41<1:55:44,  7.53it/s] [18:54:34] UFFTYPER: Unrecognized charge state for atom: 16\n",
      " 78%|███████▊  | 186454/238706 [9:50:46<6:19:50,  2.29it/s]"
     ]
    },
    {
     "name": "stdout",
     "output_type": "stream",
     "text": [
      "Failed to process CC1OC(COC2C(O)C(OCCc3ccc(O)c(O)c3)OC(COC3OC(CO)C(O)C(O)C3O)C2OC(=O)C=Cc2ccc(O)c(O)c2)C(O)C(O)C1O: 'NoneType' object has no attribute 'GetPositions'\n"
     ]
    },
    {
     "name": "stderr",
     "output_type": "stream",
     "text": [
      " 78%|███████▊  | 186703/238706 [9:51:10<39:50, 21.75it/s]  [18:55:03] UFFTYPER: Unrecognized charge state for atom: 21\n",
      " 78%|███████▊  | 186862/238706 [9:51:23<1:21:00, 10.67it/s]"
     ]
    },
    {
     "name": "stdout",
     "output_type": "stream",
     "text": [
      "Failed to process CCCCCCC=CCCCCCCCC(=O)OC(COC(=O)CCCCCCCC=CCCCCCCCC)COC1OC(COC2OC(CO)C(O)C(O)C2O)C(O)C(O)C1O: 'NoneType' object has no attribute 'GetPositions'\n"
     ]
    },
    {
     "name": "stderr",
     "output_type": "stream",
     "text": [
      " 78%|███████▊  | 186983/238706 [9:51:33<1:21:38, 10.56it/s]"
     ]
    },
    {
     "name": "stdout",
     "output_type": "stream",
     "text": [
      "Failed to process CC(=O)NCCCCC(NC(=O)C(CCCCNC(=S)NCCCC(=O)O)NC(=O)C(CCCCNC(C)=O)NC(C)=O)C(N)=O: 'NoneType' object has no attribute 'GetPositions'\n"
     ]
    },
    {
     "name": "stderr",
     "output_type": "stream",
     "text": [
      " 78%|███████▊  | 187000/238706 [9:51:35<1:28:49,  9.70it/s][18:55:28] UFFTYPER: Unrecognized atom type: Se2+2 (0)\n",
      " 78%|███████▊  | 187025/238706 [9:51:36<1:17:37, 11.10it/s][18:55:30] UFFTYPER: Unrecognized charge state for atom: 9\n",
      " 78%|███████▊  | 187329/238706 [9:51:59<52:10, 16.41it/s]  [18:55:52] UFFTYPER: Unrecognized atom type: Se2+2 (4)\n",
      " 79%|███████▊  | 187971/238706 [9:52:46<1:51:47,  7.56it/s]"
     ]
    },
    {
     "name": "stdout",
     "output_type": "stream",
     "text": [
      "Failed to process CCCCCCCCC(I)=C(I)CCCCCCCC(=O)OCC(COC(=O)CCCCCCCC(I)=C(I)CCCCCCCC)OC(=O)CCCCCCCC(I)=C(I)CCCCCCCC: 'NoneType' object has no attribute 'GetPositions'\n"
     ]
    },
    {
     "name": "stderr",
     "output_type": "stream",
     "text": [
      " 79%|███████▉  | 188420/238706 [9:53:23<50:02, 16.75it/s]  [18:57:16] UFFTYPER: Unrecognized charge state for atom: 1\n",
      " 79%|███████▉  | 188512/238706 [9:53:31<1:36:08,  8.70it/s][18:57:24] UFFTYPER: Unrecognized charge state for atom: 14\n",
      " 79%|███████▉  | 188537/238706 [9:53:33<53:41, 15.57it/s]  [18:57:26] UFFTYPER: Unrecognized atom type: Se2+2 (20)\n",
      " 79%|███████▉  | 188703/238706 [9:53:46<1:02:17, 13.38it/s][18:57:40] UFFTYPER: Unrecognized atom type: S_6+6 (1)\n",
      " 79%|███████▉  | 188705/238706 [9:53:47<59:21, 14.04it/s]  [18:57:40] UFFTYPER: Unrecognized charge state for atom: 1\n",
      " 79%|███████▉  | 188796/238706 [9:53:55<1:00:36, 13.72it/s][18:57:49] UFFTYPER: Unrecognized charge state for atom: 1\n",
      " 79%|███████▉  | 188948/238706 [9:54:08<49:21, 16.80it/s]  [18:58:01] UFFTYPER: Unrecognized charge state for atom: 4\n",
      " 79%|███████▉  | 189123/238706 [9:54:22<50:41, 16.30it/s]  [18:58:15] UFFTYPER: Unrecognized charge state for atom: 11\n",
      " 79%|███████▉  | 189591/238706 [9:54:56<57:25, 14.26it/s]  [18:58:49] UFFTYPER: Unrecognized charge state for atom: 26\n",
      " 79%|███████▉  | 189686/238706 [9:55:03<50:16, 16.25it/s]  [18:58:57] UFFTYPER: Unrecognized charge state for atom: 1\n",
      " 80%|███████▉  | 189826/238706 [9:55:15<1:05:27, 12.45it/s][18:59:08] UFFTYPER: Unrecognized charge state for atom: 1\n",
      " 80%|███████▉  | 189915/238706 [9:55:22<1:11:02, 11.45it/s][18:59:15] UFFTYPER: Unrecognized charge state for atom: 26\n",
      " 80%|███████▉  | 189980/238706 [9:55:26<51:01, 15.91it/s]  [18:59:19] UFFTYPER: Unrecognized charge state for atom: 1\n",
      " 80%|███████▉  | 189993/238706 [9:55:28<1:20:01, 10.15it/s][18:59:21] UFFTYPER: Unrecognized charge state for atom: 17\n",
      " 80%|███████▉  | 190296/238706 [9:57:30<2:06:50,  6.36it/s]  "
     ]
    },
    {
     "name": "stdout",
     "output_type": "stream",
     "text": [
      "Failed to process CCCCCCCCCCCCSCCCCCCCCCCCCCCCCCCCCCCCCCCCCCCCCCCCCCCCCC(=O)N(C)CCCCCCCCCCC(=O)O: 'NoneType' object has no attribute 'GetPositions'\n"
     ]
    },
    {
     "name": "stderr",
     "output_type": "stream",
     "text": [
      " 80%|███████▉  | 190374/238706 [9:57:42<3:25:33,  3.92it/s][19:01:35] UFFTYPER: Unrecognized charge state for atom: 9\n",
      " 80%|███████▉  | 190435/238706 [9:57:48<50:15, 16.01it/s]  [19:01:41] UFFTYPER: Unrecognized atom type: Se2+2 (2)\n",
      " 80%|███████▉  | 190572/238706 [9:57:59<1:03:00, 12.73it/s][19:01:52] UFFTYPER: Unrecognized charge state for atom: 13\n",
      " 80%|███████▉  | 190614/238706 [9:58:03<2:05:15,  6.40it/s][19:01:56] UFFTYPER: Unrecognized charge state for atom: 9\n",
      " 80%|███████▉  | 190805/238706 [9:58:18<1:12:29, 11.01it/s][19:02:11] UFFTYPER: Unrecognized atom type: Se2+2 (13)\n",
      " 80%|███████▉  | 190817/238706 [9:58:19<51:52, 15.38it/s]  [19:02:12] UFFTYPER: Unrecognized charge state for atom: 2\n",
      " 80%|███████▉  | 190897/238706 [9:58:27<1:38:43,  8.07it/s][19:02:20] UFFTYPER: Unrecognized charge state for atom: 1\n",
      " 80%|████████  | 190967/238706 [9:58:31<46:07, 17.25it/s]  [19:02:24] UFFTYPER: Unrecognized charge state for atom: 10\n",
      " 80%|████████  | 191183/238706 [9:58:49<53:00, 14.94it/s]  [19:02:42] UFFTYPER: Unrecognized charge state for atom: 14\n",
      " 80%|████████  | 191548/238706 [9:59:19<1:01:50, 12.71it/s][19:03:12] UFFTYPER: Unrecognized charge state for atom: 14\n",
      " 81%|████████  | 192251/238706 [10:15:57<1:24:17,  9.18it/s]    "
     ]
    },
    {
     "name": "stdout",
     "output_type": "stream",
     "text": [
      "Failed to process CCCCCC=CCC=CCCCCCCCC(=O)OCC(COC1OC(CS(=O)(=O)O)C(O)C(O)C1O)OC(=O)CCCCCCCCCCCCCCC: 'NoneType' object has no attribute 'GetPositions'\n"
     ]
    },
    {
     "name": "stderr",
     "output_type": "stream",
     "text": [
      " 81%|████████  | 192383/238706 [11:07:21<6:55:25,  1.86it/s]    "
     ]
    },
    {
     "name": "stdout",
     "output_type": "stream",
     "text": [
      "Failed to process CSCCC(NC(=O)C(CC(C)C)NC(=O)C(CCCCNC(C)=S)NC(=O)C(CCCCN)NC(=O)C(N)Cc1cnc[nH]1)C(=O)O: 'NoneType' object has no attribute 'GetPositions'\n"
     ]
    },
    {
     "name": "stderr",
     "output_type": "stream",
     "text": [
      " 81%|████████  | 192789/238706 [11:07:57<1:04:33, 11.85it/s][20:11:50] UFFTYPER: Unrecognized charge state for atom: 12\n",
      " 81%|████████  | 193300/238706 [11:08:37<1:04:31, 11.73it/s][20:12:30] UFFTYPER: Unrecognized charge state for atom: 17\n",
      " 81%|████████  | 193346/238706 [11:08:41<53:39, 14.09it/s]  [20:12:34] UFFTYPER: Unrecognized charge state for atom: 11\n",
      " 81%|████████  | 193521/238706 [11:08:54<54:44, 13.76it/s]  [20:12:48] UFFTYPER: Unrecognized charge state for atom: 8\n",
      "[20:12:48] UFFTYPER: Unrecognized charge state for atom: 29\n",
      " 81%|████████  | 193773/238706 [11:09:14<1:50:40,  6.77it/s][20:13:08] UFFTYPER: Unrecognized charge state for atom: 9\n",
      " 81%|████████▏ | 193981/238706 [11:10:58<5:13:19,  2.38it/s]  [20:14:51] UFFTYPER: Unrecognized charge state for atom: 26\n",
      " 81%|████████▏ | 194420/238706 [11:11:37<1:15:54,  9.72it/s][20:15:30] UFFTYPER: Unrecognized charge state for atom: 18\n",
      " 81%|████████▏ | 194440/238706 [11:11:40<1:27:30,  8.43it/s]"
     ]
    },
    {
     "name": "stdout",
     "output_type": "stream",
     "text": [
      "Failed to process CCCCCCCCCCCCCCCC(=O)OC(COC(=O)CNCCCNCCCCNCCCN)CSCC(N)C(=O)NC(CO)C(=O)O: 'NoneType' object has no attribute 'GetPositions'\n"
     ]
    },
    {
     "name": "stderr",
     "output_type": "stream",
     "text": [
      " 82%|████████▏ | 194620/238706 [11:12:03<56:37, 12.98it/s]  [20:15:57] UFFTYPER: Unrecognized atom type: Se2+2 (15)\n",
      " 82%|████████▏ | 194763/238706 [11:12:19<1:04:15, 11.40it/s][20:16:12] UFFTYPER: Unrecognized charge state for atom: 11\n",
      " 82%|████████▏ | 195012/238706 [11:12:50<1:30:34,  8.04it/s][20:16:43] UFFTYPER: Unrecognized charge state for atom: 1\n",
      " 82%|████████▏ | 195230/238706 [11:13:07<48:05, 15.07it/s]  [20:17:00] UFFTYPER: Unrecognized charge state for atom: 15\n",
      " 82%|████████▏ | 195412/238706 [11:13:23<53:21, 13.52it/s]  [20:17:16] UFFTYPER: Unrecognized charge state for atom: 2\n",
      " 82%|████████▏ | 195674/238706 [11:13:49<54:27, 13.17it/s]  "
     ]
    },
    {
     "name": "stdout",
     "output_type": "stream",
     "text": [
      "Failed to process Fc1ccc(OCC2OC(OCCc3c[nH]c4ccccc34)C(OCc3ccc4ccccc4c3)C(OCc3ccccc3)C2OCc2ccccc2)cc1: 'NoneType' object has no attribute 'GetPositions'\n"
     ]
    },
    {
     "name": "stderr",
     "output_type": "stream",
     "text": [
      " 82%|████████▏ | 195697/238706 [11:13:51<1:11:12, 10.07it/s]"
     ]
    },
    {
     "name": "stdout",
     "output_type": "stream",
     "text": [
      "Failed to process N=C(N)NCCCC(NC(=O)C(CCCNC(=N)N)NC(=O)C(CCCCN)NC(=O)C(CCCCN)NC(=O)C(CCCNC(=N)N)NC(=O)CN)C(=O)O: 'NoneType' object has no attribute 'GetPositions'\n"
     ]
    },
    {
     "name": "stderr",
     "output_type": "stream",
     "text": [
      " 82%|████████▏ | 196054/238706 [11:14:27<1:14:53,  9.49it/s][20:18:20] UFFTYPER: Unrecognized charge state for atom: 1\n",
      " 82%|████████▏ | 196058/238706 [11:14:27<51:52, 13.70it/s]  [20:18:21] UFFTYPER: Unrecognized charge state for atom: 4\n",
      "[20:18:21] UFFTYPER: Unrecognized atom type: Se5+2 (4)\n",
      " 82%|████████▏ | 196378/238706 [11:15:03<56:17, 12.53it/s]  [20:18:56] UFFTYPER: Unrecognized atom type: S_6+6 (35)\n",
      " 82%|████████▏ | 196758/238706 [11:15:36<49:54, 14.01it/s]  [20:19:29] UFFTYPER: Unrecognized charge state for atom: 19\n",
      " 83%|████████▎ | 197032/238706 [11:16:00<1:57:14,  5.92it/s]"
     ]
    },
    {
     "name": "stdout",
     "output_type": "stream",
     "text": [
      "Failed to process CCCCCCCCCCCCOP(=O)(OCCCCCCCCCCCC)Oc1ccc2c(c1)CCC1C2CCC2(C)C(OCCC(=O)Nc3ccc(OC)c(C(N)=O)c3O)CCC12: 'NoneType' object has no attribute 'GetPositions'\n"
     ]
    },
    {
     "name": "stderr",
     "output_type": "stream",
     "text": [
      " 83%|████████▎ | 197357/238706 [11:16:28<1:17:59,  8.84it/s]"
     ]
    },
    {
     "name": "stdout",
     "output_type": "stream",
     "text": [
      "Failed to process NCCCCC(N)C(=O)NC(CCCCN)C(=O)NC(Cc1ccccc1)CN(CC(=O)NCC12CC3CC(CC(C3)C1)C2)C(=O)CC12CC3CC(CC(C3)C1)C2: 'NoneType' object has no attribute 'GetPositions'\n"
     ]
    },
    {
     "name": "stderr",
     "output_type": "stream",
     "text": [
      " 83%|████████▎ | 197690/238706 [11:16:57<56:53, 12.02it/s]  [20:20:50] UFFTYPER: Unrecognized charge state for atom: 9\n",
      " 83%|████████▎ | 197711/238706 [11:16:59<55:58, 12.21it/s]  [20:20:52] UFFTYPER: Unrecognized charge state for atom: 17\n",
      "[20:20:52] UFFTYPER: Unrecognized charge state for atom: 31\n",
      " 83%|████████▎ | 197763/238706 [11:17:04<1:44:58,  6.50it/s][20:20:57] UFFTYPER: Unrecognized charge state for atom: 1\n",
      " 83%|████████▎ | 197938/238706 [11:17:18<1:00:37, 11.21it/s][20:21:12] UFFTYPER: Unrecognized charge state for atom: 1\n",
      " 83%|████████▎ | 198068/238706 [11:17:29<39:55, 16.96it/s]  [20:21:22] UFFTYPER: Unrecognized charge state for atom: 7\n",
      " 83%|████████▎ | 198486/238706 [11:18:02<1:27:46,  7.64it/s][20:21:55] UFFTYPER: Unrecognized charge state for atom: 15\n",
      " 83%|████████▎ | 198640/238706 [11:18:13<52:37, 12.69it/s]  [20:22:06] UFFTYPER: Unrecognized charge state for atom: 17\n",
      "[20:22:06] UFFTYPER: Unrecognized atom type: Se2+2 (17)\n",
      " 83%|████████▎ | 198784/238706 [11:18:25<50:26, 13.19it/s]  "
     ]
    },
    {
     "name": "stdout",
     "output_type": "stream",
     "text": [
      "Failed to process CCCC(NC(=O)C1CC(OC(=O)N2Cc3ccccc3C2)CN1C(=O)C(NC(=O)NCCN(CC)CC)C(C)(C)C)B1OC2CC3CC(C3(C)C)C2(C)O1: 'NoneType' object has no attribute 'GetPositions'\n"
     ]
    },
    {
     "name": "stderr",
     "output_type": "stream",
     "text": [
      " 83%|████████▎ | 198813/238706 [11:18:27<43:39, 15.23it/s]  [20:22:20] UFFTYPER: Unrecognized charge state for atom: 1\n",
      " 83%|████████▎ | 198969/238706 [11:18:39<52:40, 12.57it/s]  [20:22:32] UFFTYPER: Unrecognized charge state for atom: 9\n",
      " 83%|████████▎ | 198988/238706 [11:18:40<43:49, 15.10it/s][20:22:33] UFFTYPER: Unrecognized charge state for atom: 15\n",
      " 84%|████████▎ | 199566/238706 [11:19:28<39:58, 16.32it/s]  [20:23:21] UFFTYPER: Unrecognized charge state for atom: 7\n",
      " 84%|████████▎ | 199602/238706 [11:19:31<44:03, 14.79it/s]  [20:23:24] UFFTYPER: Unrecognized charge state for atom: 32\n",
      " 84%|████████▎ | 199872/238706 [11:19:50<35:32, 18.21it/s]  [20:23:44] UFFTYPER: Unrecognized charge state for atom: 9\n",
      " 84%|████████▍ | 200080/238706 [11:20:08<1:06:12,  9.72it/s][20:24:01] UFFTYPER: Unrecognized atom type: S_6+6 (30)\n",
      " 84%|████████▍ | 200345/238706 [11:20:35<1:14:28,  8.58it/s]"
     ]
    },
    {
     "name": "stdout",
     "output_type": "stream",
     "text": [
      "Failed to process CCCCCc1ccc(C(=O)N(CCN(CCCC)CCCC)Cc2ccc(OCc3ccccc3)c(OCc3ccccc3)c2)cc1: 'NoneType' object has no attribute 'GetPositions'\n"
     ]
    },
    {
     "name": "stderr",
     "output_type": "stream",
     "text": [
      " 84%|████████▍ | 200391/238706 [11:20:39<59:01, 10.82it/s]  [20:24:32] UFFTYPER: Unrecognized charge state for atom: 7\n",
      " 84%|████████▍ | 200841/238706 [11:21:15<32:02, 19.70it/s]  [20:25:08] UFFTYPER: Unrecognized charge state for atom: 7\n",
      " 84%|████████▍ | 200854/238706 [11:21:16<54:58, 11.48it/s][20:25:09] UFFTYPER: Unrecognized charge state for atom: 9\n",
      " 84%|████████▍ | 200923/238706 [11:21:21<49:23, 12.75it/s]  [20:25:15] UFFTYPER: Unrecognized charge state for atom: 9\n",
      " 84%|████████▍ | 200937/238706 [11:21:22<37:43, 16.69it/s][20:25:15] UFFTYPER: Unrecognized atom type: Se2+2 (9)\n",
      "[20:25:15] UFFTYPER: Unrecognized atom type: Se2+2 (14)\n",
      "[20:25:15] UFFTYPER: Unrecognized atom type: Se2+2 (9)\n",
      "[20:25:15] UFFTYPER: Unrecognized atom type: Se2+2 (14)\n",
      " 84%|████████▍ | 201079/238706 [11:21:36<1:41:48,  6.16it/s]"
     ]
    },
    {
     "name": "stdout",
     "output_type": "stream",
     "text": [
      "Failed to process CCN1CC2(COC)C(O)CC(OC)C34C5CC6(O)C(OC)C(O)C(OC(=O)CCCCCCCCCC(=O)O)(C5C6OC(=O)c5ccccc5)C(C(OC)C23)C14: 'NoneType' object has no attribute 'GetPositions'\n"
     ]
    },
    {
     "name": "stderr",
     "output_type": "stream",
     "text": [
      " 84%|████████▍ | 201265/238706 [11:21:53<1:18:07,  7.99it/s]"
     ]
    },
    {
     "name": "stdout",
     "output_type": "stream",
     "text": [
      "Failed to process CCCCCCCCCCCCCCCC(CCCCCCCCCCCCCCC)NCCCNCCCNCCCCNCCCN: 'NoneType' object has no attribute 'GetPositions'\n"
     ]
    },
    {
     "name": "stderr",
     "output_type": "stream",
     "text": [
      " 84%|████████▍ | 201637/238706 [11:22:27<54:54, 11.25it/s]  "
     ]
    },
    {
     "name": "stdout",
     "output_type": "stream",
     "text": [
      "Failed to process O=C(CNC(=O)OCc1ccccc1)NCCCCC(NC(=O)OCc1ccccc1)C(=O)NC(CCCCNC(=O)CNC(=O)OCc1ccccc1)C(=O)OCc1ccccc1: 'NoneType' object has no attribute 'GetPositions'\n"
     ]
    },
    {
     "name": "stderr",
     "output_type": "stream",
     "text": [
      " 84%|████████▍ | 201642/238706 [11:22:27<44:34, 13.86it/s][20:26:21] UFFTYPER: Unrecognized charge state for atom: 15\n",
      " 84%|████████▍ | 201678/238706 [11:22:30<41:23, 14.91it/s]"
     ]
    },
    {
     "name": "stdout",
     "output_type": "stream",
     "text": [
      "Failed to process Cc1ccc(S(=O)(=O)NC(=O)C(CC(C)C)NC(=O)C2CC(n3cc(-c4ccccc4)nn3)CN2C(=O)C(Cc2ccccc2)NC(=O)OC(C)(C)C)cc1: 'NoneType' object has no attribute 'GetPositions'\n"
     ]
    },
    {
     "name": "stderr",
     "output_type": "stream",
     "text": [
      " 85%|████████▍ | 201748/238706 [11:22:36<1:09:16,  8.89it/s][20:26:29] UFFTYPER: Unrecognized charge state for atom: 15\n",
      " 85%|████████▍ | 201817/238706 [11:22:41<43:25, 14.16it/s]  [20:26:34] UFFTYPER: Unrecognized charge state for atom: 5\n",
      " 85%|████████▍ | 201955/238706 [11:22:51<40:32, 15.11it/s]  [20:26:45] UFFTYPER: Unrecognized charge state for atom: 1\n",
      " 85%|████████▍ | 201987/238706 [11:22:54<49:34, 12.34it/s]  [20:26:47] UFFTYPER: Unrecognized charge state for atom: 33\n",
      " 85%|████████▍ | 202467/238706 [11:23:34<46:23, 13.02it/s]  [20:27:27] UFFTYPER: Unrecognized charge state for atom: 14\n",
      " 85%|████████▌ | 203350/238706 [11:24:52<47:29, 12.41it/s]  [20:28:46] UFFTYPER: Unrecognized atom type: Se2+2 (7)\n",
      " 85%|████████▌ | 203473/238706 [11:25:02<44:42, 13.13it/s]  [20:28:55] UFFTYPER: Unrecognized charge state for atom: 10\n",
      " 85%|████████▌ | 203583/238706 [11:25:10<46:03, 12.71it/s]  [20:29:03] UFFTYPER: Unrecognized charge state for atom: 18\n",
      " 85%|████████▌ | 203807/238706 [11:25:29<39:12, 14.84it/s]  [20:29:22] UFFTYPER: Unrecognized charge state for atom: 8\n",
      " 86%|████████▌ | 204106/238706 [11:25:51<40:49, 14.13it/s]  [20:29:45] UFFTYPER: Unrecognized charge state for atom: 15\n",
      " 86%|████████▌ | 204120/238706 [11:25:53<42:34, 13.54it/s]  [20:29:46] UFFTYPER: Unrecognized charge state for atom: 18\n",
      " 86%|████████▌ | 204533/238706 [11:26:33<55:56, 10.18it/s]  [20:30:26] UFFTYPER: Unrecognized charge state for atom: 11\n",
      " 86%|████████▌ | 204734/238706 [11:26:51<55:33, 10.19it/s]  [20:30:44] UFFTYPER: Unrecognized charge state for atom: 2\n",
      " 86%|████████▌ | 204747/238706 [11:26:52<51:45, 10.94it/s][20:30:45] UFFTYPER: Unrecognized charge state for atom: 14\n",
      " 86%|████████▌ | 204945/238706 [11:27:11<40:00, 14.07it/s]  [20:31:04] UFFTYPER: Unrecognized charge state for atom: 4\n",
      " 86%|████████▌ | 204956/238706 [11:27:12<39:36, 14.20it/s][20:31:05] UFFTYPER: Unrecognized charge state for atom: 1\n",
      " 86%|████████▌ | 205044/238706 [11:27:17<37:45, 14.86it/s][20:31:10] UFFTYPER: Unrecognized charge state for atom: 8\n",
      " 86%|████████▌ | 205073/238706 [11:27:19<29:27, 19.03it/s][20:31:12] UFFTYPER: Unrecognized charge state for atom: 1\n",
      " 86%|████████▌ | 205166/238706 [11:27:25<25:46, 21.68it/s][20:31:18] UFFTYPER: Unrecognized charge state for atom: 6\n",
      " 86%|████████▌ | 205437/238706 [11:27:48<43:14, 12.82it/s]  [20:31:41] UFFTYPER: Unrecognized charge state for atom: 11\n",
      " 86%|████████▌ | 205454/238706 [11:27:50<55:17, 10.02it/s][20:31:43] UFFTYPER: Unrecognized atom type: Se2+2 (2)\n",
      " 86%|████████▌ | 205517/238706 [11:27:55<42:48, 12.92it/s]  [20:31:48] UFFTYPER: Unrecognized charge state for atom: 2\n",
      "[20:31:48] UFFTYPER: Unrecognized charge state for atom: 19\n",
      " 86%|████████▌ | 205529/238706 [11:27:56<1:02:01,  8.91it/s][20:31:50] UFFTYPER: Unrecognized charge state for atom: 10\n",
      " 86%|████████▌ | 205533/238706 [11:27:56<43:57, 12.58it/s]  [20:31:50] UFFTYPER: Unrecognized charge state for atom: 10\n",
      " 86%|████████▌ | 205697/238706 [11:28:10<52:40, 10.45it/s]  [20:32:03] UFFTYPER: Unrecognized charge state for atom: 22\n",
      " 86%|████████▋ | 205932/238706 [11:28:29<49:47, 10.97it/s]  [20:32:23] UFFTYPER: Unrecognized charge state for atom: 20\n",
      " 86%|████████▋ | 206094/238706 [11:28:42<46:03, 11.80it/s][20:32:35] UFFTYPER: Unrecognized atom type: S_6+6 (17)\n",
      " 87%|████████▋ | 206568/238706 [11:29:23<44:39, 11.99it/s]  [20:33:16] UFFTYPER: Unrecognized charge state for atom: 1\n",
      " 87%|████████▋ | 206938/238706 [11:29:59<45:37, 11.61it/s]  [20:33:52] UFFTYPER: Unrecognized atom type: Se2+2 (8)\n",
      " 87%|████████▋ | 207011/238706 [11:30:07<41:58, 12.59it/s]  [20:34:01] UFFTYPER: Unrecognized charge state for atom: 13\n",
      " 87%|████████▋ | 207309/238706 [11:30:39<56:42,  9.23it/s]  [20:34:32] UFFTYPER: Unrecognized charge state for atom: 6\n",
      " 87%|████████▋ | 207379/238706 [11:30:46<58:12,  8.97it/s]  [20:34:39] UFFTYPER: Unrecognized charge state for atom: 24\n",
      " 87%|████████▋ | 207711/238706 [11:31:17<1:05:47,  7.85it/s][20:35:11] UFFTYPER: Unrecognized atom type: Se2+2 (4)\n",
      " 87%|████████▋ | 207786/238706 [11:31:24<42:14, 12.20it/s]  [20:35:17] UFFTYPER: Unrecognized charge state for atom: 6\n",
      " 87%|████████▋ | 208044/238706 [11:31:47<1:07:54,  7.53it/s]"
     ]
    },
    {
     "name": "stdout",
     "output_type": "stream",
     "text": [
      "Failed to process CCCCCCCCCCCCCCCCCC(=O)OC(COC(=O)CCCCCCCCCCC)COC(=O)CCCCCCCCCCCCCCC: 'NoneType' object has no attribute 'GetPositions'\n"
     ]
    },
    {
     "name": "stderr",
     "output_type": "stream",
     "text": [
      " 87%|████████▋ | 208219/238706 [11:32:05<57:47,  8.79it/s]  "
     ]
    },
    {
     "name": "stdout",
     "output_type": "stream",
     "text": [
      "Failed to process CC(=O)NC(Cc1ccc2ccccc2c1)C(=O)NC(CCCCNC(=O)c1ccccn1)C(=O)NC(CCCCNC(C)C)C(=O)N1CCCC1C(N)=O: 'NoneType' object has no attribute 'GetPositions'\n"
     ]
    },
    {
     "name": "stderr",
     "output_type": "stream",
     "text": [
      " 87%|████████▋ | 208240/238706 [11:32:08<42:34, 11.93it/s]  [20:36:01] UFFTYPER: Unrecognized charge state for atom: 4\n",
      " 87%|████████▋ | 208518/238706 [11:32:42<1:02:57,  7.99it/s][20:36:35] UFFTYPER: Unrecognized charge state for atom: 1\n",
      " 87%|████████▋ | 208767/238706 [11:33:03<1:23:47,  5.96it/s]"
     ]
    },
    {
     "name": "stdout",
     "output_type": "stream",
     "text": [
      "Failed to process CCCCCCCCCCCCCCCCOCCOCCOCCOCCOCCOCCOCCOCCOCCOCCOCCOCCOCCOCCOCCOCCOCCOCCOCCOCCO: 'NoneType' object has no attribute 'GetPositions'\n"
     ]
    },
    {
     "name": "stderr",
     "output_type": "stream",
     "text": [
      " 87%|████████▋ | 208824/238706 [11:33:09<35:07, 14.18it/s]  [20:37:02] UFFTYPER: Unrecognized charge state for atom: 14\n",
      " 87%|████████▋ | 208829/238706 [11:33:10<30:32, 16.31it/s][20:37:03] UFFTYPER: Unrecognized charge state for atom: 8\n",
      " 88%|████████▊ | 208992/238706 [11:33:27<44:49, 11.05it/s]  [20:37:20] UFFTYPER: Unrecognized charge state for atom: 1\n",
      " 88%|████████▊ | 209018/238706 [11:33:29<55:22,  8.94it/s]  [20:37:23] UFFTYPER: Unrecognized charge state for atom: 9\n",
      " 88%|████████▊ | 209399/238706 [11:34:07<45:06, 10.83it/s]  [20:38:01] UFFTYPER: Unrecognized charge state for atom: 1\n",
      " 88%|████████▊ | 209444/238706 [11:34:11<27:42, 17.60it/s]  [20:38:05] UFFTYPER: Unrecognized charge state for atom: 14\n",
      " 88%|████████▊ | 209589/238706 [11:34:24<45:35, 10.64it/s]  [20:38:17] UFFTYPER: Unrecognized charge state for atom: 9\n",
      " 88%|████████▊ | 209724/238706 [11:34:39<55:06,  8.77it/s]  [20:38:32] UFFTYPER: Unrecognized charge state for atom: 8\n",
      "[20:38:32] UFFTYPER: Unrecognized atom type: Se2+2 (28)\n",
      " 88%|████████▊ | 209847/238706 [11:34:50<37:37, 12.79it/s]  [20:38:43] UFFTYPER: Unrecognized atom type: Se2+2 (3)\n",
      "[20:38:43] UFFTYPER: Unrecognized atom type: Se2+2 (3)\n",
      " 88%|████████▊ | 209849/238706 [11:34:50<34:37, 13.89it/s][20:38:43] UFFTYPER: Unrecognized atom type: Se2+2 (5)\n",
      "[20:38:43] UFFTYPER: Unrecognized atom type: Se2+2 (5)\n",
      " 88%|████████▊ | 210023/238706 [11:35:09<55:26,  8.62it/s]  [20:39:02] UFFTYPER: Unrecognized atom type: S_6+6 (19)\n",
      " 88%|████████▊ | 210044/238706 [11:35:11<50:12,  9.52it/s]  [20:39:04] UFFTYPER: Unrecognized charge state for atom: 17\n",
      " 88%|████████▊ | 210407/238706 [11:35:52<41:44, 11.30it/s]  [20:39:45] UFFTYPER: Unrecognized charge state for atom: 31\n",
      " 88%|████████▊ | 210587/238706 [11:36:08<32:54, 14.24it/s]  "
     ]
    },
    {
     "name": "stdout",
     "output_type": "stream",
     "text": [
      "Failed to process CCC(C)C(=O)OCC12C(OC(C)=O)C(OC(C)=O)CC(C)(O)C13OC(C)(C)C(C(OC(C)=O)C2OC(=O)c1ccccc1)C3O: 'NoneType' object has no attribute 'GetPositions'\n"
     ]
    },
    {
     "name": "stderr",
     "output_type": "stream",
     "text": [
      " 89%|████████▊ | 211658/238706 [11:37:53<45:55,  9.82it/s]  [20:41:46] UFFTYPER: Unrecognized charge state for atom: 8\n",
      " 89%|████████▊ | 211694/238706 [11:37:57<46:15,  9.73it/s][20:41:50] UFFTYPER: Unrecognized atom type: Se2+2 (17)\n",
      " 89%|████████▉ | 212635/238706 [11:39:35<52:20,  8.30it/s]  [20:43:28] UFFTYPER: Unrecognized charge state for atom: 15\n",
      " 89%|████████▉ | 212734/238706 [11:39:44<48:14,  8.97it/s]  "
     ]
    },
    {
     "name": "stdout",
     "output_type": "stream",
     "text": [
      "Failed to process CNC(=O)NCC1OC(n2cnc3c(NC(=O)Nc4ccccc4)ncnc32)C(O[Si](C(C)C)(C(C)C)C(C)C)C1O[Si](C(C)C)(C(C)C)C(C)C: 'NoneType' object has no attribute 'GetPositions'\n"
     ]
    },
    {
     "name": "stderr",
     "output_type": "stream",
     "text": [
      " 89%|████████▉ | 212787/238706 [11:39:49<42:39, 10.13it/s]  "
     ]
    },
    {
     "name": "stdout",
     "output_type": "stream",
     "text": [
      "Failed to process COc1ccccc1Oc1c(NS(=O)(=O)c2ccc(C(C)C)cn2)nc(-c2cc(OC)c(OC)c(OC)c2)nc1OCCNS(=O)(=O)c1cccs1: 'NoneType' object has no attribute 'GetPositions'\n"
     ]
    },
    {
     "name": "stderr",
     "output_type": "stream",
     "text": [
      " 89%|████████▉ | 213048/238706 [11:40:14<34:16, 12.48it/s]  [20:44:07] UFFTYPER: Unrecognized charge state for atom: 11\n",
      " 89%|████████▉ | 213130/238706 [11:40:22<1:43:13,  4.13it/s]"
     ]
    },
    {
     "name": "stdout",
     "output_type": "stream",
     "text": [
      "Failed to process CCCCCCCCCCCCCCCCCCCCCCCCCC(=O)NC(COC1OC(Cn2cc(Cc3ccccc3)nn2)C(O)C(O)C1O)C(O)C(O)CCCCCCCCCCCCCC: 'NoneType' object has no attribute 'GetPositions'\n"
     ]
    },
    {
     "name": "stderr",
     "output_type": "stream",
     "text": [
      " 89%|████████▉ | 213144/238706 [11:40:23<49:31,  8.60it/s]  [20:44:16] UFFTYPER: Unrecognized charge state for atom: 9\n",
      " 89%|████████▉ | 213482/238706 [11:41:13<37:36, 11.18it/s]  [20:45:06] UFFTYPER: Warning: hybridization set to SP3 for atom 6\n",
      " 89%|████████▉ | 213597/238706 [11:41:26<37:35, 11.13it/s]  [20:45:19] UFFTYPER: Unrecognized charge state for atom: 3\n",
      " 89%|████████▉ | 213629/238706 [11:41:29<36:54, 11.33it/s]"
     ]
    },
    {
     "name": "stdout",
     "output_type": "stream",
     "text": [
      "Failed to process CCCCCCCCCCCCCCC(O)C(O)C(COC1SC(CO)C(O)C(O)C1O)NC(=O)CCCCCCCCCCCCC: 'NoneType' object has no attribute 'GetPositions'\n"
     ]
    },
    {
     "name": "stderr",
     "output_type": "stream",
     "text": [
      " 90%|████████▉ | 213788/238706 [11:41:47<39:33, 10.50it/s]  [20:45:40] UFFTYPER: Unrecognized charge state for atom: 9\n",
      " 90%|████████▉ | 213866/238706 [11:41:54<31:59, 12.94it/s]  [20:45:47] UFFTYPER: Unrecognized charge state for atom: 10\n",
      " 90%|████████▉ | 213970/238706 [11:42:02<32:24, 12.72it/s][20:45:55] UFFTYPER: Unrecognized charge state for atom: 8\n",
      " 90%|████████▉ | 214135/238706 [11:42:15<29:03, 14.09it/s][20:46:09] UFFTYPER: Unrecognized charge state for atom: 37\n",
      " 90%|████████▉ | 214186/238706 [11:42:23<32:49, 12.45it/s]  [20:46:16] UFFTYPER: Unrecognized atom type: Se2+2 (15)\n",
      "[20:46:16] UFFTYPER: Unrecognized atom type: Se2+2 (15)\n",
      " 90%|████████▉ | 214356/238706 [11:42:39<33:42, 12.04it/s]  "
     ]
    },
    {
     "name": "stdout",
     "output_type": "stream",
     "text": [
      "Failed to process COc1ccc(CCC[N+](CCCc2ccc(OC)cc2)(CCCc2ccc(OC)cc2)CCNC(=O)c2nc(Cl)c(N)nc2N)cc1: 'NoneType' object has no attribute 'GetPositions'\n"
     ]
    },
    {
     "name": "stderr",
     "output_type": "stream",
     "text": [
      " 90%|████████▉ | 214374/238706 [11:42:42<1:16:29,  5.30it/s]"
     ]
    },
    {
     "name": "stdout",
     "output_type": "stream",
     "text": [
      "Failed to process CCCCCCCCCCCCCCCCCCN(CCCCCCCCCCCCCCCCCC)C(=O)C(N)CCCN=C(N)NC(=O)CNCCCNCCCCNCCCN: 'NoneType' object has no attribute 'GetPositions'\n"
     ]
    },
    {
     "name": "stderr",
     "output_type": "stream",
     "text": [
      " 90%|████████▉ | 214564/238706 [11:42:56<31:14, 12.88it/s]  "
     ]
    },
    {
     "name": "stdout",
     "output_type": "stream",
     "text": [
      "Failed to process CC(C)OC(=O)OCOP(=O)(OCOC(=O)OC(C)C)C(Cc1ccc(F)c(F)c1)P(=O)(OCOC(=O)OC(C)C)OCOC(=O)OC(C)C: 'NoneType' object has no attribute 'GetPositions'\n"
     ]
    },
    {
     "name": "stderr",
     "output_type": "stream",
     "text": [
      " 90%|████████▉ | 214738/238706 [11:43:10<46:15,  8.63it/s][20:47:03] UFFTYPER: Unrecognized charge state for atom: 11\n",
      " 90%|█████████ | 214895/238706 [11:43:26<43:37,  9.10it/s]  [20:47:19] UFFTYPER: Unrecognized charge state for atom: 23\n",
      " 90%|█████████ | 215076/238706 [11:43:42<37:36, 10.47it/s]  [20:47:35] UFFTYPER: Unrecognized charge state for atom: 37\n",
      " 90%|█████████ | 215131/238706 [11:43:47<40:48,  9.63it/s]  [20:47:40] UFFTYPER: Unrecognized charge state for atom: 16\n",
      " 90%|█████████ | 215407/238706 [11:44:13<47:13,  8.22it/s]  "
     ]
    },
    {
     "name": "stdout",
     "output_type": "stream",
     "text": [
      "Failed to process Cc1ccc(CCC(=O)OCC2OC(Oc3c(-c4ccc(O)c(O)c4)oc4cc(O)cc(O)c4c3=O)C(OC(=O)CCc3ccc(C)cc3)C(O)C2O)cc1: 'NoneType' object has no attribute 'GetPositions'\n"
     ]
    },
    {
     "name": "stderr",
     "output_type": "stream",
     "text": [
      " 90%|█████████ | 215465/238706 [11:44:20<58:36,  6.61it/s]  [20:48:14] UFFTYPER: Unrecognized charge state for atom: 12\n",
      " 90%|█████████ | 215481/238706 [11:44:22<28:19, 13.67it/s][20:48:15] UFFTYPER: Unrecognized charge state for atom: 24\n",
      " 90%|█████████ | 215765/238706 [11:44:46<40:20,  9.48it/s]  [20:48:40] UFFTYPER: Unrecognized charge state for atom: 4\n",
      " 91%|█████████ | 216294/238706 [11:45:36<31:29, 11.86it/s]  [20:49:29] UFFTYPER: Unrecognized charge state for atom: 1\n",
      " 91%|█████████ | 216613/238706 [11:46:07<26:02, 14.14it/s]  [20:50:00] UFFTYPER: Unrecognized atom type: Se2+2 (25)\n",
      " 91%|█████████ | 216932/238706 [11:46:45<28:23, 12.79it/s]  [20:50:38] UFFTYPER: Unrecognized charge state for atom: 10\n",
      " 91%|█████████ | 217434/238706 [11:47:34<38:21,  9.24it/s]  "
     ]
    },
    {
     "name": "stdout",
     "output_type": "stream",
     "text": [
      "Failed to process CCC(C)C(=O)OCC12C(OC(C)=O)CCC(C)(O)C13OC(C)(C)C(C(OC(=O)c1cccnc1)C2OC(=O)c1ccccc1)C3OC(C)=O: 'NoneType' object has no attribute 'GetPositions'\n"
     ]
    },
    {
     "name": "stderr",
     "output_type": "stream",
     "text": [
      " 91%|█████████ | 217514/238706 [11:47:41<32:07, 10.99it/s][20:51:34] UFFTYPER: Unrecognized charge state for atom: 13\n",
      " 91%|█████████▏| 218107/238706 [11:48:37<29:03, 11.82it/s]  [20:52:30] UFFTYPER: Unrecognized atom type: Se2+2 (3)\n",
      " 91%|█████████▏| 218373/238706 [11:49:02<37:16,  9.09it/s]  [20:52:56] UFFTYPER: Unrecognized charge state for atom: 6\n",
      " 92%|█████████▏| 218873/238706 [11:49:48<43:11,  7.65it/s]  [20:53:41] UFFTYPER: Unrecognized charge state for atom: 8\n",
      " 92%|█████████▏| 219621/238706 [11:50:55<53:54,  5.90it/s]  "
     ]
    },
    {
     "name": "stdout",
     "output_type": "stream",
     "text": [
      "Failed to process CNC(=O)C(NC(=O)C(O)(CCCN(Cc1ccc(-c2ccc3c(c2)OCO3)cc1)NC(=O)C(NC(=O)OC)C(C)(C)C)Cc1ccccc1)C(C)(C)C: 'NoneType' object has no attribute 'GetPositions'\n"
     ]
    },
    {
     "name": "stderr",
     "output_type": "stream",
     "text": [
      " 92%|█████████▏| 219638/238706 [11:50:58<46:18,  6.86it/s]  [20:54:51] UFFTYPER: Unrecognized charge state for atom: 4\n",
      " 92%|█████████▏| 219709/238706 [11:51:04<29:52, 10.60it/s][20:54:58] UFFTYPER: Unrecognized charge state for atom: 14\n",
      " 92%|█████████▏| 219735/238706 [11:51:06<21:18, 14.84it/s][20:54:59] UFFTYPER: Warning: hybridization set to SP3 for atom 7\n",
      " 92%|█████████▏| 219810/238706 [11:51:12<22:57, 13.72it/s][20:55:05] UFFTYPER: Unrecognized charge state for atom: 19\n",
      " 92%|█████████▏| 219862/238706 [11:51:17<38:36,  8.14it/s]"
     ]
    },
    {
     "name": "stdout",
     "output_type": "stream",
     "text": [
      "Failed to process CCCCCCCCCCCCCCCCCCC(CCCCCCCCCCCCCCC(C)C)OC1OC(CO)C(OC2OC(CO)C(O)C(O)C2O)C(O)C1O: 'NoneType' object has no attribute 'GetPositions'\n"
     ]
    },
    {
     "name": "stderr",
     "output_type": "stream",
     "text": [
      " 92%|█████████▏| 219928/238706 [11:51:24<59:37,  5.25it/s]  "
     ]
    },
    {
     "name": "stdout",
     "output_type": "stream",
     "text": [
      "Failed to process Clc1ccc2c(NCCN(CCC34CC5CC(CC(C5)C3)C4)CCC34CC5CC(CC(C5)C3)C4)ccnc2c1: 'NoneType' object has no attribute 'GetPositions'\n"
     ]
    },
    {
     "name": "stderr",
     "output_type": "stream",
     "text": [
      " 92%|█████████▏| 220223/238706 [11:51:49<20:24, 15.10it/s][20:55:42] UFFTYPER: Unrecognized charge state for atom: 13\n",
      " 92%|█████████▏| 220762/238706 [11:52:47<39:22,  7.60it/s]  [20:56:40] UFFTYPER: Unrecognized charge state for atom: 7\n",
      "[20:56:40] UFFTYPER: Unrecognized atom type: S_5+6 (7)\n",
      " 93%|█████████▎| 221377/238706 [11:53:42<32:47,  8.81it/s]  [20:57:35] UFFTYPER: Unrecognized atom type: Se2+2 (6)\n",
      "[20:57:35] UFFTYPER: Unrecognized atom type: Se2+2 (11)\n",
      "[20:57:35] UFFTYPER: Unrecognized atom type: Se2+2 (6)\n",
      "[20:57:35] UFFTYPER: Unrecognized atom type: Se2+2 (11)\n",
      " 93%|█████████▎| 221816/238706 [11:54:23<17:33, 16.03it/s]  [20:58:16] UFFTYPER: Unrecognized charge state for atom: 5\n",
      " 93%|█████████▎| 222143/238706 [11:54:53<30:03,  9.18it/s]  "
     ]
    },
    {
     "name": "stdout",
     "output_type": "stream",
     "text": [
      "Failed to process CCCCCCCCCCCCCCCC(=O)OCC(C[Se]CC(N)C(=O)NC(CO)C(=O)OC)OC(=O)CCCCCCCCCCCCCCC: 'NoneType' object has no attribute 'GetPositions'\n"
     ]
    },
    {
     "name": "stderr",
     "output_type": "stream",
     "text": [
      " 93%|█████████▎| 222324/238706 [11:55:08<33:25,  8.17it/s][20:59:01] UFFTYPER: Unrecognized charge state for atom: 9\n",
      " 93%|█████████▎| 222519/238706 [11:55:24<17:01, 15.85it/s][20:59:18] UFFTYPER: Unrecognized charge state for atom: 19\n",
      " 93%|█████████▎| 222555/238706 [11:55:28<31:58,  8.42it/s]"
     ]
    },
    {
     "name": "stdout",
     "output_type": "stream",
     "text": [
      "Failed to process CC1OC(COC2C(O)C(OCCc3ccc(O)c(O)c3)OC(COC3OC(CO)C(O)C(O)C3O)C2OC(=O)C=Cc2ccc(O)cc2)C(O)C(O)C1O: 'NoneType' object has no attribute 'GetPositions'\n"
     ]
    },
    {
     "name": "stderr",
     "output_type": "stream",
     "text": [
      " 93%|█████████▎| 222570/238706 [11:55:30<44:53,  5.99it/s]"
     ]
    },
    {
     "name": "stdout",
     "output_type": "stream",
     "text": [
      "Failed to process CCCCCCCCCCCCCCCCCCN(CCCCCCCCCCCCCCCCCC)C(=O)CNC(=O)CNC(=O)CNC(=O)OCC(COC(CO)CO)COC(CO)CO: 'NoneType' object has no attribute 'GetPositions'\n"
     ]
    },
    {
     "name": "stderr",
     "output_type": "stream",
     "text": [
      " 93%|█████████▎| 222648/238706 [11:55:38<27:02,  9.90it/s]  [20:59:32] UFFTYPER: Unrecognized charge state for atom: 18\n",
      " 93%|█████████▎| 222700/238706 [11:55:42<27:37,  9.66it/s]"
     ]
    },
    {
     "name": "stdout",
     "output_type": "stream",
     "text": [
      "Failed to process CCCCCCCC1(CCCCCCC)OC2CC3(CC(OC(=O)C=Cc4ccc(O)c(O)c4)C2O1)OC(CCCCCCC)(CCCCCCC)OC3=O: 'NoneType' object has no attribute 'GetPositions'\n"
     ]
    },
    {
     "name": "stderr",
     "output_type": "stream",
     "text": [
      " 93%|█████████▎| 222742/238706 [11:55:46<24:07, 11.03it/s][20:59:39] UFFTYPER: Unrecognized charge state for atom: 1\n",
      " 93%|█████████▎| 223144/238706 [11:56:30<14:04, 18.42it/s]  [21:00:24] UFFTYPER: Unrecognized atom type: Se2+2 (22)\n",
      " 94%|█████████▎| 223250/238706 [11:56:38<26:49,  9.60it/s][21:00:32] UFFTYPER: Unrecognized charge state for atom: 29\n",
      " 94%|█████████▎| 223536/238706 [11:57:07<24:11, 10.45it/s][21:01:00] UFFTYPER: Unrecognized charge state for atom: 1\n",
      " 94%|█████████▍| 224035/238706 [11:58:01<24:30,  9.98it/s]  [21:01:54] UFFTYPER: Unrecognized charge state for atom: 3\n",
      " 94%|█████████▍| 224180/238706 [11:58:14<20:01, 12.09it/s][21:02:07] UFFTYPER: Unrecognized atom type: Se2+2 (15)\n",
      "[21:02:07] UFFTYPER: Unrecognized atom type: Se2+2 (15)\n",
      " 94%|█████████▍| 224228/238706 [11:58:19<24:40,  9.78it/s][21:02:12] UFFTYPER: Unrecognized charge state for atom: 14\n",
      " 94%|█████████▍| 224507/238706 [11:58:51<19:29, 12.14it/s]  [21:02:44] UFFTYPER: Unrecognized atom type: Se2+2 (9)\n",
      " 94%|█████████▍| 224705/238706 [11:59:10<22:08, 10.54it/s][21:03:03] UFFTYPER: Unrecognized charge state for atom: 19\n",
      " 94%|█████████▍| 224926/238706 [11:59:33<20:13, 11.36it/s][21:03:26] UFFTYPER: Unrecognized charge state for atom: 10\n",
      " 94%|█████████▍| 224978/238706 [11:59:38<27:49,  8.22it/s][21:03:31] UFFTYPER: Unrecognized charge state for atom: 12\n",
      " 94%|█████████▍| 225315/238706 [12:00:12<25:16,  8.83it/s][21:04:05] UFFTYPER: Unrecognized charge state for atom: 10\n",
      " 94%|█████████▍| 225536/238706 [12:00:36<34:54,  6.29it/s][21:04:29] UFFTYPER: Unrecognized charge state for atom: 5\n",
      " 95%|█████████▍| 226071/238706 [12:01:30<27:01,  7.79it/s][21:05:24] UFFTYPER: Unrecognized atom type: Se2+2 (19)\n",
      " 95%|█████████▍| 226486/238706 [12:02:10<25:04,  8.12it/s][21:06:04] UFFTYPER: Unrecognized charge state for atom: 2\n",
      " 95%|█████████▍| 226725/238706 [12:02:33<21:28,  9.30it/s][21:06:26] UFFTYPER: Unrecognized charge state for atom: 1\n",
      " 95%|█████████▌| 227254/238706 [12:03:26<16:50, 11.33it/s][21:07:19] UFFTYPER: Unrecognized charge state for atom: 4\n",
      " 95%|█████████▌| 227330/238706 [12:03:37<20:26,  9.28it/s][21:07:30] UFFTYPER: Unrecognized charge state for atom: 15\n",
      " 95%|█████████▌| 227457/238706 [12:03:47<11:47, 15.90it/s][21:07:40] UFFTYPER: Unrecognized charge state for atom: 15\n",
      " 95%|█████████▌| 227465/238706 [12:03:47<12:29, 15.00it/s][21:07:40] UFFTYPER: Unrecognized charge state for atom: 14\n",
      " 95%|█████████▌| 227582/238706 [12:03:57<10:20, 17.92it/s][21:07:50] UFFTYPER: Unrecognized charge state for atom: 6\n",
      " 95%|█████████▌| 227696/238706 [12:04:05<12:56, 14.18it/s][21:07:59] UFFTYPER: Unrecognized charge state for atom: 21\n",
      " 95%|█████████▌| 227845/238706 [12:04:22<18:29,  9.79it/s][21:08:15] UFFTYPER: Unrecognized charge state for atom: 15\n",
      " 96%|█████████▌| 227981/238706 [12:04:36<18:21,  9.73it/s][21:08:29] UFFTYPER: Unrecognized charge state for atom: 1\n",
      " 96%|█████████▌| 228121/238706 [12:04:50<17:12, 10.26it/s][21:08:43] UFFTYPER: Unrecognized charge state for atom: 16\n",
      " 96%|█████████▌| 228400/238706 [12:05:24<14:25, 11.91it/s][21:09:18] UFFTYPER: Unrecognized charge state for atom: 1\n",
      " 96%|█████████▌| 228696/238706 [12:05:56<15:37, 10.67it/s][21:09:49] UFFTYPER: Unrecognized charge state for atom: 18\n",
      " 96%|█████████▌| 229006/238706 [12:06:25<14:18, 11.30it/s][21:10:19] UFFTYPER: Unrecognized charge state for atom: 10\n",
      " 96%|█████████▌| 229047/238706 [12:06:30<24:17,  6.63it/s][21:10:23] UFFTYPER: Unrecognized charge state for atom: 34\n",
      " 96%|█████████▌| 229265/238706 [12:06:51<15:13, 10.34it/s][21:10:45] UFFTYPER: Unrecognized charge state for atom: 1\n",
      " 96%|█████████▌| 229352/238706 [12:07:01<28:27,  5.48it/s][21:10:54] UFFTYPER: Unrecognized atom type: Se2+2 (17)\n",
      " 96%|█████████▌| 229355/238706 [12:07:01<20:12,  7.71it/s]"
     ]
    },
    {
     "name": "stdout",
     "output_type": "stream",
     "text": [
      "Failed to process CCCCCCCCCCCCCCCC(=O)NC(CCCCN)C(=O)NC(CCCCN)C(=O)NCCCCCCCCCCCC(=O)NC(CCCCN)C(N)=O: 'NoneType' object has no attribute 'GetPositions'\n"
     ]
    },
    {
     "name": "stderr",
     "output_type": "stream",
     "text": [
      " 96%|█████████▌| 229440/238706 [12:07:10<12:39, 12.20it/s][21:11:03] UFFTYPER: Unrecognized atom type: Se2+2 (9)\n",
      "[21:11:03] UFFTYPER: Unrecognized atom type: Se2+2 (14)\n",
      "[21:11:03] UFFTYPER: Unrecognized atom type: Se2+2 (9)\n",
      "[21:11:03] UFFTYPER: Unrecognized atom type: Se2+2 (14)\n",
      " 96%|█████████▌| 229570/238706 [12:07:24<16:12,  9.39it/s][21:11:17] UFFTYPER: Unrecognized charge state for atom: 1\n",
      " 96%|█████████▌| 229636/238706 [12:07:30<25:04,  6.03it/s][21:11:23] UFFTYPER: Unrecognized charge state for atom: 28\n",
      " 96%|█████████▌| 229697/238706 [12:07:36<11:26, 13.13it/s][21:11:29] UFFTYPER: Unrecognized charge state for atom: 26\n",
      " 96%|█████████▋| 229833/238706 [12:07:48<12:13, 12.09it/s][21:11:41] UFFTYPER: Unrecognized charge state for atom: 16\n",
      " 96%|█████████▋| 229887/238706 [12:07:54<17:29,  8.40it/s]"
     ]
    },
    {
     "name": "stdout",
     "output_type": "stream",
     "text": [
      "Failed to process CC(C)C(O)CCC(C)C(O)CCC(C)C(O)CCC(OCCCCc1cn(CCCCCC(=O)NC(CO)C(N)=O)nn1)C(C)CCC(O)C(C)CCC(O)C(C)C: 'NoneType' object has no attribute 'GetPositions'\n"
     ]
    },
    {
     "name": "stderr",
     "output_type": "stream",
     "text": [
      " 96%|█████████▋| 230015/238706 [12:08:06<10:17, 14.08it/s][21:11:59] UFFTYPER: Unrecognized charge state for atom: 35\n",
      " 96%|█████████▋| 230017/238706 [12:08:06<09:33, 15.15it/s][21:12:00] UFFTYPER: Unrecognized charge state for atom: 1\n",
      " 97%|█████████▋| 230522/238706 [12:08:59<16:08,  8.45it/s]"
     ]
    },
    {
     "name": "stdout",
     "output_type": "stream",
     "text": [
      "Failed to process Cc1cccc2[nH]c(Nc3ccc(C(=O)NC(CCCCNC(=O)C=Cc4cccnc4)C(=O)NC(CCCC(=O)O)C(=O)NC4(C(N)=O)CCCCC4)cc3)nc12: 'NoneType' object has no attribute 'GetPositions'\n"
     ]
    },
    {
     "name": "stderr",
     "output_type": "stream",
     "text": [
      " 97%|█████████▋| 230757/238706 [12:09:24<08:25, 15.73it/s][21:13:17] UFFTYPER: Unrecognized charge state for atom: 16\n",
      " 97%|█████████▋| 231239/238706 [12:10:18<10:15, 12.14it/s]  [21:14:12] UFFTYPER: Unrecognized charge state for atom: 9\n",
      " 97%|█████████▋| 231418/238706 [12:10:37<09:52, 12.29it/s][21:14:31] UFFTYPER: Unrecognized charge state for atom: 9\n",
      " 97%|█████████▋| 231436/238706 [12:10:39<11:00, 11.00it/s][21:14:32] UFFTYPER: Unrecognized atom type: Se2+2 (18)\n",
      "[21:14:32] UFFTYPER: Unrecognized atom type: Se2+2 (18)\n",
      " 97%|█████████▋| 231730/238706 [12:11:04<07:32, 15.41it/s][21:14:57] UFFTYPER: Unrecognized charge state for atom: 25\n",
      " 97%|█████████▋| 231764/238706 [12:11:08<11:02, 10.48it/s]"
     ]
    },
    {
     "name": "stdout",
     "output_type": "stream",
     "text": [
      "Failed to process CCN(CC(Cc1ccc(OCc2ccccc2)cc1)NC(=O)OCc1cncs1)CC(Cc1ccc(OCc2ccccc2)cc1)NC(=O)OCc1nccs1: 'NoneType' object has no attribute 'GetPositions'\n"
     ]
    },
    {
     "name": "stderr",
     "output_type": "stream",
     "text": [
      " 97%|█████████▋| 232428/238706 [12:12:07<05:46, 18.12it/s][21:16:01] UFFTYPER: Unrecognized charge state for atom: 12\n",
      " 97%|█████████▋| 232689/238706 [12:12:29<05:26, 18.41it/s][21:16:22] UFFTYPER: Unrecognized charge state for atom: 12\n",
      " 97%|█████████▋| 232697/238706 [12:12:29<06:49, 14.66it/s][21:16:22] UFFTYPER: Unrecognized atom type: Se2+2 (9)\n",
      " 98%|█████████▊| 233043/238706 [12:12:59<07:09, 13.18it/s][21:16:52] UFFTYPER: Unrecognized charge state for atom: 10\n",
      " 98%|█████████▊| 233438/238706 [12:13:33<11:35,  7.58it/s][21:17:26] UFFTYPER: Unrecognized charge state for atom: 29\n",
      " 98%|█████████▊| 233530/238706 [12:13:42<05:24, 15.96it/s][21:17:35] UFFTYPER: Unrecognized charge state for atom: 29\n",
      " 98%|█████████▊| 233650/238706 [12:13:51<05:09, 16.34it/s][21:17:44] UFFTYPER: Unrecognized charge state for atom: 1\n",
      " 98%|█████████▊| 234100/238706 [12:14:28<06:42, 11.46it/s][21:18:22] UFFTYPER: Unrecognized charge state for atom: 1\n",
      " 98%|█████████▊| 234160/238706 [12:14:34<06:45, 11.21it/s][21:18:28] UFFTYPER: Unrecognized charge state for atom: 6\n",
      " 98%|█████████▊| 234181/238706 [12:14:36<09:12,  8.19it/s]"
     ]
    },
    {
     "name": "stdout",
     "output_type": "stream",
     "text": [
      "Failed to process CCCCCCCCC=CCCCCCCC=CC(O)C(COC1OC(CO)C(O)C(O)C1O)NC(=O)C(O)CCCCCCCCCCCCC: 'NoneType' object has no attribute 'GetPositions'\n"
     ]
    },
    {
     "name": "stderr",
     "output_type": "stream",
     "text": [
      " 98%|█████████▊| 234365/238706 [12:14:50<04:08, 17.48it/s][21:18:43] UFFTYPER: Unrecognized charge state for atom: 8\n",
      " 98%|█████████▊| 234393/238706 [12:14:52<04:54, 14.66it/s][21:18:45] UFFTYPER: Unrecognized charge state for atom: 3\n",
      " 99%|█████████▊| 235402/238706 [12:16:16<05:25, 10.14it/s]"
     ]
    },
    {
     "name": "stdout",
     "output_type": "stream",
     "text": [
      "Failed to process C#CCOCCOCCOCCNc1nc(N2CCN(C(=O)C(CCCCN)n3cc(CN)nn3)CC2)nc(N2CCN(C(=O)C(CCC(=O)O)n3cc(CN)nn3)CC2)n1: 'NoneType' object has no attribute 'GetPositions'\n"
     ]
    },
    {
     "name": "stderr",
     "output_type": "stream",
     "text": [
      " 99%|█████████▊| 235469/238706 [12:17:00<2:46:49,  3.09s/it]"
     ]
    },
    {
     "name": "stdout",
     "output_type": "stream",
     "text": [
      "Failed to process COc1cc2cc(c1O)-c1cc(ccc1O)CCC(OS(=O)(=O)O)CCCC2: 'NoneType' object has no attribute 'GetPositions'\n"
     ]
    },
    {
     "name": "stderr",
     "output_type": "stream",
     "text": [
      " 99%|█████████▉| 235725/238706 [12:17:27<04:06, 12.11it/s]  "
     ]
    },
    {
     "name": "stdout",
     "output_type": "stream",
     "text": [
      "Failed to process COC(=O)CC(NC(=O)OC(C)(C)C)C(=O)N(Cc1ccccc1)C1(C(=O)NCc2ccccc2)CCN(Cc2ccccc2)C1: 'NoneType' object has no attribute 'GetPositions'\n"
     ]
    },
    {
     "name": "stderr",
     "output_type": "stream",
     "text": [
      " 99%|█████████▉| 235769/238706 [12:17:32<07:13,  6.77it/s][21:21:25] UFFTYPER: Unrecognized charge state for atom: 17\n",
      " 99%|█████████▉| 235810/238706 [12:17:35<03:25, 14.11it/s][21:21:28] UFFTYPER: Unrecognized charge state for atom: 8\n",
      " 99%|█████████▉| 236156/238706 [12:18:04<04:44,  8.97it/s][21:21:57] UFFTYPER: Unrecognized charge state for atom: 1\n",
      " 99%|█████████▉| 236414/238706 [12:18:28<02:20, 16.26it/s][21:22:21] UFFTYPER: Unrecognized charge state for atom: 9\n",
      " 99%|█████████▉| 236476/238706 [12:18:33<04:00,  9.28it/s][21:22:26] UFFTYPER: Unrecognized charge state for atom: 12\n",
      " 99%|█████████▉| 236730/238706 [12:18:58<03:53,  8.47it/s][21:22:51] UFFTYPER: Warning: hybridization set to SP3 for atom 4\n",
      " 99%|█████████▉| 237133/238706 [12:19:40<02:11, 11.97it/s][21:23:34] UFFTYPER: Unrecognized charge state for atom: 11\n",
      " 99%|█████████▉| 237400/238706 [12:20:04<03:44,  5.83it/s][21:23:57] UFFTYPER: Unrecognized charge state for atom: 11\n",
      "100%|█████████▉| 238215/238706 [12:43:02<00:58,  8.35it/s]    [21:46:56] UFFTYPER: Unrecognized charge state for atom: 5\n",
      "100%|█████████▉| 238320/238706 [12:43:20<00:21, 18.18it/s][21:47:13] UFFTYPER: Unrecognized charge state for atom: 16\n",
      "100%|█████████▉| 238442/238706 [12:43:29<00:12, 21.18it/s][21:47:22] UFFTYPER: Warning: hybridization set to SP3 for atom 1\n",
      "100%|█████████▉| 238458/238706 [12:43:29<00:13, 18.46it/s][21:47:23] UFFTYPER: Unrecognized charge state for atom: 25\n",
      "100%|█████████▉| 238535/238706 [12:43:35<00:13, 13.13it/s][21:47:28] UFFTYPER: Unrecognized charge state for atom: 18\n",
      "100%|█████████▉| 238543/238706 [12:43:36<00:12, 12.66it/s][21:47:29] UFFTYPER: Unrecognized charge state for atom: 9\n",
      "100%|█████████▉| 238688/238706 [12:43:46<00:01, 11.08it/s][21:47:39] UFFTYPER: Unrecognized charge state for atom: 5\n",
      "100%|██████████| 238706/238706 [12:43:47<00:00,  5.21it/s]\n"
     ]
    }
   ],
   "source": [
    "def preprocess_smiles_data(smiles_data, partition_name):\n",
    "    preprocessed_data = []\n",
    "    for smi in tqdm(smiles_data):\n",
    "        try:\n",
    "            atoms, coords = mol_to_atoms_coords(smi)\n",
    "            preprocessed_data.append({\n",
    "                'smiles': smi,\n",
    "                'atoms': atoms,\n",
    "                'coords': coords,\n",
    "                'partition': partition_name  # Add partition key\n",
    "            })\n",
    "        except Exception as e:\n",
    "            print(f\"Failed to process {smi}: {str(e)}\")\n",
    "\n",
    "    return preprocessed_data\n",
    "\n",
    "# Pass the partition name explicitly when calling this function\n",
    "with open('train_guacamol.pkl', 'wb') as f:\n",
    "    pickle.dump(preprocess_smiles_data(df_train['smiles'], 'train'), f)\n",
    "\n",
    "with open('valid_guacamol.pkl', 'wb') as f:\n",
    "    pickle.dump(preprocess_smiles_data(df_valid['smiles'], 'valid'), f)\n",
    "\n",
    "with open('test_guacamol.pkl', 'wb') as f:\n",
    "    pickle.dump(preprocess_smiles_data(df_test['smiles'], 'test'), f)\n"
   ]
  },
  {
   "cell_type": "code",
   "execution_count": 4,
   "metadata": {},
   "outputs": [
    {
     "name": "stdout",
     "output_type": "stream",
     "text": [
      "[{'smiles': 'CCC(C)(C)Br', 'atoms': array([ 6,  6,  6,  6,  6, 35,  1,  1,  1,  1,  1,  1,  1,  1,  1,  1,  1],\n",
      "      dtype=uint8), 'coords': array([[ 1.73995939, -0.41652801, -0.33496531],\n",
      "       [ 0.77919738, -0.37885212,  0.79409621],\n",
      "       [-0.59915176,  0.09005053,  0.43215675],\n",
      "       [-1.2439719 , -0.79659656, -0.61070348],\n",
      "       [-0.65889248,  1.49995473, -0.0469612 ],\n",
      "       [-1.69814093, -0.07384639,  2.03462616],\n",
      "       [ 2.25522228, -1.404456  , -0.38616722],\n",
      "       [ 2.57259291,  0.32551001, -0.17056892],\n",
      "       [ 1.2720485 , -0.27115557, -1.32946089],\n",
      "       [ 0.661645  , -1.41826167,  1.20853113],\n",
      "       [ 1.204467  ,  0.21590541,  1.62506238],\n",
      "       [-1.05566783, -0.36153166, -1.62369487],\n",
      "       [-2.33335852, -0.85974912, -0.49246425],\n",
      "       [-0.75625327, -1.79781899, -0.56980021],\n",
      "       [-1.71496358,  1.84056761,  0.02737312],\n",
      "       [-0.35748139,  1.60001995, -1.12210047],\n",
      "       [-0.06725082,  2.20678784,  0.56504107]]), 'partition': 'train'}, {'smiles': 'CCCN(CCc1cccc(-c2ccccc2)c1)C(=O)C1OC(C(=O)O)=CC(N)C1NC(C)=O', 'atoms': array([6, 6, 6, 7, 6, 6, 6, 6, 6, 6, 6, 6, 6, 6, 6, 6, 6, 6, 6, 8, 6, 8,\n",
      "       6, 6, 8, 8, 6, 6, 7, 6, 7, 6, 6, 8, 1, 1, 1, 1, 1, 1, 1, 1, 1, 1,\n",
      "       1, 1, 1, 1, 1, 1, 1, 1, 1, 1, 1, 1, 1, 1, 1, 1, 1, 1, 1, 1, 1],\n",
      "      dtype=uint8), 'coords': array([[-4.49880861e-01, -1.83658245e+00, -3.11900874e+00],\n",
      "       [-9.11784459e-01, -2.97031192e+00, -2.24773399e+00],\n",
      "       [-3.95260763e-01, -2.93809167e+00, -8.55287671e-01],\n",
      "       [-7.82341577e-01, -1.74410899e+00, -9.70006568e-02],\n",
      "       [ 1.16111752e-01, -5.91708456e-01, -7.09719011e-02],\n",
      "       [ 1.11496319e+00, -8.26509416e-01,  1.03649458e+00],\n",
      "       [ 2.09233761e+00,  2.54039341e-01,  1.18740435e+00],\n",
      "       [ 1.85684760e+00,  1.32570376e+00,  2.02277847e+00],\n",
      "       [ 2.83393148e+00,  2.29645637e+00,  2.10201762e+00],\n",
      "       [ 3.99972415e+00,  2.19382066e+00,  1.37138529e+00],\n",
      "       [ 4.24977407e+00,  1.12503285e+00,  5.29589535e-01],\n",
      "       [ 5.48236728e+00,  1.01293886e+00, -2.45087301e-01],\n",
      "       [ 6.03445771e+00, -2.16951525e-01, -5.58594114e-01],\n",
      "       [ 7.19473841e+00, -3.36662465e-01, -1.28756809e+00],\n",
      "       [ 7.85947469e+00,  7.84520382e-01, -1.73901370e+00],\n",
      "       [ 7.31131871e+00,  2.01218065e+00, -1.42791839e+00],\n",
      "       [ 6.13507891e+00,  2.12816158e+00, -6.88791989e-01],\n",
      "       [ 3.26802655e+00,  1.58090985e-01,  4.55485032e-01],\n",
      "       [-1.98909806e+00, -1.81308029e+00,  6.25298669e-01],\n",
      "       [-2.63708139e+00, -2.90047542e+00,  6.30207630e-01],\n",
      "       [-2.58466356e+00, -7.03343115e-01,  1.40554513e+00],\n",
      "       [-3.57154693e+00, -1.23021470e+00,  2.31955793e+00],\n",
      "       [-4.59057452e+00, -4.52867419e-01,  2.85069529e+00],\n",
      "       [-4.94221099e+00, -3.39681082e-01,  4.23651068e+00],\n",
      "       [-4.31098606e+00, -9.77952553e-01,  5.12870908e+00],\n",
      "       [-5.98046070e+00,  4.63785674e-01,  4.68221530e+00],\n",
      "       [-5.29471471e+00,  2.47167065e-01,  1.94731363e+00],\n",
      "       [-4.83899730e+00,  4.70380769e-02,  5.53385149e-01],\n",
      "       [-5.44204541e+00,  9.50319782e-01, -3.79574056e-01],\n",
      "       [-3.32121572e+00,  2.94269848e-01,  5.48958810e-01],\n",
      "       [-2.93481760e+00,  3.21767414e-01, -8.30738181e-01],\n",
      "       [-2.54594595e+00,  1.56737473e+00, -1.42172584e+00],\n",
      "       [-2.13409685e+00,  1.71597758e+00, -2.82759466e+00],\n",
      "       [-2.55373961e+00,  2.61037117e+00, -7.00836348e-01],\n",
      "       [-7.08484651e-01, -2.14294672e+00, -4.17589520e+00],\n",
      "       [-9.31602267e-01, -8.81887600e-01, -2.87867667e+00],\n",
      "       [ 6.40313692e-01, -1.71822821e+00, -3.10968119e+00],\n",
      "       [-6.27010097e-01, -3.90785024e+00, -2.76689799e+00],\n",
      "       [-2.03772546e+00, -3.01842692e+00, -2.19940877e+00],\n",
      "       [-7.50841501e-01, -3.81518993e+00, -2.81949098e-01],\n",
      "       [ 7.22302282e-01, -3.01537251e+00, -9.09999459e-01],\n",
      "       [-4.53796320e-01,  3.29371675e-01,  1.42511968e-01],\n",
      "       [ 5.64352175e-01, -4.91921857e-01, -1.05467812e+00],\n",
      "       [ 5.45326101e-01, -9.16282730e-01,  1.98546911e+00],\n",
      "       [ 1.66283488e+00, -1.78291532e+00,  9.09580470e-01],\n",
      "       [ 9.31558791e-01,  1.37721263e+00,  2.58304093e+00],\n",
      "       [ 2.63379739e+00,  3.13500333e+00,  2.76457044e+00],\n",
      "       [ 4.75412437e+00,  2.96484428e+00,  1.44662735e+00],\n",
      "       [ 5.51424678e+00, -1.09386383e+00, -2.05175430e-01],\n",
      "       [ 7.62231419e+00, -1.31950688e+00, -1.52951760e+00],\n",
      "       [ 8.77666435e+00,  6.78653459e-01, -2.31476052e+00],\n",
      "       [ 7.85103773e+00,  2.88380517e+00, -1.79320165e+00],\n",
      "       [ 5.73340589e+00,  3.10998096e+00, -4.63152860e-01],\n",
      "       [ 3.44380829e+00, -7.04211657e-01, -2.08994585e-01],\n",
      "       [-1.82170413e+00, -1.86843067e-01,  2.02750797e+00],\n",
      "       [-6.18420969e+00,  6.34639593e-01,  5.64741797e+00],\n",
      "       [-6.09057316e+00,  8.69132778e-01,  2.25640710e+00],\n",
      "       [-5.01745685e+00, -1.01850983e+00,  2.79923645e-01],\n",
      "       [-5.62278765e+00,  5.48905676e-01, -1.31286514e+00],\n",
      "       [-6.20844278e+00,  1.51506983e+00,  3.05703476e-03],\n",
      "       [-3.18033972e+00,  1.30774478e+00,  1.00842331e+00],\n",
      "       [-2.93934182e+00, -5.47324585e-01, -1.38340774e+00],\n",
      "       [-2.50940729e+00,  8.85841873e-01, -3.45255098e+00],\n",
      "       [-1.03180738e+00,  1.87029040e+00, -2.93392756e+00],\n",
      "       [-2.61824525e+00,  2.65485175e+00, -3.21590327e+00]]), 'partition': 'train'}, {'smiles': 'Oc1ccc(C2CC(c3ccccc3)=NN2C(=S)Nc2ccccc2)cc1', 'atoms': array([ 8,  6,  6,  6,  6,  6,  6,  6,  6,  6,  6,  6,  6,  6,  7,  7,  6,\n",
      "       16,  7,  6,  6,  6,  6,  6,  6,  6,  6,  1,  1,  1,  1,  1,  1,  1,\n",
      "        1,  1,  1,  1,  1,  1,  1,  1,  1,  1,  1,  1], dtype=uint8), 'coords': array([[-0.51665058,  5.90651682, -2.34161373],\n",
      "       [-0.71866547,  4.67416523, -1.69572026],\n",
      "       [-1.42678052,  4.60368005, -0.53889978],\n",
      "       [-1.61472427,  3.38193346,  0.08161198],\n",
      "       [-1.10467885,  2.20844024, -0.43262295],\n",
      "       [-1.37441603,  0.95854795,  0.30569559],\n",
      "       [-2.31608625,  0.0532144 , -0.45444645],\n",
      "       [-1.86752763, -1.27903063, -0.00791351],\n",
      "       [-2.60645209, -2.52478194, -0.13943707],\n",
      "       [-3.85089227, -2.51271886, -0.73125773],\n",
      "       [-4.60229687, -3.66140283, -0.88577084],\n",
      "       [-4.08184482, -4.85846054, -0.42909944],\n",
      "       [-2.85384053, -4.88401845,  0.15730107],\n",
      "       [-2.12184453, -3.73089658,  0.30183859],\n",
      "       [-0.70508343, -1.19720331,  0.52866342],\n",
      "       [-0.23948266,  0.12162531,  0.51827888],\n",
      "       [ 1.16078115,  0.49269482,  0.70369935],\n",
      "       [ 1.45703512,  2.07706389,  0.67547813],\n",
      "       [ 2.08995724, -0.52320147,  0.89767222],\n",
      "       [ 3.46918405, -0.48821162,  1.09599612],\n",
      "       [ 4.22171567,  0.65398409,  1.03955547],\n",
      "       [ 5.60609907,  0.68279715,  1.2470205 ],\n",
      "       [ 6.26769573, -0.46650804,  1.52067773],\n",
      "       [ 5.54665417, -1.63370559,  1.58548626],\n",
      "       [ 4.19033739, -1.66040647,  1.38208297],\n",
      "       [-0.39445829,  2.28646844, -1.59479696],\n",
      "       [-0.20514957,  3.50391253, -2.21638011],\n",
      "       [-0.91041955,  6.73904724, -1.92548263],\n",
      "       [-1.84396862,  5.52191848, -0.10744937],\n",
      "       [-2.19249166,  3.40487181,  1.00453255],\n",
      "       [-1.84933771,  1.18208717,  1.2810109 ],\n",
      "       [-2.16042756,  0.16667037, -1.56735081],\n",
      "       [-3.37769404,  0.25045254, -0.20332203],\n",
      "       [-4.29428608, -1.59741525, -1.10197536],\n",
      "       [-5.59341161, -3.63914577, -1.35934438],\n",
      "       [-4.6785987 , -5.75874542, -0.55391554],\n",
      "       [-2.45426078, -5.80556941,  0.50835004],\n",
      "       [-1.13693763, -3.71909483,  0.76648268],\n",
      "       [ 1.68137303, -1.53305889,  0.89533499],\n",
      "       [ 3.78664066,  1.61194027,  0.82487243],\n",
      "       [ 6.13638773,  1.6294066 ,  1.18612293],\n",
      "       [ 7.33230006, -0.4382401 ,  1.67933883],\n",
      "       [ 6.10036477, -2.53673047,  1.80560414],\n",
      "       [ 3.67550522, -2.61326609,  1.44633706],\n",
      "       [ 0.01362805,  1.37504533, -2.01339618],\n",
      "       [ 0.35704948,  3.57532838, -3.13884969]]), 'partition': 'train'}, {'smiles': 'CC1(C)OCC2OC3(C4OC(C)(C)OC4CO)OC(C)(C)OC3C2O1', 'atoms': array([6, 6, 6, 8, 6, 6, 8, 6, 6, 8, 6, 6, 6, 8, 6, 6, 8, 8, 6, 6, 6, 8,\n",
      "       6, 6, 8, 1, 1, 1, 1, 1, 1, 1, 1, 1, 1, 1, 1, 1, 1, 1, 1, 1, 1, 1,\n",
      "       1, 1, 1, 1, 1, 1, 1, 1, 1], dtype=uint8), 'coords': array([[ 5.13170567e+00, -4.34092718e-01,  9.16498218e-01],\n",
      "       [ 3.80957018e+00, -1.01491617e+00,  3.92207971e-01],\n",
      "       [ 3.75627543e+00, -2.45459759e+00,  9.26795679e-01],\n",
      "       [ 3.86686177e+00, -1.06086610e+00, -9.39365736e-01],\n",
      "       [ 2.82825239e+00, -6.30944065e-01, -1.69231396e+00],\n",
      "       [ 1.82899419e+00,  2.14208746e-01, -1.00583404e+00],\n",
      "       [ 5.59582497e-01,  2.24082933e-01, -1.48946252e+00],\n",
      "       [-3.08986697e-01,  5.41374864e-01, -4.61416335e-01],\n",
      "       [-1.48989425e+00, -3.95627107e-01, -3.97287843e-01],\n",
      "       [-2.35886197e+00, -6.75769125e-02,  6.41614823e-01],\n",
      "       [-3.56663330e+00, -6.61875459e-01,  2.88076943e-01],\n",
      "       [-4.67505952e+00,  2.90335091e-01,  6.68801761e-01],\n",
      "       [-3.65747943e+00, -1.96679514e+00,  1.04938955e+00],\n",
      "       [-3.58335396e+00, -8.17684194e-01, -1.07354141e+00],\n",
      "       [-2.41146386e+00, -2.40858151e-01, -1.58022182e+00],\n",
      "       [-1.97768967e+00, -1.03188996e+00, -2.77356910e+00],\n",
      "       [-1.72104800e+00, -2.34775907e+00, -2.47175087e+00],\n",
      "       [-7.14704996e-01,  1.85083084e+00, -4.41110283e-01],\n",
      "       [-8.69388061e-02,  2.48130100e+00,  6.10280156e-01],\n",
      "       [ 5.56130631e-01,  3.75587811e+00,  8.39150463e-02],\n",
      "       [-1.03073200e+00,  2.84825618e+00,  1.73624993e+00],\n",
      "       [ 8.72380295e-01,  1.63823895e+00,  1.11140177e+00],\n",
      "       [ 4.71341088e-01,  3.33627814e-01,  8.46510847e-01],\n",
      "       [ 1.61468732e+00, -4.72692651e-01,  3.59262719e-01],\n",
      "       [ 2.80263919e+00, -3.27996564e-01,  1.00238619e+00],\n",
      "       [ 4.96400810e+00,  4.07187065e-01,  1.60914814e+00],\n",
      "       [ 5.76670205e+00, -1.18895855e+00,  1.37768857e+00],\n",
      "       [ 5.72819194e+00, -9.26296691e-04,  6.33626952e-02],\n",
      "       [ 3.15087556e+00, -3.09826665e+00,  2.54395242e-01],\n",
      "       [ 4.80006175e+00, -2.85913023e+00,  8.63856946e-01],\n",
      "       [ 3.37902164e+00, -2.48129949e+00,  1.96146394e+00],\n",
      "       [ 3.24704633e+00, -3.58056011e-02, -2.55557882e+00],\n",
      "       [ 2.29759151e+00, -1.49263756e+00, -2.18342950e+00],\n",
      "       [ 2.17638728e+00,  1.24242127e+00, -7.83297134e-01],\n",
      "       [-1.19032871e+00, -1.43803050e+00, -2.63390779e-01],\n",
      "       [-4.45372414e+00,  1.25388596e+00,  1.43678060e-01],\n",
      "       [-5.62274237e+00, -7.82035157e-02,  2.24357636e-01],\n",
      "       [-4.73535132e+00,  4.90375084e-01,  1.73892284e+00],\n",
      "       [-2.94861821e+00, -2.68225586e+00,  5.85097007e-01],\n",
      "       [-3.35516228e+00, -1.76817363e+00,  2.10112198e+00],\n",
      "       [-4.66495662e+00, -2.38266343e+00,  1.07460601e+00],\n",
      "       [-2.56460100e+00,  8.08029198e-01, -1.82665240e+00],\n",
      "       [-1.13016788e+00, -5.95781590e-01, -3.31381665e+00],\n",
      "       [-2.83901161e+00, -1.02739907e+00, -3.49657939e+00],\n",
      "       [-2.17730428e+00, -2.69625166e+00, -1.68744608e+00],\n",
      "       [ 1.03561800e+00,  4.28737666e+00,  9.30005128e-01],\n",
      "       [-1.98422145e-01,  4.39013405e+00, -4.28866742e-01],\n",
      "       [ 1.30000396e+00,  3.47459856e+00, -6.88487036e-01],\n",
      "       [-3.93746677e-01,  3.38496622e+00,  2.49739599e+00],\n",
      "       [-1.38762529e+00,  1.93861927e+00,  2.25236207e+00],\n",
      "       [-1.84236654e+00,  3.52609363e+00,  1.41373484e+00],\n",
      "       [-1.42364540e-01, -1.11094902e-01,  1.62363232e+00],\n",
      "       [ 1.28541130e+00, -1.51877111e+00,  2.05197423e-01]]), 'partition': 'train'}, {'smiles': 'COC(=O)c1cc(C(=CCCCC(=O)SC)c2cc(Cl)c(OC)c(C(=O)OC)c2)cc(Cl)c1OC', 'atoms': array([ 6,  8,  6,  8,  6,  6,  6,  6,  6,  6,  6,  6,  6,  8, 16,  6,  6,\n",
      "        6,  6, 17,  6,  8,  6,  6,  6,  8,  8,  6,  6,  6,  6, 17,  6,  8,\n",
      "        6,  1,  1,  1,  1,  1,  1,  1,  1,  1,  1,  1,  1,  1,  1,  1,  1,\n",
      "        1,  1,  1,  1,  1,  1,  1,  1,  1,  1], dtype=uint8), 'coords': array([[-6.03920145, -2.2550383 , -2.14613039],\n",
      "       [-4.65784564, -1.97884752, -2.05709644],\n",
      "       [-3.84541755, -1.77544177, -3.14317952],\n",
      "       [-4.36764467, -1.83899223, -4.28092215],\n",
      "       [-2.43721183, -1.49897793, -2.93886223],\n",
      "       [-1.92829841, -1.41705984, -1.63789446],\n",
      "       [-0.61542153, -1.14303656, -1.34635788],\n",
      "       [-0.14654877, -0.94038876,  0.0688332 ],\n",
      "       [-1.07519328, -0.58597818,  0.90963893],\n",
      "       [-1.06370279, -0.2967454 ,  2.33989892],\n",
      "       [-1.61519563,  1.0752646 ,  2.67200739],\n",
      "       [-0.81605336,  2.14726073,  1.98870734],\n",
      "       [-1.35110207,  3.52770435,  2.24361215],\n",
      "       [-1.5863798 ,  3.90310754,  3.38836835],\n",
      "       [-1.6504414 ,  4.621566  ,  0.87683035],\n",
      "       [-2.09874442,  6.25863532,  1.45072148],\n",
      "       [ 1.26414742, -1.10708093,  0.33997638],\n",
      "       [ 2.01342467, -2.00013108, -0.44404365],\n",
      "       [ 3.3719958 , -2.14137722, -0.30499112],\n",
      "       [ 4.28437347, -3.28547745, -1.30191543],\n",
      "       [ 4.07187331, -1.40580918,  0.62229337],\n",
      "       [ 5.45310748, -1.56402986,  0.74428237],\n",
      "       [ 6.23227606, -0.68624781, -0.08521924],\n",
      "       [ 3.35257856, -0.534554  ,  1.3934463 ],\n",
      "       [ 4.03666987,  0.26415053,  2.39516903],\n",
      "       [ 5.26324785,  0.21615929,  2.57404516],\n",
      "       [ 3.27827502,  1.13014042,  3.20142538],\n",
      "       [ 3.7938511 ,  1.94964021,  4.19667776],\n",
      "       [ 1.9575944 , -0.39117132,  1.24628925],\n",
      "       [ 0.25478857, -0.93591063, -2.38698317],\n",
      "       [-0.25475845, -1.01972047, -3.69086045],\n",
      "       [ 0.85623343, -0.75586667, -5.01713123],\n",
      "       [-1.56146046, -1.29258342, -3.9736782 ],\n",
      "       [-2.04770941, -1.37667237, -5.27364247],\n",
      "       [-2.05724178, -2.53934337, -6.04227545],\n",
      "       [-6.56904871, -1.33957676, -1.74618131],\n",
      "       [-6.27172396, -3.04975654, -1.40891328],\n",
      "       [-6.37849851, -2.46457244, -3.16978667],\n",
      "       [-2.66342761, -1.61886096, -0.83998953],\n",
      "       [-2.09490079, -0.44540743,  0.4532281 ],\n",
      "       [-1.88364045, -1.00346782,  2.77716031],\n",
      "       [-0.21163822, -0.5257534 ,  2.93787753],\n",
      "       [-2.69057205,  1.16636838,  2.42996272],\n",
      "       [-1.51804656,  1.23700334,  3.78197561],\n",
      "       [ 0.25414836,  2.15048212,  2.37485175],\n",
      "       [-0.75297974,  2.01576659,  0.90134144],\n",
      "       [-2.27372919,  6.30938435,  2.53516726],\n",
      "       [-1.2089484 ,  6.92488617,  1.26734605],\n",
      "       [-2.99299588,  6.69281535,  0.94589625],\n",
      "       [ 1.48008315, -2.61300946, -1.15122442],\n",
      "       [ 5.70956116,  0.3029449 , -0.21286737],\n",
      "       [ 6.26529984, -1.12780131, -1.11704302],\n",
      "       [ 7.26206505, -0.57284853,  0.2676089 ],\n",
      "       [ 4.67414538,  2.50854952,  3.8151393 ],\n",
      "       [ 4.03968129,  1.31778589,  5.09095778],\n",
      "       [ 3.05308305,  2.71298514,  4.55278642],\n",
      "       [ 1.46901883,  0.33629898,  1.87274033],\n",
      "       [ 1.30561329, -0.67463024, -2.25983516],\n",
      "       [-1.36039619, -2.45334581, -6.93307772],\n",
      "       [-3.05512335, -2.65448125, -6.50328843],\n",
      "       [-1.85589409, -3.45890552, -5.45399492]]), 'partition': 'train'}]\n",
      "[{'smiles': 'CCCC(=O)NNC(=O)Nc1ccccc1', 'atoms': array([6, 6, 6, 6, 8, 7, 7, 6, 8, 7, 6, 6, 6, 6, 6, 6, 1, 1, 1, 1, 1, 1,\n",
      "       1, 1, 1, 1, 1, 1, 1, 1, 1], dtype=uint8), 'coords': array([[-6.3564007 , -0.883151  ,  0.08475453],\n",
      "       [-5.19060393, -0.00951387, -0.32527493],\n",
      "       [-3.92470503, -0.65970562,  0.17629839],\n",
      "       [-2.71634061,  0.13549307, -0.18288511],\n",
      "       [-2.89591735,  1.19131996, -0.82232675],\n",
      "       [-1.40964177, -0.23397177,  0.15483119],\n",
      "       [-0.29922901,  0.54081116, -0.19850188],\n",
      "       [ 1.02667462,  0.08167851,  0.15343656],\n",
      "       [ 1.14514204, -0.98483757,  0.75570403],\n",
      "       [ 2.16832496,  0.83246919, -0.18145019],\n",
      "       [ 3.51549604,  0.51372101,  0.09003933],\n",
      "       [ 4.50266448,  1.47750829, -0.15700764],\n",
      "       [ 5.83469094,  1.2553978 ,  0.06938068],\n",
      "       [ 6.27334145,  0.05633067,  0.5582066 ],\n",
      "       [ 5.32743471, -0.91176392,  0.81148308],\n",
      "       [ 3.96470418, -0.67680117,  0.57625604],\n",
      "       [-6.97795592, -1.18610063, -0.77033448],\n",
      "       [-7.01215913, -0.35346377,  0.82948081],\n",
      "       [-6.039008  , -1.81434326,  0.59561054],\n",
      "       [-5.16555395, -0.01065776, -1.43141681],\n",
      "       [-5.35566911,  0.99840262,  0.05656936],\n",
      "       [-3.91102219, -0.75622742,  1.27753431],\n",
      "       [-3.81304454, -1.64517784, -0.32038632],\n",
      "       [-1.27725132, -1.12251738,  0.68932889],\n",
      "       [-0.43720614,  1.43924505, -0.71025938],\n",
      "       [ 1.95945412,  1.74415599, -0.70238383],\n",
      "       [ 4.18501247,  2.43008969, -0.54188565],\n",
      "       [ 6.60215271,  2.00696913, -0.12420501],\n",
      "       [ 7.32535501, -0.11487733,  0.73617167],\n",
      "       [ 5.66747698, -1.85932728,  1.1968749 ],\n",
      "       [ 3.28378399, -1.48115456,  0.79130257]]), 'partition': 'valid'}, {'smiles': 'CC(=O)NC1CCC2(C)C(CCC3(C)C2C(=O)C=C2C4C(C)C(C)CCC4(C)CCC23C)C1(C)C(=O)O', 'atoms': array([6, 6, 8, 7, 6, 6, 6, 6, 6, 6, 6, 6, 6, 6, 6, 6, 8, 6, 6, 6, 6, 6,\n",
      "       6, 6, 6, 6, 6, 6, 6, 6, 6, 6, 6, 6, 6, 8, 8, 1, 1, 1, 1, 1, 1, 1,\n",
      "       1, 1, 1, 1, 1, 1, 1, 1, 1, 1, 1, 1, 1, 1, 1, 1, 1, 1, 1, 1, 1, 1,\n",
      "       1, 1, 1, 1, 1, 1, 1, 1, 1, 1, 1, 1, 1, 1, 1, 1, 1, 1, 1, 1],\n",
      "      dtype=uint8), 'coords': array([[ 8.25366317e+00, -7.80384386e-01,  1.75570300e+00],\n",
      "       [ 6.76580317e+00, -6.45106310e-01,  1.63931581e+00],\n",
      "       [ 6.13310152e+00, -5.28543827e-01,  2.71866874e+00],\n",
      "       [ 6.09590596e+00, -6.46958638e-01,  3.86947378e-01],\n",
      "       [ 4.68243599e+00, -5.13671462e-01,  3.16189084e-01],\n",
      "       [ 4.00684643e+00, -1.83996179e+00, -8.45180038e-02],\n",
      "       [ 2.52322948e+00, -1.58548488e+00,  2.00808864e-01],\n",
      "       [ 2.03953687e+00, -6.36630371e-01, -8.15974852e-01],\n",
      "       [ 2.28185997e+00, -1.28355626e+00, -2.18825219e+00],\n",
      "       [ 2.76936673e+00,  7.08538383e-01, -7.52564569e-01],\n",
      "       [ 2.13519353e+00,  1.71024357e+00,  1.17887114e-01],\n",
      "       [ 9.99445386e-01,  1.29261733e+00,  9.75011899e-01],\n",
      "       [ 3.35723286e-02,  3.25652228e-01,  4.39121439e-01],\n",
      "       [-2.43720893e-01, -7.60497251e-01,  1.46713710e+00],\n",
      "       [ 5.85310149e-01, -3.07543411e-01, -8.06898240e-01],\n",
      "       [-3.49005813e-01, -1.31439760e+00, -1.28745617e+00],\n",
      "       [-6.24656374e-02, -2.20155578e+00, -2.15502788e+00],\n",
      "       [-1.69840506e+00, -1.32518152e+00, -7.56317213e-01],\n",
      "       [-2.21459854e+00, -2.82550928e-01, -1.25091082e-01],\n",
      "       [-3.56049162e+00, -2.38877222e-01,  4.26147025e-01],\n",
      "       [-4.41789848e+00, -1.43473490e+00,  1.49039521e-01],\n",
      "       [-3.97679781e+00, -2.59083221e+00,  1.03301103e+00],\n",
      "       [-5.88869948e+00, -1.24694262e+00,  2.78296842e-01],\n",
      "       [-6.61218832e+00, -1.51388834e+00, -1.05647672e+00],\n",
      "       [-6.38596921e+00, -3.55481517e-04,  8.85845314e-01],\n",
      "       [-5.43206572e+00,  1.09362845e+00,  1.12975803e+00],\n",
      "       [-4.20849027e+00,  1.07106573e+00,  1.78086271e-01],\n",
      "       [-4.67769480e+00,  1.29941799e+00, -1.23909546e+00],\n",
      "       [-3.34501307e+00,  2.18546601e+00,  6.57162570e-01],\n",
      "       [-1.92767349e+00,  1.83870157e+00,  9.89814116e-01],\n",
      "       [-1.31596978e+00,  8.89942013e-01,  2.58465051e-02],\n",
      "       [-1.22979958e+00,  1.59157441e+00, -1.31263285e+00],\n",
      "       [ 4.25416395e+00,  6.03012756e-01, -5.73824266e-01],\n",
      "       [ 5.03007767e+00,  5.88978639e-01, -1.89940047e+00],\n",
      "       [ 4.70669363e+00,  1.87534970e+00,  7.15583724e-02],\n",
      "       [ 5.29423608e+00,  1.97741339e+00,  1.14659321e+00],\n",
      "       [ 4.41545248e+00,  3.04986125e+00, -6.48646668e-01],\n",
      "       [ 8.59822105e+00,  1.46323330e-01,  2.27379819e+00],\n",
      "       [ 8.43740990e+00, -1.61130187e+00,  2.48335360e+00],\n",
      "       [ 8.73348290e+00, -9.40820304e-01,  7.87820427e-01],\n",
      "       [ 6.68653596e+00, -7.49392064e-01, -4.56330934e-01],\n",
      "       [ 4.24798218e+00, -3.19255251e-01,  1.33020447e+00],\n",
      "       [ 4.34790149e+00, -2.58617537e+00,  6.56968540e-01],\n",
      "       [ 4.22116590e+00, -2.13756796e+00, -1.10099578e+00],\n",
      "       [ 2.55434509e+00, -1.15476251e+00,  1.24543361e+00],\n",
      "       [ 1.94835900e+00, -2.51173767e+00,  1.61547648e-01],\n",
      "       [ 2.21858132e+00, -2.38899150e+00, -2.14615757e+00],\n",
      "       [ 3.29940049e+00, -1.07617459e+00, -2.56236472e+00],\n",
      "       [ 1.61302405e+00, -8.82208893e-01, -2.97139020e+00],\n",
      "       [ 2.65625889e+00,  1.07791706e+00, -1.82305161e+00],\n",
      "       [ 2.89994263e+00,  2.11621671e+00,  8.48890531e-01],\n",
      "       [ 1.84250005e+00,  2.64289866e+00, -4.51793288e-01],\n",
      "       [ 4.71078434e-01,  2.21837664e+00,  1.28878770e+00],\n",
      "       [ 1.39014137e+00,  9.02374184e-01,  1.96826956e+00],\n",
      "       [ 4.85388941e-01, -7.15465476e-01,  2.31143035e+00],\n",
      "       [-1.45741582e-01, -1.78066680e+00,  1.07600041e+00],\n",
      "       [-1.22034284e+00, -6.63354092e-01,  1.95153241e+00],\n",
      "       [ 5.35538773e-01,  5.02710351e-01, -1.60218274e+00],\n",
      "       [-2.35441857e+00, -2.18214769e+00, -8.41945483e-01],\n",
      "       [-3.43941935e+00, -2.42139600e-01,  1.55533485e+00],\n",
      "       [-4.27599724e+00, -1.82734363e+00, -8.91799186e-01],\n",
      "       [-2.97813170e+00, -2.32514018e+00,  1.45372927e+00],\n",
      "       [-4.66108944e+00, -2.70832315e+00,  1.90531816e+00],\n",
      "       [-3.84216872e+00, -3.51653745e+00,  4.70289747e-01],\n",
      "       [-6.28785498e+00, -2.08787251e+00,  9.31103964e-01],\n",
      "       [-7.56119434e+00, -9.38474586e-01, -1.09994244e+00],\n",
      "       [-6.84818335e+00, -2.56549799e+00, -1.19671812e+00],\n",
      "       [-5.92041735e+00, -1.23383779e+00, -1.90463549e+00],\n",
      "       [-7.20290927e+00,  4.21723682e-01,  2.23312291e-01],\n",
      "       [-6.94468841e+00, -1.68581840e-01,  1.85936352e+00],\n",
      "       [-4.98205844e+00,  1.06499238e+00,  2.14772244e+00],\n",
      "       [-5.91301183e+00,  2.09963766e+00,  1.04510323e+00],\n",
      "       [-4.19556447e+00,  6.60539734e-01, -1.97807491e+00],\n",
      "       [-5.78541313e+00,  1.25224838e+00, -1.25212431e+00],\n",
      "       [-4.44868733e+00,  2.36396726e+00, -1.54228942e+00],\n",
      "       [-3.41098516e+00,  3.03497448e+00, -8.72143128e-02],\n",
      "       [-3.73888633e+00,  2.69577840e+00,  1.59417268e+00],\n",
      "       [-1.85566780e+00,  1.56123653e+00,  2.03769884e+00],\n",
      "       [-1.38967443e+00,  2.83030588e+00,  8.86014032e-01],\n",
      "       [-1.36076737e+00,  9.11567126e-01, -2.17600746e+00],\n",
      "       [-3.23791639e-01,  2.24640198e+00, -1.39053109e+00],\n",
      "       [-2.06021225e+00,  2.32630785e+00, -1.38205105e+00],\n",
      "       [ 5.94263973e+00,  1.26079075e+00, -1.84337924e+00],\n",
      "       [ 5.51183006e+00, -4.06065903e-01, -2.07940967e+00],\n",
      "       [ 4.46205419e+00,  9.90356123e-01, -2.73610186e+00],\n",
      "       [ 4.58454798e+00,  3.96838328e+00, -2.62482189e-01]]), 'partition': 'valid'}, {'smiles': 'CC(=O)NC(C)Cc1ccc(C#Cc2ccnc(N3CCCC(F)C3)n2)cc1', 'atoms': array([6, 6, 8, 7, 6, 6, 6, 6, 6, 6, 6, 6, 6, 6, 6, 6, 7, 6, 7, 6, 6, 6,\n",
      "       6, 9, 6, 7, 6, 6, 1, 1, 1, 1, 1, 1, 1, 1, 1, 1, 1, 1, 1, 1, 1, 1,\n",
      "       1, 1, 1, 1, 1, 1, 1, 1, 1], dtype=uint8), 'coords': array([[ 5.9051979 ,  3.64449934,  0.15092694],\n",
      "       [ 6.54905327,  2.29148945,  0.23974174],\n",
      "       [ 7.79467519,  2.12029477,  0.17292191],\n",
      "       [ 5.75848686,  1.11650666,  0.40716683],\n",
      "       [ 6.289031  , -0.21109183,  0.50180588],\n",
      "       [ 5.97088434, -0.86732632,  1.82810138],\n",
      "       [ 5.81748062, -1.1233307 , -0.62866595],\n",
      "       [ 4.34149986, -1.2597997 , -0.63109773],\n",
      "       [ 3.61296702, -0.35677601, -1.36411449],\n",
      "       [ 2.21874246, -0.47350193, -1.37736712],\n",
      "       [ 1.55460428, -1.46176996, -0.68165781],\n",
      "       [ 0.1217441 , -1.58702409, -0.69410278],\n",
      "       [-1.08932482, -1.70642562, -0.68839331],\n",
      "       [-2.53841107, -1.83887345, -0.70475768],\n",
      "       [-3.15325653, -3.00485878, -1.09733917],\n",
      "       [-4.51805046, -3.09818156, -1.09003099],\n",
      "       [-5.2365317 , -2.04583438, -0.69759052],\n",
      "       [-4.63524201, -0.90950519, -0.31575292],\n",
      "       [-5.44365562,  0.17462015,  0.10168132],\n",
      "       [-6.86397671,  0.02162077,  0.20320352],\n",
      "       [-7.54633106,  0.90708573, -0.78951751],\n",
      "       [-6.71460403,  2.14121782, -1.00713557],\n",
      "       [-5.86822491,  2.51156033,  0.20016371],\n",
      "       [-5.19617225,  3.68054698, -0.08247897],\n",
      "       [-4.81988841,  1.43202494,  0.42231104],\n",
      "       [-3.27200299, -0.79232058, -0.31472231],\n",
      "       [ 2.34188797, -2.35755076,  0.0502468 ],\n",
      "       [ 3.72325626, -2.26487854,  0.08114957],\n",
      "       [ 5.32302933,  3.73772874, -0.79486676],\n",
      "       [ 5.25109076,  3.79277746,  1.02443906],\n",
      "       [ 6.71787591,  4.38988531,  0.1293818 ],\n",
      "       [ 4.72732964,  1.2454256 ,  0.46339154],\n",
      "       [ 7.39297492, -0.1534007 ,  0.42612891],\n",
      "       [ 6.45137661, -0.29567731,  2.63962826],\n",
      "       [ 4.90335957, -1.04938795,  1.98292167],\n",
      "       [ 6.46706875, -1.86560216,  1.80607434],\n",
      "       [ 6.13525462, -0.74920456, -1.61890624],\n",
      "       [ 6.32604494, -2.09633314, -0.46261698],\n",
      "       [ 4.03842931,  0.44956949, -1.94085362],\n",
      "       [ 1.60714324,  0.21823724, -1.94228639],\n",
      "       [-2.57125007, -3.85224469, -1.41213953],\n",
      "       [-4.97057886, -4.04010113, -1.40831356],\n",
      "       [-7.2302946 ,  0.27718665,  1.22261538],\n",
      "       [-7.17311508, -1.04598095,  0.02814901],\n",
      "       [-8.58231824,  1.17621101, -0.43583254],\n",
      "       [-7.70835329,  0.40896901, -1.76804197],\n",
      "       [-6.04805841,  2.03344452, -1.91042467],\n",
      "       [-7.35561074,  3.03512606, -1.20736891],\n",
      "       [-6.49991587,  2.64662538,  1.08027775],\n",
      "       [-4.45409675,  1.50763987,  1.45381521],\n",
      "       [-4.00741894,  1.65000037, -0.33164688],\n",
      "       [ 1.8456115 , -3.12447575,  0.59040473],\n",
      "       [ 4.31058319, -2.97883592,  0.66179119]]), 'partition': 'valid'}, {'smiles': 'Cc1cccc(CCNC(=O)C2CCC(=O)N(Cc3ccc(Cl)cc3)C2)n1', 'atoms': array([ 6,  6,  6,  6,  6,  6,  6,  6,  7,  6,  8,  6,  6,  6,  6,  8,  7,\n",
      "        6,  6,  6,  6,  6, 17,  6,  6,  6,  7,  1,  1,  1,  1,  1,  1,  1,\n",
      "        1,  1,  1,  1,  1,  1,  1,  1,  1,  1,  1,  1,  1,  1,  1,  1,  1],\n",
      "      dtype=uint8), 'coords': array([[-6.63455952, -2.89579275,  1.34043223],\n",
      "       [-6.31843801, -1.61053768,  0.6745316 ],\n",
      "       [-7.35499934, -0.79996294,  0.25401111],\n",
      "       [-7.13384358,  0.4023315 , -0.36908178],\n",
      "       [-5.83945577,  0.83547332, -0.59313407],\n",
      "       [-4.81612021,  0.01031251, -0.165033  ],\n",
      "       [-3.40219687,  0.41139843, -0.37277316],\n",
      "       [-2.91372734,  1.20798144,  0.82113755],\n",
      "       [-1.54510738,  1.62113941,  0.66912735],\n",
      "       [-0.4594671 ,  0.75055634,  0.51036331],\n",
      "       [-0.64364489, -0.48193111,  0.49386346],\n",
      "       [ 0.92165265,  1.33506613,  0.36138597],\n",
      "       [ 0.92562615,  2.19494145, -0.84571463],\n",
      "       [ 1.94484945,  1.8382582 , -1.89547748],\n",
      "       [ 3.2470389 ,  1.60314404, -1.17481236],\n",
      "       [ 4.29414464,  2.08993274, -1.65427586],\n",
      "       [ 3.23719538,  0.83264159,  0.03017986],\n",
      "       [ 4.45759855,  0.70492049,  0.76242488],\n",
      "       [ 5.28934512, -0.44000565,  0.40541528],\n",
      "       [ 5.09369849, -1.66193242,  1.00525737],\n",
      "       [ 5.8688623 , -2.77314743,  0.6899087 ],\n",
      "       [ 6.85979439, -2.61792511, -0.258763  ],\n",
      "       [ 7.87215828, -3.97844306, -0.70204383],\n",
      "       [ 7.08788958, -1.41547639, -0.88113515],\n",
      "       [ 6.28528303, -0.32263307, -0.53472651],\n",
      "       [ 1.96105647,  0.24887378,  0.38742174],\n",
      "       [-5.07371315, -1.1718904 ,  0.44766461],\n",
      "       [-6.95357963, -3.66484718,  0.57694898],\n",
      "       [-7.51261219, -2.76358808,  2.0066353 ],\n",
      "       [-5.80633812, -3.27939316,  1.96440237],\n",
      "       [-8.36291646, -1.12690898,  0.42308867],\n",
      "       [-7.92966694,  1.05632241, -0.70841778],\n",
      "       [-5.65029236,  1.78428234, -1.08481115],\n",
      "       [-3.37910869,  1.02706566, -1.29224913],\n",
      "       [-2.7944745 , -0.50299948, -0.42378991],\n",
      "       [-3.55862772,  2.10005022,  0.93526032],\n",
      "       [-3.07334364,  0.57170549,  1.73441937],\n",
      "       [-1.33716491,  2.65383997,  0.67704237],\n",
      "       [ 1.10196166,  1.95239393,  1.28055102],\n",
      "       [ 1.17287951,  3.24841466, -0.52671365],\n",
      "       [-0.1010413 ,  2.2392091 , -1.31036172],\n",
      "       [ 1.6627798 ,  0.85645311, -2.32826119],\n",
      "       [ 2.08316398,  2.63342816, -2.63611001],\n",
      "       [ 4.16812053,  0.62142352,  1.85191445],\n",
      "       [ 5.0425768 ,  1.67175324,  0.72934002],\n",
      "       [ 4.3150065 , -1.83028553,  1.76693358],\n",
      "       [ 5.70708385, -3.73369623,  1.16873722],\n",
      "       [ 7.86664722, -1.3020058 , -1.62370059],\n",
      "       [ 6.51453583,  0.59514948, -1.0584828 ],\n",
      "       [ 1.64982201, -0.52530315, -0.33443162],\n",
      "       [ 1.96366854, -0.19975703,  1.39025908]]), 'partition': 'valid'}, {'smiles': 'CC1C=CN(N(C)C)C2=C1C(=O)c1cnccc1C2=O', 'atoms': array([6, 6, 6, 6, 7, 7, 6, 6, 6, 6, 6, 8, 6, 6, 7, 6, 6, 6, 6, 8, 1, 1,\n",
      "       1, 1, 1, 1, 1, 1, 1, 1, 1, 1, 1, 1, 1], dtype=uint8), 'coords': array([[ 0.42859212,  3.22940714,  1.34077032],\n",
      "       [-0.26683454,  2.40212326,  0.27783629],\n",
      "       [-1.68972502,  2.25276686,  0.51389624],\n",
      "       [-2.30222035,  1.10029641,  0.43760574],\n",
      "       [-1.62253337, -0.0933664 ,  0.11802977],\n",
      "       [-2.22779107, -1.33007424,  0.02666354],\n",
      "       [-3.43863035, -1.33664745, -0.7336757 ],\n",
      "       [-2.3671572 , -1.99366489,  1.30617135],\n",
      "       [-0.22171353,  0.0283034 , -0.1185275 ],\n",
      "       [ 0.425377  ,  1.17067088, -0.05022181],\n",
      "       [ 1.8999874 ,  1.2423384 , -0.30848195],\n",
      "       [ 2.46219858,  2.35832887, -0.22894842],\n",
      "       [ 2.59395736,  0.02093243, -0.63523935],\n",
      "       [ 3.97211933,  0.02374672, -0.88711896],\n",
      "       [ 4.63957306, -1.09730549, -1.19263256],\n",
      "       [ 4.03584217, -2.28453393, -1.27621424],\n",
      "       [ 2.661677  , -2.31813899, -1.03009906],\n",
      "       [ 1.95812338, -1.19975533, -0.71841145],\n",
      "       [ 0.53840405, -1.20769814, -0.45978098],\n",
      "       [-0.11088856, -2.30848656, -0.52088439],\n",
      "       [ 0.79281519,  2.51448312,  2.10372168],\n",
      "       [ 1.17598489,  3.91275061,  0.95158722],\n",
      "       [-0.35846544,  3.84177081,  1.83891058],\n",
      "       [-0.19449487,  3.04781423, -0.66849191],\n",
      "       [-2.28807993,  3.16237559,  0.77214099],\n",
      "       [-3.38385668,  1.11357733,  0.63779884],\n",
      "       [-3.36275994, -0.61928315, -1.56328391],\n",
      "       [-3.52384867, -2.35449498, -1.20475665],\n",
      "       [-4.35128739, -1.22195136, -0.12124798],\n",
      "       [-3.35421253, -1.86445304,  1.76195754],\n",
      "       [-2.22378108, -3.07794867,  1.1174388 ],\n",
      "       [-1.52788382, -1.66809458,  1.95155659],\n",
      "       [ 4.45795527,  0.98751802, -0.81851057],\n",
      "       [ 4.59836153, -3.1678813 , -1.52365171],\n",
      "       [ 2.17519602, -3.26542558, -1.09590641]]), 'partition': 'valid'}]\n",
      "[{'smiles': 'Cc1cc2c(c3oc(CCCC#N)cc13)C(=O)c1c(O)cccc1C2=O', 'atoms': array([6, 6, 6, 6, 6, 6, 8, 6, 6, 6, 6, 6, 7, 6, 6, 6, 8, 6, 6, 8, 6, 6,\n",
      "       6, 6, 6, 8, 1, 1, 1, 1, 1, 1, 1, 1, 1, 1, 1, 1, 1, 1, 1],\n",
      "      dtype=uint8), 'coords': array([[ 0.77058651,  3.20982295, -2.27528454],\n",
      "       [ 0.09187207,  2.12197795, -1.53283579],\n",
      "       [-1.28233767,  2.05375377, -1.52854292],\n",
      "       [-1.92194374,  1.03648223, -0.83440995],\n",
      "       [-1.14480208,  0.11839034, -0.16495881],\n",
      "       [ 0.23445889,  0.16275325, -0.15233491],\n",
      "       [ 1.1476187 , -0.5831077 ,  0.40047369],\n",
      "       [ 2.35235472, -0.14226177,  0.12910506],\n",
      "       [ 3.6471421 , -0.71148555,  0.56997914],\n",
      "       [ 4.78688787,  0.10032248,  0.03610891],\n",
      "       [ 6.10267536, -0.49237296,  0.49409119],\n",
      "       [ 6.25236613, -1.87232009,  0.01760862],\n",
      "       [ 6.38156441, -2.96346907, -0.34153492],\n",
      "       [ 2.20431174,  0.97616396, -0.66107109],\n",
      "       [ 0.84291029,  1.18971516, -0.85426247],\n",
      "       [-1.82346047, -0.95874739,  0.56998574],\n",
      "       [-1.10905126, -1.79243989,  1.17816065],\n",
      "       [-3.27704366, -1.06616491,  0.5993012 ],\n",
      "       [-3.92632062, -2.07472061,  1.28707969],\n",
      "       [-3.17745481, -3.01714565,  1.97272897],\n",
      "       [-5.3031953 , -2.15606382,  1.30056906],\n",
      "       [-6.08950585, -1.24719309,  0.63730045],\n",
      "       [-5.4473801 , -0.22898522, -0.0574822 ],\n",
      "       [-4.06962605, -0.1379215 , -0.07776856],\n",
      "       [-3.37316723,  0.92130633, -0.79957555],\n",
      "       [-4.04633955,  1.78399784, -1.42681493],\n",
      "       [ 1.86508891,  3.17095591, -2.10944532],\n",
      "       [ 0.35482325,  4.19098311, -1.94006705],\n",
      "       [ 0.58977821,  3.04646336, -3.3546725 ],\n",
      "       [-1.90733507,  2.76687566, -2.04920908],\n",
      "       [ 3.73524925, -1.79505461,  0.28877198],\n",
      "       [ 3.71559751, -0.70996607,  1.69653777],\n",
      "       [ 4.72159414,  1.1103148 ,  0.49367063],\n",
      "       [ 4.72853402,  0.16890691, -1.0700797 ],\n",
      "       [ 6.94433234,  0.12824531,  0.12285969],\n",
      "       [ 6.12426169, -0.43644929,  1.60016038],\n",
      "       [ 2.96202855,  1.60603462, -1.07938688],\n",
      "       [-3.61678297, -3.76159828,  2.48169784],\n",
      "       [-5.83344958, -2.9471156 ,  1.83937848],\n",
      "       [-7.15749799, -1.2673186 ,  0.61758257],\n",
      "       [-6.04934268,  0.49843576, -0.5874651 ]]), 'partition': 'test'}, {'smiles': 'C=CCN1C(=O)C(=NNC(=S)NC2OC(COC(C)=O)C(OC(C)=O)C(OC(C)=O)C2OC(C)=O)c2ccccc21', 'atoms': array([ 6,  6,  6,  7,  6,  8,  6,  7,  7,  6, 16,  7,  6,  8,  6,  6,  8,\n",
      "        6,  6,  8,  6,  8,  6,  6,  8,  6,  8,  6,  6,  8,  6,  8,  6,  6,\n",
      "        8,  6,  6,  6,  6,  6,  6,  1,  1,  1,  1,  1,  1,  1,  1,  1,  1,\n",
      "        1,  1,  1,  1,  1,  1,  1,  1,  1,  1,  1,  1,  1,  1,  1,  1,  1,\n",
      "        1,  1,  1], dtype=uint8), 'coords': array([[ 8.16955433e+00, -2.54507533e-01,  1.32080073e+00],\n",
      "       [ 6.91755999e+00,  7.06540650e-02,  1.50257825e+00],\n",
      "       [ 5.87126600e+00, -1.00627603e+00,  1.28709396e+00],\n",
      "       [ 4.97061226e+00, -5.94293442e-01,  2.21420330e-01],\n",
      "       [ 3.75637342e+00,  1.01444451e-01,  3.25571009e-01],\n",
      "       [ 3.20110334e+00,  4.84217866e-01,  1.36980760e+00],\n",
      "       [ 3.24881419e+00,  3.05574248e-01, -1.02380518e+00],\n",
      "       [ 2.12353283e+00,  9.10270615e-01, -1.29530697e+00],\n",
      "       [ 1.53617564e+00,  1.16827077e+00, -2.43360488e+00],\n",
      "       [ 2.12976200e-01,  9.26597146e-01, -2.91144113e+00],\n",
      "       [-1.97108506e-01,  1.37944310e+00, -4.42031403e+00],\n",
      "       [-7.96454823e-01,  2.91467999e-01, -2.11244680e+00],\n",
      "       [-5.47536539e-01, -1.25896107e-01, -7.53151649e-01],\n",
      "       [-4.72811611e-01,  9.90557644e-01,  2.61713580e-02],\n",
      "       [-1.63573279e+00,  1.53805701e+00,  4.74603578e-01],\n",
      "       [-1.39067720e+00,  2.71925356e+00,  1.39771809e+00],\n",
      "       [-2.57961238e+00,  3.23583905e+00,  1.91160657e+00],\n",
      "       [-2.67868844e+00,  4.32218581e+00,  2.75424750e+00],\n",
      "       [-3.98445895e+00,  4.81089081e+00,  3.27144710e+00],\n",
      "       [-1.63318993e+00,  4.89816435e+00,  3.08601409e+00],\n",
      "       [-2.70211595e+00,  6.09891767e-01,  9.47055958e-01],\n",
      "       [-3.93325062e+00,  1.22265903e+00,  1.24387277e+00],\n",
      "       [-4.55766733e+00,  9.91793677e-01,  2.43063018e+00],\n",
      "       [-5.84643202e+00,  1.57984737e+00,  2.81769995e+00],\n",
      "       [-4.00284334e+00,  2.15265286e-01,  3.27195068e+00],\n",
      "       [-2.90887456e+00, -4.26874141e-01, -1.74363829e-01],\n",
      "       [-3.96339810e+00, -1.28268122e+00,  1.73612366e-01],\n",
      "       [-5.17158769e+00, -1.41888594e+00, -4.41683048e-01],\n",
      "       [-6.11631949e+00, -2.41075176e+00,  1.43869471e-01],\n",
      "       [-5.40538656e+00, -7.15278679e-01, -1.44129011e+00],\n",
      "       [-1.60142686e+00, -1.09368394e+00, -3.08544178e-01],\n",
      "       [-1.55812312e+00, -2.31202384e+00, -9.90979194e-01],\n",
      "       [-1.23643528e+00, -3.52506124e+00, -4.11620996e-01],\n",
      "       [-1.15515566e+00, -4.82737368e+00, -1.08685890e+00],\n",
      "       [-9.95933379e-01, -3.45469153e+00,  8.35575957e-01],\n",
      "       [ 4.21421882e+00, -2.96694709e-01, -1.92812814e+00],\n",
      "       [ 4.26998965e+00, -4.15753544e-01, -3.29940168e+00],\n",
      "       [ 5.33477495e+00, -1.06502951e+00, -3.90735930e+00],\n",
      "       [ 6.36035638e+00, -1.60270568e+00, -3.13184738e+00],\n",
      "       [ 6.28387422e+00, -1.47433614e+00, -1.79876102e+00],\n",
      "       [ 5.22494522e+00, -8.27086942e-01, -1.18088077e+00],\n",
      "       [ 8.53733080e+00, -1.20812919e+00,  1.02718471e+00],\n",
      "       [ 8.92731505e+00,  5.32499437e-01,  1.46885083e+00],\n",
      "       [ 6.56042169e+00,  1.04716535e+00,  1.78912911e+00],\n",
      "       [ 5.32279591e+00, -1.06195662e+00,  2.23518886e+00],\n",
      "       [ 6.32762087e+00, -1.97399397e+00,  1.05870528e+00],\n",
      "       [ 2.13056177e+00,  1.69273356e+00, -3.17987485e+00],\n",
      "       [-1.74130285e+00,  1.27009380e-01, -2.51333285e+00],\n",
      "       [ 4.70126660e-01, -6.09504959e-01, -7.10524904e-01],\n",
      "       [-2.09503688e+00,  2.02928669e+00, -4.60536381e-01],\n",
      "       [-6.03202148e-01,  2.50717383e+00,  2.12184737e+00],\n",
      "       [-9.65583908e-01,  3.52946898e+00,  7.32123860e-01],\n",
      "       [-4.82008516e+00,  4.26713402e+00,  2.79605052e+00],\n",
      "       [-4.02098766e+00,  4.57229242e+00,  4.35208948e+00],\n",
      "       [-4.07089234e+00,  5.88050972e+00,  3.05418172e+00],\n",
      "       [-2.32755966e+00,  4.88473682e-03,  1.78986005e+00],\n",
      "       [-6.53026077e+00,  7.24365261e-01,  3.04611440e+00],\n",
      "       [-6.23205994e+00,  2.17994048e+00,  1.98742979e+00],\n",
      "       [-5.74098293e+00,  2.18177717e+00,  3.71933200e+00],\n",
      "       [-3.16521578e+00,  1.39224571e-01, -1.06316026e+00],\n",
      "       [-7.04013705e+00, -2.46411280e+00, -4.68140151e-01],\n",
      "       [-6.39999263e+00, -2.14411927e+00,  1.18238649e+00],\n",
      "       [-5.68833973e+00, -3.43798018e+00,  1.80845877e-01],\n",
      "       [-1.29795396e+00, -1.36209589e+00,  7.64421998e-01],\n",
      "       [-7.83823236e-01, -4.74687403e+00, -2.13693310e+00],\n",
      "       [-4.37866842e-01, -5.51524935e+00, -5.84776767e-01],\n",
      "       [-2.14057702e+00, -5.33042823e+00, -1.02553754e+00],\n",
      "       [ 3.49475397e+00, -2.24605033e-02, -3.93111906e+00],\n",
      "       [ 5.40397462e+00, -1.16597922e+00, -4.97187766e+00],\n",
      "       [ 7.21266448e+00, -2.11145463e+00, -3.61900834e+00],\n",
      "       [ 7.08938838e+00, -1.90358678e+00, -1.16798618e+00]]), 'partition': 'test'}, {'smiles': 'O=C1C(=Cc2ccc(F)cc2)CCOc2c1ccc1ccccc21', 'atoms': array([8, 6, 6, 6, 6, 6, 6, 6, 9, 6, 6, 6, 6, 8, 6, 6, 6, 6, 6, 6, 6, 6,\n",
      "       6, 6, 1, 1, 1, 1, 1, 1, 1, 1, 1, 1, 1, 1, 1, 1, 1], dtype=uint8), 'coords': array([[ 4.01605180e-01,  2.70471117e+00, -4.10192474e-01],\n",
      "       [ 1.05278680e-01,  1.50116116e+00, -2.98222202e-01],\n",
      "       [ 1.24074127e+00,  5.61056159e-01, -1.71497497e-01],\n",
      "       [ 2.40589917e+00,  1.09787932e+00, -1.25451282e-02],\n",
      "       [ 3.63617066e+00,  3.53709835e-01,  1.26085312e-01],\n",
      "       [ 4.02178823e+00, -6.59854104e-01, -7.19651639e-01],\n",
      "       [ 5.21380948e+00, -1.36115583e+00, -5.40130349e-01],\n",
      "       [ 6.07047655e+00, -1.07140957e+00,  4.99805902e-01],\n",
      "       [ 7.23578840e+00, -1.71936876e+00,  7.18820070e-01],\n",
      "       [ 5.69170581e+00, -5.60516185e-02,  1.35171884e+00],\n",
      "       [ 4.52218647e+00,  6.38479481e-01,  1.18345183e+00],\n",
      "       [ 1.13379685e+00, -8.99285269e-01, -1.83712104e-01],\n",
      "       [-4.25432917e-02, -1.43821623e+00,  6.22048493e-01],\n",
      "       [-1.28904377e+00, -1.23007162e+00, -1.08712274e-02],\n",
      "       [-1.96737214e+00, -1.70682719e-02, -1.81662042e-01],\n",
      "       [-1.32931237e+00,  1.19843872e+00, -3.10219716e-01],\n",
      "       [-2.13639269e+00,  2.29957072e+00, -4.71978405e-01],\n",
      "       [-3.51250239e+00,  2.22493449e+00, -5.07777721e-01],\n",
      "       [-4.14345331e+00,  1.00386838e+00, -3.78294754e-01],\n",
      "       [-5.50177432e+00,  8.38858676e-01, -4.00669728e-01],\n",
      "       [-6.08967827e+00, -4.12150835e-01, -2.64831643e-01],\n",
      "       [-5.29305756e+00, -1.53520475e+00, -1.00904019e-01],\n",
      "       [-3.93133805e+00, -1.36492848e+00, -7.82729686e-02],\n",
      "       [-3.34162176e+00, -1.23418338e-01, -2.13531013e-01],\n",
      "       [ 2.42136161e+00,  2.21172997e+00,  1.13397366e-02],\n",
      "       [ 3.38845178e+00, -9.28051408e-01, -1.55962106e+00],\n",
      "       [ 5.47376231e+00, -2.14774600e+00, -1.22829987e+00],\n",
      "       [ 6.32729007e+00,  2.30798662e-01,  2.20685969e+00],\n",
      "       [ 4.20390417e+00,  1.44519651e+00,  1.84443052e+00],\n",
      "       [ 2.03154760e+00, -1.31219996e+00,  3.66118782e-01],\n",
      "       [ 1.08728576e+00, -1.31846299e+00, -1.21209051e+00],\n",
      "       [ 1.10925086e-01, -2.54885474e+00,  6.55664997e-01],\n",
      "       [ 4.10245185e-02, -1.02567581e+00,  1.62520401e+00],\n",
      "       [-1.69204432e+00,  3.28097395e+00, -5.77688257e-01],\n",
      "       [-4.14879042e+00,  3.09193443e+00, -6.35011021e-01],\n",
      "       [-6.14298066e+00,  1.71350611e+00, -5.29223244e-01],\n",
      "       [-7.17676437e+00, -5.13012511e-01, -2.87114775e-01],\n",
      "       [-5.75068475e+00, -2.50277477e+00,  1.96575788e-03],\n",
      "       [-3.27544521e+00, -2.21184587e+00,  4.49131233e-02]]), 'partition': 'test'}, {'smiles': 'CC(C)CNc1cc(NCC(C)C)nc(NCC(C)C)n1', 'atoms': array([6, 6, 6, 6, 7, 6, 6, 6, 7, 6, 6, 6, 6, 7, 6, 7, 6, 6, 6, 6, 7, 1,\n",
      "       1, 1, 1, 1, 1, 1, 1, 1, 1, 1, 1, 1, 1, 1, 1, 1, 1, 1, 1, 1, 1, 1,\n",
      "       1, 1, 1, 1, 1, 1, 1, 1], dtype=uint8), 'coords': array([[ 1.12717453e+00,  5.87905492e+00,  3.24817648e-01],\n",
      "       [ 3.05409595e-01,  5.51928462e+00, -9.12006583e-01],\n",
      "       [-7.58412551e-01,  6.55777091e+00, -1.10655264e+00],\n",
      "       [-2.62429941e-01,  4.13444633e+00, -7.28701879e-01],\n",
      "       [ 8.06976860e-01,  3.17293401e+00, -5.62877398e-01],\n",
      "       [ 5.35989938e-01,  1.78208755e+00, -3.70873945e-01],\n",
      "       [ 1.57877434e+00,  9.01622902e-01, -2.17392007e-01],\n",
      "       [ 1.34345871e+00, -4.56631609e-01, -2.91044994e-02],\n",
      "       [ 2.42164869e+00, -1.35526776e+00,  1.27878780e-01],\n",
      "       [ 2.18324993e+00, -2.76798662e+00,  3.23856949e-01],\n",
      "       [ 3.49725210e+00, -3.50827954e+00,  4.64265258e-01],\n",
      "       [ 3.31228331e+00, -4.97550975e+00,  6.69442459e-01],\n",
      "       [ 4.39447427e+00, -3.17471968e+00, -6.93429213e-01],\n",
      "       [ 6.26322918e-02, -8.39511974e-01, -7.95896571e-03],\n",
      "       [-9.81372232e-01, -5.83397430e-03, -1.54774392e-01],\n",
      "       [-2.33596786e+00, -4.85643102e-01, -1.21670950e-01],\n",
      "       [-2.63132414e+00, -1.88496581e+00,  7.09519750e-02],\n",
      "       [-4.11706981e+00, -2.15494018e+00,  7.05570800e-02],\n",
      "       [-4.28927566e+00, -3.65281755e+00,  2.80535010e-01],\n",
      "       [-4.75747068e+00, -1.76586648e+00, -1.23822466e+00],\n",
      "       [-7.17162988e-01,  1.29971826e+00, -3.34757991e-01],\n",
      "       [ 2.17819294e+00,  6.07376269e+00,  6.86306339e-02],\n",
      "       [ 1.05037396e+00,  5.07009849e+00,  1.08845246e+00],\n",
      "       [ 7.23430902e-01,  6.79296529e+00,  8.09080632e-01],\n",
      "       [ 1.01100483e+00,  5.49866600e+00, -1.76952632e+00],\n",
      "       [-5.35082830e-01,  7.43595589e+00, -4.95146136e-01],\n",
      "       [-1.72669291e+00,  6.14310888e+00, -7.55878024e-01],\n",
      "       [-7.73947579e-01,  6.84332104e+00, -2.16352086e+00],\n",
      "       [-9.63319015e-01,  4.09218679e+00,  1.33880407e-01],\n",
      "       [-7.71498961e-01,  3.87179502e+00, -1.68429253e+00],\n",
      "       [ 1.78913249e+00,  3.51518643e+00, -5.86016063e-01],\n",
      "       [ 2.59937695e+00,  1.29173836e+00, -2.46414192e-01],\n",
      "       [ 3.39109776e+00, -1.00919617e+00,  1.03809804e-01],\n",
      "       [ 1.68021447e+00, -3.19400636e+00, -5.80757271e-01],\n",
      "       [ 1.53464590e+00, -2.95504616e+00,  1.20395681e+00],\n",
      "       [ 3.98174733e+00, -3.10321822e+00,  1.39059745e+00],\n",
      "       [ 2.54345592e+00, -5.42102620e+00, -3.68715455e-03],\n",
      "       [ 4.26877512e+00, -5.48038652e+00,  4.17708261e-01],\n",
      "       [ 3.11122808e+00, -5.23510082e+00,  1.73963389e+00],\n",
      "       [ 4.99775729e+00, -4.08115109e+00, -9.74002277e-01],\n",
      "       [ 3.76000678e+00, -2.97608448e+00, -1.59632619e+00],\n",
      "       [ 5.04082000e+00, -2.32446809e+00, -4.41165881e-01],\n",
      "       [-3.13996488e+00,  1.65570142e-01, -2.36064453e-01],\n",
      "       [-2.19270283e+00, -2.23520859e+00,  1.00606196e+00],\n",
      "       [-2.18077158e+00, -2.43099013e+00, -7.94659202e-01],\n",
      "       [-4.58119422e+00, -1.60594701e+00,  9.35014259e-01],\n",
      "       [-3.83187467e+00, -4.16520000e+00, -5.83998693e-01],\n",
      "       [-3.70797522e+00, -3.93444370e+00,  1.19009648e+00],\n",
      "       [-5.33331771e+00, -3.95034357e+00,  4.09766534e-01],\n",
      "       [-3.93516840e+00, -1.43281324e+00, -1.92000647e+00],\n",
      "       [-5.31425790e+00, -2.60953550e+00, -1.64750470e+00],\n",
      "       [-5.39233072e+00, -8.69134670e-01, -1.06719994e+00]]), 'partition': 'test'}, {'smiles': 'CN1CCN(CCCOc2ccc(N3C(=O)C(=Cc4ccc(Oc5ccc([N+](=O)[O-])cc5)cc4)SC3=S)cc2)CC1', 'atoms': array([ 6,  7,  6,  6,  7,  6,  6,  6,  8,  6,  6,  6,  6,  7,  6,  8,  6,\n",
      "        6,  6,  6,  6,  6,  8,  6,  6,  6,  6,  7,  8,  8,  6,  6,  6,  6,\n",
      "       16,  6, 16,  6,  6,  6,  6,  1,  1,  1,  1,  1,  1,  1,  1,  1,  1,\n",
      "        1,  1,  1,  1,  1,  1,  1,  1,  1,  1,  1,  1,  1,  1,  1,  1,  1,\n",
      "        1,  1,  1], dtype=uint8), 'coords': array([[ 11.76751401,   0.41231524,   0.17959361],\n",
      "       [ 10.59931221,   0.31770313,   1.03805239],\n",
      "       [  9.67498431,   1.38514216,   0.78637614],\n",
      "       [  8.25855508,   0.95680085,   1.11998789],\n",
      "       [  7.87131475,  -0.16225599,   0.324692  ],\n",
      "       [  6.72286765,  -0.88134555,   0.79230991],\n",
      "       [  5.50145308,   0.02750633,   0.62127329],\n",
      "       [  5.38412878,   0.36119886,  -0.84328932],\n",
      "       [  4.35404505,   1.15907587,  -1.21470399],\n",
      "       [  3.02113161,   0.95707761,  -1.17207964],\n",
      "       [  2.47307383,  -0.21427303,  -0.73263322],\n",
      "       [  1.0828868 ,  -0.33894495,  -0.7169663 ],\n",
      "       [  0.22105911,   0.64578526,  -1.11835429],\n",
      "       [ -1.22106001,   0.45548163,  -1.0841346 ],\n",
      "       [ -1.87488778,  -0.7490437 ,  -1.38093754],\n",
      "       [ -1.22954784,  -1.82120406,  -1.71678577],\n",
      "       [ -3.31920313,  -0.72321477,  -1.28945256],\n",
      "       [ -4.17888807,  -1.73508069,  -1.26324552],\n",
      "       [ -5.60172501,  -1.5672614 ,  -1.16989026],\n",
      "       [ -6.29905023,  -0.55678284,  -1.80595051],\n",
      "       [ -7.67074866,  -0.46111451,  -1.66915111],\n",
      "       [ -8.4018287 ,  -1.348656  ,  -0.90774708],\n",
      "       [ -9.77614291,  -1.23529027,  -0.78465152],\n",
      "       [-10.36985504,  -0.48360915,   0.20875337],\n",
      "       [-11.75151425,  -0.46072389,   0.22100627],\n",
      "       [-12.38299007,   0.28579195,   1.20689608],\n",
      "       [-11.65473939,   0.98336529,   2.14538371],\n",
      "       [-12.29227954,   1.74729338,   3.15429179],\n",
      "       [-11.63525146,   2.37083613,   3.99486616],\n",
      "       [-13.67725694,   1.79344266,   3.19606506],\n",
      "       [-10.27981614,   0.9471817 ,   2.1151753 ],\n",
      "       [ -9.63488171,   0.20616888,   1.13690987],\n",
      "       [ -7.71766262,  -2.35421533,  -0.27296403],\n",
      "       [ -6.35123961,  -2.44693295,  -0.41116369],\n",
      "       [ -3.71194596,   1.03431007,  -1.21001722],\n",
      "       [ -2.05588537,   1.54336816,  -0.73247613],\n",
      "       [ -1.64475272,   2.96758862,  -0.04192206],\n",
      "       [  0.77950075,   1.81971142,  -1.55945473],\n",
      "       [  2.13973483,   1.98466488,  -1.59084548],\n",
      "       [  8.93039372,  -1.04958113,  -0.04801857],\n",
      "       [ 10.00910075,  -0.99858976,   0.99404098],\n",
      "       [ 12.40986794,   1.22611342,   0.59304103],\n",
      "       [ 12.30723902,  -0.53889146,   0.23857139],\n",
      "       [ 11.47496473,   0.66379639,  -0.86399956],\n",
      "       [  9.93601216,   2.23344371,   1.45426352],\n",
      "       [  9.6988846 ,   1.76481479,  -0.25760521],\n",
      "       [  7.58719901,   1.84043488,   0.93703522],\n",
      "       [  8.17754749,   0.71103826,   2.19995521],\n",
      "       [  6.59587055,  -1.85275719,   0.31384574],\n",
      "       [  6.86601235,  -1.0947983 ,   1.89213931],\n",
      "       [  5.78874925,   0.95649027,   1.20869337],\n",
      "       [  4.64658426,  -0.47051957,   1.04307473],\n",
      "       [  6.37585902,   0.79342103,  -1.17681517],\n",
      "       [  5.27998427,  -0.6212234 ,  -1.38012162],\n",
      "       [  3.0640781 ,  -1.07186256,  -0.41161499],\n",
      "       [  0.65395294,  -1.27042694,  -0.36657887],\n",
      "       [ -3.75388174,  -2.7300995 ,  -1.31672508],\n",
      "       [ -5.77211424,   0.16391855,  -2.41580366],\n",
      "       [ -8.16203073,   0.3498817 ,  -2.18992313],\n",
      "       [-12.32699862,  -1.00509252,  -0.51176997],\n",
      "       [-13.47033462,   0.34520794,   1.27188076],\n",
      "       [ -9.66734631,   1.47004045,   2.81966718],\n",
      "       [ -8.54653772,   0.14857292,   1.07364551],\n",
      "       [ -8.30388518,  -3.04599871,   0.3232526 ],\n",
      "       [ -5.88159494,  -3.27917182,   0.12873188],\n",
      "       [  0.15922517,   2.63430335,  -1.88939971],\n",
      "       [  2.62209268,   2.88410308,  -1.92751566],\n",
      "       [  8.52392091,  -2.10260881,  -0.02949566],\n",
      "       [  9.32319723,  -0.88531286,  -1.07004668],\n",
      "       [  9.54009772,  -1.26118943,   1.97563387],\n",
      "       [ 10.79548154,  -1.7293178 ,   0.70098254]]), 'partition': 'test'}]\n"
     ]
    }
   ],
   "source": [
    "# load pk file and display first 5 entrys\n",
    "with open('train_guacamol.pkl', 'rb') as f:\n",
    "    train_data = pickle.load(f)\n",
    "print(train_data[:5])\n",
    "\n",
    "# load pk file and display first 5 entrys\n",
    "with open('valid_guacamol.pkl', 'rb') as f:\n",
    "    valid_data = pickle.load(f)\n",
    "print(valid_data[:5])\n",
    "\n",
    "# load pk file and display first 5 entrys\n",
    "with open('test_guacamol.pkl', 'rb') as f:\n",
    "    test_data = pickle.load(f)\n",
    "print(test_data[:5])"
   ]
  },
  {
   "cell_type": "code",
   "execution_count": 7,
   "metadata": {},
   "outputs": [],
   "source": [
    "train_valid = train_data + valid_data\n",
    "save_as_csv(train_valid, 'train_valid_guacamol.csv')\n",
    "\n",
    "# save train_valid as pk file\n",
    "with open('train_valid_guacamol.pkl', 'wb') as f:\n",
    "    pickle.dump(train_valid, f)\n",
    "\n",
    "train_valid_test = train_valid + test_data\n",
    "save_as_csv(train_valid_test, 'train_valid_test_guacamol.csv')\n",
    "\n",
    "# save train_valid_test as pk file\n",
    "with open('train_valid_test_guacamol.pkl', 'wb') as f:\n",
    "    pickle.dump(train_valid_test, f)"
   ]
  }
 ],
 "metadata": {
  "kernelspec": {
   "display_name": "molGen_master",
   "language": "python",
   "name": "python3"
  },
  "language_info": {
   "codemirror_mode": {
    "name": "ipython",
    "version": 3
   },
   "file_extension": ".py",
   "mimetype": "text/x-python",
   "name": "python",
   "nbconvert_exporter": "python",
   "pygments_lexer": "ipython3",
   "version": "3.9.18"
  }
 },
 "nbformat": 4,
 "nbformat_minor": 2
}
