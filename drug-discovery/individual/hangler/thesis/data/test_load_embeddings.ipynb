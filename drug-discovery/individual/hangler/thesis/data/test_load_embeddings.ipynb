{
 "cells": [
  {
   "cell_type": "code",
   "execution_count": 1,
   "metadata": {},
   "outputs": [],
   "source": [
    "# load .npy file and print shape and store in dataframe\n",
    "import numpy as np\n",
    "import pandas as pd\n",
    "import os\n",
    "import sys\n",
    "\n",
    "def load_npy_file(file_path):\n",
    "    try:\n",
    "        data = np.load(file_path)\n",
    "        return data\n",
    "    except Exception as e:\n",
    "        print(e)\n",
    "        return None\n",
    "\n",
    "def main():\n",
    "    if len(sys.argv) < 2:\n",
    "        print(\"Usage: {} <npy file>\".format(sys.argv[0]))\n",
    "        sys.exit(1)\n",
    "\n",
    "    file_path = sys.argv[1]\n",
    "    data = load_npy_file(file_path)\n",
    "    if data is None:\n",
    "        sys.exit(1)\n",
    "\n",
    "    print(\"Shape of data: {}\".format(data.shape))\n",
    "    df = pd.DataFrame(data)\n",
    "    print(df.head())"
   ]
  },
  {
   "cell_type": "code",
   "execution_count": 1,
   "metadata": {},
   "outputs": [
    {
     "name": "stdout",
     "output_type": "stream",
     "text": [
      "Error loading file: [Errno 2] No such file or directory: '/Volumes/PHILIPS/thesis/data/embeddings_pubchem10m/embeddings_pubchem10m.npy_0.npy'\n",
      "Failed to load the .npy file.\n"
     ]
    }
   ],
   "source": [
    "# Import libraries\n",
    "import numpy as np\n",
    "import pandas as pd\n",
    "\n",
    "# Define the function to load the .npy file\n",
    "def load_npy_file(file_path):\n",
    "    try:\n",
    "        data = np.load(file_path)\n",
    "        return data\n",
    "    except Exception as e:\n",
    "        print(f\"Error loading file: {e}\")\n",
    "        return None\n",
    "\n",
    "# Example usage in the notebook\n",
    "file_path = \"/Volumes/PHILIPS/thesis/data/embeddings_pubchem10m/embeddings_pubchem10m.npy_0.npy\"  # Replace with your .npy file path\n",
    "\n",
    "# Load the .npy file\n",
    "data = load_npy_file(file_path)\n",
    "\n",
    "# Check if data is loaded successfully\n",
    "if data is not None:\n",
    "    print(f\"Shape of data: {data.shape}\")\n",
    "    # Convert the numpy array to a DataFrame\n",
    "    df = pd.DataFrame(data)\n",
    "    print(\"First few rows of the DataFrame:\")\n",
    "    display(df.head())  # Use display() for better output in Jupyter\n",
    "else:\n",
    "    print(\"Failed to load the .npy file.\")#\n"
   ]
  },
  {
   "cell_type": "markdown",
   "metadata": {},
   "source": [
    "### Concat .npy files"
   ]
  },
  {
   "cell_type": "code",
   "execution_count": null,
   "metadata": {},
   "outputs": [
    {
     "name": "stdout",
     "output_type": "stream",
     "text": [
      "Processing batch 1: 10 files\n"
     ]
    },
    {
     "ename": "",
     "evalue": "",
     "output_type": "error",
     "traceback": [
      "\u001b[1;31mThe Kernel crashed while executing code in the current cell or a previous cell. \n",
      "\u001b[1;31mPlease review the code in the cell(s) to identify a possible cause of the failure. \n",
      "\u001b[1;31mClick <a href='https://aka.ms/vscodeJupyterKernelCrash'>here</a> for more info. \n",
      "\u001b[1;31mView Jupyter <a href='command:jupyter.viewOutput'>log</a> for further details."
     ]
    }
   ],
   "source": [
    "import numpy as np\n",
    "from pathlib import Path\n",
    "\n",
    "# Directory containing the .npy files\n",
    "input_dir = Path(\"/Volumes/PHILIPS/thesis/data/embeddings_pubchem10m\")  # Replace with your directory\n",
    "output_file = input_dir / \"combined_embeddings.npy\"\n",
    "batch_size = 10  # Number of files to process in each batch\n",
    "\n",
    "# Get a sorted list of all .npy files\n",
    "npy_files = sorted(input_dir.glob(\"embeddings_pubchem10m.npy_*.npy\"))\n",
    "\n",
    "# Initialize the combined embeddings file\n",
    "if output_file.exists():\n",
    "    combined_embeddings = np.load(output_file, mmap_mode='r+')\n",
    "    start_index = 0\n",
    "else:\n",
    "    combined_embeddings = None\n",
    "    start_index = 0\n",
    "\n",
    "# Process files in batches\n",
    "for i in range(start_index, len(npy_files), batch_size):\n",
    "    batch_files = npy_files[i:i + batch_size]\n",
    "    print(f\"Processing batch {i // batch_size + 1}: {len(batch_files)} files\")\n",
    "\n",
    "    # Load and concatenate the current batch\n",
    "    batch_embeddings = [np.load(f) for f in batch_files]\n",
    "    batch_combined = np.vstack(batch_embeddings)\n",
    "\n",
    "    if combined_embeddings is None:\n",
    "        # Initialize the combined embeddings with the first batch\n",
    "        combined_embeddings = batch_combined\n",
    "    else:\n",
    "        # Concatenate the new batch with the existing combined embeddings\n",
    "        combined_embeddings = np.vstack([combined_embeddings, batch_combined])\n",
    "\n",
    "    # Save the combined embeddings back to disk after each batch\n",
    "    np.save(output_file, combined_embeddings)\n",
    "    print(f\"Saved combined embeddings after processing batch {i // batch_size + 1}\")\n",
    "\n",
    "print(\"All files successfully combined into:\", output_file)\n"
   ]
  },
  {
   "cell_type": "code",
   "execution_count": 2,
   "metadata": {},
   "outputs": [
    {
     "ename": "",
     "evalue": "",
     "output_type": "error",
     "traceback": [
      "\u001b[1;31mThe Kernel crashed while executing code in the current cell or a previous cell. \n",
      "\u001b[1;31mPlease review the code in the cell(s) to identify a possible cause of the failure. \n",
      "\u001b[1;31mClick <a href='https://aka.ms/vscodeJupyterKernelCrash'>here</a> for more info. \n",
      "\u001b[1;31mView Jupyter <a href='command:jupyter.viewOutput'>log</a> for further details."
     ]
    }
   ],
   "source": [
    "import numpy as np\n",
    "from pathlib import Path\n",
    "\n",
    "# Directory containing the single .npy files\n",
    "input_dir = Path(\"/Volumes/PHILIPS/thesis/data/embeddings_pubchem10m\")  # Replace with your directory\n",
    "combined_file = input_dir / \"combined_embeddings.npy\"\n",
    "\n",
    "# Get a sorted list of all .npy files\n",
    "input_dir_files = Path(\"/Volumes/PHILIPS/thesis/data/embeddings_pubchem10m/single embeddings\")  # Replace with your directory\n",
    "npy_files = sorted(input_dir_files.glob(\"embeddings_pubchem10m.npy_*.npy\"))\n",
    "\n",
    "# Load the combined embeddings\n",
    "combined_embeddings = np.load(combined_file)\n",
    "\n",
    "print(f\"Number of individual files: {len(npy_files)}\")\n",
    "print(f\"Shape of combined embeddings: {combined_embeddings.shape}\")\n",
    "\n",
    "# Check the order\n",
    "current_index = 0\n",
    "order_correct = True\n",
    "\n",
    "for file in npy_files:\n",
    "    # Load the embeddings from the individual file\n",
    "    single_embeddings = np.load(file)\n",
    "    single_length = single_embeddings.shape[0]\n",
    "    \n",
    "    # Check if the corresponding part in the combined embeddings matches\n",
    "    if not np.array_equal(combined_embeddings[current_index:current_index + single_length], single_embeddings):\n",
    "        print(f\"Mismatch found in file: {file}\")\n",
    "        # print missmatch\n",
    "        print(combined_embeddings[current_index:current_index + single_length])\n",
    "        print(single_embeddings)\n",
    "        order_correct = False\n",
    "        break\n",
    "\n",
    "    current_index += single_length\n",
    "\n",
    "if order_correct:\n",
    "    print(\"The order of embeddings in the combined file matches the individual files.\")\n",
    "else:\n",
    "    print(\"The order of embeddings in the combined file does not match the individual files.\")\n"
   ]
  },
  {
   "cell_type": "code",
   "execution_count": null,
   "metadata": {},
   "outputs": [],
   "source": []
  }
 ],
 "metadata": {
  "kernelspec": {
   "display_name": "clamp_env",
   "language": "python",
   "name": "python3"
  },
  "language_info": {
   "codemirror_mode": {
    "name": "ipython",
    "version": 3
   },
   "file_extension": ".py",
   "mimetype": "text/x-python",
   "name": "python",
   "nbconvert_exporter": "python",
   "pygments_lexer": "ipython3",
   "version": "3.8.0"
  }
 },
 "nbformat": 4,
 "nbformat_minor": 2
}
